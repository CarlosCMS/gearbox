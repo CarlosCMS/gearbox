{
  "nbformat": 4,
  "nbformat_minor": 0,
  "metadata": {
    "colab": {
      "name": "Gearbox40  novos algoritmos.ipynb",
      "provenance": [],
      "collapsed_sections": [],
      "toc_visible": true
    },
    "kernelspec": {
      "display_name": "myenv",
      "language": "python",
      "name": "myenv"
    },
    "language_info": {
      "codemirror_mode": {
        "name": "ipython",
        "version": 3
      },
      "file_extension": ".py",
      "mimetype": "text/x-python",
      "name": "python",
      "nbconvert_exporter": "python",
      "pygments_lexer": "ipython3",
      "version": "3.8.5"
    }
  },
  "cells": [
    {
      "cell_type": "markdown",
      "metadata": {
        "id": "G8ppB5CLOWY5"
      },
      "source": [
        "#*Dataset extraído do Kaggle*"
      ]
    },
    {
      "cell_type": "markdown",
      "metadata": {
        "id": "m9vzzUwmOTUP"
      },
      "source": [
        "https://www.kaggle.com/brjapon/gearbox-fault-diagnosis"
      ]
    },
    {
      "cell_type": "markdown",
      "metadata": {
        "id": "pzAPtW5uio-F"
      },
      "source": [
        "Carga = 40"
      ]
    },
    {
      "cell_type": "code",
      "metadata": {
        "id": "De5Php-xT0UY"
      },
      "source": [
        "import pandas as pd\n",
        "from sklearn import model_selection\n",
        "import seaborn as sns\n",
        "import numpy as np\n",
        "import matplotlib.pyplot as plt\n",
        "from sklearn.model_selection import train_test_split\n",
        "#algoritmos\n",
        "from sklearn import tree\n",
        "from sklearn.linear_model import LogisticRegression\n",
        "from sklearn.tree import DecisionTreeClassifier\n",
        "from sklearn.neighbors import KNeighborsClassifier\n",
        "from sklearn.discriminant_analysis import LinearDiscriminantAnalysis\n",
        "from sklearn.naive_bayes import GaussianNB\n",
        "from sklearn.svm import SVC\n",
        "from sklearn.neural_network import MLPClassifier\n",
        "from sklearn.model_selection import GridSearchCV\n",
        "from sklearn.neural_network import MLPClassifier\n",
        "from sklearn.ensemble import RandomForestClassifier\n",
        "from sklearn.ensemble import IsolationForest\n",
        "#Importando a biblioteca das métricas\n",
        "from sklearn.metrics import classification_report\n",
        "from sklearn.metrics import confusion_matrix\n",
        "from sklearn.metrics import accuracy_score\n",
        "#para fazer o cross validation\n",
        "from sklearn.model_selection import cross_val_score\n"
      ],
      "execution_count": 106,
      "outputs": []
    },
    {
      "cell_type": "code",
      "metadata": {
        "id": "wXsDCKLRT9Dk"
      },
      "source": [
        "url_dados = 'https://github.com/rslmartins/gearbox-failure/blob/main/BrokenTooth/b30hz40.csv?raw=true'\n",
        "\n",
        "data1 = pd.read_csv(url_dados, sep= ',')"
      ],
      "execution_count": 107,
      "outputs": []
    },
    {
      "cell_type": "code",
      "metadata": {
        "id": "n8BzP3iQUVgr"
      },
      "source": [
        "url_dados = 'https://github.com/rslmartins/gearbox-failure/blob/main/Healthy/h30hz40.csv?raw=true'\n",
        "\n",
        "data2 = pd.read_csv(url_dados, sep= ',')"
      ],
      "execution_count": 108,
      "outputs": []
    },
    {
      "cell_type": "code",
      "metadata": {
        "id": "ifkk9JLuUdYS"
      },
      "source": [
        "# inserindo o atributo de classe defeituosa\n",
        "data1['class']= data1['a1'].apply(lambda x:1)"
      ],
      "execution_count": 109,
      "outputs": []
    },
    {
      "cell_type": "code",
      "metadata": {
        "colab": {
          "base_uri": "https://localhost:8080/",
          "height": 300
        },
        "id": "xt0FDDhjVoAF",
        "outputId": "37b51efd-70fd-404e-902b-5dc9ee6d9adf"
      },
      "source": [
        "data1.describe()"
      ],
      "execution_count": 110,
      "outputs": [
        {
          "output_type": "execute_result",
          "data": {
            "text/html": [
              "<div>\n",
              "<style scoped>\n",
              "    .dataframe tbody tr th:only-of-type {\n",
              "        vertical-align: middle;\n",
              "    }\n",
              "\n",
              "    .dataframe tbody tr th {\n",
              "        vertical-align: top;\n",
              "    }\n",
              "\n",
              "    .dataframe thead th {\n",
              "        text-align: right;\n",
              "    }\n",
              "</style>\n",
              "<table border=\"1\" class=\"dataframe\">\n",
              "  <thead>\n",
              "    <tr style=\"text-align: right;\">\n",
              "      <th></th>\n",
              "      <th>a1</th>\n",
              "      <th>a2</th>\n",
              "      <th>a3</th>\n",
              "      <th>a4</th>\n",
              "      <th>class</th>\n",
              "    </tr>\n",
              "  </thead>\n",
              "  <tbody>\n",
              "    <tr>\n",
              "      <th>count</th>\n",
              "      <td>94464.000000</td>\n",
              "      <td>94464.000000</td>\n",
              "      <td>94464.000000</td>\n",
              "      <td>94464.000000</td>\n",
              "      <td>94464.0</td>\n",
              "    </tr>\n",
              "    <tr>\n",
              "      <th>mean</th>\n",
              "      <td>-0.001559</td>\n",
              "      <td>0.005216</td>\n",
              "      <td>0.012747</td>\n",
              "      <td>0.010159</td>\n",
              "      <td>1.0</td>\n",
              "    </tr>\n",
              "    <tr>\n",
              "      <th>std</th>\n",
              "      <td>4.499271</td>\n",
              "      <td>4.199833</td>\n",
              "      <td>3.799578</td>\n",
              "      <td>4.345416</td>\n",
              "      <td>0.0</td>\n",
              "    </tr>\n",
              "    <tr>\n",
              "      <th>min</th>\n",
              "      <td>-24.912300</td>\n",
              "      <td>-30.730400</td>\n",
              "      <td>-22.013900</td>\n",
              "      <td>-23.715400</td>\n",
              "      <td>1.0</td>\n",
              "    </tr>\n",
              "    <tr>\n",
              "      <th>25%</th>\n",
              "      <td>-2.807112</td>\n",
              "      <td>-2.359585</td>\n",
              "      <td>-1.989587</td>\n",
              "      <td>-2.366210</td>\n",
              "      <td>1.0</td>\n",
              "    </tr>\n",
              "    <tr>\n",
              "      <th>50%</th>\n",
              "      <td>-0.096139</td>\n",
              "      <td>0.158589</td>\n",
              "      <td>0.113324</td>\n",
              "      <td>0.168463</td>\n",
              "      <td>1.0</td>\n",
              "    </tr>\n",
              "    <tr>\n",
              "      <th>75%</th>\n",
              "      <td>2.660953</td>\n",
              "      <td>2.614850</td>\n",
              "      <td>2.130788</td>\n",
              "      <td>2.535732</td>\n",
              "      <td>1.0</td>\n",
              "    </tr>\n",
              "    <tr>\n",
              "      <th>max</th>\n",
              "      <td>24.146400</td>\n",
              "      <td>23.454600</td>\n",
              "      <td>23.284500</td>\n",
              "      <td>32.366100</td>\n",
              "      <td>1.0</td>\n",
              "    </tr>\n",
              "  </tbody>\n",
              "</table>\n",
              "</div>"
            ],
            "text/plain": [
              "                 a1            a2            a3            a4    class\n",
              "count  94464.000000  94464.000000  94464.000000  94464.000000  94464.0\n",
              "mean      -0.001559      0.005216      0.012747      0.010159      1.0\n",
              "std        4.499271      4.199833      3.799578      4.345416      0.0\n",
              "min      -24.912300    -30.730400    -22.013900    -23.715400      1.0\n",
              "25%       -2.807112     -2.359585     -1.989587     -2.366210      1.0\n",
              "50%       -0.096139      0.158589      0.113324      0.168463      1.0\n",
              "75%        2.660953      2.614850      2.130788      2.535732      1.0\n",
              "max       24.146400     23.454600     23.284500     32.366100      1.0"
            ]
          },
          "metadata": {
            "tags": []
          },
          "execution_count": 110
        }
      ]
    },
    {
      "cell_type": "code",
      "metadata": {
        "id": "ayHbq4MGVw9I"
      },
      "source": [
        "# inserindo o atributo de classe ok\n",
        "data2['class']= data2['a1'].apply(lambda x:0)"
      ],
      "execution_count": 111,
      "outputs": []
    },
    {
      "cell_type": "code",
      "metadata": {
        "colab": {
          "base_uri": "https://localhost:8080/",
          "height": 300
        },
        "id": "dpTtnVQeV8dz",
        "outputId": "80af38fe-2ed9-4291-d61d-926620193973"
      },
      "source": [
        "data2.describe()"
      ],
      "execution_count": 112,
      "outputs": [
        {
          "output_type": "execute_result",
          "data": {
            "text/html": [
              "<div>\n",
              "<style scoped>\n",
              "    .dataframe tbody tr th:only-of-type {\n",
              "        vertical-align: middle;\n",
              "    }\n",
              "\n",
              "    .dataframe tbody tr th {\n",
              "        vertical-align: top;\n",
              "    }\n",
              "\n",
              "    .dataframe thead th {\n",
              "        text-align: right;\n",
              "    }\n",
              "</style>\n",
              "<table border=\"1\" class=\"dataframe\">\n",
              "  <thead>\n",
              "    <tr style=\"text-align: right;\">\n",
              "      <th></th>\n",
              "      <th>a1</th>\n",
              "      <th>a2</th>\n",
              "      <th>a3</th>\n",
              "      <th>a4</th>\n",
              "      <th>class</th>\n",
              "    </tr>\n",
              "  </thead>\n",
              "  <tbody>\n",
              "    <tr>\n",
              "      <th>count</th>\n",
              "      <td>100608.000000</td>\n",
              "      <td>100608.000000</td>\n",
              "      <td>100608.000000</td>\n",
              "      <td>100608.000000</td>\n",
              "      <td>100608.0</td>\n",
              "    </tr>\n",
              "    <tr>\n",
              "      <th>mean</th>\n",
              "      <td>-0.012099</td>\n",
              "      <td>0.002885</td>\n",
              "      <td>-0.017063</td>\n",
              "      <td>0.001601</td>\n",
              "      <td>0.0</td>\n",
              "    </tr>\n",
              "    <tr>\n",
              "      <th>std</th>\n",
              "      <td>7.558153</td>\n",
              "      <td>4.509020</td>\n",
              "      <td>4.174153</td>\n",
              "      <td>4.534764</td>\n",
              "      <td>0.0</td>\n",
              "    </tr>\n",
              "    <tr>\n",
              "      <th>min</th>\n",
              "      <td>-49.543200</td>\n",
              "      <td>-32.769000</td>\n",
              "      <td>-27.473200</td>\n",
              "      <td>-27.311400</td>\n",
              "      <td>0.0</td>\n",
              "    </tr>\n",
              "    <tr>\n",
              "      <th>25%</th>\n",
              "      <td>-4.059773</td>\n",
              "      <td>-2.423577</td>\n",
              "      <td>-2.302938</td>\n",
              "      <td>-2.455220</td>\n",
              "      <td>0.0</td>\n",
              "    </tr>\n",
              "    <tr>\n",
              "      <th>50%</th>\n",
              "      <td>-0.217701</td>\n",
              "      <td>0.090400</td>\n",
              "      <td>0.043835</td>\n",
              "      <td>0.165216</td>\n",
              "      <td>0.0</td>\n",
              "    </tr>\n",
              "    <tr>\n",
              "      <th>75%</th>\n",
              "      <td>3.839710</td>\n",
              "      <td>2.514580</td>\n",
              "      <td>2.377420</td>\n",
              "      <td>2.598295</td>\n",
              "      <td>0.0</td>\n",
              "    </tr>\n",
              "    <tr>\n",
              "      <th>max</th>\n",
              "      <td>50.229700</td>\n",
              "      <td>30.928300</td>\n",
              "      <td>21.550300</td>\n",
              "      <td>31.012500</td>\n",
              "      <td>0.0</td>\n",
              "    </tr>\n",
              "  </tbody>\n",
              "</table>\n",
              "</div>"
            ],
            "text/plain": [
              "                  a1             a2             a3             a4     class\n",
              "count  100608.000000  100608.000000  100608.000000  100608.000000  100608.0\n",
              "mean       -0.012099       0.002885      -0.017063       0.001601       0.0\n",
              "std         7.558153       4.509020       4.174153       4.534764       0.0\n",
              "min       -49.543200     -32.769000     -27.473200     -27.311400       0.0\n",
              "25%        -4.059773      -2.423577      -2.302938      -2.455220       0.0\n",
              "50%        -0.217701       0.090400       0.043835       0.165216       0.0\n",
              "75%         3.839710       2.514580       2.377420       2.598295       0.0\n",
              "max        50.229700      30.928300      21.550300      31.012500       0.0"
            ]
          },
          "metadata": {
            "tags": []
          },
          "execution_count": 112
        }
      ]
    },
    {
      "cell_type": "code",
      "metadata": {
        "id": "DxatiCjQWQ-l"
      },
      "source": [
        "data = pd.concat([data1,data2])"
      ],
      "execution_count": 113,
      "outputs": []
    },
    {
      "cell_type": "code",
      "metadata": {
        "colab": {
          "base_uri": "https://localhost:8080/",
          "height": 424
        },
        "id": "26xHwlYFxJjF",
        "outputId": "a45a65da-4e91-4f8e-f597-45b791d9067f"
      },
      "source": [
        "data"
      ],
      "execution_count": 114,
      "outputs": [
        {
          "output_type": "execute_result",
          "data": {
            "text/html": [
              "<div>\n",
              "<style scoped>\n",
              "    .dataframe tbody tr th:only-of-type {\n",
              "        vertical-align: middle;\n",
              "    }\n",
              "\n",
              "    .dataframe tbody tr th {\n",
              "        vertical-align: top;\n",
              "    }\n",
              "\n",
              "    .dataframe thead th {\n",
              "        text-align: right;\n",
              "    }\n",
              "</style>\n",
              "<table border=\"1\" class=\"dataframe\">\n",
              "  <thead>\n",
              "    <tr style=\"text-align: right;\">\n",
              "      <th></th>\n",
              "      <th>a1</th>\n",
              "      <th>a2</th>\n",
              "      <th>a3</th>\n",
              "      <th>a4</th>\n",
              "      <th>class</th>\n",
              "    </tr>\n",
              "  </thead>\n",
              "  <tbody>\n",
              "    <tr>\n",
              "      <th>0</th>\n",
              "      <td>-3.17043</td>\n",
              "      <td>1.241340</td>\n",
              "      <td>-3.557910</td>\n",
              "      <td>-0.342549</td>\n",
              "      <td>1</td>\n",
              "    </tr>\n",
              "    <tr>\n",
              "      <th>1</th>\n",
              "      <td>-7.43122</td>\n",
              "      <td>1.184260</td>\n",
              "      <td>-0.552499</td>\n",
              "      <td>-3.667440</td>\n",
              "      <td>1</td>\n",
              "    </tr>\n",
              "    <tr>\n",
              "      <th>2</th>\n",
              "      <td>-4.92843</td>\n",
              "      <td>2.640790</td>\n",
              "      <td>0.459975</td>\n",
              "      <td>-0.489992</td>\n",
              "      <td>1</td>\n",
              "    </tr>\n",
              "    <tr>\n",
              "      <th>3</th>\n",
              "      <td>-2.43743</td>\n",
              "      <td>3.114910</td>\n",
              "      <td>2.017930</td>\n",
              "      <td>3.492710</td>\n",
              "      <td>1</td>\n",
              "    </tr>\n",
              "    <tr>\n",
              "      <th>4</th>\n",
              "      <td>1.10040</td>\n",
              "      <td>0.531721</td>\n",
              "      <td>2.041390</td>\n",
              "      <td>3.176920</td>\n",
              "      <td>1</td>\n",
              "    </tr>\n",
              "    <tr>\n",
              "      <th>...</th>\n",
              "      <td>...</td>\n",
              "      <td>...</td>\n",
              "      <td>...</td>\n",
              "      <td>...</td>\n",
              "      <td>...</td>\n",
              "    </tr>\n",
              "    <tr>\n",
              "      <th>100603</th>\n",
              "      <td>-1.81021</td>\n",
              "      <td>-1.338130</td>\n",
              "      <td>-4.232510</td>\n",
              "      <td>1.106480</td>\n",
              "      <td>0</td>\n",
              "    </tr>\n",
              "    <tr>\n",
              "      <th>100604</th>\n",
              "      <td>-4.90746</td>\n",
              "      <td>1.820860</td>\n",
              "      <td>-3.727170</td>\n",
              "      <td>3.979240</td>\n",
              "      <td>0</td>\n",
              "    </tr>\n",
              "    <tr>\n",
              "      <th>100605</th>\n",
              "      <td>-1.67954</td>\n",
              "      <td>0.614342</td>\n",
              "      <td>0.831932</td>\n",
              "      <td>4.511940</td>\n",
              "      <td>0</td>\n",
              "    </tr>\n",
              "    <tr>\n",
              "      <th>100606</th>\n",
              "      <td>3.98700</td>\n",
              "      <td>3.330530</td>\n",
              "      <td>2.109150</td>\n",
              "      <td>2.503510</td>\n",
              "      <td>0</td>\n",
              "    </tr>\n",
              "    <tr>\n",
              "      <th>100607</th>\n",
              "      <td>2.34664</td>\n",
              "      <td>1.061480</td>\n",
              "      <td>0.211121</td>\n",
              "      <td>3.442220</td>\n",
              "      <td>0</td>\n",
              "    </tr>\n",
              "  </tbody>\n",
              "</table>\n",
              "<p>195072 rows × 5 columns</p>\n",
              "</div>"
            ],
            "text/plain": [
              "             a1        a2        a3        a4  class\n",
              "0      -3.17043  1.241340 -3.557910 -0.342549      1\n",
              "1      -7.43122  1.184260 -0.552499 -3.667440      1\n",
              "2      -4.92843  2.640790  0.459975 -0.489992      1\n",
              "3      -2.43743  3.114910  2.017930  3.492710      1\n",
              "4       1.10040  0.531721  2.041390  3.176920      1\n",
              "...         ...       ...       ...       ...    ...\n",
              "100603 -1.81021 -1.338130 -4.232510  1.106480      0\n",
              "100604 -4.90746  1.820860 -3.727170  3.979240      0\n",
              "100605 -1.67954  0.614342  0.831932  4.511940      0\n",
              "100606  3.98700  3.330530  2.109150  2.503510      0\n",
              "100607  2.34664  1.061480  0.211121  3.442220      0\n",
              "\n",
              "[195072 rows x 5 columns]"
            ]
          },
          "metadata": {
            "tags": []
          },
          "execution_count": 114
        }
      ]
    },
    {
      "cell_type": "code",
      "metadata": {
        "id": "-trwz3i7x1OH"
      },
      "source": [
        "#data.to_csv('File.csv', index = False)"
      ],
      "execution_count": 115,
      "outputs": []
    },
    {
      "cell_type": "code",
      "metadata": {
        "colab": {
          "base_uri": "https://localhost:8080/",
          "height": 300
        },
        "id": "9qWR5QTiX--s",
        "outputId": "9fdffc46-33aa-470e-de93-1c6b5a30c651"
      },
      "source": [
        "data.describe()"
      ],
      "execution_count": 116,
      "outputs": [
        {
          "output_type": "execute_result",
          "data": {
            "text/html": [
              "<div>\n",
              "<style scoped>\n",
              "    .dataframe tbody tr th:only-of-type {\n",
              "        vertical-align: middle;\n",
              "    }\n",
              "\n",
              "    .dataframe tbody tr th {\n",
              "        vertical-align: top;\n",
              "    }\n",
              "\n",
              "    .dataframe thead th {\n",
              "        text-align: right;\n",
              "    }\n",
              "</style>\n",
              "<table border=\"1\" class=\"dataframe\">\n",
              "  <thead>\n",
              "    <tr style=\"text-align: right;\">\n",
              "      <th></th>\n",
              "      <th>a1</th>\n",
              "      <th>a2</th>\n",
              "      <th>a3</th>\n",
              "      <th>a4</th>\n",
              "      <th>class</th>\n",
              "    </tr>\n",
              "  </thead>\n",
              "  <tbody>\n",
              "    <tr>\n",
              "      <th>count</th>\n",
              "      <td>195072.000000</td>\n",
              "      <td>195072.000000</td>\n",
              "      <td>195072.000000</td>\n",
              "      <td>195072.000000</td>\n",
              "      <td>195072.000000</td>\n",
              "    </tr>\n",
              "    <tr>\n",
              "      <th>mean</th>\n",
              "      <td>-0.006995</td>\n",
              "      <td>0.004014</td>\n",
              "      <td>-0.002628</td>\n",
              "      <td>0.005745</td>\n",
              "      <td>0.484252</td>\n",
              "    </tr>\n",
              "    <tr>\n",
              "      <th>std</th>\n",
              "      <td>6.266196</td>\n",
              "      <td>4.362022</td>\n",
              "      <td>3.997168</td>\n",
              "      <td>4.444070</td>\n",
              "      <td>0.499753</td>\n",
              "    </tr>\n",
              "    <tr>\n",
              "      <th>min</th>\n",
              "      <td>-49.543200</td>\n",
              "      <td>-32.769000</td>\n",
              "      <td>-27.473200</td>\n",
              "      <td>-27.311400</td>\n",
              "      <td>0.000000</td>\n",
              "    </tr>\n",
              "    <tr>\n",
              "      <th>25%</th>\n",
              "      <td>-3.369635</td>\n",
              "      <td>-2.392300</td>\n",
              "      <td>-2.150685</td>\n",
              "      <td>-2.410895</td>\n",
              "      <td>0.000000</td>\n",
              "    </tr>\n",
              "    <tr>\n",
              "      <th>50%</th>\n",
              "      <td>-0.149969</td>\n",
              "      <td>0.124166</td>\n",
              "      <td>0.081608</td>\n",
              "      <td>0.166797</td>\n",
              "      <td>0.000000</td>\n",
              "    </tr>\n",
              "    <tr>\n",
              "      <th>75%</th>\n",
              "      <td>3.168912</td>\n",
              "      <td>2.562637</td>\n",
              "      <td>2.249693</td>\n",
              "      <td>2.567333</td>\n",
              "      <td>1.000000</td>\n",
              "    </tr>\n",
              "    <tr>\n",
              "      <th>max</th>\n",
              "      <td>50.229700</td>\n",
              "      <td>30.928300</td>\n",
              "      <td>23.284500</td>\n",
              "      <td>32.366100</td>\n",
              "      <td>1.000000</td>\n",
              "    </tr>\n",
              "  </tbody>\n",
              "</table>\n",
              "</div>"
            ],
            "text/plain": [
              "                  a1             a2  ...             a4          class\n",
              "count  195072.000000  195072.000000  ...  195072.000000  195072.000000\n",
              "mean       -0.006995       0.004014  ...       0.005745       0.484252\n",
              "std         6.266196       4.362022  ...       4.444070       0.499753\n",
              "min       -49.543200     -32.769000  ...     -27.311400       0.000000\n",
              "25%        -3.369635      -2.392300  ...      -2.410895       0.000000\n",
              "50%        -0.149969       0.124166  ...       0.166797       0.000000\n",
              "75%         3.168912       2.562637  ...       2.567333       1.000000\n",
              "max        50.229700      30.928300  ...      32.366100       1.000000\n",
              "\n",
              "[8 rows x 5 columns]"
            ]
          },
          "metadata": {
            "tags": []
          },
          "execution_count": 116
        }
      ]
    },
    {
      "cell_type": "code",
      "metadata": {
        "colab": {
          "base_uri": "https://localhost:8080/",
          "height": 206
        },
        "id": "uXrh2ygnYH47",
        "outputId": "68fcee29-8f99-40e7-e164-01118601d24c"
      },
      "source": [
        "data.head()"
      ],
      "execution_count": 117,
      "outputs": [
        {
          "output_type": "execute_result",
          "data": {
            "text/html": [
              "<div>\n",
              "<style scoped>\n",
              "    .dataframe tbody tr th:only-of-type {\n",
              "        vertical-align: middle;\n",
              "    }\n",
              "\n",
              "    .dataframe tbody tr th {\n",
              "        vertical-align: top;\n",
              "    }\n",
              "\n",
              "    .dataframe thead th {\n",
              "        text-align: right;\n",
              "    }\n",
              "</style>\n",
              "<table border=\"1\" class=\"dataframe\">\n",
              "  <thead>\n",
              "    <tr style=\"text-align: right;\">\n",
              "      <th></th>\n",
              "      <th>a1</th>\n",
              "      <th>a2</th>\n",
              "      <th>a3</th>\n",
              "      <th>a4</th>\n",
              "      <th>class</th>\n",
              "    </tr>\n",
              "  </thead>\n",
              "  <tbody>\n",
              "    <tr>\n",
              "      <th>0</th>\n",
              "      <td>-3.17043</td>\n",
              "      <td>1.241340</td>\n",
              "      <td>-3.557910</td>\n",
              "      <td>-0.342549</td>\n",
              "      <td>1</td>\n",
              "    </tr>\n",
              "    <tr>\n",
              "      <th>1</th>\n",
              "      <td>-7.43122</td>\n",
              "      <td>1.184260</td>\n",
              "      <td>-0.552499</td>\n",
              "      <td>-3.667440</td>\n",
              "      <td>1</td>\n",
              "    </tr>\n",
              "    <tr>\n",
              "      <th>2</th>\n",
              "      <td>-4.92843</td>\n",
              "      <td>2.640790</td>\n",
              "      <td>0.459975</td>\n",
              "      <td>-0.489992</td>\n",
              "      <td>1</td>\n",
              "    </tr>\n",
              "    <tr>\n",
              "      <th>3</th>\n",
              "      <td>-2.43743</td>\n",
              "      <td>3.114910</td>\n",
              "      <td>2.017930</td>\n",
              "      <td>3.492710</td>\n",
              "      <td>1</td>\n",
              "    </tr>\n",
              "    <tr>\n",
              "      <th>4</th>\n",
              "      <td>1.10040</td>\n",
              "      <td>0.531721</td>\n",
              "      <td>2.041390</td>\n",
              "      <td>3.176920</td>\n",
              "      <td>1</td>\n",
              "    </tr>\n",
              "  </tbody>\n",
              "</table>\n",
              "</div>"
            ],
            "text/plain": [
              "        a1        a2        a3        a4  class\n",
              "0 -3.17043  1.241340 -3.557910 -0.342549      1\n",
              "1 -7.43122  1.184260 -0.552499 -3.667440      1\n",
              "2 -4.92843  2.640790  0.459975 -0.489992      1\n",
              "3 -2.43743  3.114910  2.017930  3.492710      1\n",
              "4  1.10040  0.531721  2.041390  3.176920      1"
            ]
          },
          "metadata": {
            "tags": []
          },
          "execution_count": 117
        }
      ]
    },
    {
      "cell_type": "code",
      "metadata": {
        "id": "W9vT2F9YY6bq"
      },
      "source": [
        "data_atrib = data.iloc[:,0:4]"
      ],
      "execution_count": 118,
      "outputs": []
    },
    {
      "cell_type": "code",
      "metadata": {
        "colab": {
          "base_uri": "https://localhost:8080/",
          "height": 424
        },
        "id": "6cTPfg6dZT3e",
        "outputId": "206e599a-8998-46f6-fa63-e5110fa0db0e"
      },
      "source": [
        "data_atrib"
      ],
      "execution_count": 119,
      "outputs": [
        {
          "output_type": "execute_result",
          "data": {
            "text/html": [
              "<div>\n",
              "<style scoped>\n",
              "    .dataframe tbody tr th:only-of-type {\n",
              "        vertical-align: middle;\n",
              "    }\n",
              "\n",
              "    .dataframe tbody tr th {\n",
              "        vertical-align: top;\n",
              "    }\n",
              "\n",
              "    .dataframe thead th {\n",
              "        text-align: right;\n",
              "    }\n",
              "</style>\n",
              "<table border=\"1\" class=\"dataframe\">\n",
              "  <thead>\n",
              "    <tr style=\"text-align: right;\">\n",
              "      <th></th>\n",
              "      <th>a1</th>\n",
              "      <th>a2</th>\n",
              "      <th>a3</th>\n",
              "      <th>a4</th>\n",
              "    </tr>\n",
              "  </thead>\n",
              "  <tbody>\n",
              "    <tr>\n",
              "      <th>0</th>\n",
              "      <td>-3.17043</td>\n",
              "      <td>1.241340</td>\n",
              "      <td>-3.557910</td>\n",
              "      <td>-0.342549</td>\n",
              "    </tr>\n",
              "    <tr>\n",
              "      <th>1</th>\n",
              "      <td>-7.43122</td>\n",
              "      <td>1.184260</td>\n",
              "      <td>-0.552499</td>\n",
              "      <td>-3.667440</td>\n",
              "    </tr>\n",
              "    <tr>\n",
              "      <th>2</th>\n",
              "      <td>-4.92843</td>\n",
              "      <td>2.640790</td>\n",
              "      <td>0.459975</td>\n",
              "      <td>-0.489992</td>\n",
              "    </tr>\n",
              "    <tr>\n",
              "      <th>3</th>\n",
              "      <td>-2.43743</td>\n",
              "      <td>3.114910</td>\n",
              "      <td>2.017930</td>\n",
              "      <td>3.492710</td>\n",
              "    </tr>\n",
              "    <tr>\n",
              "      <th>4</th>\n",
              "      <td>1.10040</td>\n",
              "      <td>0.531721</td>\n",
              "      <td>2.041390</td>\n",
              "      <td>3.176920</td>\n",
              "    </tr>\n",
              "    <tr>\n",
              "      <th>...</th>\n",
              "      <td>...</td>\n",
              "      <td>...</td>\n",
              "      <td>...</td>\n",
              "      <td>...</td>\n",
              "    </tr>\n",
              "    <tr>\n",
              "      <th>100603</th>\n",
              "      <td>-1.81021</td>\n",
              "      <td>-1.338130</td>\n",
              "      <td>-4.232510</td>\n",
              "      <td>1.106480</td>\n",
              "    </tr>\n",
              "    <tr>\n",
              "      <th>100604</th>\n",
              "      <td>-4.90746</td>\n",
              "      <td>1.820860</td>\n",
              "      <td>-3.727170</td>\n",
              "      <td>3.979240</td>\n",
              "    </tr>\n",
              "    <tr>\n",
              "      <th>100605</th>\n",
              "      <td>-1.67954</td>\n",
              "      <td>0.614342</td>\n",
              "      <td>0.831932</td>\n",
              "      <td>4.511940</td>\n",
              "    </tr>\n",
              "    <tr>\n",
              "      <th>100606</th>\n",
              "      <td>3.98700</td>\n",
              "      <td>3.330530</td>\n",
              "      <td>2.109150</td>\n",
              "      <td>2.503510</td>\n",
              "    </tr>\n",
              "    <tr>\n",
              "      <th>100607</th>\n",
              "      <td>2.34664</td>\n",
              "      <td>1.061480</td>\n",
              "      <td>0.211121</td>\n",
              "      <td>3.442220</td>\n",
              "    </tr>\n",
              "  </tbody>\n",
              "</table>\n",
              "<p>195072 rows × 4 columns</p>\n",
              "</div>"
            ],
            "text/plain": [
              "             a1        a2        a3        a4\n",
              "0      -3.17043  1.241340 -3.557910 -0.342549\n",
              "1      -7.43122  1.184260 -0.552499 -3.667440\n",
              "2      -4.92843  2.640790  0.459975 -0.489992\n",
              "3      -2.43743  3.114910  2.017930  3.492710\n",
              "4       1.10040  0.531721  2.041390  3.176920\n",
              "...         ...       ...       ...       ...\n",
              "100603 -1.81021 -1.338130 -4.232510  1.106480\n",
              "100604 -4.90746  1.820860 -3.727170  3.979240\n",
              "100605 -1.67954  0.614342  0.831932  4.511940\n",
              "100606  3.98700  3.330530  2.109150  2.503510\n",
              "100607  2.34664  1.061480  0.211121  3.442220\n",
              "\n",
              "[195072 rows x 4 columns]"
            ]
          },
          "metadata": {
            "tags": []
          },
          "execution_count": 119
        }
      ]
    },
    {
      "cell_type": "code",
      "metadata": {
        "colab": {
          "base_uri": "https://localhost:8080/",
          "height": 630
        },
        "id": "BTULv_wIYS5q",
        "outputId": "0dd49dc1-4497-4449-f3ee-1a67e3a7e0e1"
      },
      "source": [
        "plt.figure(figsize=(10,10))\n",
        "sns.boxplot(data=data_atrib)\n",
        "sns.despine(offset=10, trim=True)\n",
        "plt.xticks(rotation=90, fontsize=16)"
      ],
      "execution_count": 120,
      "outputs": [
        {
          "output_type": "execute_result",
          "data": {
            "text/plain": [
              "(array([0, 1, 2, 3]), <a list of 4 Text major ticklabel objects>)"
            ]
          },
          "metadata": {
            "tags": []
          },
          "execution_count": 120
        },
        {
          "output_type": "display_data",
          "data": {
            "image/png": "[encoded data removed]",
            "text/plain": [
              "<Figure size 720x720 with 1 Axes>"
            ]
          },
          "metadata": {
            "tags": []
          }
        }
      ]
    },
    {
      "cell_type": "code",
      "metadata": {
        "colab": {
          "base_uri": "https://localhost:8080/",
          "height": 337
        },
        "id": "WgV_3oc9Yfz2",
        "outputId": "5b36aa9c-eedd-425e-e8b0-fbb8ce27ae71"
      },
      "source": [
        "#correlation map\n",
        "f,ax = plt.subplots(figsize=(5,5))\n",
        "sns.heatmap(data_atrib.corr(),annot=True, linewidths=.5, fmt= '.1f',ax=ax)\n",
        "plt.title('Correlações')\n",
        "plt.show()"
      ],
      "execution_count": 121,
      "outputs": [
        {
          "output_type": "display_data",
          "data": {
            "image/png": "[encoded data removed]",
            "text/plain": [
              "<Figure size 360x360 with 2 Axes>"
            ]
          },
          "metadata": {
            "tags": []
          }
        }
      ]
    },
    {
      "cell_type": "code",
      "metadata": {
        "colab": {
          "base_uri": "https://localhost:8080/",
          "height": 726
        },
        "id": "YA-jb8NQkTLK",
        "outputId": "2ad2a03d-3a29-4ffd-8ed2-1b8df1d4ebbe"
      },
      "source": [
        "\n",
        "g = sns.pairplot(data, hue='class', markers='+')\n",
        "plt.show()\n"
      ],
      "execution_count": 148,
      "outputs": [
        {
          "output_type": "display_data",
          "data": {
            "image/png": "[encoded data removed]",
            "text/plain": [
              "<Figure size 762.375x720 with 20 Axes>"
            ]
          },
          "metadata": {
            "tags": []
          }
        }
      ]
    },
    {
      "cell_type": "code",
      "metadata": {
        "colab": {
          "base_uri": "https://localhost:8080/",
          "height": 282
        },
        "id": "yU0zps20aT8B",
        "outputId": "198ffc51-bf8c-4efd-dd01-1d2b63471e40"
      },
      "source": [
        "plt.figure(figsize=(5,4))\n",
        "ax = sns.histplot(data=data, x=\"a1\", hue=\"class\",kde=True)"
      ],
      "execution_count": 142,
      "outputs": [
        {
          "output_type": "display_data",
          "data": {
            "image/png": "[encoded data removed]",
            "text/plain": [
              "<Figure size 360x288 with 1 Axes>"
            ]
          },
          "metadata": {
            "tags": []
          }
        }
      ]
    },
    {
      "cell_type": "code",
      "metadata": {
        "colab": {
          "base_uri": "https://localhost:8080/",
          "height": 282
        },
        "id": "wY8MjvHJae6b",
        "outputId": "849e6f40-d21e-4e9c-a341-6d26d9ebb8fb"
      },
      "source": [
        "plt.figure(figsize=(5,4))\n",
        "ax = sns.histplot(data=data, x=\"a2\", hue=\"class\",kde=True)"
      ],
      "execution_count": 143,
      "outputs": [
        {
          "output_type": "display_data",
          "data": {
            "image/png": "[encoded data removed]",
            "text/plain": [
              "<Figure size 360x288 with 1 Axes>"
            ]
          },
          "metadata": {
            "tags": []
          }
        }
      ]
    },
    {
      "cell_type": "code",
      "metadata": {
        "colab": {
          "base_uri": "https://localhost:8080/",
          "height": 282
        },
        "id": "RzGhe8pjaghT",
        "outputId": "c80e0ab1-8baa-4336-e598-52edded6507a"
      },
      "source": [
        "plt.figure(figsize=(5,4))\n",
        "ax = sns.histplot(data=data, x=\"a3\", hue=\"class\",kde=True)"
      ],
      "execution_count": 145,
      "outputs": [
        {
          "output_type": "display_data",
          "data": {
            "image/png": "[encoded data removed]",
            "text/plain": [
              "<Figure size 360x288 with 1 Axes>"
            ]
          },
          "metadata": {
            "tags": []
          }
        }
      ]
    },
    {
      "cell_type": "code",
      "metadata": {
        "colab": {
          "base_uri": "https://localhost:8080/",
          "height": 282
        },
        "id": "Aj3KY6BEah14",
        "outputId": "e6d2ec8d-e613-4f4f-930e-2515228b61d3"
      },
      "source": [
        "plt.figure(figsize=(5,4))\n",
        "ax = sns.histplot(data=data, x=\"a4\", hue=\"class\",kde=True)"
      ],
      "execution_count": 147,
      "outputs": [
        {
          "output_type": "display_data",
          "data": {
            "image/png": "[encoded data removed]",
            "text/plain": [
              "<Figure size 360x288 with 1 Axes>"
            ]
          },
          "metadata": {
            "tags": []
          }
        }
      ]
    },
    {
      "cell_type": "code",
      "metadata": {
        "colab": {
          "base_uri": "https://localhost:8080/",
          "height": 375
        },
        "id": "H5jhg0bYZtQH",
        "outputId": "351d8f31-ac4e-48b9-f760-4f4953271189"
      },
      "source": [
        "plt.figure(figsize=(10,4))\n",
        "ax = sns.histplot(data=data, x=\"class\", hue=\"class\",kde=True)"
      ],
      "execution_count": 127,
      "outputs": [
        {
          "output_type": "stream",
          "text": [
            "/usr/local/lib/python3.7/dist-packages/seaborn/distributions.py:306: UserWarning: Dataset has 0 variance; skipping density estimate.\n",
            "  warnings.warn(msg, UserWarning)\n",
            "/usr/local/lib/python3.7/dist-packages/seaborn/distributions.py:306: UserWarning: Dataset has 0 variance; skipping density estimate.\n",
            "  warnings.warn(msg, UserWarning)\n"
          ],
          "name": "stderr"
        },
        {
          "output_type": "display_data",
          "data": {
            "image/png": "[encoded data removed]",
            "text/plain": [
              "<Figure size 720x288 with 1 Axes>"
            ]
          },
          "metadata": {
            "tags": []
          }
        }
      ]
    },
    {
      "cell_type": "code",
      "metadata": {
        "id": "MUb0bgXtjEJV"
      },
      "source": [
        "# Split o dataset e definindo as variáveis de treino e teste \n",
        "X = data.drop(\"class\", axis=1)\n",
        "y = data['class']\n",
        "X_train, X_test, y_train, y_test = train_test_split(X, y, test_size=1/3,stratify = y, random_state=42)"
      ],
      "execution_count": 128,
      "outputs": []
    },
    {
      "cell_type": "markdown",
      "metadata": {
        "id": "x6qxikyXr1aP"
      },
      "source": [
        "#Pré-processamento "
      ]
    },
    {
      "cell_type": "markdown",
      "metadata": {
        "id": "Mo5Z6IH9RK0Z"
      },
      "source": [
        "##retirarando os outliers"
      ]
    },
    {
      "cell_type": "code",
      "metadata": {
        "id": "ziE1vXpRpaC9"
      },
      "source": [
        "from sklearn.preprocessing import RobustScaler\n",
        "transformer = RobustScaler().fit(X)\n",
        "transformer\n",
        "RobustScaler()\n",
        "Xr=transformer.transform(X)"
      ],
      "execution_count": 150,
      "outputs": []
    },
    {
      "cell_type": "code",
      "metadata": {
        "id": "I87btqW0qNPO"
      },
      "source": [
        "Xr_train, Xr_test, yr_train, yr_test = train_test_split(Xr, y, test_size=1/3,stratify = y, random_state=42)"
      ],
      "execution_count": 151,
      "outputs": []
    },
    {
      "cell_type": "markdown",
      "metadata": {
        "id": "q_HETnAtr_CZ"
      },
      "source": [
        "##Normalização"
      ]
    },
    {
      "cell_type": "code",
      "metadata": {
        "id": "CW_uVHWAcuFE"
      },
      "source": [
        "from sklearn.preprocessing import MinMaxScaler"
      ],
      "execution_count": 152,
      "outputs": []
    },
    {
      "cell_type": "code",
      "metadata": {
        "colab": {
          "base_uri": "https://localhost:8080/"
        },
        "id": "vW6KHBG5cskb",
        "outputId": "9f0fcfd0-6574-4f1e-e77b-02ec69e0fd13"
      },
      "source": [
        "scaler = MinMaxScaler(feature_range=(-1,1))\n",
        "scaler.fit(data.iloc[:,:-1])"
      ],
      "execution_count": 153,
      "outputs": [
        {
          "output_type": "execute_result",
          "data": {
            "text/plain": [
              "MinMaxScaler(copy=True, feature_range=(-1, 1))"
            ]
          },
          "metadata": {
            "tags": []
          },
          "execution_count": 153
        }
      ]
    },
    {
      "cell_type": "code",
      "metadata": {
        "id": "M6KHXOHvE8xY"
      },
      "source": [
        "data_Norm = scaler.transform(data.iloc[:,:-1])"
      ],
      "execution_count": 154,
      "outputs": []
    },
    {
      "cell_type": "code",
      "metadata": {
        "id": "xkmzeQBlc9bW"
      },
      "source": [
        "data_Norm = pd.DataFrame(scaler.transform(data.iloc[:,:-1]), columns=data.iloc[:,:-1].columns) "
      ],
      "execution_count": 155,
      "outputs": []
    },
    {
      "cell_type": "code",
      "metadata": {
        "colab": {
          "base_uri": "https://localhost:8080/",
          "height": 0
        },
        "id": "BnYEG66dtt0n",
        "outputId": "1e115572-1859-453c-9a37-9928d5b35e27"
      },
      "source": [
        "data_Norm"
      ],
      "execution_count": 156,
      "outputs": [
        {
          "output_type": "execute_result",
          "data": {
            "text/html": [
              "<div>\n",
              "<style scoped>\n",
              "    .dataframe tbody tr th:only-of-type {\n",
              "        vertical-align: middle;\n",
              "    }\n",
              "\n",
              "    .dataframe tbody tr th {\n",
              "        vertical-align: top;\n",
              "    }\n",
              "\n",
              "    .dataframe thead th {\n",
              "        text-align: right;\n",
              "    }\n",
              "</style>\n",
              "<table border=\"1\" class=\"dataframe\">\n",
              "  <thead>\n",
              "    <tr style=\"text-align: right;\">\n",
              "      <th></th>\n",
              "      <th>a1</th>\n",
              "      <th>a2</th>\n",
              "      <th>a3</th>\n",
              "      <th>a4</th>\n",
              "    </tr>\n",
              "  </thead>\n",
              "  <tbody>\n",
              "    <tr>\n",
              "      <th>0</th>\n",
              "      <td>-0.070434</td>\n",
              "      <td>0.067874</td>\n",
              "      <td>-0.057668</td>\n",
              "      <td>-0.096180</td>\n",
              "    </tr>\n",
              "    <tr>\n",
              "      <th>1</th>\n",
              "      <td>-0.155843</td>\n",
              "      <td>0.066082</td>\n",
              "      <td>0.060753</td>\n",
              "      <td>-0.207609</td>\n",
              "    </tr>\n",
              "    <tr>\n",
              "      <th>2</th>\n",
              "      <td>-0.105674</td>\n",
              "      <td>0.111814</td>\n",
              "      <td>0.100648</td>\n",
              "      <td>-0.101122</td>\n",
              "    </tr>\n",
              "    <tr>\n",
              "      <th>3</th>\n",
              "      <td>-0.055740</td>\n",
              "      <td>0.126701</td>\n",
              "      <td>0.162036</td>\n",
              "      <td>0.032353</td>\n",
              "    </tr>\n",
              "    <tr>\n",
              "      <th>4</th>\n",
              "      <td>0.015177</td>\n",
              "      <td>0.045593</td>\n",
              "      <td>0.162960</td>\n",
              "      <td>0.021769</td>\n",
              "    </tr>\n",
              "    <tr>\n",
              "      <th>...</th>\n",
              "      <td>...</td>\n",
              "      <td>...</td>\n",
              "      <td>...</td>\n",
              "      <td>...</td>\n",
              "    </tr>\n",
              "    <tr>\n",
              "      <th>195067</th>\n",
              "      <td>-0.043167</td>\n",
              "      <td>-0.013118</td>\n",
              "      <td>-0.084250</td>\n",
              "      <td>-0.047618</td>\n",
              "    </tr>\n",
              "    <tr>\n",
              "      <th>195068</th>\n",
              "      <td>-0.105253</td>\n",
              "      <td>0.086070</td>\n",
              "      <td>-0.064338</td>\n",
              "      <td>0.048658</td>\n",
              "    </tr>\n",
              "    <tr>\n",
              "      <th>195069</th>\n",
              "      <td>-0.040548</td>\n",
              "      <td>0.048187</td>\n",
              "      <td>0.115304</td>\n",
              "      <td>0.066510</td>\n",
              "    </tr>\n",
              "    <tr>\n",
              "      <th>195070</th>\n",
              "      <td>0.073041</td>\n",
              "      <td>0.133471</td>\n",
              "      <td>0.165630</td>\n",
              "      <td>-0.000799</td>\n",
              "    </tr>\n",
              "    <tr>\n",
              "      <th>195071</th>\n",
              "      <td>0.040159</td>\n",
              "      <td>0.062226</td>\n",
              "      <td>0.090842</td>\n",
              "      <td>0.030660</td>\n",
              "    </tr>\n",
              "  </tbody>\n",
              "</table>\n",
              "<p>195072 rows × 4 columns</p>\n",
              "</div>"
            ],
            "text/plain": [
              "              a1        a2        a3        a4\n",
              "0      -0.070434  0.067874 -0.057668 -0.096180\n",
              "1      -0.155843  0.066082  0.060753 -0.207609\n",
              "2      -0.105674  0.111814  0.100648 -0.101122\n",
              "3      -0.055740  0.126701  0.162036  0.032353\n",
              "4       0.015177  0.045593  0.162960  0.021769\n",
              "...          ...       ...       ...       ...\n",
              "195067 -0.043167 -0.013118 -0.084250 -0.047618\n",
              "195068 -0.105253  0.086070 -0.064338  0.048658\n",
              "195069 -0.040548  0.048187  0.115304  0.066510\n",
              "195070  0.073041  0.133471  0.165630 -0.000799\n",
              "195071  0.040159  0.062226  0.090842  0.030660\n",
              "\n",
              "[195072 rows x 4 columns]"
            ]
          },
          "metadata": {
            "tags": []
          },
          "execution_count": 156
        }
      ]
    },
    {
      "cell_type": "code",
      "metadata": {
        "id": "RouFdrdPEJfk"
      },
      "source": [
        "#df_Normalized = pd.concat([data_Norm,data.iloc[:,-1]], axis=1)"
      ],
      "execution_count": 157,
      "outputs": []
    },
    {
      "cell_type": "code",
      "metadata": {
        "id": "p9vgoM-wsfHP"
      },
      "source": [
        "Xn = data_Norm\n",
        "yn = data['class']"
      ],
      "execution_count": 158,
      "outputs": []
    },
    {
      "cell_type": "code",
      "metadata": {
        "colab": {
          "base_uri": "https://localhost:8080/"
        },
        "id": "A76kcVdi0-uq",
        "outputId": "63f83e48-750b-4eda-f306-c67329ad0797"
      },
      "source": [
        "data['class'].value_counts()"
      ],
      "execution_count": 159,
      "outputs": [
        {
          "output_type": "execute_result",
          "data": {
            "text/plain": [
              "0    100608\n",
              "1     94464\n",
              "Name: class, dtype: int64"
            ]
          },
          "metadata": {
            "tags": []
          },
          "execution_count": 159
        }
      ]
    },
    {
      "cell_type": "code",
      "metadata": {
        "colab": {
          "base_uri": "https://localhost:8080/"
        },
        "id": "opEuC0m_GsHP",
        "outputId": "f560281d-6110-4b36-d8c6-2d7d4586806b"
      },
      "source": [
        "data_Norm['a1'].describe()"
      ],
      "execution_count": 160,
      "outputs": [
        {
          "output_type": "execute_result",
          "data": {
            "text/plain": [
              "count    195072.000000\n",
              "mean         -0.007021\n",
              "std           0.125609\n",
              "min          -1.000000\n",
              "25%          -0.074427\n",
              "50%          -0.009887\n",
              "75%           0.056642\n",
              "max           1.000000\n",
              "Name: a1, dtype: float64"
            ]
          },
          "metadata": {
            "tags": []
          },
          "execution_count": 160
        }
      ]
    },
    {
      "cell_type": "code",
      "metadata": {
        "id": "oEHssk16sIfT"
      },
      "source": [
        "Xn_train, Xn_test, yn_train, yn_test = train_test_split(Xn, yn, test_size=1/3,stratify = yn, random_state=42)"
      ],
      "execution_count": 161,
      "outputs": []
    },
    {
      "cell_type": "markdown",
      "metadata": {
        "id": "YtqyWz24RReh"
      },
      "source": [
        "#Classificadores\n"
      ]
    },
    {
      "cell_type": "markdown",
      "metadata": {
        "id": "TtrPMmPzfkDp"
      },
      "source": [
        "##Dummy Classifier"
      ]
    },
    {
      "cell_type": "code",
      "metadata": {
        "colab": {
          "base_uri": "https://localhost:8080/"
        },
        "id": "RyKTjrGqfo3-",
        "outputId": "0fa6781a-3d52-4233-d441-bed4d24f1a37"
      },
      "source": [
        "from sklearn.dummy import DummyClassifier\n",
        "from sklearn.metrics import accuracy_score\n",
        "\n",
        "modelo_dummy = DummyClassifier('most_frequent')\n",
        "modelo_dummy.fit(X_train, y_train)\n",
        "previsao_dummy = modelo_dummy.predict(X_test)\n",
        "accuracy_score(y_test, previsao_dummy)"
      ],
      "execution_count": 36,
      "outputs": [
        {
          "output_type": "execute_result",
          "data": {
            "text/plain": [
              "0.515748031496063"
            ]
          },
          "metadata": {
            "tags": []
          },
          "execution_count": 36
        }
      ]
    },
    {
      "cell_type": "markdown",
      "metadata": {
        "id": "ZNoRidtsfgpa"
      },
      "source": [
        "##Árvores de Decisão"
      ]
    },
    {
      "cell_type": "markdown",
      "metadata": {
        "id": "ZmexMs1w12jn"
      },
      "source": [
        "###Entropia"
      ]
    },
    {
      "cell_type": "code",
      "metadata": {
        "colab": {
          "base_uri": "https://localhost:8080/"
        },
        "id": "yfC5WXHikgqv",
        "outputId": "3c590641-6c88-44b2-d3c7-d50ebf9f6f70"
      },
      "source": [
        "#Variar os hiperparametros de tamanho da árvore\n",
        "depth_range = list(range(1, 20))\n",
        "print(depth_range)\n",
        "\n",
        "param_grid_tree = dict(max_depth=depth_range)\n",
        "print(param_grid_tree)"
      ],
      "execution_count": 37,
      "outputs": [
        {
          "output_type": "stream",
          "text": [
            "[1, 2, 3, 4, 5, 6, 7, 8, 9, 10, 11, 12, 13, 14, 15, 16, 17, 18, 19]\n",
            "{'max_depth': [1, 2, 3, 4, 5, 6, 7, 8, 9, 10, 11, 12, 13, 14, 15, 16, 17, 18, 19]}\n"
          ],
          "name": "stdout"
        }
      ]
    },
    {
      "cell_type": "code",
      "metadata": {
        "id": "N5kAN4lLkoVZ",
        "colab": {
          "base_uri": "https://localhost:8080/",
          "height": 54
        },
        "outputId": "ba172fee-5378-4a50-a89a-4892f1257e15"
      },
      "source": [
        "\"\"\"\n",
        "#Fazendo um dicionário chamado param_grid contendo os parâmetros que serão variados também o tipo de algoritmo\n",
        "param_grid_tree['criterion'] = ['entropy','gini']\n",
        "\"\"\""
      ],
      "execution_count": 38,
      "outputs": [
        {
          "output_type": "execute_result",
          "data": {
            "application/vnd.google.colaboratory.intrinsic+json": {
              "type": "string"
            },
            "text/plain": [
              "\"\\n#Fazendo um dicionário chamado param_grid contendo os parâmetros que serão variados também o tipo de algoritmo\\nparam_grid_tree['criterion'] = ['entropy','gini']\\n\""
            ]
          },
          "metadata": {
            "tags": []
          },
          "execution_count": 38
        }
      ]
    },
    {
      "cell_type": "code",
      "metadata": {
        "colab": {
          "base_uri": "https://localhost:8080/"
        },
        "id": "Ajw94yOMkvhq",
        "outputId": "3ca49126-2e19-4041-a00a-c3f398daa34e"
      },
      "source": [
        "#Criando o objeto GridSearch e treinando o modelo com os melhores hiperparâmetros\n",
        "\n",
        "grid_tree = GridSearchCV(DecisionTreeClassifier(criterion = 'entropy'), param_grid_tree, refit = True, verbose=3, cv=5)\n",
        "grid_tree.fit(X_train, y_train)\n",
        "print(\"-----------------------------------------------------------\")\n",
        "print(\"melhor estimador: \",grid_tree.best_estimator_)\n",
        "print(\"melhores Parâmetros: \",grid_tree.best_params_)\n",
        "print(\"Melhor score: \",grid_tree.score(X_test, y_test))"
      ],
      "execution_count": 39,
      "outputs": [
        {
          "output_type": "stream",
          "text": [
            "Fitting 5 folds for each of 19 candidates, totalling 95 fits\n",
            "[CV] max_depth=1 .....................................................\n",
            "[CV] ......................... max_depth=1, score=0.520, total=   0.2s\n",
            "[CV] max_depth=1 .....................................................\n"
          ],
          "name": "stdout"
        },
        {
          "output_type": "stream",
          "text": [
            "[Parallel(n_jobs=1)]: Using backend SequentialBackend with 1 concurrent workers.\n",
            "[Parallel(n_jobs=1)]: Done   1 out of   1 | elapsed:    0.2s remaining:    0.0s\n"
          ],
          "name": "stderr"
        },
        {
          "output_type": "stream",
          "text": [
            "[CV] ......................... max_depth=1, score=0.516, total=   0.2s\n",
            "[CV] max_depth=1 .....................................................\n",
            "[CV] ......................... max_depth=1, score=0.516, total=   0.2s\n",
            "[CV] max_depth=1 .....................................................\n"
          ],
          "name": "stdout"
        },
        {
          "output_type": "stream",
          "text": [
            "[Parallel(n_jobs=1)]: Done   2 out of   2 | elapsed:    0.3s remaining:    0.0s\n"
          ],
          "name": "stderr"
        },
        {
          "output_type": "stream",
          "text": [
            "[CV] ......................... max_depth=1, score=0.516, total=   0.1s\n",
            "[CV] max_depth=1 .....................................................\n",
            "[CV] ......................... max_depth=1, score=0.516, total=   0.2s\n",
            "[CV] max_depth=2 .....................................................\n",
            "[CV] ......................... max_depth=2, score=0.559, total=   0.3s\n",
            "[CV] max_depth=2 .....................................................\n",
            "[CV] ......................... max_depth=2, score=0.551, total=   0.3s\n",
            "[CV] max_depth=2 .....................................................\n",
            "[CV] ......................... max_depth=2, score=0.551, total=   0.3s\n",
            "[CV] max_depth=2 .....................................................\n",
            "[CV] ......................... max_depth=2, score=0.553, total=   0.3s\n",
            "[CV] max_depth=2 .....................................................\n",
            "[CV] ......................... max_depth=2, score=0.555, total=   0.3s\n",
            "[CV] max_depth=3 .....................................................\n",
            "[CV] ......................... max_depth=3, score=0.572, total=   0.4s\n",
            "[CV] max_depth=3 .....................................................\n",
            "[CV] ......................... max_depth=3, score=0.567, total=   0.4s\n",
            "[CV] max_depth=3 .....................................................\n",
            "[CV] ......................... max_depth=3, score=0.567, total=   0.4s\n",
            "[CV] max_depth=3 .....................................................\n",
            "[CV] ......................... max_depth=3, score=0.569, total=   0.4s\n",
            "[CV] max_depth=3 .....................................................\n",
            "[CV] ......................... max_depth=3, score=0.576, total=   0.4s\n",
            "[CV] max_depth=4 .....................................................\n",
            "[CV] ......................... max_depth=4, score=0.582, total=   0.5s\n",
            "[CV] max_depth=4 .....................................................\n",
            "[CV] ......................... max_depth=4, score=0.583, total=   0.5s\n",
            "[CV] max_depth=4 .....................................................\n",
            "[CV] ......................... max_depth=4, score=0.573, total=   0.5s\n",
            "[CV] max_depth=4 .....................................................\n",
            "[CV] ......................... max_depth=4, score=0.580, total=   0.5s\n",
            "[CV] max_depth=4 .....................................................\n",
            "[CV] ......................... max_depth=4, score=0.582, total=   0.5s\n",
            "[CV] max_depth=5 .....................................................\n",
            "[CV] ......................... max_depth=5, score=0.584, total=   0.6s\n",
            "[CV] max_depth=5 .....................................................\n",
            "[CV] ......................... max_depth=5, score=0.584, total=   0.6s\n",
            "[CV] max_depth=5 .....................................................\n",
            "[CV] ......................... max_depth=5, score=0.578, total=   0.6s\n",
            "[CV] max_depth=5 .....................................................\n",
            "[CV] ......................... max_depth=5, score=0.584, total=   0.6s\n",
            "[CV] max_depth=5 .....................................................\n",
            "[CV] ......................... max_depth=5, score=0.591, total=   0.6s\n",
            "[CV] max_depth=6 .....................................................\n",
            "[CV] ......................... max_depth=6, score=0.595, total=   0.8s\n",
            "[CV] max_depth=6 .....................................................\n",
            "[CV] ......................... max_depth=6, score=0.589, total=   0.7s\n",
            "[CV] max_depth=6 .....................................................\n",
            "[CV] ......................... max_depth=6, score=0.592, total=   0.8s\n",
            "[CV] max_depth=6 .....................................................\n",
            "[CV] ......................... max_depth=6, score=0.598, total=   0.8s\n",
            "[CV] max_depth=6 .....................................................\n",
            "[CV] ......................... max_depth=6, score=0.598, total=   0.8s\n",
            "[CV] max_depth=7 .....................................................\n",
            "[CV] ......................... max_depth=7, score=0.602, total=   0.9s\n",
            "[CV] max_depth=7 .....................................................\n",
            "[CV] ......................... max_depth=7, score=0.594, total=   0.9s\n",
            "[CV] max_depth=7 .....................................................\n",
            "[CV] ......................... max_depth=7, score=0.595, total=   0.9s\n",
            "[CV] max_depth=7 .....................................................\n",
            "[CV] ......................... max_depth=7, score=0.602, total=   0.9s\n",
            "[CV] max_depth=7 .....................................................\n",
            "[CV] ......................... max_depth=7, score=0.601, total=   0.9s\n",
            "[CV] max_depth=8 .....................................................\n",
            "[CV] ......................... max_depth=8, score=0.606, total=   1.0s\n",
            "[CV] max_depth=8 .....................................................\n",
            "[CV] ......................... max_depth=8, score=0.602, total=   1.0s\n",
            "[CV] max_depth=8 .....................................................\n",
            "[CV] ......................... max_depth=8, score=0.604, total=   1.0s\n",
            "[CV] max_depth=8 .....................................................\n",
            "[CV] ......................... max_depth=8, score=0.612, total=   1.0s\n",
            "[CV] max_depth=8 .....................................................\n",
            "[CV] ......................... max_depth=8, score=0.608, total=   1.0s\n",
            "[CV] max_depth=9 .....................................................\n",
            "[CV] ......................... max_depth=9, score=0.607, total=   1.1s\n",
            "[CV] max_depth=9 .....................................................\n",
            "[CV] ......................... max_depth=9, score=0.606, total=   1.1s\n",
            "[CV] max_depth=9 .....................................................\n",
            "[CV] ......................... max_depth=9, score=0.602, total=   1.1s\n",
            "[CV] max_depth=9 .....................................................\n",
            "[CV] ......................... max_depth=9, score=0.612, total=   1.1s\n",
            "[CV] max_depth=9 .....................................................\n",
            "[CV] ......................... max_depth=9, score=0.610, total=   1.1s\n",
            "[CV] max_depth=10 ....................................................\n",
            "[CV] ........................ max_depth=10, score=0.606, total=   1.2s\n",
            "[CV] max_depth=10 ....................................................\n",
            "[CV] ........................ max_depth=10, score=0.605, total=   1.2s\n",
            "[CV] max_depth=10 ....................................................\n",
            "[CV] ........................ max_depth=10, score=0.604, total=   1.2s\n",
            "[CV] max_depth=10 ....................................................\n",
            "[CV] ........................ max_depth=10, score=0.612, total=   1.2s\n",
            "[CV] max_depth=10 ....................................................\n",
            "[CV] ........................ max_depth=10, score=0.612, total=   1.2s\n",
            "[CV] max_depth=11 ....................................................\n",
            "[CV] ........................ max_depth=11, score=0.604, total=   1.3s\n",
            "[CV] max_depth=11 ....................................................\n",
            "[CV] ........................ max_depth=11, score=0.607, total=   1.3s\n",
            "[CV] max_depth=11 ....................................................\n",
            "[CV] ........................ max_depth=11, score=0.604, total=   1.3s\n",
            "[CV] max_depth=11 ....................................................\n",
            "[CV] ........................ max_depth=11, score=0.611, total=   1.3s\n",
            "[CV] max_depth=11 ....................................................\n",
            "[CV] ........................ max_depth=11, score=0.610, total=   1.3s\n",
            "[CV] max_depth=12 ....................................................\n",
            "[CV] ........................ max_depth=12, score=0.602, total=   1.4s\n",
            "[CV] max_depth=12 ....................................................\n",
            "[CV] ........................ max_depth=12, score=0.604, total=   1.4s\n",
            "[CV] max_depth=12 ....................................................\n",
            "[CV] ........................ max_depth=12, score=0.601, total=   1.4s\n",
            "[CV] max_depth=12 ....................................................\n",
            "[CV] ........................ max_depth=12, score=0.609, total=   1.4s\n",
            "[CV] max_depth=12 ....................................................\n",
            "[CV] ........................ max_depth=12, score=0.607, total=   1.4s\n",
            "[CV] max_depth=13 ....................................................\n",
            "[CV] ........................ max_depth=13, score=0.602, total=   1.5s\n",
            "[CV] max_depth=13 ....................................................\n",
            "[CV] ........................ max_depth=13, score=0.602, total=   1.5s\n",
            "[CV] max_depth=13 ....................................................\n",
            "[CV] ........................ max_depth=13, score=0.600, total=   1.5s\n",
            "[CV] max_depth=13 ....................................................\n",
            "[CV] ........................ max_depth=13, score=0.608, total=   1.5s\n",
            "[CV] max_depth=13 ....................................................\n",
            "[CV] ........................ max_depth=13, score=0.605, total=   1.5s\n",
            "[CV] max_depth=14 ....................................................\n",
            "[CV] ........................ max_depth=14, score=0.600, total=   1.6s\n",
            "[CV] max_depth=14 ....................................................\n",
            "[CV] ........................ max_depth=14, score=0.601, total=   1.6s\n",
            "[CV] max_depth=14 ....................................................\n",
            "[CV] ........................ max_depth=14, score=0.598, total=   1.6s\n",
            "[CV] max_depth=14 ....................................................\n",
            "[CV] ........................ max_depth=14, score=0.604, total=   1.6s\n",
            "[CV] max_depth=14 ....................................................\n",
            "[CV] ........................ max_depth=14, score=0.604, total=   1.5s\n",
            "[CV] max_depth=15 ....................................................\n",
            "[CV] ........................ max_depth=15, score=0.595, total=   1.6s\n",
            "[CV] max_depth=15 ....................................................\n",
            "[CV] ........................ max_depth=15, score=0.602, total=   1.7s\n",
            "[CV] max_depth=15 ....................................................\n",
            "[CV] ........................ max_depth=15, score=0.598, total=   1.7s\n",
            "[CV] max_depth=15 ....................................................\n",
            "[CV] ........................ max_depth=15, score=0.602, total=   1.6s\n",
            "[CV] max_depth=15 ....................................................\n",
            "[CV] ........................ max_depth=15, score=0.603, total=   1.6s\n",
            "[CV] max_depth=16 ....................................................\n",
            "[CV] ........................ max_depth=16, score=0.590, total=   1.7s\n",
            "[CV] max_depth=16 ....................................................\n",
            "[CV] ........................ max_depth=16, score=0.598, total=   1.7s\n",
            "[CV] max_depth=16 ....................................................\n",
            "[CV] ........................ max_depth=16, score=0.594, total=   1.7s\n",
            "[CV] max_depth=16 ....................................................\n",
            "[CV] ........................ max_depth=16, score=0.600, total=   1.7s\n",
            "[CV] max_depth=16 ....................................................\n",
            "[CV] ........................ max_depth=16, score=0.599, total=   1.7s\n",
            "[CV] max_depth=17 ....................................................\n",
            "[CV] ........................ max_depth=17, score=0.590, total=   1.8s\n",
            "[CV] max_depth=17 ....................................................\n",
            "[CV] ........................ max_depth=17, score=0.595, total=   1.8s\n",
            "[CV] max_depth=17 ....................................................\n",
            "[CV] ........................ max_depth=17, score=0.589, total=   1.8s\n",
            "[CV] max_depth=17 ....................................................\n",
            "[CV] ........................ max_depth=17, score=0.598, total=   1.8s\n",
            "[CV] max_depth=17 ....................................................\n",
            "[CV] ........................ max_depth=17, score=0.597, total=   1.8s\n",
            "[CV] max_depth=18 ....................................................\n",
            "[CV] ........................ max_depth=18, score=0.585, total=   1.8s\n",
            "[CV] max_depth=18 ....................................................\n",
            "[CV] ........................ max_depth=18, score=0.592, total=   1.9s\n",
            "[CV] max_depth=18 ....................................................\n",
            "[CV] ........................ max_depth=18, score=0.589, total=   1.9s\n",
            "[CV] max_depth=18 ....................................................\n",
            "[CV] ........................ max_depth=18, score=0.593, total=   1.8s\n",
            "[CV] max_depth=18 ....................................................\n",
            "[CV] ........................ max_depth=18, score=0.594, total=   1.9s\n",
            "[CV] max_depth=19 ....................................................\n",
            "[CV] ........................ max_depth=19, score=0.585, total=   1.9s\n",
            "[CV] max_depth=19 ....................................................\n",
            "[CV] ........................ max_depth=19, score=0.592, total=   1.9s\n",
            "[CV] max_depth=19 ....................................................\n",
            "[CV] ........................ max_depth=19, score=0.585, total=   1.9s\n",
            "[CV] max_depth=19 ....................................................\n",
            "[CV] ........................ max_depth=19, score=0.593, total=   1.9s\n",
            "[CV] max_depth=19 ....................................................\n",
            "[CV] ........................ max_depth=19, score=0.593, total=   1.9s\n"
          ],
          "name": "stdout"
        },
        {
          "output_type": "stream",
          "text": [
            "[Parallel(n_jobs=1)]: Done  95 out of  95 | elapsed:  1.8min finished\n"
          ],
          "name": "stderr"
        },
        {
          "output_type": "stream",
          "text": [
            "-----------------------------------------------------------\n",
            "melhor estimador:  DecisionTreeClassifier(ccp_alpha=0.0, class_weight=None, criterion='entropy',\n",
            "                       max_depth=10, max_features=None, max_leaf_nodes=None,\n",
            "                       min_impurity_decrease=0.0, min_impurity_split=None,\n",
            "                       min_samples_leaf=1, min_samples_split=2,\n",
            "                       min_weight_fraction_leaf=0.0, presort='deprecated',\n",
            "                       random_state=None, splitter='best')\n",
            "melhores Parâmetros:  {'max_depth': 10}\n",
            "Melhor score:  0.6067452017716536\n"
          ],
          "name": "stdout"
        }
      ]
    },
    {
      "cell_type": "code",
      "metadata": {
        "colab": {
          "base_uri": "https://localhost:8080/"
        },
        "id": "RCPSBP-2jiOd",
        "outputId": "17d0cf40-2808-4f04-bd86-72b54c6ed53e"
      },
      "source": [
        "#Criando objeto da árvore de decisão e treinando\n",
        "clf = tree.DecisionTreeClassifier(criterion = 'entropy', max_depth= 10)\n",
        "clf.fit(X_train, y_train)"
      ],
      "execution_count": 87,
      "outputs": [
        {
          "output_type": "execute_result",
          "data": {
            "text/plain": [
              "DecisionTreeClassifier(ccp_alpha=0.0, class_weight=None, criterion='entropy',\n",
              "                       max_depth=10, max_features=None, max_leaf_nodes=None,\n",
              "                       min_impurity_decrease=0.0, min_impurity_split=None,\n",
              "                       min_samples_leaf=1, min_samples_split=2,\n",
              "                       min_weight_fraction_leaf=0.0, presort='deprecated',\n",
              "                       random_state=None, splitter='best')"
            ]
          },
          "metadata": {
            "tags": []
          },
          "execution_count": 87
        }
      ]
    },
    {
      "cell_type": "code",
      "metadata": {
        "colab": {
          "base_uri": "https://localhost:8080/"
        },
        "id": "EPfc0f6vmU4M",
        "outputId": "40bb9ae5-c79a-4464-b47a-3659d6ef7817"
      },
      "source": [
        "#Computar a acurácia do teste\n",
        "test_accuracy_tree = clf.score(X_test, y_test)\n",
        "print('Acurácia do teste = ' ,test_accuracy_tree)\n",
        "\n",
        "predictions_tree = clf.predict(X_test)\n",
        "print(confusion_matrix(y_test, predictions_tree))\n",
        "print(classification_report(y_test, predictions_tree))"
      ],
      "execution_count": 88,
      "outputs": [
        {
          "output_type": "stream",
          "text": [
            "Acurácia do teste =  0.6068067175196851\n",
            "[[15956 17580]\n",
            " [ 7987 23501]]\n",
            "              precision    recall  f1-score   support\n",
            "\n",
            "           0       0.67      0.48      0.56     33536\n",
            "           1       0.57      0.75      0.65     31488\n",
            "\n",
            "    accuracy                           0.61     65024\n",
            "   macro avg       0.62      0.61      0.60     65024\n",
            "weighted avg       0.62      0.61      0.60     65024\n",
            "\n"
          ],
          "name": "stdout"
        }
      ]
    },
    {
      "cell_type": "markdown",
      "metadata": {
        "id": "EXWDOuHJY3QJ"
      },
      "source": [
        "A precisão está ruím!!!! A quantidade de false positive está gigante.  Isto é, a quantidade que ele classifica como falha, mas que não foi falha está grande.\n",
        "\n",
        "---\n",
        "\n",
        "No entanto, a cobertura é muito boa\n"
      ]
    },
    {
      "cell_type": "code",
      "metadata": {
        "id": "GQWjn2yp4Pf0"
      },
      "source": [
        ""
      ],
      "execution_count": 41,
      "outputs": []
    },
    {
      "cell_type": "markdown",
      "metadata": {
        "id": "nspFAT794QGz"
      },
      "source": [
        "###CART"
      ]
    },
    {
      "cell_type": "code",
      "metadata": {
        "colab": {
          "base_uri": "https://localhost:8080/"
        },
        "id": "RlSfBrVR-GU2",
        "outputId": "c837a6e8-24a2-4ff6-a7df-327e24bef082"
      },
      "source": [
        "#Variar os hiperparametros de tamanho da árvore\n",
        "depth_cart = list(range(1, 20))\n",
        "print(depth_cart)\n",
        "\n",
        "param_grid_cart = dict(max_depth=depth_cart)\n",
        "print(param_grid_cart)"
      ],
      "execution_count": 42,
      "outputs": [
        {
          "output_type": "stream",
          "text": [
            "[1, 2, 3, 4, 5, 6, 7, 8, 9, 10, 11, 12, 13, 14, 15, 16, 17, 18, 19]\n",
            "{'max_depth': [1, 2, 3, 4, 5, 6, 7, 8, 9, 10, 11, 12, 13, 14, 15, 16, 17, 18, 19]}\n"
          ],
          "name": "stdout"
        }
      ]
    },
    {
      "cell_type": "code",
      "metadata": {
        "colab": {
          "base_uri": "https://localhost:8080/"
        },
        "id": "juKpV09v4QHB",
        "outputId": "8665a6b0-66ca-4184-92c2-b175ec54a36b"
      },
      "source": [
        "#Criando o objeto GridSearch e treinando o modelo com os melhores hiperparâmetros\n",
        "\n",
        "grid_CART = GridSearchCV(DecisionTreeClassifier(criterion = 'gini'), param_grid_cart, refit = True, verbose=3, cv=5)\n",
        "grid_CART.fit(X_train, y_train)\n",
        "print(\"-----------------------------------------------------------\")\n",
        "print(\"melhor estimador: \",grid_CART.best_estimator_)\n",
        "print(\"melhores Parâmetros: \",grid_CART.best_params_)\n",
        "print(\"Melhor score: \",grid_CART.score(X_test, y_test))"
      ],
      "execution_count": 43,
      "outputs": [
        {
          "output_type": "stream",
          "text": [
            "Fitting 5 folds for each of 19 candidates, totalling 95 fits\n",
            "[CV] max_depth=1 .....................................................\n",
            "[CV] ......................... max_depth=1, score=0.520, total=   0.1s\n",
            "[CV] max_depth=1 .....................................................\n"
          ],
          "name": "stdout"
        },
        {
          "output_type": "stream",
          "text": [
            "[Parallel(n_jobs=1)]: Using backend SequentialBackend with 1 concurrent workers.\n",
            "[Parallel(n_jobs=1)]: Done   1 out of   1 | elapsed:    0.1s remaining:    0.0s\n",
            "[Parallel(n_jobs=1)]: Done   2 out of   2 | elapsed:    0.2s remaining:    0.0s\n"
          ],
          "name": "stderr"
        },
        {
          "output_type": "stream",
          "text": [
            "[CV] ......................... max_depth=1, score=0.520, total=   0.1s\n",
            "[CV] max_depth=1 .....................................................\n",
            "[CV] ......................... max_depth=1, score=0.521, total=   0.1s\n",
            "[CV] max_depth=1 .....................................................\n",
            "[CV] ......................... max_depth=1, score=0.523, total=   0.1s\n",
            "[CV] max_depth=1 .....................................................\n",
            "[CV] ......................... max_depth=1, score=0.521, total=   0.1s\n",
            "[CV] max_depth=2 .....................................................\n",
            "[CV] ......................... max_depth=2, score=0.561, total=   0.2s\n",
            "[CV] max_depth=2 .....................................................\n",
            "[CV] ......................... max_depth=2, score=0.558, total=   0.2s\n",
            "[CV] max_depth=2 .....................................................\n",
            "[CV] ......................... max_depth=2, score=0.559, total=   0.2s\n",
            "[CV] max_depth=2 .....................................................\n",
            "[CV] ......................... max_depth=2, score=0.561, total=   0.2s\n",
            "[CV] max_depth=2 .....................................................\n",
            "[CV] ......................... max_depth=2, score=0.561, total=   0.2s\n",
            "[CV] max_depth=3 .....................................................\n",
            "[CV] ......................... max_depth=3, score=0.574, total=   0.3s\n",
            "[CV] max_depth=3 .....................................................\n",
            "[CV] ......................... max_depth=3, score=0.567, total=   0.2s\n",
            "[CV] max_depth=3 .....................................................\n",
            "[CV] ......................... max_depth=3, score=0.571, total=   0.2s\n",
            "[CV] max_depth=3 .....................................................\n",
            "[CV] ......................... max_depth=3, score=0.572, total=   0.3s\n",
            "[CV] max_depth=3 .....................................................\n",
            "[CV] ......................... max_depth=3, score=0.576, total=   0.3s\n",
            "[CV] max_depth=4 .....................................................\n",
            "[CV] ......................... max_depth=4, score=0.582, total=   0.3s\n",
            "[CV] max_depth=4 .....................................................\n",
            "[CV] ......................... max_depth=4, score=0.583, total=   0.3s\n",
            "[CV] max_depth=4 .....................................................\n",
            "[CV] ......................... max_depth=4, score=0.576, total=   0.3s\n",
            "[CV] max_depth=4 .....................................................\n",
            "[CV] ......................... max_depth=4, score=0.584, total=   0.3s\n",
            "[CV] max_depth=4 .....................................................\n",
            "[CV] ......................... max_depth=4, score=0.583, total=   0.3s\n",
            "[CV] max_depth=5 .....................................................\n",
            "[CV] ......................... max_depth=5, score=0.586, total=   0.4s\n",
            "[CV] max_depth=5 .....................................................\n",
            "[CV] ......................... max_depth=5, score=0.585, total=   0.4s\n",
            "[CV] max_depth=5 .....................................................\n",
            "[CV] ......................... max_depth=5, score=0.587, total=   0.4s\n",
            "[CV] max_depth=5 .....................................................\n",
            "[CV] ......................... max_depth=5, score=0.588, total=   0.4s\n",
            "[CV] max_depth=5 .....................................................\n",
            "[CV] ......................... max_depth=5, score=0.590, total=   0.4s\n",
            "[CV] max_depth=6 .....................................................\n",
            "[CV] ......................... max_depth=6, score=0.596, total=   0.5s\n",
            "[CV] max_depth=6 .....................................................\n",
            "[CV] ......................... max_depth=6, score=0.589, total=   0.5s\n",
            "[CV] max_depth=6 .....................................................\n",
            "[CV] ......................... max_depth=6, score=0.594, total=   0.5s\n",
            "[CV] max_depth=6 .....................................................\n",
            "[CV] ......................... max_depth=6, score=0.599, total=   0.5s\n",
            "[CV] max_depth=6 .....................................................\n",
            "[CV] ......................... max_depth=6, score=0.598, total=   0.5s\n",
            "[CV] max_depth=7 .....................................................\n",
            "[CV] ......................... max_depth=7, score=0.602, total=   0.5s\n",
            "[CV] max_depth=7 .....................................................\n",
            "[CV] ......................... max_depth=7, score=0.595, total=   0.5s\n",
            "[CV] max_depth=7 .....................................................\n",
            "[CV] ......................... max_depth=7, score=0.599, total=   0.5s\n",
            "[CV] max_depth=7 .....................................................\n",
            "[CV] ......................... max_depth=7, score=0.602, total=   0.5s\n",
            "[CV] max_depth=7 .....................................................\n",
            "[CV] ......................... max_depth=7, score=0.601, total=   0.5s\n",
            "[CV] max_depth=8 .....................................................\n",
            "[CV] ......................... max_depth=8, score=0.607, total=   0.6s\n",
            "[CV] max_depth=8 .....................................................\n",
            "[CV] ......................... max_depth=8, score=0.601, total=   0.6s\n",
            "[CV] max_depth=8 .....................................................\n",
            "[CV] ......................... max_depth=8, score=0.602, total=   0.6s\n",
            "[CV] max_depth=8 .....................................................\n",
            "[CV] ......................... max_depth=8, score=0.610, total=   0.6s\n",
            "[CV] max_depth=8 .....................................................\n",
            "[CV] ......................... max_depth=8, score=0.609, total=   0.6s\n",
            "[CV] max_depth=9 .....................................................\n",
            "[CV] ......................... max_depth=9, score=0.607, total=   0.6s\n",
            "[CV] max_depth=9 .....................................................\n",
            "[CV] ......................... max_depth=9, score=0.607, total=   0.7s\n",
            "[CV] max_depth=9 .....................................................\n",
            "[CV] ......................... max_depth=9, score=0.601, total=   0.6s\n",
            "[CV] max_depth=9 .....................................................\n",
            "[CV] ......................... max_depth=9, score=0.609, total=   0.6s\n",
            "[CV] max_depth=9 .....................................................\n",
            "[CV] ......................... max_depth=9, score=0.609, total=   0.6s\n",
            "[CV] max_depth=10 ....................................................\n",
            "[CV] ........................ max_depth=10, score=0.609, total=   0.7s\n",
            "[CV] max_depth=10 ....................................................\n",
            "[CV] ........................ max_depth=10, score=0.606, total=   0.7s\n",
            "[CV] max_depth=10 ....................................................\n",
            "[CV] ........................ max_depth=10, score=0.603, total=   0.7s\n",
            "[CV] max_depth=10 ....................................................\n",
            "[CV] ........................ max_depth=10, score=0.609, total=   0.7s\n",
            "[CV] max_depth=10 ....................................................\n",
            "[CV] ........................ max_depth=10, score=0.611, total=   0.7s\n",
            "[CV] max_depth=11 ....................................................\n",
            "[CV] ........................ max_depth=11, score=0.604, total=   0.7s\n",
            "[CV] max_depth=11 ....................................................\n",
            "[CV] ........................ max_depth=11, score=0.605, total=   0.8s\n",
            "[CV] max_depth=11 ....................................................\n",
            "[CV] ........................ max_depth=11, score=0.603, total=   0.8s\n",
            "[CV] max_depth=11 ....................................................\n",
            "[CV] ........................ max_depth=11, score=0.605, total=   0.8s\n",
            "[CV] max_depth=11 ....................................................\n",
            "[CV] ........................ max_depth=11, score=0.606, total=   0.7s\n",
            "[CV] max_depth=12 ....................................................\n",
            "[CV] ........................ max_depth=12, score=0.602, total=   0.8s\n",
            "[CV] max_depth=12 ....................................................\n",
            "[CV] ........................ max_depth=12, score=0.606, total=   0.8s\n",
            "[CV] max_depth=12 ....................................................\n",
            "[CV] ........................ max_depth=12, score=0.600, total=   0.8s\n",
            "[CV] max_depth=12 ....................................................\n",
            "[CV] ........................ max_depth=12, score=0.604, total=   0.8s\n",
            "[CV] max_depth=12 ....................................................\n",
            "[CV] ........................ max_depth=12, score=0.605, total=   0.8s\n",
            "[CV] max_depth=13 ....................................................\n",
            "[CV] ........................ max_depth=13, score=0.598, total=   0.8s\n",
            "[CV] max_depth=13 ....................................................\n",
            "[CV] ........................ max_depth=13, score=0.602, total=   0.8s\n",
            "[CV] max_depth=13 ....................................................\n",
            "[CV] ........................ max_depth=13, score=0.600, total=   0.8s\n",
            "[CV] max_depth=13 ....................................................\n",
            "[CV] ........................ max_depth=13, score=0.598, total=   0.8s\n",
            "[CV] max_depth=13 ....................................................\n",
            "[CV] ........................ max_depth=13, score=0.603, total=   0.8s\n",
            "[CV] max_depth=14 ....................................................\n",
            "[CV] ........................ max_depth=14, score=0.595, total=   0.9s\n",
            "[CV] max_depth=14 ....................................................\n",
            "[CV] ........................ max_depth=14, score=0.601, total=   0.9s\n",
            "[CV] max_depth=14 ....................................................\n",
            "[CV] ........................ max_depth=14, score=0.598, total=   0.9s\n",
            "[CV] max_depth=14 ....................................................\n",
            "[CV] ........................ max_depth=14, score=0.598, total=   0.9s\n",
            "[CV] max_depth=14 ....................................................\n",
            "[CV] ........................ max_depth=14, score=0.599, total=   0.9s\n",
            "[CV] max_depth=15 ....................................................\n",
            "[CV] ........................ max_depth=15, score=0.590, total=   0.9s\n",
            "[CV] max_depth=15 ....................................................\n",
            "[CV] ........................ max_depth=15, score=0.598, total=   1.0s\n",
            "[CV] max_depth=15 ....................................................\n",
            "[CV] ........................ max_depth=15, score=0.596, total=   1.0s\n",
            "[CV] max_depth=15 ....................................................\n",
            "[CV] ........................ max_depth=15, score=0.596, total=   1.0s\n",
            "[CV] max_depth=15 ....................................................\n",
            "[CV] ........................ max_depth=15, score=0.599, total=   0.9s\n",
            "[CV] max_depth=16 ....................................................\n",
            "[CV] ........................ max_depth=16, score=0.590, total=   1.0s\n",
            "[CV] max_depth=16 ....................................................\n",
            "[CV] ........................ max_depth=16, score=0.594, total=   1.0s\n",
            "[CV] max_depth=16 ....................................................\n",
            "[CV] ........................ max_depth=16, score=0.589, total=   1.0s\n",
            "[CV] max_depth=16 ....................................................\n",
            "[CV] ........................ max_depth=16, score=0.594, total=   1.0s\n",
            "[CV] max_depth=16 ....................................................\n",
            "[CV] ........................ max_depth=16, score=0.594, total=   1.0s\n",
            "[CV] max_depth=17 ....................................................\n",
            "[CV] ........................ max_depth=17, score=0.592, total=   1.0s\n",
            "[CV] max_depth=17 ....................................................\n",
            "[CV] ........................ max_depth=17, score=0.590, total=   1.0s\n",
            "[CV] max_depth=17 ....................................................\n",
            "[CV] ........................ max_depth=17, score=0.589, total=   1.0s\n",
            "[CV] max_depth=17 ....................................................\n",
            "[CV] ........................ max_depth=17, score=0.592, total=   1.0s\n",
            "[CV] max_depth=17 ....................................................\n",
            "[CV] ........................ max_depth=17, score=0.592, total=   1.0s\n",
            "[CV] max_depth=18 ....................................................\n",
            "[CV] ........................ max_depth=18, score=0.583, total=   1.0s\n",
            "[CV] max_depth=18 ....................................................\n",
            "[CV] ........................ max_depth=18, score=0.586, total=   1.1s\n",
            "[CV] max_depth=18 ....................................................\n",
            "[CV] ........................ max_depth=18, score=0.585, total=   1.0s\n",
            "[CV] max_depth=18 ....................................................\n",
            "[CV] ........................ max_depth=18, score=0.588, total=   1.1s\n",
            "[CV] max_depth=18 ....................................................\n",
            "[CV] ........................ max_depth=18, score=0.590, total=   1.0s\n",
            "[CV] max_depth=19 ....................................................\n",
            "[CV] ........................ max_depth=19, score=0.582, total=   1.1s\n",
            "[CV] max_depth=19 ....................................................\n",
            "[CV] ........................ max_depth=19, score=0.587, total=   1.1s\n",
            "[CV] max_depth=19 ....................................................\n",
            "[CV] ........................ max_depth=19, score=0.582, total=   1.1s\n",
            "[CV] max_depth=19 ....................................................\n",
            "[CV] ........................ max_depth=19, score=0.585, total=   1.1s\n",
            "[CV] max_depth=19 ....................................................\n",
            "[CV] ........................ max_depth=19, score=0.586, total=   1.1s\n"
          ],
          "name": "stdout"
        },
        {
          "output_type": "stream",
          "text": [
            "[Parallel(n_jobs=1)]: Done  95 out of  95 | elapsed:  1.0min finished\n"
          ],
          "name": "stderr"
        },
        {
          "output_type": "stream",
          "text": [
            "-----------------------------------------------------------\n",
            "melhor estimador:  DecisionTreeClassifier(ccp_alpha=0.0, class_weight=None, criterion='gini',\n",
            "                       max_depth=10, max_features=None, max_leaf_nodes=None,\n",
            "                       min_impurity_decrease=0.0, min_impurity_split=None,\n",
            "                       min_samples_leaf=1, min_samples_split=2,\n",
            "                       min_weight_fraction_leaf=0.0, presort='deprecated',\n",
            "                       random_state=None, splitter='best')\n",
            "melhores Parâmetros:  {'max_depth': 10}\n",
            "Melhor score:  0.6066221702755905\n"
          ],
          "name": "stdout"
        }
      ]
    },
    {
      "cell_type": "code",
      "metadata": {
        "colab": {
          "base_uri": "https://localhost:8080/"
        },
        "id": "gHBegrWU4QHF",
        "outputId": "37016b04-d770-4c18-d7b9-14d5560a9751"
      },
      "source": [
        "#Criando objeto da árvore de decisão e treinando\n",
        "clfCART = tree.DecisionTreeClassifier(criterion = 'gini', max_depth= 10)\n",
        "clfCART.fit(X_train, y_train)"
      ],
      "execution_count": 85,
      "outputs": [
        {
          "output_type": "execute_result",
          "data": {
            "text/plain": [
              "DecisionTreeClassifier(ccp_alpha=0.0, class_weight=None, criterion='gini',\n",
              "                       max_depth=10, max_features=None, max_leaf_nodes=None,\n",
              "                       min_impurity_decrease=0.0, min_impurity_split=None,\n",
              "                       min_samples_leaf=1, min_samples_split=2,\n",
              "                       min_weight_fraction_leaf=0.0, presort='deprecated',\n",
              "                       random_state=None, splitter='best')"
            ]
          },
          "metadata": {
            "tags": []
          },
          "execution_count": 85
        }
      ]
    },
    {
      "cell_type": "code",
      "metadata": {
        "colab": {
          "base_uri": "https://localhost:8080/"
        },
        "id": "V8SCOF7a4QHJ",
        "outputId": "8f43bf0b-c5d4-4437-c8d8-ee6c38d7e5b3"
      },
      "source": [
        "#Computar a acurácia do teste\n",
        "test_accuracy_CART = clfCART.score(X_test, y_test)\n",
        "print('Acurácia do teste = ' ,test_accuracy_CART)\n",
        "\n",
        "predictions_CART = clfCART.predict(X_test)\n",
        "print(confusion_matrix(y_test, predictions_CART))\n",
        "print(classification_report(y_test, predictions_CART))"
      ],
      "execution_count": 86,
      "outputs": [
        {
          "output_type": "stream",
          "text": [
            "Acurácia do teste =  0.6065452755905512\n",
            "[[15517 18019]\n",
            " [ 7565 23923]]\n",
            "              precision    recall  f1-score   support\n",
            "\n",
            "           0       0.67      0.46      0.55     33536\n",
            "           1       0.57      0.76      0.65     31488\n",
            "\n",
            "    accuracy                           0.61     65024\n",
            "   macro avg       0.62      0.61      0.60     65024\n",
            "weighted avg       0.62      0.61      0.60     65024\n",
            "\n"
          ],
          "name": "stdout"
        }
      ]
    },
    {
      "cell_type": "code",
      "metadata": {
        "colab": {
          "base_uri": "https://localhost:8080/",
          "height": 285
        },
        "id": "81lDjwDzKnGZ",
        "outputId": "616653e5-8773-42f8-deaa-052f17a45b24"
      },
      "source": [
        "cm = pd.DataFrame(confusion_matrix(y_test, predictions_CART))\n",
        "sns.heatmap(cm, annot=True)"
      ],
      "execution_count": 46,
      "outputs": [
        {
          "output_type": "execute_result",
          "data": {
            "text/plain": [
              "<matplotlib.axes._subplots.AxesSubplot at 0x7f8272223090>"
            ]
          },
          "metadata": {
            "tags": []
          },
          "execution_count": 46
        },
        {
          "output_type": "display_data",
          "data": {
            "image/png": "[encoded data removed]",
            "text/plain": [
              "<Figure size 432x288 with 2 Axes>"
            ]
          },
          "metadata": {
            "tags": [],
            "needs_background": "light"
          }
        }
      ]
    },
    {
      "cell_type": "markdown",
      "metadata": {
        "id": "bZjSN_gR7hbx"
      },
      "source": [
        "##Random Forest\n"
      ]
    },
    {
      "cell_type": "code",
      "metadata": {
        "id": "CY0XNF1ZBKts"
      },
      "source": [
        "#Tentei usar um número grande de árvores votantes, mas ficou muito lento\n",
        "#n_estimators = [int(x) for x in np.linspace(start = 200, stop = 2000, num = 10)]"
      ],
      "execution_count": 47,
      "outputs": []
    },
    {
      "cell_type": "code",
      "metadata": {
        "id": "hDqdkeYG86WR"
      },
      "source": [
        "#Variar os hiperparametros de tamanho do número de árvores votantes\n",
        "estimadores = [10,20,50,100]"
      ],
      "execution_count": 48,
      "outputs": []
    },
    {
      "cell_type": "code",
      "metadata": {
        "colab": {
          "base_uri": "https://localhost:8080/"
        },
        "id": "u5b5RTTK_1t_",
        "outputId": "af97da32-a554-4a43-ff15-16ad556e69b7"
      },
      "source": [
        "param_grid_RF = dict(n_estimators=estimadores)\n",
        "print(param_grid_RF)"
      ],
      "execution_count": 49,
      "outputs": [
        {
          "output_type": "stream",
          "text": [
            "{'n_estimators': [10, 20, 50, 100]}\n"
          ],
          "name": "stdout"
        }
      ]
    },
    {
      "cell_type": "code",
      "metadata": {
        "colab": {
          "base_uri": "https://localhost:8080/"
        },
        "id": "VBsMJQNI7w9-",
        "outputId": "e848cb09-2756-4ff0-f38e-3f8e7279828e"
      },
      "source": [
        "#Criando o objeto GridSearch e treinando o modelo com os melhores hiperparâmetros\n",
        "\n",
        "grid_RF = GridSearchCV(RandomForestClassifier(random_state = 42), param_grid_RF, refit = True, verbose=3, cv=5)\n",
        "grid_RF.fit(X_train, y_train)\n",
        "print(\"-----------------------------------------------------------\")\n",
        "print(\"melhor estimador: \",grid_RF.best_estimator_)\n",
        "print(\"melhores Parâmetros: \",grid_RF.best_params_)\n",
        "print(\"Melhor score: \",grid_RF.score(X_test, y_test))"
      ],
      "execution_count": 50,
      "outputs": [
        {
          "output_type": "stream",
          "text": [
            "Fitting 5 folds for each of 4 candidates, totalling 20 fits\n",
            "[CV] n_estimators=10 .................................................\n"
          ],
          "name": "stdout"
        },
        {
          "output_type": "stream",
          "text": [
            "[Parallel(n_jobs=1)]: Using backend SequentialBackend with 1 concurrent workers.\n"
          ],
          "name": "stderr"
        },
        {
          "output_type": "stream",
          "text": [
            "[CV] ..................... n_estimators=10, score=0.578, total=   5.0s\n",
            "[CV] n_estimators=10 .................................................\n"
          ],
          "name": "stdout"
        },
        {
          "output_type": "stream",
          "text": [
            "[Parallel(n_jobs=1)]: Done   1 out of   1 | elapsed:    5.0s remaining:    0.0s\n"
          ],
          "name": "stderr"
        },
        {
          "output_type": "stream",
          "text": [
            "[CV] ..................... n_estimators=10, score=0.571, total=   4.9s\n",
            "[CV] n_estimators=10 .................................................\n"
          ],
          "name": "stdout"
        },
        {
          "output_type": "stream",
          "text": [
            "[Parallel(n_jobs=1)]: Done   2 out of   2 | elapsed:   10.0s remaining:    0.0s\n"
          ],
          "name": "stderr"
        },
        {
          "output_type": "stream",
          "text": [
            "[CV] ..................... n_estimators=10, score=0.578, total=   4.9s\n",
            "[CV] n_estimators=10 .................................................\n",
            "[CV] ..................... n_estimators=10, score=0.577, total=   4.9s\n",
            "[CV] n_estimators=10 .................................................\n",
            "[CV] ..................... n_estimators=10, score=0.578, total=   4.8s\n",
            "[CV] n_estimators=20 .................................................\n",
            "[CV] ..................... n_estimators=20, score=0.589, total=   9.6s\n",
            "[CV] n_estimators=20 .................................................\n",
            "[CV] ..................... n_estimators=20, score=0.580, total=   9.7s\n",
            "[CV] n_estimators=20 .................................................\n",
            "[CV] ..................... n_estimators=20, score=0.583, total=   9.6s\n",
            "[CV] n_estimators=20 .................................................\n",
            "[CV] ..................... n_estimators=20, score=0.584, total=   9.7s\n",
            "[CV] n_estimators=20 .................................................\n",
            "[CV] ..................... n_estimators=20, score=0.591, total=   9.8s\n",
            "[CV] n_estimators=50 .................................................\n",
            "[CV] ..................... n_estimators=50, score=0.595, total=  24.7s\n",
            "[CV] n_estimators=50 .................................................\n",
            "[CV] ..................... n_estimators=50, score=0.591, total=  24.9s\n",
            "[CV] n_estimators=50 .................................................\n",
            "[CV] ..................... n_estimators=50, score=0.590, total=  24.8s\n",
            "[CV] n_estimators=50 .................................................\n",
            "[CV] ..................... n_estimators=50, score=0.595, total=  24.7s\n",
            "[CV] n_estimators=50 .................................................\n",
            "[CV] ..................... n_estimators=50, score=0.596, total=  24.5s\n",
            "[CV] n_estimators=100 ................................................\n",
            "[CV] .................... n_estimators=100, score=0.596, total=  49.9s\n",
            "[CV] n_estimators=100 ................................................\n",
            "[CV] .................... n_estimators=100, score=0.592, total=  49.9s\n",
            "[CV] n_estimators=100 ................................................\n",
            "[CV] .................... n_estimators=100, score=0.593, total=  49.5s\n",
            "[CV] n_estimators=100 ................................................\n",
            "[CV] .................... n_estimators=100, score=0.600, total=  49.7s\n",
            "[CV] n_estimators=100 ................................................\n",
            "[CV] .................... n_estimators=100, score=0.600, total=  49.6s\n"
          ],
          "name": "stdout"
        },
        {
          "output_type": "stream",
          "text": [
            "[Parallel(n_jobs=1)]: Done  20 out of  20 | elapsed:  7.4min finished\n"
          ],
          "name": "stderr"
        },
        {
          "output_type": "stream",
          "text": [
            "-----------------------------------------------------------\n",
            "melhor estimador:  RandomForestClassifier(bootstrap=True, ccp_alpha=0.0, class_weight=None,\n",
            "                       criterion='gini', max_depth=None, max_features='auto',\n",
            "                       max_leaf_nodes=None, max_samples=None,\n",
            "                       min_impurity_decrease=0.0, min_impurity_split=None,\n",
            "                       min_samples_leaf=1, min_samples_split=2,\n",
            "                       min_weight_fraction_leaf=0.0, n_estimators=100,\n",
            "                       n_jobs=None, oob_score=False, random_state=42, verbose=0,\n",
            "                       warm_start=False)\n",
            "melhores Parâmetros:  {'n_estimators': 100}\n",
            "Melhor score:  0.596195250984252\n"
          ],
          "name": "stdout"
        }
      ]
    },
    {
      "cell_type": "code",
      "metadata": {
        "colab": {
          "base_uri": "https://localhost:8080/"
        },
        "id": "mXnKKrX57w-H",
        "outputId": "eb54c08c-a5da-4102-fa60-a724c37b8348"
      },
      "source": [
        "#Criando objeto da árvore de decisão e treinando\n",
        "rf = RandomForestClassifier(random_state = 42, n_estimators=100)\n",
        "rf.fit(X_train, y_train)"
      ],
      "execution_count": 51,
      "outputs": [
        {
          "output_type": "execute_result",
          "data": {
            "text/plain": [
              "RandomForestClassifier(bootstrap=True, ccp_alpha=0.0, class_weight=None,\n",
              "                       criterion='gini', max_depth=None, max_features='auto',\n",
              "                       max_leaf_nodes=None, max_samples=None,\n",
              "                       min_impurity_decrease=0.0, min_impurity_split=None,\n",
              "                       min_samples_leaf=1, min_samples_split=2,\n",
              "                       min_weight_fraction_leaf=0.0, n_estimators=100,\n",
              "                       n_jobs=None, oob_score=False, random_state=42, verbose=0,\n",
              "                       warm_start=False)"
            ]
          },
          "metadata": {
            "tags": []
          },
          "execution_count": 51
        }
      ]
    },
    {
      "cell_type": "code",
      "metadata": {
        "colab": {
          "base_uri": "https://localhost:8080/"
        },
        "id": "HCvGXAd27w-K",
        "outputId": "507c3403-82a1-4f5d-e2ea-d9df1069365f"
      },
      "source": [
        "#Computar a acurácia do teste\n",
        "test_accuracy_rf = rf.score(X_test, y_test)\n",
        "print('Acurácia do teste = ' ,test_accuracy_rf)\n",
        "\n",
        "predictions_rf = rf.predict(X_test)\n",
        "print(confusion_matrix(y_test, predictions_rf))\n",
        "print(classification_report(y_test, predictions_rf))"
      ],
      "execution_count": 52,
      "outputs": [
        {
          "output_type": "stream",
          "text": [
            "Acurácia do teste =  0.596195250984252\n",
            "[[19609 13927]\n",
            " [12330 19158]]\n",
            "              precision    recall  f1-score   support\n",
            "\n",
            "           0       0.61      0.58      0.60     33536\n",
            "           1       0.58      0.61      0.59     31488\n",
            "\n",
            "    accuracy                           0.60     65024\n",
            "   macro avg       0.60      0.60      0.60     65024\n",
            "weighted avg       0.60      0.60      0.60     65024\n",
            "\n"
          ],
          "name": "stdout"
        }
      ]
    },
    {
      "cell_type": "code",
      "metadata": {
        "id": "0ZILqfIPJ02d"
      },
      "source": [
        "#cm = pd.DataFrame(confusion_matrix(y_test, predictions_rf), columns=data.target_names, index=data.target_names)\n",
        "#sns.heatmap(cm, annot=True)"
      ],
      "execution_count": 53,
      "outputs": []
    },
    {
      "cell_type": "markdown",
      "metadata": {
        "id": "efroG06C5sDt"
      },
      "source": [
        "##K-NN"
      ]
    },
    {
      "cell_type": "markdown",
      "metadata": {
        "id": "Hu88M4R4cwFA"
      },
      "source": [
        "Foi testado o grid para chegar no melhor k para o KNN, mas optou-se em testar todos os valores de k de forma direta."
      ]
    },
    {
      "cell_type": "code",
      "metadata": {
        "colab": {
          "base_uri": "https://localhost:8080/"
        },
        "id": "KjkONVrf5sDy",
        "outputId": "62efcdb8-f5f2-402e-d055-2e3a653b2435"
      },
      "source": [
        "#Variar os parametros de tamanho do KNN\n",
        "param_grid_KNN = dict(n_neighbors=list(range(1, 100,2)))\n",
        "print(param_grid_KNN)"
      ],
      "execution_count": 54,
      "outputs": [
        {
          "output_type": "stream",
          "text": [
            "{'n_neighbors': [1, 3, 5, 7, 9, 11, 13, 15, 17, 19, 21, 23, 25, 27, 29, 31, 33, 35, 37, 39, 41, 43, 45, 47, 49, 51, 53, 55, 57, 59, 61, 63, 65, 67, 69, 71, 73, 75, 77, 79, 81, 83, 85, 87, 89, 91, 93, 95, 97, 99]}\n"
          ],
          "name": "stdout"
        }
      ]
    },
    {
      "cell_type": "code",
      "metadata": {
        "colab": {
          "base_uri": "https://localhost:8080/",
          "height": 91
        },
        "id": "AZecLrZz5sD2",
        "outputId": "f146818b-92e4-4c64-87b5-d458b3cdcf29"
      },
      "source": [
        "#Criando o objeto GridSearch e treinando o modelo com os melhores hiperparâmetros\n",
        "\n",
        "\"\"\"grid_KNN = GridSearchCV(KNeighborsClassifier(), param_grid_KNN, refit = True, verbose=3, cv=5)\n",
        "grid_KNN.fit(Xn_train, yn_train)\n",
        "\n",
        "print(\"-----------------------------------------------------------\")\n",
        "print(\"melhor estimador: \",grid_KNN.best_estimator_)\n",
        "print(\"melhores Parâmetros: \",grid_KNN.best_params_)\n",
        "print(\"Melhor score: \",grid_KNN.score(X_test, y_test))\n",
        "\n",
        "\"\"\""
      ],
      "execution_count": 55,
      "outputs": [
        {
          "output_type": "execute_result",
          "data": {
            "application/vnd.google.colaboratory.intrinsic+json": {
              "type": "string"
            },
            "text/plain": [
              "'grid_KNN = GridSearchCV(KNeighborsClassifier(), param_grid_KNN, refit = True, verbose=3, cv=5)\\ngrid_KNN.fit(Xn_train, yn_train)\\n\\nprint(\"-----------------------------------------------------------\")\\nprint(\"melhor estimador: \",grid_KNN.best_estimator_)\\nprint(\"melhores Parâmetros: \",grid_KNN.best_params_)\\nprint(\"Melhor score: \",grid_KNN.score(X_test, y_test))\\n\\n'"
            ]
          },
          "metadata": {
            "tags": []
          },
          "execution_count": 55
        }
      ]
    },
    {
      "cell_type": "code",
      "metadata": {
        "colab": {
          "base_uri": "https://localhost:8080/"
        },
        "id": "Fe6BX6uZ5sD4",
        "outputId": "f0e979ad-e217-4928-fc54-7b07bde7410a"
      },
      "source": [
        "\"\"\"\n",
        "#treinando o KNN com os melhores parâmetros\n",
        "KNN = KNeighborsClassifier(n_neighbors=95)\n",
        "KNN.fit(Xn_train, yn_train)\n",
        "\"\"\""
      ],
      "execution_count": 56,
      "outputs": [
        {
          "output_type": "execute_result",
          "data": {
            "text/plain": [
              "KNeighborsClassifier(algorithm='auto', leaf_size=30, metric='minkowski',\n",
              "                     metric_params=None, n_jobs=None, n_neighbors=95, p=2,\n",
              "                     weights='uniform')"
            ]
          },
          "metadata": {
            "tags": []
          },
          "execution_count": 56
        }
      ]
    },
    {
      "cell_type": "code",
      "metadata": {
        "colab": {
          "base_uri": "https://localhost:8080/"
        },
        "id": "xmH8JNtc5sD4",
        "outputId": "0cc48354-9338-4a21-a344-35d2e17e7b70"
      },
      "source": [
        "\"\"\"\n",
        "#Computar a acurácia do teste\n",
        "test_accuracy_KNN = KNN.score(Xn_test, yn_test)\n",
        "print(\"Acurácia do teste = %0.4f\" % (test_accuracy_KNN))\n",
        "\n",
        "predictions_KNN = KNN.predict(Xn_test)\n",
        "print(confusion_matrix(yn_test, predictions_KNN))\n",
        "print(classification_report(yn_test, predictions_KNN))\n",
        "\"\"\""
      ],
      "execution_count": 57,
      "outputs": [
        {
          "output_type": "stream",
          "text": [
            "Acurácia do teste = 0.6164\n",
            "[[17862 15674]\n",
            " [ 9266 22222]]\n",
            "              precision    recall  f1-score   support\n",
            "\n",
            "           0       0.66      0.53      0.59     33536\n",
            "           1       0.59      0.71      0.64     31488\n",
            "\n",
            "    accuracy                           0.62     65024\n",
            "   macro avg       0.62      0.62      0.61     65024\n",
            "weighted avg       0.62      0.62      0.61     65024\n",
            "\n"
          ],
          "name": "stdout"
        }
      ]
    },
    {
      "cell_type": "code",
      "metadata": {
        "id": "9kB2NTduPAvU"
      },
      "source": [
        "ListaKNN={}\n",
        "res_test = []\n",
        "test_accuracy = 0\n",
        "val_max = 200\n",
        "for i in range(1,val_max,2):\n",
        "  KNN_teste = KNeighborsClassifier(n_neighbors=i)\n",
        "  KNN_teste.fit(Xn_train, yn_train)\n",
        "  #Computar a acurácia do teste\n",
        "  test_accuracy = KNN_teste.score(Xn_test, yn_test)\n",
        "  res_test.append(test_accuracy) \n",
        "  #print('Com k = ',i, ', a Acurácia do teste = ' ,test_accuracy)\n",
        "  ListaKNN['KNN'+str(i)]=round(test_accuracy,3)"
      ],
      "execution_count": 58,
      "outputs": []
    },
    {
      "cell_type": "code",
      "metadata": {
        "id": "3IpbOQe2VN0q"
      },
      "source": [
        "neighbors = np.arange(1,val_max,2)"
      ],
      "execution_count": 59,
      "outputs": []
    },
    {
      "cell_type": "code",
      "metadata": {
        "id": "oIZXUa_xY-Qb"
      },
      "source": [
        "valoresKNN = []\n",
        "for item in ListaKNN.values():\n",
        "  valoresKNN.append(item)"
      ],
      "execution_count": 60,
      "outputs": []
    },
    {
      "cell_type": "code",
      "metadata": {
        "colab": {
          "base_uri": "https://localhost:8080/",
          "height": 295
        },
        "id": "oV7Kv1MGTpCf",
        "outputId": "3c6c148f-1ff5-4bd4-9cf7-15294f189160"
      },
      "source": [
        "#Generate plot\n",
        "plt.title('k-NN - Com dados normalizados')\n",
        "plt.plot(neighbors,valoresKNN, label='Acurácia do Teste')\n",
        "plt.xlabel('Número de vizinhos')\n",
        "plt.ylabel('Acurácia')\n",
        "plt.show()"
      ],
      "execution_count": 61,
      "outputs": [
        {
          "output_type": "display_data",
          "data": {
            "image/png": "[encoded data removed]",
            "text/plain": [
              "<Figure size 432x288 with 1 Axes>"
            ]
          },
          "metadata": {
            "tags": [],
            "needs_background": "light"
          }
        }
      ]
    },
    {
      "cell_type": "code",
      "metadata": {
        "colab": {
          "base_uri": "https://localhost:8080/",
          "height": 36
        },
        "id": "lOSA9S4hbUY8",
        "outputId": "8d8dadc2-9f65-4e2d-87b9-a6213cb5f08a"
      },
      "source": [
        "max(ListaKNN, key=ListaKNN.get)"
      ],
      "execution_count": 62,
      "outputs": [
        {
          "output_type": "execute_result",
          "data": {
            "application/vnd.google.colaboratory.intrinsic+json": {
              "type": "string"
            },
            "text/plain": [
              "'KNN197'"
            ]
          },
          "metadata": {
            "tags": []
          },
          "execution_count": 62
        }
      ]
    },
    {
      "cell_type": "code",
      "metadata": {
        "colab": {
          "base_uri": "https://localhost:8080/"
        },
        "id": "P08WRXc3c0gW",
        "outputId": "8cbcd5be-9187-4dd5-8d10-06a2fc9180c6"
      },
      "source": [
        "max(res_test)"
      ],
      "execution_count": 63,
      "outputs": [
        {
          "output_type": "execute_result",
          "data": {
            "text/plain": [
              "0.6205401082677166"
            ]
          },
          "metadata": {
            "tags": []
          },
          "execution_count": 63
        }
      ]
    },
    {
      "cell_type": "code",
      "metadata": {
        "colab": {
          "base_uri": "https://localhost:8080/"
        },
        "id": "hi04ZX3GcTmB",
        "outputId": "ddd804a7-6cd0-41ce-f1e1-a2d04d54f3ac"
      },
      "source": [
        "ListaKNN['KNN197']"
      ],
      "execution_count": 89,
      "outputs": [
        {
          "output_type": "execute_result",
          "data": {
            "text/plain": [
              "0.621"
            ]
          },
          "metadata": {
            "tags": []
          },
          "execution_count": 89
        }
      ]
    },
    {
      "cell_type": "code",
      "metadata": {
        "colab": {
          "base_uri": "https://localhost:8080/"
        },
        "id": "pdC_bT_wH0nN",
        "outputId": "eef22bc1-5d5e-41fd-e348-6acbc71cd60e"
      },
      "source": [
        "#treinando o KNN com o k de maior acurárica\n",
        "KNN = KNeighborsClassifier(n_neighbors=197)\n",
        "KNN.fit(Xn_train, yn_train)"
      ],
      "execution_count": 90,
      "outputs": [
        {
          "output_type": "execute_result",
          "data": {
            "text/plain": [
              "KNeighborsClassifier(algorithm='auto', leaf_size=30, metric='minkowski',\n",
              "                     metric_params=None, n_jobs=None, n_neighbors=197, p=2,\n",
              "                     weights='uniform')"
            ]
          },
          "metadata": {
            "tags": []
          },
          "execution_count": 90
        }
      ]
    },
    {
      "cell_type": "code",
      "metadata": {
        "colab": {
          "base_uri": "https://localhost:8080/"
        },
        "id": "AaqQpVd4H0nR",
        "outputId": "43df0997-bd78-44e3-d1ab-29239b2595b4"
      },
      "source": [
        "#Computar a acurácia do teste\n",
        "test_accuracy_KNN = KNN.score(Xn_test, yn_test)\n",
        "print(\"Acurácia do teste = %0.4f\" % (test_accuracy_KNN))\n",
        "\n",
        "predictions_KNN = KNN.predict(Xn_test)\n",
        "print(confusion_matrix(yn_test, predictions_KNN))\n",
        "print(classification_report(yn_test, predictions_KNN))"
      ],
      "execution_count": 91,
      "outputs": [
        {
          "output_type": "stream",
          "text": [
            "Acurácia do teste = 0.6205\n",
            "[[17289 16247]\n",
            " [ 8427 23061]]\n",
            "              precision    recall  f1-score   support\n",
            "\n",
            "           0       0.67      0.52      0.58     33536\n",
            "           1       0.59      0.73      0.65     31488\n",
            "\n",
            "    accuracy                           0.62     65024\n",
            "   macro avg       0.63      0.62      0.62     65024\n",
            "weighted avg       0.63      0.62      0.62     65024\n",
            "\n"
          ],
          "name": "stdout"
        }
      ]
    },
    {
      "cell_type": "markdown",
      "metadata": {
        "id": "96eVRAEwV4YL"
      },
      "source": [
        "##NB"
      ]
    },
    {
      "cell_type": "code",
      "metadata": {
        "id": "i_BsBIKtAVdX"
      },
      "source": [
        "#Fazendo um dicionário chamado param_grid contendo os hiperparâmetros que serão variados\n",
        "parameters_NB = {\n",
        "    'var_smoothing': [1e-2, 1e-3, 1e-4, 1e-5, 1e-6, 1e-7, 1e-8, 1e-9, 1e-10, 1e-11, 1e-12, 1e-13, 1e-14, 1e-15]\n",
        "}"
      ],
      "execution_count": 67,
      "outputs": []
    },
    {
      "cell_type": "code",
      "metadata": {
        "colab": {
          "base_uri": "https://localhost:8080/"
        },
        "id": "B_ORTSJZAbFS",
        "outputId": "edd79427-9967-486d-e52a-62509c29099a"
      },
      "source": [
        "#Criando o objeto GridSearch e treinando o modelo com os melhores hiperparâmetros\n",
        "grid_NB = GridSearchCV(GaussianNB(), parameters_NB, refit = True, verbose=3, cv=10)\n",
        "grid_NB.fit(X_train, y_train)\n"
      ],
      "execution_count": 68,
      "outputs": [
        {
          "output_type": "stream",
          "text": [
            "Fitting 10 folds for each of 14 candidates, totalling 140 fits\n",
            "[CV] var_smoothing=0.01 ..............................................\n",
            "[CV] .................. var_smoothing=0.01, score=0.569, total=   0.0s\n",
            "[CV] var_smoothing=0.01 ..............................................\n",
            "[CV] .................. var_smoothing=0.01, score=0.572, total=   0.0s\n",
            "[CV] var_smoothing=0.01 ..............................................\n",
            "[CV] .................. var_smoothing=0.01, score=0.572, total=   0.0s\n",
            "[CV] var_smoothing=0.01 ..............................................\n"
          ],
          "name": "stdout"
        },
        {
          "output_type": "stream",
          "text": [
            "[Parallel(n_jobs=1)]: Using backend SequentialBackend with 1 concurrent workers.\n",
            "[Parallel(n_jobs=1)]: Done   1 out of   1 | elapsed:    0.0s remaining:    0.0s\n",
            "[Parallel(n_jobs=1)]: Done   2 out of   2 | elapsed:    0.1s remaining:    0.0s\n"
          ],
          "name": "stderr"
        },
        {
          "output_type": "stream",
          "text": [
            "[CV] .................. var_smoothing=0.01, score=0.579, total=   0.0s\n",
            "[CV] var_smoothing=0.01 ..............................................\n",
            "[CV] .................. var_smoothing=0.01, score=0.567, total=   0.0s\n",
            "[CV] var_smoothing=0.01 ..............................................\n",
            "[CV] .................. var_smoothing=0.01, score=0.571, total=   0.0s\n",
            "[CV] var_smoothing=0.01 ..............................................\n",
            "[CV] .................. var_smoothing=0.01, score=0.575, total=   0.0s\n",
            "[CV] var_smoothing=0.01 ..............................................\n",
            "[CV] .................. var_smoothing=0.01, score=0.572, total=   0.0s\n",
            "[CV] var_smoothing=0.01 ..............................................\n",
            "[CV] .................. var_smoothing=0.01, score=0.576, total=   0.0s\n",
            "[CV] var_smoothing=0.01 ..............................................\n",
            "[CV] .................. var_smoothing=0.01, score=0.570, total=   0.0s\n",
            "[CV] var_smoothing=0.001 .............................................\n",
            "[CV] ................. var_smoothing=0.001, score=0.569, total=   0.0s\n",
            "[CV] var_smoothing=0.001 .............................................\n",
            "[CV] ................. var_smoothing=0.001, score=0.572, total=   0.0s\n",
            "[CV] var_smoothing=0.001 .............................................\n",
            "[CV] ................. var_smoothing=0.001, score=0.573, total=   0.0s\n",
            "[CV] var_smoothing=0.001 .............................................\n",
            "[CV] ................. var_smoothing=0.001, score=0.579, total=   0.0s\n",
            "[CV] var_smoothing=0.001 .............................................\n",
            "[CV] ................. var_smoothing=0.001, score=0.568, total=   0.0s\n",
            "[CV] var_smoothing=0.001 .............................................\n",
            "[CV] ................. var_smoothing=0.001, score=0.572, total=   0.0s\n",
            "[CV] var_smoothing=0.001 .............................................\n",
            "[CV] ................. var_smoothing=0.001, score=0.576, total=   0.0s\n",
            "[CV] var_smoothing=0.001 .............................................\n",
            "[CV] ................. var_smoothing=0.001, score=0.571, total=   0.0s\n",
            "[CV] var_smoothing=0.001 .............................................\n",
            "[CV] ................. var_smoothing=0.001, score=0.576, total=   0.0s\n",
            "[CV] var_smoothing=0.001 .............................................\n",
            "[CV] ................. var_smoothing=0.001, score=0.570, total=   0.0s\n",
            "[CV] var_smoothing=0.0001 ............................................\n",
            "[CV] ................ var_smoothing=0.0001, score=0.569, total=   0.0s\n",
            "[CV] var_smoothing=0.0001 ............................................\n",
            "[CV] ................ var_smoothing=0.0001, score=0.572, total=   0.0s\n",
            "[CV] var_smoothing=0.0001 ............................................\n",
            "[CV] ................ var_smoothing=0.0001, score=0.573, total=   0.0s\n",
            "[CV] var_smoothing=0.0001 ............................................\n",
            "[CV] ................ var_smoothing=0.0001, score=0.579, total=   0.0s\n",
            "[CV] var_smoothing=0.0001 ............................................\n",
            "[CV] ................ var_smoothing=0.0001, score=0.568, total=   0.0s\n",
            "[CV] var_smoothing=0.0001 ............................................\n",
            "[CV] ................ var_smoothing=0.0001, score=0.571, total=   0.0s\n",
            "[CV] var_smoothing=0.0001 ............................................\n",
            "[CV] ................ var_smoothing=0.0001, score=0.576, total=   0.0s\n",
            "[CV] var_smoothing=0.0001 ............................................\n",
            "[CV] ................ var_smoothing=0.0001, score=0.571, total=   0.0s\n",
            "[CV] var_smoothing=0.0001 ............................................\n",
            "[CV] ................ var_smoothing=0.0001, score=0.576, total=   0.0s\n",
            "[CV] var_smoothing=0.0001 ............................................\n",
            "[CV] ................ var_smoothing=0.0001, score=0.570, total=   0.0s\n",
            "[CV] var_smoothing=1e-05 .............................................\n",
            "[CV] ................. var_smoothing=1e-05, score=0.569, total=   0.0s\n",
            "[CV] var_smoothing=1e-05 .............................................\n",
            "[CV] ................. var_smoothing=1e-05, score=0.572, total=   0.0s\n",
            "[CV] var_smoothing=1e-05 .............................................\n",
            "[CV] ................. var_smoothing=1e-05, score=0.572, total=   0.0s\n",
            "[CV] var_smoothing=1e-05 .............................................\n",
            "[CV] ................. var_smoothing=1e-05, score=0.579, total=   0.0s\n",
            "[CV] var_smoothing=1e-05 .............................................\n",
            "[CV] ................. var_smoothing=1e-05, score=0.568, total=   0.0s\n",
            "[CV] var_smoothing=1e-05 .............................................\n",
            "[CV] ................. var_smoothing=1e-05, score=0.571, total=   0.0s\n",
            "[CV] var_smoothing=1e-05 .............................................\n",
            "[CV] ................. var_smoothing=1e-05, score=0.576, total=   0.0s\n",
            "[CV] var_smoothing=1e-05 .............................................\n",
            "[CV] ................. var_smoothing=1e-05, score=0.571, total=   0.0s\n",
            "[CV] var_smoothing=1e-05 .............................................\n",
            "[CV] ................. var_smoothing=1e-05, score=0.576, total=   0.0s\n",
            "[CV] var_smoothing=1e-05 .............................................\n",
            "[CV] ................. var_smoothing=1e-05, score=0.570, total=   0.0s\n",
            "[CV] var_smoothing=1e-06 .............................................\n",
            "[CV] ................. var_smoothing=1e-06, score=0.569, total=   0.0s\n",
            "[CV] var_smoothing=1e-06 .............................................\n",
            "[CV] ................. var_smoothing=1e-06, score=0.572, total=   0.0s\n",
            "[CV] var_smoothing=1e-06 .............................................\n",
            "[CV] ................. var_smoothing=1e-06, score=0.572, total=   0.0s\n",
            "[CV] var_smoothing=1e-06 .............................................\n",
            "[CV] ................. var_smoothing=1e-06, score=0.579, total=   0.0s\n",
            "[CV] var_smoothing=1e-06 .............................................\n",
            "[CV] ................. var_smoothing=1e-06, score=0.568, total=   0.0s\n",
            "[CV] var_smoothing=1e-06 .............................................\n",
            "[CV] ................. var_smoothing=1e-06, score=0.571, total=   0.0s\n",
            "[CV] var_smoothing=1e-06 .............................................\n",
            "[CV] ................. var_smoothing=1e-06, score=0.576, total=   0.0s\n",
            "[CV] var_smoothing=1e-06 .............................................\n",
            "[CV] ................. var_smoothing=1e-06, score=0.571, total=   0.0s\n",
            "[CV] var_smoothing=1e-06 .............................................\n",
            "[CV] ................. var_smoothing=1e-06, score=0.576, total=   0.0s\n",
            "[CV] var_smoothing=1e-06 .............................................\n",
            "[CV] ................. var_smoothing=1e-06, score=0.570, total=   0.0s\n",
            "[CV] var_smoothing=1e-07 .............................................\n",
            "[CV] ................. var_smoothing=1e-07, score=0.569, total=   0.0s\n",
            "[CV] var_smoothing=1e-07 .............................................\n",
            "[CV] ................. var_smoothing=1e-07, score=0.572, total=   0.0s\n",
            "[CV] var_smoothing=1e-07 .............................................\n",
            "[CV] ................. var_smoothing=1e-07, score=0.572, total=   0.0s\n",
            "[CV] var_smoothing=1e-07 .............................................\n",
            "[CV] ................. var_smoothing=1e-07, score=0.579, total=   0.0s\n",
            "[CV] var_smoothing=1e-07 .............................................\n",
            "[CV] ................. var_smoothing=1e-07, score=0.568, total=   0.0s\n",
            "[CV] var_smoothing=1e-07 .............................................\n",
            "[CV] ................. var_smoothing=1e-07, score=0.571, total=   0.0s\n",
            "[CV] var_smoothing=1e-07 .............................................\n",
            "[CV] ................. var_smoothing=1e-07, score=0.576, total=   0.0s\n",
            "[CV] var_smoothing=1e-07 .............................................\n",
            "[CV] ................. var_smoothing=1e-07, score=0.571, total=   0.0s\n",
            "[CV] var_smoothing=1e-07 .............................................\n",
            "[CV] ................. var_smoothing=1e-07, score=0.576, total=   0.0s\n",
            "[CV] var_smoothing=1e-07 .............................................\n",
            "[CV] ................. var_smoothing=1e-07, score=0.570, total=   0.0s\n",
            "[CV] var_smoothing=1e-08 .............................................\n",
            "[CV] ................. var_smoothing=1e-08, score=0.569, total=   0.0s\n",
            "[CV] var_smoothing=1e-08 .............................................\n",
            "[CV] ................. var_smoothing=1e-08, score=0.572, total=   0.0s\n",
            "[CV] var_smoothing=1e-08 .............................................\n",
            "[CV] ................. var_smoothing=1e-08, score=0.572, total=   0.0s\n",
            "[CV] var_smoothing=1e-08 .............................................\n",
            "[CV] ................. var_smoothing=1e-08, score=0.579, total=   0.0s\n",
            "[CV] var_smoothing=1e-08 .............................................\n",
            "[CV] ................. var_smoothing=1e-08, score=0.568, total=   0.0s\n",
            "[CV] var_smoothing=1e-08 .............................................\n",
            "[CV] ................. var_smoothing=1e-08, score=0.571, total=   0.0s\n",
            "[CV] var_smoothing=1e-08 .............................................\n",
            "[CV] ................. var_smoothing=1e-08, score=0.576, total=   0.0s\n",
            "[CV] var_smoothing=1e-08 .............................................\n",
            "[CV] ................. var_smoothing=1e-08, score=0.571, total=   0.0s\n",
            "[CV] var_smoothing=1e-08 .............................................\n",
            "[CV] ................. var_smoothing=1e-08, score=0.576, total=   0.0s\n",
            "[CV] var_smoothing=1e-08 .............................................\n",
            "[CV] ................. var_smoothing=1e-08, score=0.570, total=   0.0s\n",
            "[CV] var_smoothing=1e-09 .............................................\n",
            "[CV] ................. var_smoothing=1e-09, score=0.569, total=   0.0s\n",
            "[CV] var_smoothing=1e-09 .............................................\n",
            "[CV] ................. var_smoothing=1e-09, score=0.572, total=   0.0s\n",
            "[CV] var_smoothing=1e-09 .............................................\n",
            "[CV] ................. var_smoothing=1e-09, score=0.572, total=   0.0s\n",
            "[CV] var_smoothing=1e-09 .............................................\n",
            "[CV] ................. var_smoothing=1e-09, score=0.579, total=   0.0s\n",
            "[CV] var_smoothing=1e-09 .............................................\n",
            "[CV] ................. var_smoothing=1e-09, score=0.568, total=   0.0s\n",
            "[CV] var_smoothing=1e-09 .............................................\n",
            "[CV] ................. var_smoothing=1e-09, score=0.571, total=   0.0s\n",
            "[CV] var_smoothing=1e-09 .............................................\n",
            "[CV] ................. var_smoothing=1e-09, score=0.576, total=   0.0s\n",
            "[CV] var_smoothing=1e-09 .............................................\n",
            "[CV] ................. var_smoothing=1e-09, score=0.571, total=   0.0s\n",
            "[CV] var_smoothing=1e-09 .............................................\n",
            "[CV] ................. var_smoothing=1e-09, score=0.576, total=   0.0s\n",
            "[CV] var_smoothing=1e-09 .............................................\n",
            "[CV] ................. var_smoothing=1e-09, score=0.570, total=   0.0s\n",
            "[CV] var_smoothing=1e-10 .............................................\n",
            "[CV] ................. var_smoothing=1e-10, score=0.569, total=   0.0s\n",
            "[CV] var_smoothing=1e-10 .............................................\n",
            "[CV] ................. var_smoothing=1e-10, score=0.572, total=   0.0s\n",
            "[CV] var_smoothing=1e-10 .............................................\n",
            "[CV] ................. var_smoothing=1e-10, score=0.572, total=   0.0s\n",
            "[CV] var_smoothing=1e-10 .............................................\n",
            "[CV] ................. var_smoothing=1e-10, score=0.579, total=   0.0s\n",
            "[CV] var_smoothing=1e-10 .............................................\n",
            "[CV] ................. var_smoothing=1e-10, score=0.568, total=   0.0s\n",
            "[CV] var_smoothing=1e-10 .............................................\n",
            "[CV] ................. var_smoothing=1e-10, score=0.571, total=   0.0s\n",
            "[CV] var_smoothing=1e-10 .............................................\n",
            "[CV] ................. var_smoothing=1e-10, score=0.576, total=   0.0s\n",
            "[CV] var_smoothing=1e-10 .............................................\n",
            "[CV] ................. var_smoothing=1e-10, score=0.571, total=   0.0s\n",
            "[CV] var_smoothing=1e-10 .............................................\n",
            "[CV] ................. var_smoothing=1e-10, score=0.576, total=   0.0s\n",
            "[CV] var_smoothing=1e-10 .............................................\n",
            "[CV] ................. var_smoothing=1e-10, score=0.570, total=   0.0s\n",
            "[CV] var_smoothing=1e-11 .............................................\n",
            "[CV] ................. var_smoothing=1e-11, score=0.569, total=   0.0s\n",
            "[CV] var_smoothing=1e-11 .............................................\n",
            "[CV] ................. var_smoothing=1e-11, score=0.572, total=   0.0s\n",
            "[CV] var_smoothing=1e-11 .............................................\n",
            "[CV] ................. var_smoothing=1e-11, score=0.572, total=   0.0s\n",
            "[CV] var_smoothing=1e-11 .............................................\n",
            "[CV] ................. var_smoothing=1e-11, score=0.579, total=   0.0s\n",
            "[CV] var_smoothing=1e-11 .............................................\n",
            "[CV] ................. var_smoothing=1e-11, score=0.568, total=   0.0s\n",
            "[CV] var_smoothing=1e-11 .............................................\n",
            "[CV] ................. var_smoothing=1e-11, score=0.571, total=   0.0s\n",
            "[CV] var_smoothing=1e-11 .............................................\n",
            "[CV] ................. var_smoothing=1e-11, score=0.576, total=   0.0s\n",
            "[CV] var_smoothing=1e-11 .............................................\n",
            "[CV] ................. var_smoothing=1e-11, score=0.571, total=   0.0s\n",
            "[CV] var_smoothing=1e-11 .............................................\n",
            "[CV] ................. var_smoothing=1e-11, score=0.576, total=   0.0s\n",
            "[CV] var_smoothing=1e-11 .............................................\n",
            "[CV] ................. var_smoothing=1e-11, score=0.570, total=   0.0s\n",
            "[CV] var_smoothing=1e-12 .............................................\n",
            "[CV] ................. var_smoothing=1e-12, score=0.569, total=   0.0s\n",
            "[CV] var_smoothing=1e-12 .............................................\n",
            "[CV] ................. var_smoothing=1e-12, score=0.572, total=   0.0s\n",
            "[CV] var_smoothing=1e-12 .............................................\n",
            "[CV] ................. var_smoothing=1e-12, score=0.572, total=   0.0s\n",
            "[CV] var_smoothing=1e-12 .............................................\n",
            "[CV] ................. var_smoothing=1e-12, score=0.579, total=   0.0s\n",
            "[CV] var_smoothing=1e-12 .............................................\n",
            "[CV] ................. var_smoothing=1e-12, score=0.568, total=   0.0s\n",
            "[CV] var_smoothing=1e-12 .............................................\n",
            "[CV] ................. var_smoothing=1e-12, score=0.571, total=   0.0s\n",
            "[CV] var_smoothing=1e-12 .............................................\n",
            "[CV] ................. var_smoothing=1e-12, score=0.576, total=   0.0s\n",
            "[CV] var_smoothing=1e-12 .............................................\n",
            "[CV] ................. var_smoothing=1e-12, score=0.571, total=   0.0s\n",
            "[CV] var_smoothing=1e-12 .............................................\n",
            "[CV] ................. var_smoothing=1e-12, score=0.576, total=   0.0s\n",
            "[CV] var_smoothing=1e-12 .............................................\n",
            "[CV] ................. var_smoothing=1e-12, score=0.570, total=   0.0s\n",
            "[CV] var_smoothing=1e-13 .............................................\n",
            "[CV] ................. var_smoothing=1e-13, score=0.569, total=   0.0s\n",
            "[CV] var_smoothing=1e-13 .............................................\n",
            "[CV] ................. var_smoothing=1e-13, score=0.572, total=   0.0s\n",
            "[CV] var_smoothing=1e-13 .............................................\n",
            "[CV] ................. var_smoothing=1e-13, score=0.572, total=   0.0s\n",
            "[CV] var_smoothing=1e-13 .............................................\n",
            "[CV] ................. var_smoothing=1e-13, score=0.579, total=   0.0s\n",
            "[CV] var_smoothing=1e-13 .............................................\n",
            "[CV] ................. var_smoothing=1e-13, score=0.568, total=   0.0s\n",
            "[CV] var_smoothing=1e-13 .............................................\n",
            "[CV] ................. var_smoothing=1e-13, score=0.571, total=   0.0s\n",
            "[CV] var_smoothing=1e-13 .............................................\n",
            "[CV] ................. var_smoothing=1e-13, score=0.576, total=   0.0s\n",
            "[CV] var_smoothing=1e-13 .............................................\n",
            "[CV] ................. var_smoothing=1e-13, score=0.571, total=   0.0s\n",
            "[CV] var_smoothing=1e-13 .............................................\n",
            "[CV] ................. var_smoothing=1e-13, score=0.576, total=   0.0s\n",
            "[CV] var_smoothing=1e-13 .............................................\n",
            "[CV] ................. var_smoothing=1e-13, score=0.570, total=   0.0s\n",
            "[CV] var_smoothing=1e-14 .............................................\n",
            "[CV] ................. var_smoothing=1e-14, score=0.569, total=   0.0s\n",
            "[CV] var_smoothing=1e-14 .............................................\n",
            "[CV] ................. var_smoothing=1e-14, score=0.572, total=   0.0s\n",
            "[CV] var_smoothing=1e-14 .............................................\n",
            "[CV] ................. var_smoothing=1e-14, score=0.572, total=   0.0s\n",
            "[CV] var_smoothing=1e-14 .............................................\n",
            "[CV] ................. var_smoothing=1e-14, score=0.579, total=   0.0s\n",
            "[CV] var_smoothing=1e-14 .............................................\n",
            "[CV] ................. var_smoothing=1e-14, score=0.568, total=   0.0s\n",
            "[CV] var_smoothing=1e-14 .............................................\n",
            "[CV] ................. var_smoothing=1e-14, score=0.571, total=   0.0s\n",
            "[CV] var_smoothing=1e-14 .............................................\n",
            "[CV] ................. var_smoothing=1e-14, score=0.576, total=   0.0s\n",
            "[CV] var_smoothing=1e-14 .............................................\n",
            "[CV] ................. var_smoothing=1e-14, score=0.571, total=   0.0s\n",
            "[CV] var_smoothing=1e-14 .............................................\n",
            "[CV] ................. var_smoothing=1e-14, score=0.576, total=   0.0s\n",
            "[CV] var_smoothing=1e-14 .............................................\n",
            "[CV] ................. var_smoothing=1e-14, score=0.570, total=   0.0s\n",
            "[CV] var_smoothing=1e-15 .............................................\n",
            "[CV] ................. var_smoothing=1e-15, score=0.569, total=   0.0s\n",
            "[CV] var_smoothing=1e-15 .............................................\n",
            "[CV] ................. var_smoothing=1e-15, score=0.572, total=   0.0s\n",
            "[CV] var_smoothing=1e-15 .............................................\n",
            "[CV] ................. var_smoothing=1e-15, score=0.572, total=   0.0s\n",
            "[CV] var_smoothing=1e-15 .............................................\n",
            "[CV] ................. var_smoothing=1e-15, score=0.579, total=   0.0s\n",
            "[CV] var_smoothing=1e-15 .............................................\n",
            "[CV] ................. var_smoothing=1e-15, score=0.568, total=   0.0s\n",
            "[CV] var_smoothing=1e-15 .............................................\n",
            "[CV] ................. var_smoothing=1e-15, score=0.571, total=   0.0s\n",
            "[CV] var_smoothing=1e-15 .............................................\n",
            "[CV] ................. var_smoothing=1e-15, score=0.576, total=   0.0s\n",
            "[CV] var_smoothing=1e-15 .............................................\n",
            "[CV] ................. var_smoothing=1e-15, score=0.571, total=   0.0s\n",
            "[CV] var_smoothing=1e-15 .............................................\n",
            "[CV] ................. var_smoothing=1e-15, score=0.576, total=   0.0s\n",
            "[CV] var_smoothing=1e-15 .............................................\n",
            "[CV] ................. var_smoothing=1e-15, score=0.570, total=   0.0s\n"
          ],
          "name": "stdout"
        },
        {
          "output_type": "stream",
          "text": [
            "[Parallel(n_jobs=1)]: Done 140 out of 140 | elapsed:    5.7s finished\n"
          ],
          "name": "stderr"
        },
        {
          "output_type": "execute_result",
          "data": {
            "text/plain": [
              "GridSearchCV(cv=10, error_score=nan,\n",
              "             estimator=GaussianNB(priors=None, var_smoothing=1e-09),\n",
              "             iid='deprecated', n_jobs=None,\n",
              "             param_grid={'var_smoothing': [0.01, 0.001, 0.0001, 1e-05, 1e-06,\n",
              "                                           1e-07, 1e-08, 1e-09, 1e-10, 1e-11,\n",
              "                                           1e-12, 1e-13, 1e-14, 1e-15]},\n",
              "             pre_dispatch='2*n_jobs', refit=True, return_train_score=False,\n",
              "             scoring=None, verbose=3)"
            ]
          },
          "metadata": {
            "tags": []
          },
          "execution_count": 68
        }
      ]
    },
    {
      "cell_type": "code",
      "metadata": {
        "colab": {
          "base_uri": "https://localhost:8080/"
        },
        "id": "4q53N85RvIU_",
        "outputId": "d845e3c1-b277-47b4-c112-84b675f9f048"
      },
      "source": [
        "print(\"-----------------------------------------------------------\")\n",
        "print(\"melhor estimador: \",grid_NB.best_estimator_)\n",
        "print(\"melhores Parâmetros: \",grid_NB.best_params_)\n",
        "print(\"Melhor score: \",grid_NB.score(X_test, y_test))"
      ],
      "execution_count": 69,
      "outputs": [
        {
          "output_type": "stream",
          "text": [
            "-----------------------------------------------------------\n",
            "melhor estimador:  GaussianNB(priors=None, var_smoothing=0.001)\n",
            "melhores Parâmetros:  {'var_smoothing': 0.001}\n",
            "Melhor score:  0.576417937992126\n"
          ],
          "name": "stdout"
        }
      ]
    },
    {
      "cell_type": "code",
      "metadata": {
        "colab": {
          "base_uri": "https://localhost:8080/"
        },
        "id": "pn7j4A-xDszm",
        "outputId": "67bd121a-25ef-4577-bc8d-f9a9e3781799"
      },
      "source": [
        "# treinando com os melhores parâmetros\n",
        "NB = GaussianNB(var_smoothing = 0.001)\n",
        "NB.fit(X_train, y_train)"
      ],
      "execution_count": 92,
      "outputs": [
        {
          "output_type": "execute_result",
          "data": {
            "text/plain": [
              "GaussianNB(priors=None, var_smoothing=0.001)"
            ]
          },
          "metadata": {
            "tags": []
          },
          "execution_count": 92
        }
      ]
    },
    {
      "cell_type": "code",
      "metadata": {
        "colab": {
          "base_uri": "https://localhost:8080/"
        },
        "id": "I3pB-M-zD-7L",
        "outputId": "dfdf5516-1c77-41d5-9786-b12e3e884ddf"
      },
      "source": [
        "#Computar a acurácia do teste\n",
        "test_accuracy_NB = NB.score(X_test, y_test)\n",
        "print(\"Acurácia do teste = %0.4f\" % (test_accuracy_NB))\n",
        "\n",
        "predictions_NB = NB.predict(X_test)\n",
        "print(confusion_matrix(y_test, predictions_NB))\n",
        "print(classification_report(y_test, predictions_NB))"
      ],
      "execution_count": 93,
      "outputs": [
        {
          "output_type": "stream",
          "text": [
            "Acurácia do teste = 0.5764\n",
            "[[13364 20172]\n",
            " [ 7371 24117]]\n",
            "              precision    recall  f1-score   support\n",
            "\n",
            "           0       0.64      0.40      0.49     33536\n",
            "           1       0.54      0.77      0.64     31488\n",
            "\n",
            "    accuracy                           0.58     65024\n",
            "   macro avg       0.59      0.58      0.56     65024\n",
            "weighted avg       0.60      0.58      0.56     65024\n",
            "\n"
          ],
          "name": "stdout"
        }
      ]
    },
    {
      "cell_type": "markdown",
      "metadata": {
        "id": "vA0qlBYbFJ_k"
      },
      "source": [
        "##SVM"
      ]
    },
    {
      "cell_type": "markdown",
      "metadata": {
        "id": "pK5ZwK_7PU4f"
      },
      "source": [
        "SVM levando muito tempo.  Não será levado em consideração?"
      ]
    },
    {
      "cell_type": "code",
      "metadata": {
        "id": "VZchrESkFRaX"
      },
      "source": [
        "#Fazendo um dicionário chamado param_grid contendo os parâmetros que serão variados C e Gamma\n",
        "param_SVM = {'C':[0.1,1,10,100], 'gamma':[1,0.1,0.01,0.001],'kernel':['rbf', 'poly'],'degree':[2, 3, 4, 5]}"
      ],
      "execution_count": 72,
      "outputs": []
    },
    {
      "cell_type": "code",
      "metadata": {
        "colab": {
          "base_uri": "https://localhost:8080/",
          "height": 54
        },
        "id": "e44NwZu5FJ_o",
        "outputId": "bfefc7fb-a831-481d-c00e-7e1dda7d2ced"
      },
      "source": [
        "#Criando o objeto GridSearch e treinando o modelo com os melhores hiperparâmetros\n",
        "\n",
        "\"\"\"grid_SVM = GridSearchCV(SVC(), param_SVM, refit = True, verbose=3, cv=5)\n",
        "grid_SVM.fit(Xn_train, yn_train)\"\"\""
      ],
      "execution_count": 73,
      "outputs": [
        {
          "output_type": "execute_result",
          "data": {
            "application/vnd.google.colaboratory.intrinsic+json": {
              "type": "string"
            },
            "text/plain": [
              "'grid_SVM = GridSearchCV(SVC(), param_SVM, refit = True, verbose=3, cv=5)\\ngrid_SVM.fit(Xn_train, yn_train)'"
            ]
          },
          "metadata": {
            "tags": []
          },
          "execution_count": 73
        }
      ]
    },
    {
      "cell_type": "code",
      "metadata": {
        "colab": {
          "base_uri": "https://localhost:8080/",
          "height": 54
        },
        "id": "KIWhQZOwFJ_s",
        "outputId": "2ab67214-a893-4414-f732-b30609934f33"
      },
      "source": [
        "\"\"\"print(grid_SVM.best_estimator_)\n",
        "\n",
        "print(grid_SVM.best_params_)\n",
        "\n",
        "print(grid_SVM.score(Xn_test, yn_test))\n",
        "\"\"\""
      ],
      "execution_count": 74,
      "outputs": [
        {
          "output_type": "execute_result",
          "data": {
            "application/vnd.google.colaboratory.intrinsic+json": {
              "type": "string"
            },
            "text/plain": [
              "'print(grid_SVM.best_estimator_)\\n\\nprint(grid_SVM.best_params_)\\n\\nprint(grid_SVM.score(Xn_test, yn_test))\\n'"
            ]
          },
          "metadata": {
            "tags": []
          },
          "execution_count": 74
        }
      ]
    },
    {
      "cell_type": "code",
      "metadata": {
        "colab": {
          "base_uri": "https://localhost:8080/",
          "height": 36
        },
        "id": "Str9UcPYFJ_t",
        "outputId": "382e3dfa-8d48-464a-ffe8-5173e906c176"
      },
      "source": [
        "\"\"\"# treinando com os melhores parâmetros\n",
        "SVM = SVC(kernel='poly')\n",
        "SVM.fit(Xn_train, yn_train)\"\"\""
      ],
      "execution_count": 75,
      "outputs": [
        {
          "output_type": "execute_result",
          "data": {
            "application/vnd.google.colaboratory.intrinsic+json": {
              "type": "string"
            },
            "text/plain": [
              "\"# treinando com os melhores parâmetros\\nSVM = SVC(kernel='poly')\\nSVM.fit(Xn_train, yn_train)\""
            ]
          },
          "metadata": {
            "tags": []
          },
          "execution_count": 75
        }
      ]
    },
    {
      "cell_type": "code",
      "metadata": {
        "colab": {
          "base_uri": "https://localhost:8080/",
          "height": 72
        },
        "id": "gEciLF8eFJ_u",
        "outputId": "c24b5ad1-7f26-4bdf-bf81-20f2831a48cc"
      },
      "source": [
        "\"\"\"#Computar a acurácia do teste\n",
        "test_accuracy_SVM = SVM.score(Xn_test, yn_test)\n",
        "print(\"Acurácia do teste = %0.4f\" % (test_accuracy_SVM))\n",
        "\n",
        "predictions_SVM = SVM.predict(X_test)\n",
        "print(confusion_matrix(yn_test, predictions_SVM))\n",
        "print(classification_report(yn_test, predictions_SVM))\"\"\""
      ],
      "execution_count": 76,
      "outputs": [
        {
          "output_type": "execute_result",
          "data": {
            "application/vnd.google.colaboratory.intrinsic+json": {
              "type": "string"
            },
            "text/plain": [
              "'#Computar a acurácia do teste\\ntest_accuracy_SVM = SVM.score(Xn_test, yn_test)\\nprint(\"Acurácia do teste = %0.4f\" % (test_accuracy_SVM))\\n\\npredictions_SVM = SVM.predict(X_test)\\nprint(confusion_matrix(yn_test, predictions_SVM))\\nprint(classification_report(yn_test, predictions_SVM))'"
            ]
          },
          "metadata": {
            "tags": []
          },
          "execution_count": 76
        }
      ]
    },
    {
      "cell_type": "code",
      "metadata": {
        "id": "iZ7tsSXebM1q"
      },
      "source": [
        ""
      ],
      "execution_count": 76,
      "outputs": []
    },
    {
      "cell_type": "markdown",
      "metadata": {
        "id": "hqiBOGqwbNcX"
      },
      "source": [
        "##MLP"
      ]
    },
    {
      "cell_type": "markdown",
      "metadata": {
        "id": "j0I50SUjPxVX"
      },
      "source": [
        "Grid levando muito tempo.  Hiperparâmetros não serão variados"
      ]
    },
    {
      "cell_type": "code",
      "metadata": {
        "id": "i0PA3Mt8bs0-"
      },
      "source": [
        "# Criando objeto e treinando o modelo\n",
        "MLP = MLPClassifier(max_iter=10000)\n"
      ],
      "execution_count": 77,
      "outputs": []
    },
    {
      "cell_type": "code",
      "metadata": {
        "id": "nMB9LDcsbNcb"
      },
      "source": [
        "#Além dos parâmetros de neurônios das camadas intermediárias, busquei variar outros para avaliar os resultados.\n",
        "parameter_space2 = {\n",
        "    'hidden_layer_sizes': [(50,50,50), (50,100,50), (100,)],\n",
        "    'activation': ['tanh', 'relu'],\n",
        "    'solver': ['sgd', 'adam'],\n",
        "    'alpha': [0.0001, 0.05],\n",
        "    'learning_rate': ['constant','adaptive'],\n",
        "}"
      ],
      "execution_count": 78,
      "outputs": []
    },
    {
      "cell_type": "code",
      "metadata": {
        "id": "Aihr9KGN8atU"
      },
      "source": [
        "parameter_space = {\n",
        "    'hidden_layer_sizes': [(50,50,50), (50,100,50), (100,)],\n",
        "   \n",
        "}"
      ],
      "execution_count": 79,
      "outputs": []
    },
    {
      "cell_type": "code",
      "metadata": {
        "colab": {
          "base_uri": "https://localhost:8080/",
          "height": 54
        },
        "id": "0QuiMfQibNcg",
        "outputId": "c3a2ce23-0686-408d-8559-a194319e164f"
      },
      "source": [
        "#Criando o objeto GridSearch e treinando o modelo com os melhores hiperparâmetros\n",
        "\"\"\"\n",
        "grid_MLP = GridSearchCV(MLP, parameter_space, refit = True, verbose=3, cv=5)\n",
        "grid_MLP.fit(Xn_train, yn_train)\n",
        "\"\"\""
      ],
      "execution_count": 80,
      "outputs": [
        {
          "output_type": "execute_result",
          "data": {
            "application/vnd.google.colaboratory.intrinsic+json": {
              "type": "string"
            },
            "text/plain": [
              "'\\ngrid_MLP = GridSearchCV(MLP, parameter_space, refit = True, verbose=3, cv=5)\\ngrid_MLP.fit(Xn_train, yn_train)\\n'"
            ]
          },
          "metadata": {
            "tags": []
          },
          "execution_count": 80
        }
      ]
    },
    {
      "cell_type": "code",
      "metadata": {
        "colab": {
          "base_uri": "https://localhost:8080/",
          "height": 54
        },
        "id": "u01AxGYTbNcj",
        "outputId": "2d22f037-d445-41ee-c468-4b096f4a601a"
      },
      "source": [
        "\"\"\"print(grid_SVM.best_estimator_)\n",
        "\n",
        "print(grid_SVM.best_params_)\n",
        "\n",
        "print(grid_SVM.score(Xn_test, yn_test))\n",
        "\"\"\""
      ],
      "execution_count": 81,
      "outputs": [
        {
          "output_type": "execute_result",
          "data": {
            "application/vnd.google.colaboratory.intrinsic+json": {
              "type": "string"
            },
            "text/plain": [
              "'print(grid_SVM.best_estimator_)\\n\\nprint(grid_SVM.best_params_)\\n\\nprint(grid_SVM.score(Xn_test, yn_test))\\n'"
            ]
          },
          "metadata": {
            "tags": []
          },
          "execution_count": 81
        }
      ]
    },
    {
      "cell_type": "code",
      "metadata": {
        "colab": {
          "base_uri": "https://localhost:8080/"
        },
        "id": "szvJeugJ1CaF",
        "outputId": "520a1122-bffc-422c-a4aa-64db620e9462"
      },
      "source": [
        "# Treinando o modelo\n",
        "MLP = MLPClassifier(max_iter=10000)\n",
        "MLP.fit(Xn_train, yn_train)"
      ],
      "execution_count": 82,
      "outputs": [
        {
          "output_type": "execute_result",
          "data": {
            "text/plain": [
              "MLPClassifier(activation='relu', alpha=0.0001, batch_size='auto', beta_1=0.9,\n",
              "              beta_2=0.999, early_stopping=False, epsilon=1e-08,\n",
              "              hidden_layer_sizes=(100,), learning_rate='constant',\n",
              "              learning_rate_init=0.001, max_fun=15000, max_iter=10000,\n",
              "              momentum=0.9, n_iter_no_change=10, nesterovs_momentum=True,\n",
              "              power_t=0.5, random_state=None, shuffle=True, solver='adam',\n",
              "              tol=0.0001, validation_fraction=0.1, verbose=False,\n",
              "              warm_start=False)"
            ]
          },
          "metadata": {
            "tags": []
          },
          "execution_count": 82
        }
      ]
    },
    {
      "cell_type": "code",
      "metadata": {
        "colab": {
          "base_uri": "https://localhost:8080/"
        },
        "id": "j1lHXUq8bNcp",
        "outputId": "0e6d2a3f-30be-45ad-de37-3979e1b879b2"
      },
      "source": [
        "#Computar a acurácia do teste\n",
        "test_accuracy_MLP = MLP.score(Xn_test, yn_test)\n",
        "print(\"Acurácia do teste = %0.4f\" % (test_accuracy_MLP))\n",
        "\n",
        "predictions_MLP = MLP.predict(X_test)\n",
        "print(confusion_matrix(yn_test, predictions_MLP))\n",
        "print(classification_report(yn_test, predictions_MLP))"
      ],
      "execution_count": 83,
      "outputs": [
        {
          "output_type": "stream",
          "text": [
            "Acurácia do teste = 0.6199\n",
            "[[32219  1317]\n",
            " [29454  2034]]\n",
            "              precision    recall  f1-score   support\n",
            "\n",
            "           0       0.52      0.96      0.68     33536\n",
            "           1       0.61      0.06      0.12     31488\n",
            "\n",
            "    accuracy                           0.53     65024\n",
            "   macro avg       0.56      0.51      0.40     65024\n",
            "weighted avg       0.56      0.53      0.41     65024\n",
            "\n"
          ],
          "name": "stdout"
        }
      ]
    },
    {
      "cell_type": "markdown",
      "metadata": {
        "id": "_7tXhvwmHTxG"
      },
      "source": [
        "\n",
        "\n",
        "---\n",
        "\n",
        "\n",
        "\n",
        "---\n",
        "\n"
      ]
    },
    {
      "cell_type": "markdown",
      "metadata": {
        "id": "RHZeRo5OjFsz"
      },
      "source": [
        "#Teste da acurácia com diversos modelos usando o 10-fold cross validation para comparação"
      ]
    },
    {
      "cell_type": "code",
      "metadata": {
        "id": "kdJlwnBRjCCv",
        "colab": {
          "base_uri": "https://localhost:8080/"
        },
        "outputId": "ebac1ce2-9770-49d6-b599-5596b9fd8f8f"
      },
      "source": [
        "seed=42\n",
        "models = []\n",
        "models_results = []\n",
        "scoring='accuracy'\n",
        "models.append(('TREE', DecisionTreeClassifier(criterion = 'entropy', max_depth= 10)))\n",
        "models.append(('CART', DecisionTreeClassifier(criterion = 'gini', max_depth= 10)))\n",
        "models.append(('LR', LogisticRegression(solver='liblinear', multi_class='ovr')))\n",
        "models.append(('LDA', LinearDiscriminantAnalysis()))\n",
        "models.append(('KNN', KNeighborsClassifier(n_neighbors=197)))\n",
        "models.append(('NB', GaussianNB(priors=None, var_smoothing=0.001)))\n",
        "models.append(('Random Forest', RandomForestClassifier(n_estimators=100)))\n",
        "models.append(('Isolation Forest',IsolationForest()))\n",
        "models.append(('MLP',MLPClassifier(max_iter=10000)))\n",
        "\n",
        "#models.append(('SVM', SVC(gamma='auto')))\n",
        "# evaluate each model in turn\n",
        "results = []\n",
        "names = []\n",
        "for name, model in models:\n",
        "    kfold = model_selection.KFold(n_splits=10, random_state=seed, shuffle = True)\n",
        "    cv_results = model_selection.cross_val_score(model, Xn_train, yn_train, cv=kfold, scoring=scoring)\n",
        "    results.append(cv_results)\n",
        "    names.append(name)\n",
        "    lista = [name, cv_results.mean(), cv_results.std()]\n",
        "    models_results.append(lista)\n",
        "    msg = \"%s: %f (%f)\" % (name, cv_results.mean(), cv_results.std())\n",
        "    print(msg)"
      ],
      "execution_count": 162,
      "outputs": [
        {
          "output_type": "stream",
          "text": [
            "TREE: 0.607183 (0.003455)\n",
            "CART: 0.606922 (0.004927)\n",
            "LR: 0.515702 (0.004101)\n",
            "LDA: 0.515702 (0.004101)\n",
            "KNN: 0.619079 (0.005253)\n",
            "NB: 0.572650 (0.003687)\n",
            "Random Forest: 0.597279 (0.003800)\n",
            "Isolation Forest: 0.442529 (0.005497)\n",
            "MLP: 0.619856 (0.004115)\n"
          ],
          "name": "stdout"
        }
      ]
    },
    {
      "cell_type": "code",
      "metadata": {
        "colab": {
          "base_uri": "https://localhost:8080/"
        },
        "id": "XYcLlb00r2T-",
        "outputId": "99da4190-2c1f-4c56-ddc2-cfbacc4749a4"
      },
      "source": [
        "models_results"
      ],
      "execution_count": 163,
      "outputs": [
        {
          "output_type": "execute_result",
          "data": {
            "text/plain": [
              "[['TREE', 0.6071834827742353, 0.0034550812138913326],\n",
              " ['CART', 0.6069220383613667, 0.004927281128709868],\n",
              " ['LR', 0.5157018826372413, 0.004100673540547858],\n",
              " ['LDA', 0.5157018826372413, 0.004100673540547858],\n",
              " ['KNN', 0.6190790489330997, 0.005252782482864327],\n",
              " ['NB', 0.5726501123305034, 0.0036870700024747836],\n",
              " ['Random Forest', 0.597279460695322, 0.0037997479003143136],\n",
              " ['Isolation Forest', 0.44252892464637805, 0.005496695642436513],\n",
              " ['MLP', 0.6198556981432147, 0.004115169679406562]]"
            ]
          },
          "metadata": {
            "tags": []
          },
          "execution_count": 163
        }
      ]
    },
    {
      "cell_type": "code",
      "metadata": {
        "colab": {
          "base_uri": "https://localhost:8080/",
          "height": 332
        },
        "id": "47yYsBYtr2UE",
        "outputId": "95508ac2-1d8f-4ad3-d3e1-0293a56341ee"
      },
      "source": [
        "df_results = pd.DataFrame(models_results, \n",
        "                          columns = ['modelo','Acuracia_k-fold=10','Desvio-padrão'])\n",
        "df_results.sort_values(by='Acuracia_k-fold=10', ascending=False, inplace=True)\n",
        "df_results.reset_index(inplace=True,drop=True)\n",
        "df_results"
      ],
      "execution_count": 164,
      "outputs": [
        {
          "output_type": "execute_result",
          "data": {
            "text/html": [
              "<div>\n",
              "<style scoped>\n",
              "    .dataframe tbody tr th:only-of-type {\n",
              "        vertical-align: middle;\n",
              "    }\n",
              "\n",
              "    .dataframe tbody tr th {\n",
              "        vertical-align: top;\n",
              "    }\n",
              "\n",
              "    .dataframe thead th {\n",
              "        text-align: right;\n",
              "    }\n",
              "</style>\n",
              "<table border=\"1\" class=\"dataframe\">\n",
              "  <thead>\n",
              "    <tr style=\"text-align: right;\">\n",
              "      <th></th>\n",
              "      <th>modelo</th>\n",
              "      <th>Acuracia_k-fold=10</th>\n",
              "      <th>Desvio-padrão</th>\n",
              "    </tr>\n",
              "  </thead>\n",
              "  <tbody>\n",
              "    <tr>\n",
              "      <th>0</th>\n",
              "      <td>MLP</td>\n",
              "      <td>0.619856</td>\n",
              "      <td>0.004115</td>\n",
              "    </tr>\n",
              "    <tr>\n",
              "      <th>1</th>\n",
              "      <td>KNN</td>\n",
              "      <td>0.619079</td>\n",
              "      <td>0.005253</td>\n",
              "    </tr>\n",
              "    <tr>\n",
              "      <th>2</th>\n",
              "      <td>TREE</td>\n",
              "      <td>0.607183</td>\n",
              "      <td>0.003455</td>\n",
              "    </tr>\n",
              "    <tr>\n",
              "      <th>3</th>\n",
              "      <td>CART</td>\n",
              "      <td>0.606922</td>\n",
              "      <td>0.004927</td>\n",
              "    </tr>\n",
              "    <tr>\n",
              "      <th>4</th>\n",
              "      <td>Random Forest</td>\n",
              "      <td>0.597279</td>\n",
              "      <td>0.003800</td>\n",
              "    </tr>\n",
              "    <tr>\n",
              "      <th>5</th>\n",
              "      <td>NB</td>\n",
              "      <td>0.572650</td>\n",
              "      <td>0.003687</td>\n",
              "    </tr>\n",
              "    <tr>\n",
              "      <th>6</th>\n",
              "      <td>LR</td>\n",
              "      <td>0.515702</td>\n",
              "      <td>0.004101</td>\n",
              "    </tr>\n",
              "    <tr>\n",
              "      <th>7</th>\n",
              "      <td>LDA</td>\n",
              "      <td>0.515702</td>\n",
              "      <td>0.004101</td>\n",
              "    </tr>\n",
              "    <tr>\n",
              "      <th>8</th>\n",
              "      <td>Isolation Forest</td>\n",
              "      <td>0.442529</td>\n",
              "      <td>0.005497</td>\n",
              "    </tr>\n",
              "  </tbody>\n",
              "</table>\n",
              "</div>"
            ],
            "text/plain": [
              "             modelo  Acuracia_k-fold=10  Desvio-padrão\n",
              "0               MLP            0.619856       0.004115\n",
              "1               KNN            0.619079       0.005253\n",
              "2              TREE            0.607183       0.003455\n",
              "3              CART            0.606922       0.004927\n",
              "4     Random Forest            0.597279       0.003800\n",
              "5                NB            0.572650       0.003687\n",
              "6                LR            0.515702       0.004101\n",
              "7               LDA            0.515702       0.004101\n",
              "8  Isolation Forest            0.442529       0.005497"
            ]
          },
          "metadata": {
            "tags": []
          },
          "execution_count": 164
        }
      ]
    },
    {
      "cell_type": "code",
      "metadata": {
        "colab": {
          "base_uri": "https://localhost:8080/",
          "height": 419
        },
        "id": "h2dp-kDCr2UH",
        "outputId": "16240a20-bc26-4405-faab-20a2d2bb3723"
      },
      "source": [
        "import matplotlib.pyplot as plt\n",
        "import seaborn as sns\n",
        "plt.style.use('ggplot')\n",
        "plt.figure(figsize = (15,5))\n",
        "sns.barplot(x = \"modelo\", y = \"Acuracia_k-fold=10\", data = df_results)\n",
        "plt.title('Validação média', fontsize = 15)\n",
        "#plt.ylim(0.8,1)\n",
        "plt.xlabel('Modelo', fontsize=15)\n",
        "plt.ylabel('Acurácia_k-fold=10',fontsize=15)\n",
        "plt.xticks(rotation=90, fontsize=12)\n",
        "plt.show()"
      ],
      "execution_count": 165,
      "outputs": [
        {
          "output_type": "display_data",
          "data": {
            "image/png": "[encoded data removed]",
            "text/plain": [
              "<Figure size 1080x360 with 1 Axes>"
            ]
          },
          "metadata": {
            "tags": []
          }
        }
      ]
    },
    {
      "cell_type": "code",
      "metadata": {
        "id": "Cb7h4sdUx7qK",
        "colab": {
          "base_uri": "https://localhost:8080/"
        },
        "outputId": "39c249d7-e906-4ebd-8941-e2b713da9a43"
      },
      "source": [
        "models\n"
      ],
      "execution_count": 166,
      "outputs": [
        {
          "output_type": "execute_result",
          "data": {
            "text/plain": [
              "[('TREE',\n",
              "  DecisionTreeClassifier(ccp_alpha=0.0, class_weight=None, criterion='entropy',\n",
              "                         max_depth=10, max_features=None, max_leaf_nodes=None,\n",
              "                         min_impurity_decrease=0.0, min_impurity_split=None,\n",
              "                         min_samples_leaf=1, min_samples_split=2,\n",
              "                         min_weight_fraction_leaf=0.0, presort='deprecated',\n",
              "                         random_state=None, splitter='best')),\n",
              " ('CART',\n",
              "  DecisionTreeClassifier(ccp_alpha=0.0, class_weight=None, criterion='gini',\n",
              "                         max_depth=10, max_features=None, max_leaf_nodes=None,\n",
              "                         min_impurity_decrease=0.0, min_impurity_split=None,\n",
              "                         min_samples_leaf=1, min_samples_split=2,\n",
              "                         min_weight_fraction_leaf=0.0, presort='deprecated',\n",
              "                         random_state=None, splitter='best')),\n",
              " ('LR',\n",
              "  LogisticRegression(C=1.0, class_weight=None, dual=False, fit_intercept=True,\n",
              "                     intercept_scaling=1, l1_ratio=None, max_iter=100,\n",
              "                     multi_class='ovr', n_jobs=None, penalty='l2',\n",
              "                     random_state=None, solver='liblinear', tol=0.0001, verbose=0,\n",
              "                     warm_start=False)),\n",
              " ('LDA',\n",
              "  LinearDiscriminantAnalysis(n_components=None, priors=None, shrinkage=None,\n",
              "                             solver='svd', store_covariance=False, tol=0.0001)),\n",
              " ('KNN',\n",
              "  KNeighborsClassifier(algorithm='auto', leaf_size=30, metric='minkowski',\n",
              "                       metric_params=None, n_jobs=None, n_neighbors=197, p=2,\n",
              "                       weights='uniform')),\n",
              " ('NB', GaussianNB(priors=None, var_smoothing=0.001)),\n",
              " ('Random Forest',\n",
              "  RandomForestClassifier(bootstrap=True, ccp_alpha=0.0, class_weight=None,\n",
              "                         criterion='gini', max_depth=None, max_features='auto',\n",
              "                         max_leaf_nodes=None, max_samples=None,\n",
              "                         min_impurity_decrease=0.0, min_impurity_split=None,\n",
              "                         min_samples_leaf=1, min_samples_split=2,\n",
              "                         min_weight_fraction_leaf=0.0, n_estimators=100,\n",
              "                         n_jobs=None, oob_score=False, random_state=None,\n",
              "                         verbose=0, warm_start=False)),\n",
              " ('Isolation Forest',\n",
              "  IsolationForest(behaviour='deprecated', bootstrap=False, contamination='auto',\n",
              "                  max_features=1.0, max_samples='auto', n_estimators=100,\n",
              "                  n_jobs=None, random_state=None, verbose=0, warm_start=False)),\n",
              " ('MLP',\n",
              "  MLPClassifier(activation='relu', alpha=0.0001, batch_size='auto', beta_1=0.9,\n",
              "                beta_2=0.999, early_stopping=False, epsilon=1e-08,\n",
              "                hidden_layer_sizes=(100,), learning_rate='constant',\n",
              "                learning_rate_init=0.001, max_fun=15000, max_iter=10000,\n",
              "                momentum=0.9, n_iter_no_change=10, nesterovs_momentum=True,\n",
              "                power_t=0.5, random_state=None, shuffle=True, solver='adam',\n",
              "                tol=0.0001, validation_fraction=0.1, verbose=False,\n",
              "                warm_start=False))]"
            ]
          },
          "metadata": {
            "tags": []
          },
          "execution_count": 166
        }
      ]
    },
    {
      "cell_type": "markdown",
      "metadata": {
        "id": "VOFmF7c3jmvE"
      },
      "source": [
        "# PCA"
      ]
    },
    {
      "cell_type": "code",
      "metadata": {
        "id": "0BWt8BYdjqrV",
        "scrolled": true,
        "colab": {
          "base_uri": "https://localhost:8080/",
          "height": 297
        },
        "outputId": "b68a04dc-68fa-4624-8ce7-da9cf1e646fa"
      },
      "source": [
        "from sklearn.preprocessing import StandardScaler\n",
        "from sklearn.decomposition import PCA\n",
        "pca = PCA()\n",
        "X_train_pca = pca.fit_transform(Xn_train)\n",
        "# Determine explained variance using explained_variance_ration_ attribute\n",
        "exp_var_pca = pca.explained_variance_ratio_\n",
        "# Cumulative sum of eigenvalues; This will be used to create step plot\n",
        "# for visualizing the variance explained by each principal component.\n",
        "cum_sum_eigenvalues = np.cumsum(exp_var_pca)\n",
        "# Create the visualization plot\n",
        "\n",
        "plt.bar(range(1,len(exp_var_pca)+1), exp_var_pca, alpha=0.5, align='center', label='Individual explained variance')\n",
        "plt.step(range(1,len(cum_sum_eigenvalues)+1), cum_sum_eigenvalues, where='mid',label='Cumulative explained variance')\n",
        "plt.ylabel('Explained variance ratio')\n",
        "plt.xlabel('Principal component index')\n",
        "plt.legend(loc='best')\n",
        "plt.tight_layout()\n",
        "plt.show()"
      ],
      "execution_count": 167,
      "outputs": [
        {
          "output_type": "display_data",
          "data": {
            "image/png": "[encoded data removed]",
            "text/plain": [
              "<Figure size 432x288 with 1 Axes>"
            ]
          },
          "metadata": {
            "tags": []
          }
        }
      ]
    },
    {
      "cell_type": "code",
      "metadata": {
        "id": "rUUQcCbykz-n",
        "scrolled": true,
        "colab": {
          "base_uri": "https://localhost:8080/",
          "height": 424
        },
        "outputId": "80780d9d-bb76-43b6-e334-8c82178e0d4e"
      },
      "source": [
        "N=3\n",
        "columns_vector = ['element '+str(i) for i in range(1,N+1)]\n",
        "pca = PCA(n_components=3)\n",
        "df_PCA = pca.fit_transform(data_Norm)\n",
        "df_PCA = pd.DataFrame(data = df_PCA\n",
        "             , columns = columns_vector)\n",
        "df_PCA"
      ],
      "execution_count": 168,
      "outputs": [
        {
          "output_type": "execute_result",
          "data": {
            "text/html": [
              "<div>\n",
              "<style scoped>\n",
              "    .dataframe tbody tr th:only-of-type {\n",
              "        vertical-align: middle;\n",
              "    }\n",
              "\n",
              "    .dataframe tbody tr th {\n",
              "        vertical-align: top;\n",
              "    }\n",
              "\n",
              "    .dataframe thead th {\n",
              "        text-align: right;\n",
              "    }\n",
              "</style>\n",
              "<table border=\"1\" class=\"dataframe\">\n",
              "  <thead>\n",
              "    <tr style=\"text-align: right;\">\n",
              "      <th></th>\n",
              "      <th>element 1</th>\n",
              "      <th>element 2</th>\n",
              "      <th>element 3</th>\n",
              "    </tr>\n",
              "  </thead>\n",
              "  <tbody>\n",
              "    <tr>\n",
              "      <th>0</th>\n",
              "      <td>-0.104079</td>\n",
              "      <td>-0.074504</td>\n",
              "      <td>-0.082580</td>\n",
              "    </tr>\n",
              "    <tr>\n",
              "      <th>1</th>\n",
              "      <td>0.037103</td>\n",
              "      <td>-0.034307</td>\n",
              "      <td>-0.190150</td>\n",
              "    </tr>\n",
              "    <tr>\n",
              "      <th>2</th>\n",
              "      <td>-0.019932</td>\n",
              "      <td>0.053785</td>\n",
              "      <td>-0.117120</td>\n",
              "    </tr>\n",
              "    <tr>\n",
              "      <th>3</th>\n",
              "      <td>-0.061251</td>\n",
              "      <td>0.165270</td>\n",
              "      <td>-0.016806</td>\n",
              "    </tr>\n",
              "    <tr>\n",
              "      <th>4</th>\n",
              "      <td>-0.014167</td>\n",
              "      <td>0.117212</td>\n",
              "      <td>0.067029</td>\n",
              "    </tr>\n",
              "    <tr>\n",
              "      <th>...</th>\n",
              "      <td>...</td>\n",
              "      <td>...</td>\n",
              "      <td>...</td>\n",
              "    </tr>\n",
              "    <tr>\n",
              "      <th>195067</th>\n",
              "      <td>-0.105863</td>\n",
              "      <td>-0.092423</td>\n",
              "      <td>-0.006955</td>\n",
              "    </tr>\n",
              "    <tr>\n",
              "      <th>195068</th>\n",
              "      <td>-0.195474</td>\n",
              "      <td>0.023664</td>\n",
              "      <td>-0.049453</td>\n",
              "    </tr>\n",
              "    <tr>\n",
              "      <th>195069</th>\n",
              "      <td>-0.069395</td>\n",
              "      <td>0.129064</td>\n",
              "      <td>0.039977</td>\n",
              "    </tr>\n",
              "    <tr>\n",
              "      <th>195070</th>\n",
              "      <td>-0.048118</td>\n",
              "      <td>0.109973</td>\n",
              "      <td>0.064404</td>\n",
              "    </tr>\n",
              "    <tr>\n",
              "      <th>195071</th>\n",
              "      <td>-0.075653</td>\n",
              "      <td>0.069340</td>\n",
              "      <td>0.077402</td>\n",
              "    </tr>\n",
              "  </tbody>\n",
              "</table>\n",
              "<p>195072 rows × 3 columns</p>\n",
              "</div>"
            ],
            "text/plain": [
              "        element 1  element 2  element 3\n",
              "0       -0.104079  -0.074504  -0.082580\n",
              "1        0.037103  -0.034307  -0.190150\n",
              "2       -0.019932   0.053785  -0.117120\n",
              "3       -0.061251   0.165270  -0.016806\n",
              "4       -0.014167   0.117212   0.067029\n",
              "...           ...        ...        ...\n",
              "195067  -0.105863  -0.092423  -0.006955\n",
              "195068  -0.195474   0.023664  -0.049453\n",
              "195069  -0.069395   0.129064   0.039977\n",
              "195070  -0.048118   0.109973   0.064404\n",
              "195071  -0.075653   0.069340   0.077402\n",
              "\n",
              "[195072 rows x 3 columns]"
            ]
          },
          "metadata": {
            "tags": []
          },
          "execution_count": 168
        }
      ]
    },
    {
      "cell_type": "markdown",
      "metadata": {
        "id": "KbRS4Btlnc90"
      },
      "source": [
        "###Treino e Teste com os dados após o PCA"
      ]
    },
    {
      "cell_type": "code",
      "metadata": {
        "id": "xWSO627wmiR8"
      },
      "source": [
        "X_train_pca, X_test_pca, y_train_pca, y_test_pca = train_test_split(df_PCA, y, test_size=1/3,stratify = y, random_state=42)"
      ],
      "execution_count": 169,
      "outputs": []
    },
    {
      "cell_type": "code",
      "metadata": {
        "id": "zDanC7qwm_LN",
        "colab": {
          "base_uri": "https://localhost:8080/"
        },
        "outputId": "9d23f762-4ce4-4849-cef7-ac5a5767591a"
      },
      "source": [
        "seed=42\n",
        "models = []\n",
        "models_results_pca = []\n",
        "scoring='accuracy'\n",
        "models.append(('TREE', DecisionTreeClassifier(criterion = 'entropy', max_depth= 9)))\n",
        "models.append(('CART', DecisionTreeClassifier(criterion = 'gini', max_depth= 9)))\n",
        "models.append(('LR', LogisticRegression(solver='liblinear', multi_class='ovr')))\n",
        "models.append(('LDA', LinearDiscriminantAnalysis()))\n",
        "models.append(('KNN', KNeighborsClassifier(n_neighbors=197)))\n",
        "models.append(('NB', GaussianNB(priors=None, var_smoothing=0.001)))\n",
        "models.append(('Random Forest', RandomForestClassifier(n_estimators=100)))\n",
        "models.append(('Isolation Forest',IsolationForest()))\n",
        "models.append(('MLP',MLPClassifier(max_iter=10000)))\n",
        "#models.append(('SVM', SVC(gamma='auto')))\n",
        "# evaluate each model in turn\n",
        "results_pca = []\n",
        "names_pca = []\n",
        "for name, model in models:\n",
        "    kfold = model_selection.KFold(n_splits=10, random_state=seed, shuffle = True)\n",
        "    cv_results = model_selection.cross_val_score(model, X_train_pca, y_train_pca, cv=kfold, scoring=scoring)\n",
        "    results_pca.append(cv_results)\n",
        "    names_pca.append(name)\n",
        "    listapca = [name, cv_results.mean(), cv_results.std()]\n",
        "    models_results_pca.append(listapca)\n",
        "    msg = \"%s: %f (%f)\" % (name, cv_results.mean(), cv_results.std())\n",
        "    print(msg)"
      ],
      "execution_count": 170,
      "outputs": [
        {
          "output_type": "stream",
          "text": [
            "TREE: 0.559024 (0.003462)\n",
            "CART: 0.558178 (0.002740)\n",
            "LR: 0.515702 (0.004101)\n",
            "LDA: 0.515702 (0.004101)\n",
            "KNN: 0.574203 (0.002884)\n",
            "NB: 0.545983 (0.003114)\n",
            "Random Forest: 0.550404 (0.004167)\n",
            "Isolation Forest: 0.429718 (0.005824)\n",
            "MLP: 0.577056 (0.003744)\n"
          ],
          "name": "stdout"
        }
      ]
    },
    {
      "cell_type": "code",
      "metadata": {
        "colab": {
          "base_uri": "https://localhost:8080/"
        },
        "id": "ja-yw9qppplT",
        "outputId": "07c336fc-42cd-4c8a-ddf2-5e12f68e3a46"
      },
      "source": [
        "models_results_pca"
      ],
      "execution_count": 171,
      "outputs": [
        {
          "output_type": "execute_result",
          "data": {
            "text/plain": [
              "[['TREE', 0.5590243045909867, 0.0034616713801880333],\n",
              " ['CART', 0.5581784920287739, 0.002740419573718676],\n",
              " ['LR', 0.5157018826372413, 0.004100673540547858],\n",
              " ['LDA', 0.5157018826372413, 0.004100673540547858],\n",
              " ['KNN', 0.574203352211386, 0.0028839070588550573],\n",
              " ['NB', 0.5459830264274996, 0.003114444291231371],\n",
              " ['Random Forest', 0.5504044217430037, 0.00416695700678873],\n",
              " ['Isolation Forest', 0.42971825425968363, 0.005824001886541641],\n",
              " ['MLP', 0.5770561200759096, 0.0037436094298194307]]"
            ]
          },
          "metadata": {
            "tags": []
          },
          "execution_count": 171
        }
      ]
    },
    {
      "cell_type": "code",
      "metadata": {
        "colab": {
          "base_uri": "https://localhost:8080/",
          "height": 332
        },
        "id": "G4X-FTrZoWKp",
        "outputId": "0c80fe1b-e353-435c-f9f3-78ec0a3d55ea"
      },
      "source": [
        "df_results_pca = pd.DataFrame(models_results_pca, \n",
        "                          columns = ['modelo','Acuracia_k-fold=10 com PCA','Desvio-padrão'])\n",
        "df_results_pca.sort_values(by='Acuracia_k-fold=10 com PCA', ascending=False, inplace=True)\n",
        "df_results_pca.reset_index(inplace=True,drop=True)\n",
        "df_results_pca"
      ],
      "execution_count": 172,
      "outputs": [
        {
          "output_type": "execute_result",
          "data": {
            "text/html": [
              "<div>\n",
              "<style scoped>\n",
              "    .dataframe tbody tr th:only-of-type {\n",
              "        vertical-align: middle;\n",
              "    }\n",
              "\n",
              "    .dataframe tbody tr th {\n",
              "        vertical-align: top;\n",
              "    }\n",
              "\n",
              "    .dataframe thead th {\n",
              "        text-align: right;\n",
              "    }\n",
              "</style>\n",
              "<table border=\"1\" class=\"dataframe\">\n",
              "  <thead>\n",
              "    <tr style=\"text-align: right;\">\n",
              "      <th></th>\n",
              "      <th>modelo</th>\n",
              "      <th>Acuracia_k-fold=10 com PCA</th>\n",
              "      <th>Desvio-padrão</th>\n",
              "    </tr>\n",
              "  </thead>\n",
              "  <tbody>\n",
              "    <tr>\n",
              "      <th>0</th>\n",
              "      <td>MLP</td>\n",
              "      <td>0.577056</td>\n",
              "      <td>0.003744</td>\n",
              "    </tr>\n",
              "    <tr>\n",
              "      <th>1</th>\n",
              "      <td>KNN</td>\n",
              "      <td>0.574203</td>\n",
              "      <td>0.002884</td>\n",
              "    </tr>\n",
              "    <tr>\n",
              "      <th>2</th>\n",
              "      <td>TREE</td>\n",
              "      <td>0.559024</td>\n",
              "      <td>0.003462</td>\n",
              "    </tr>\n",
              "    <tr>\n",
              "      <th>3</th>\n",
              "      <td>CART</td>\n",
              "      <td>0.558178</td>\n",
              "      <td>0.002740</td>\n",
              "    </tr>\n",
              "    <tr>\n",
              "      <th>4</th>\n",
              "      <td>Random Forest</td>\n",
              "      <td>0.550404</td>\n",
              "      <td>0.004167</td>\n",
              "    </tr>\n",
              "    <tr>\n",
              "      <th>5</th>\n",
              "      <td>NB</td>\n",
              "      <td>0.545983</td>\n",
              "      <td>0.003114</td>\n",
              "    </tr>\n",
              "    <tr>\n",
              "      <th>6</th>\n",
              "      <td>LR</td>\n",
              "      <td>0.515702</td>\n",
              "      <td>0.004101</td>\n",
              "    </tr>\n",
              "    <tr>\n",
              "      <th>7</th>\n",
              "      <td>LDA</td>\n",
              "      <td>0.515702</td>\n",
              "      <td>0.004101</td>\n",
              "    </tr>\n",
              "    <tr>\n",
              "      <th>8</th>\n",
              "      <td>Isolation Forest</td>\n",
              "      <td>0.429718</td>\n",
              "      <td>0.005824</td>\n",
              "    </tr>\n",
              "  </tbody>\n",
              "</table>\n",
              "</div>"
            ],
            "text/plain": [
              "             modelo  Acuracia_k-fold=10 com PCA  Desvio-padrão\n",
              "0               MLP                    0.577056       0.003744\n",
              "1               KNN                    0.574203       0.002884\n",
              "2              TREE                    0.559024       0.003462\n",
              "3              CART                    0.558178       0.002740\n",
              "4     Random Forest                    0.550404       0.004167\n",
              "5                NB                    0.545983       0.003114\n",
              "6                LR                    0.515702       0.004101\n",
              "7               LDA                    0.515702       0.004101\n",
              "8  Isolation Forest                    0.429718       0.005824"
            ]
          },
          "metadata": {
            "tags": []
          },
          "execution_count": 172
        }
      ]
    },
    {
      "cell_type": "code",
      "metadata": {
        "colab": {
          "base_uri": "https://localhost:8080/",
          "height": 419
        },
        "id": "ba3HuoirqfOF",
        "outputId": "76944166-95c7-40c2-f5fd-0fee54e1e242"
      },
      "source": [
        "import matplotlib.pyplot as plt\n",
        "import seaborn as sns\n",
        "plt.style.use('ggplot')\n",
        "plt.figure(figsize = (15,5))\n",
        "sns.barplot(x = \"modelo\", y = \"Acuracia_k-fold=10 com PCA\", data = df_results_pca)\n",
        "plt.title('Validação média com PCA', fontsize = 15)\n",
        "#plt.ylim(0.8,1)\n",
        "plt.xlabel('Modelo', fontsize=15)\n",
        "plt.ylabel('Acurácia_k-fold=10',fontsize=15)\n",
        "plt.xticks(rotation=90, fontsize=12)\n",
        "plt.show()"
      ],
      "execution_count": 173,
      "outputs": [
        {
          "output_type": "display_data",
          "data": {
            "image/png": "[encoded data removed]",
            "text/plain": [
              "<Figure size 1080x360 with 1 Axes>"
            ]
          },
          "metadata": {
            "tags": []
          }
        }
      ]
    }
  ]
}