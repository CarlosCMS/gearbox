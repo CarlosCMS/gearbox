{
  "nbformat": 4,
  "nbformat_minor": 0,
  "metadata": {
    "colab": {
      "name": "Gearbox0  novos algoritmos.ipynb",
      "provenance": [],
      "collapsed_sections": [],
      "toc_visible": true
    },
    "kernelspec": {
      "display_name": "myenv",
      "language": "python",
      "name": "myenv"
    },
    "language_info": {
      "codemirror_mode": {
        "name": "ipython",
        "version": 3
      },
      "file_extension": ".py",
      "mimetype": "text/x-python",
      "name": "python",
      "nbconvert_exporter": "python",
      "pygments_lexer": "ipython3",
      "version": "3.8.5"
    }
  },
  "cells": [
    {
      "cell_type": "markdown",
      "metadata": {
        "id": "G8ppB5CLOWY5"
      },
      "source": [
        "#*Dataset extraído do Kaggle*"
      ]
    },
    {
      "cell_type": "markdown",
      "metadata": {
        "id": "m9vzzUwmOTUP"
      },
      "source": [
        "https://www.kaggle.com/brjapon/gearbox-fault-diagnosis"
      ]
    },
    {
      "cell_type": "markdown",
      "metadata": {
        "id": "pzAPtW5uio-F"
      },
      "source": [
        "Carga = 0"
      ]
    },
    {
      "cell_type": "code",
      "metadata": {
        "id": "De5Php-xT0UY"
      },
      "source": [
        "import pandas as pd\n",
        "from sklearn import model_selection\n",
        "import seaborn as sns\n",
        "import numpy as np\n",
        "import matplotlib.pyplot as plt\n",
        "from sklearn.model_selection import train_test_split\n",
        "#algoritmos\n",
        "from sklearn import tree\n",
        "from sklearn.linear_model import LogisticRegression\n",
        "from sklearn.tree import DecisionTreeClassifier\n",
        "from sklearn.neighbors import KNeighborsClassifier\n",
        "from sklearn.discriminant_analysis import LinearDiscriminantAnalysis\n",
        "from sklearn.naive_bayes import GaussianNB\n",
        "from sklearn.svm import SVC\n",
        "from sklearn.neural_network import MLPClassifier\n",
        "from sklearn.model_selection import GridSearchCV\n",
        "from sklearn.neural_network import MLPClassifier\n",
        "from sklearn.ensemble import RandomForestClassifier\n",
        "from sklearn.ensemble import IsolationForest\n",
        "#Importando a biblioteca das métricas\n",
        "from sklearn.metrics import classification_report\n",
        "from sklearn.metrics import confusion_matrix\n",
        "from sklearn.metrics import accuracy_score\n",
        "#para fazer o cross validation\n",
        "from sklearn.model_selection import cross_val_score\n"
      ],
      "execution_count": 185,
      "outputs": []
    },
    {
      "cell_type": "code",
      "metadata": {
        "id": "wXsDCKLRT9Dk"
      },
      "source": [
        "url_dados = 'https://github.com/rslmartins/gearbox-failure/blob/main/BrokenTooth/b30hz0.csv?raw=true'\n",
        "\n",
        "data1 = pd.read_csv(url_dados, sep= ',')"
      ],
      "execution_count": 186,
      "outputs": []
    },
    {
      "cell_type": "code",
      "metadata": {
        "id": "n8BzP3iQUVgr"
      },
      "source": [
        "url_dados = 'https://github.com/rslmartins/gearbox-failure/blob/main/Healthy/h30hz0.csv?raw=true'\n",
        "\n",
        "data2 = pd.read_csv(url_dados, sep= ',')"
      ],
      "execution_count": 187,
      "outputs": []
    },
    {
      "cell_type": "code",
      "metadata": {
        "id": "ifkk9JLuUdYS"
      },
      "source": [
        "# inserindo o atributo de classe defeituosa\n",
        "data1['class']= data1['a1'].apply(lambda x:1)"
      ],
      "execution_count": 188,
      "outputs": []
    },
    {
      "cell_type": "code",
      "metadata": {
        "colab": {
          "base_uri": "https://localhost:8080/",
          "height": 300
        },
        "id": "xt0FDDhjVoAF",
        "outputId": "6c47bb9a-0444-4e3e-ea99-5beb3ba4b92d"
      },
      "source": [
        "data1.describe()"
      ],
      "execution_count": 189,
      "outputs": [
        {
          "output_type": "execute_result",
          "data": {
            "text/html": [
              "<div>\n",
              "<style scoped>\n",
              "    .dataframe tbody tr th:only-of-type {\n",
              "        vertical-align: middle;\n",
              "    }\n",
              "\n",
              "    .dataframe tbody tr th {\n",
              "        vertical-align: top;\n",
              "    }\n",
              "\n",
              "    .dataframe thead th {\n",
              "        text-align: right;\n",
              "    }\n",
              "</style>\n",
              "<table border=\"1\" class=\"dataframe\">\n",
              "  <thead>\n",
              "    <tr style=\"text-align: right;\">\n",
              "      <th></th>\n",
              "      <th>a1</th>\n",
              "      <th>a2</th>\n",
              "      <th>a3</th>\n",
              "      <th>a4</th>\n",
              "      <th>class</th>\n",
              "    </tr>\n",
              "  </thead>\n",
              "  <tbody>\n",
              "    <tr>\n",
              "      <th>count</th>\n",
              "      <td>88320.000000</td>\n",
              "      <td>88320.000000</td>\n",
              "      <td>88320.000000</td>\n",
              "      <td>88320.000000</td>\n",
              "      <td>88320.0</td>\n",
              "    </tr>\n",
              "    <tr>\n",
              "      <th>mean</th>\n",
              "      <td>-0.000654</td>\n",
              "      <td>0.008212</td>\n",
              "      <td>0.003123</td>\n",
              "      <td>-0.005046</td>\n",
              "      <td>1.0</td>\n",
              "    </tr>\n",
              "    <tr>\n",
              "      <th>std</th>\n",
              "      <td>3.554499</td>\n",
              "      <td>3.922028</td>\n",
              "      <td>3.100732</td>\n",
              "      <td>3.331703</td>\n",
              "      <td>0.0</td>\n",
              "    </tr>\n",
              "    <tr>\n",
              "      <th>min</th>\n",
              "      <td>-21.826000</td>\n",
              "      <td>-22.440300</td>\n",
              "      <td>-17.883600</td>\n",
              "      <td>-23.450000</td>\n",
              "      <td>1.0</td>\n",
              "    </tr>\n",
              "    <tr>\n",
              "      <th>25%</th>\n",
              "      <td>-2.090257</td>\n",
              "      <td>-2.059417</td>\n",
              "      <td>-1.629942</td>\n",
              "      <td>-1.783825</td>\n",
              "      <td>1.0</td>\n",
              "    </tr>\n",
              "    <tr>\n",
              "      <th>50%</th>\n",
              "      <td>0.014590</td>\n",
              "      <td>0.088157</td>\n",
              "      <td>-0.007156</td>\n",
              "      <td>0.023381</td>\n",
              "      <td>1.0</td>\n",
              "    </tr>\n",
              "    <tr>\n",
              "      <th>75%</th>\n",
              "      <td>2.078990</td>\n",
              "      <td>2.216633</td>\n",
              "      <td>1.638803</td>\n",
              "      <td>1.797045</td>\n",
              "      <td>1.0</td>\n",
              "    </tr>\n",
              "    <tr>\n",
              "      <th>max</th>\n",
              "      <td>19.048900</td>\n",
              "      <td>19.456800</td>\n",
              "      <td>17.179000</td>\n",
              "      <td>21.069600</td>\n",
              "      <td>1.0</td>\n",
              "    </tr>\n",
              "  </tbody>\n",
              "</table>\n",
              "</div>"
            ],
            "text/plain": [
              "                 a1            a2            a3            a4    class\n",
              "count  88320.000000  88320.000000  88320.000000  88320.000000  88320.0\n",
              "mean      -0.000654      0.008212      0.003123     -0.005046      1.0\n",
              "std        3.554499      3.922028      3.100732      3.331703      0.0\n",
              "min      -21.826000    -22.440300    -17.883600    -23.450000      1.0\n",
              "25%       -2.090257     -2.059417     -1.629942     -1.783825      1.0\n",
              "50%        0.014590      0.088157     -0.007156      0.023381      1.0\n",
              "75%        2.078990      2.216633      1.638803      1.797045      1.0\n",
              "max       19.048900     19.456800     17.179000     21.069600      1.0"
            ]
          },
          "metadata": {
            "tags": []
          },
          "execution_count": 189
        }
      ]
    },
    {
      "cell_type": "code",
      "metadata": {
        "id": "ayHbq4MGVw9I"
      },
      "source": [
        "# inserindo o atributo de classe ok\n",
        "data2['class']= data2['a1'].apply(lambda x:0)"
      ],
      "execution_count": 190,
      "outputs": []
    },
    {
      "cell_type": "code",
      "metadata": {
        "colab": {
          "base_uri": "https://localhost:8080/",
          "height": 300
        },
        "id": "dpTtnVQeV8dz",
        "outputId": "9490b9be-3830-4192-e016-5fb29c0bf81e"
      },
      "source": [
        "data2.describe()"
      ],
      "execution_count": 191,
      "outputs": [
        {
          "output_type": "execute_result",
          "data": {
            "text/html": [
              "<div>\n",
              "<style scoped>\n",
              "    .dataframe tbody tr th:only-of-type {\n",
              "        vertical-align: middle;\n",
              "    }\n",
              "\n",
              "    .dataframe tbody tr th {\n",
              "        vertical-align: top;\n",
              "    }\n",
              "\n",
              "    .dataframe thead th {\n",
              "        text-align: right;\n",
              "    }\n",
              "</style>\n",
              "<table border=\"1\" class=\"dataframe\">\n",
              "  <thead>\n",
              "    <tr style=\"text-align: right;\">\n",
              "      <th></th>\n",
              "      <th>a1</th>\n",
              "      <th>a2</th>\n",
              "      <th>a3</th>\n",
              "      <th>a4</th>\n",
              "      <th>class</th>\n",
              "    </tr>\n",
              "  </thead>\n",
              "  <tbody>\n",
              "    <tr>\n",
              "      <th>count</th>\n",
              "      <td>88832.000000</td>\n",
              "      <td>88832.000000</td>\n",
              "      <td>88832.000000</td>\n",
              "      <td>88832.000000</td>\n",
              "      <td>88832.0</td>\n",
              "    </tr>\n",
              "    <tr>\n",
              "      <th>mean</th>\n",
              "      <td>-0.022179</td>\n",
              "      <td>0.007026</td>\n",
              "      <td>-0.039046</td>\n",
              "      <td>-0.007266</td>\n",
              "      <td>0.0</td>\n",
              "    </tr>\n",
              "    <tr>\n",
              "      <th>std</th>\n",
              "      <td>5.946117</td>\n",
              "      <td>4.156326</td>\n",
              "      <td>3.251874</td>\n",
              "      <td>3.361671</td>\n",
              "      <td>0.0</td>\n",
              "    </tr>\n",
              "    <tr>\n",
              "      <th>min</th>\n",
              "      <td>-38.414400</td>\n",
              "      <td>-29.159600</td>\n",
              "      <td>-21.264100</td>\n",
              "      <td>-21.014600</td>\n",
              "      <td>0.0</td>\n",
              "    </tr>\n",
              "    <tr>\n",
              "      <th>25%</th>\n",
              "      <td>-2.812102</td>\n",
              "      <td>-1.960202</td>\n",
              "      <td>-1.675305</td>\n",
              "      <td>-1.793673</td>\n",
              "      <td>0.0</td>\n",
              "    </tr>\n",
              "    <tr>\n",
              "      <th>50%</th>\n",
              "      <td>0.003228</td>\n",
              "      <td>0.030853</td>\n",
              "      <td>-0.043682</td>\n",
              "      <td>-0.010508</td>\n",
              "      <td>0.0</td>\n",
              "    </tr>\n",
              "    <tr>\n",
              "      <th>75%</th>\n",
              "      <td>2.748153</td>\n",
              "      <td>2.057140</td>\n",
              "      <td>1.650820</td>\n",
              "      <td>1.782993</td>\n",
              "      <td>0.0</td>\n",
              "    </tr>\n",
              "    <tr>\n",
              "      <th>max</th>\n",
              "      <td>39.267700</td>\n",
              "      <td>29.214600</td>\n",
              "      <td>18.821600</td>\n",
              "      <td>25.977600</td>\n",
              "      <td>0.0</td>\n",
              "    </tr>\n",
              "  </tbody>\n",
              "</table>\n",
              "</div>"
            ],
            "text/plain": [
              "                 a1            a2            a3            a4    class\n",
              "count  88832.000000  88832.000000  88832.000000  88832.000000  88832.0\n",
              "mean      -0.022179      0.007026     -0.039046     -0.007266      0.0\n",
              "std        5.946117      4.156326      3.251874      3.361671      0.0\n",
              "min      -38.414400    -29.159600    -21.264100    -21.014600      0.0\n",
              "25%       -2.812102     -1.960202     -1.675305     -1.793673      0.0\n",
              "50%        0.003228      0.030853     -0.043682     -0.010508      0.0\n",
              "75%        2.748153      2.057140      1.650820      1.782993      0.0\n",
              "max       39.267700     29.214600     18.821600     25.977600      0.0"
            ]
          },
          "metadata": {
            "tags": []
          },
          "execution_count": 191
        }
      ]
    },
    {
      "cell_type": "code",
      "metadata": {
        "id": "DxatiCjQWQ-l"
      },
      "source": [
        "data = pd.concat([data1,data2])"
      ],
      "execution_count": 192,
      "outputs": []
    },
    {
      "cell_type": "code",
      "metadata": {
        "colab": {
          "base_uri": "https://localhost:8080/",
          "height": 424
        },
        "id": "26xHwlYFxJjF",
        "outputId": "a582e2fe-2213-4982-9a4e-a689021a0ddb"
      },
      "source": [
        "data"
      ],
      "execution_count": 193,
      "outputs": [
        {
          "output_type": "execute_result",
          "data": {
            "text/html": [
              "<div>\n",
              "<style scoped>\n",
              "    .dataframe tbody tr th:only-of-type {\n",
              "        vertical-align: middle;\n",
              "    }\n",
              "\n",
              "    .dataframe tbody tr th {\n",
              "        vertical-align: top;\n",
              "    }\n",
              "\n",
              "    .dataframe thead th {\n",
              "        text-align: right;\n",
              "    }\n",
              "</style>\n",
              "<table border=\"1\" class=\"dataframe\">\n",
              "  <thead>\n",
              "    <tr style=\"text-align: right;\">\n",
              "      <th></th>\n",
              "      <th>a1</th>\n",
              "      <th>a2</th>\n",
              "      <th>a3</th>\n",
              "      <th>a4</th>\n",
              "      <th>class</th>\n",
              "    </tr>\n",
              "  </thead>\n",
              "  <tbody>\n",
              "    <tr>\n",
              "      <th>0</th>\n",
              "      <td>2.350390</td>\n",
              "      <td>1.454870</td>\n",
              "      <td>-1.667080</td>\n",
              "      <td>-2.055610</td>\n",
              "      <td>1</td>\n",
              "    </tr>\n",
              "    <tr>\n",
              "      <th>1</th>\n",
              "      <td>2.452970</td>\n",
              "      <td>1.400100</td>\n",
              "      <td>-2.825100</td>\n",
              "      <td>0.984487</td>\n",
              "      <td>1</td>\n",
              "    </tr>\n",
              "    <tr>\n",
              "      <th>2</th>\n",
              "      <td>-0.241284</td>\n",
              "      <td>-0.267390</td>\n",
              "      <td>0.793540</td>\n",
              "      <td>0.605862</td>\n",
              "      <td>1</td>\n",
              "    </tr>\n",
              "    <tr>\n",
              "      <th>3</th>\n",
              "      <td>1.130270</td>\n",
              "      <td>-0.890918</td>\n",
              "      <td>0.696969</td>\n",
              "      <td>0.613068</td>\n",
              "      <td>1</td>\n",
              "    </tr>\n",
              "    <tr>\n",
              "      <th>4</th>\n",
              "      <td>-1.296140</td>\n",
              "      <td>0.980479</td>\n",
              "      <td>-1.130560</td>\n",
              "      <td>-0.346971</td>\n",
              "      <td>1</td>\n",
              "    </tr>\n",
              "    <tr>\n",
              "      <th>...</th>\n",
              "      <td>...</td>\n",
              "      <td>...</td>\n",
              "      <td>...</td>\n",
              "      <td>...</td>\n",
              "      <td>...</td>\n",
              "    </tr>\n",
              "    <tr>\n",
              "      <th>88827</th>\n",
              "      <td>2.809130</td>\n",
              "      <td>-3.421020</td>\n",
              "      <td>2.817560</td>\n",
              "      <td>5.418570</td>\n",
              "      <td>0</td>\n",
              "    </tr>\n",
              "    <tr>\n",
              "      <th>88828</th>\n",
              "      <td>11.952700</td>\n",
              "      <td>1.738450</td>\n",
              "      <td>4.215360</td>\n",
              "      <td>5.602480</td>\n",
              "      <td>0</td>\n",
              "    </tr>\n",
              "    <tr>\n",
              "      <th>88829</th>\n",
              "      <td>6.530280</td>\n",
              "      <td>-3.127760</td>\n",
              "      <td>-2.620330</td>\n",
              "      <td>-3.159950</td>\n",
              "      <td>0</td>\n",
              "    </tr>\n",
              "    <tr>\n",
              "      <th>88830</th>\n",
              "      <td>-8.614460</td>\n",
              "      <td>5.420640</td>\n",
              "      <td>-6.559170</td>\n",
              "      <td>-0.519373</td>\n",
              "      <td>0</td>\n",
              "    </tr>\n",
              "    <tr>\n",
              "      <th>88831</th>\n",
              "      <td>-13.777300</td>\n",
              "      <td>2.096510</td>\n",
              "      <td>-0.539919</td>\n",
              "      <td>-2.721940</td>\n",
              "      <td>0</td>\n",
              "    </tr>\n",
              "  </tbody>\n",
              "</table>\n",
              "<p>177152 rows × 5 columns</p>\n",
              "</div>"
            ],
            "text/plain": [
              "              a1        a2        a3        a4  class\n",
              "0       2.350390  1.454870 -1.667080 -2.055610      1\n",
              "1       2.452970  1.400100 -2.825100  0.984487      1\n",
              "2      -0.241284 -0.267390  0.793540  0.605862      1\n",
              "3       1.130270 -0.890918  0.696969  0.613068      1\n",
              "4      -1.296140  0.980479 -1.130560 -0.346971      1\n",
              "...          ...       ...       ...       ...    ...\n",
              "88827   2.809130 -3.421020  2.817560  5.418570      0\n",
              "88828  11.952700  1.738450  4.215360  5.602480      0\n",
              "88829   6.530280 -3.127760 -2.620330 -3.159950      0\n",
              "88830  -8.614460  5.420640 -6.559170 -0.519373      0\n",
              "88831 -13.777300  2.096510 -0.539919 -2.721940      0\n",
              "\n",
              "[177152 rows x 5 columns]"
            ]
          },
          "metadata": {
            "tags": []
          },
          "execution_count": 193
        }
      ]
    },
    {
      "cell_type": "code",
      "metadata": {
        "id": "-trwz3i7x1OH"
      },
      "source": [
        "#data.to_csv('File.csv', index = False)"
      ],
      "execution_count": 194,
      "outputs": []
    },
    {
      "cell_type": "code",
      "metadata": {
        "colab": {
          "base_uri": "https://localhost:8080/",
          "height": 300
        },
        "id": "9qWR5QTiX--s",
        "outputId": "520dc30e-43df-420e-fdc2-94e0329075cd"
      },
      "source": [
        "data.describe()"
      ],
      "execution_count": 195,
      "outputs": [
        {
          "output_type": "execute_result",
          "data": {
            "text/html": [
              "<div>\n",
              "<style scoped>\n",
              "    .dataframe tbody tr th:only-of-type {\n",
              "        vertical-align: middle;\n",
              "    }\n",
              "\n",
              "    .dataframe tbody tr th {\n",
              "        vertical-align: top;\n",
              "    }\n",
              "\n",
              "    .dataframe thead th {\n",
              "        text-align: right;\n",
              "    }\n",
              "</style>\n",
              "<table border=\"1\" class=\"dataframe\">\n",
              "  <thead>\n",
              "    <tr style=\"text-align: right;\">\n",
              "      <th></th>\n",
              "      <th>a1</th>\n",
              "      <th>a2</th>\n",
              "      <th>a3</th>\n",
              "      <th>a4</th>\n",
              "      <th>class</th>\n",
              "    </tr>\n",
              "  </thead>\n",
              "  <tbody>\n",
              "    <tr>\n",
              "      <th>count</th>\n",
              "      <td>177152.000000</td>\n",
              "      <td>177152.000000</td>\n",
              "      <td>177152.000000</td>\n",
              "      <td>177152.000000</td>\n",
              "      <td>177152.000000</td>\n",
              "    </tr>\n",
              "    <tr>\n",
              "      <th>mean</th>\n",
              "      <td>-0.011448</td>\n",
              "      <td>0.007617</td>\n",
              "      <td>-0.018023</td>\n",
              "      <td>-0.006159</td>\n",
              "      <td>0.498555</td>\n",
              "    </tr>\n",
              "    <tr>\n",
              "      <th>std</th>\n",
              "      <td>4.901857</td>\n",
              "      <td>4.041203</td>\n",
              "      <td>3.177481</td>\n",
              "      <td>3.346755</td>\n",
              "      <td>0.499999</td>\n",
              "    </tr>\n",
              "    <tr>\n",
              "      <th>min</th>\n",
              "      <td>-38.414400</td>\n",
              "      <td>-29.159600</td>\n",
              "      <td>-21.264100</td>\n",
              "      <td>-23.450000</td>\n",
              "      <td>0.000000</td>\n",
              "    </tr>\n",
              "    <tr>\n",
              "      <th>25%</th>\n",
              "      <td>-2.393790</td>\n",
              "      <td>-2.007557</td>\n",
              "      <td>-1.652553</td>\n",
              "      <td>-1.789515</td>\n",
              "      <td>0.000000</td>\n",
              "    </tr>\n",
              "    <tr>\n",
              "      <th>50%</th>\n",
              "      <td>0.009984</td>\n",
              "      <td>0.057149</td>\n",
              "      <td>-0.026417</td>\n",
              "      <td>0.005622</td>\n",
              "      <td>0.000000</td>\n",
              "    </tr>\n",
              "    <tr>\n",
              "      <th>75%</th>\n",
              "      <td>2.368275</td>\n",
              "      <td>2.138662</td>\n",
              "      <td>1.644583</td>\n",
              "      <td>1.791345</td>\n",
              "      <td>1.000000</td>\n",
              "    </tr>\n",
              "    <tr>\n",
              "      <th>max</th>\n",
              "      <td>39.267700</td>\n",
              "      <td>29.214600</td>\n",
              "      <td>18.821600</td>\n",
              "      <td>25.977600</td>\n",
              "      <td>1.000000</td>\n",
              "    </tr>\n",
              "  </tbody>\n",
              "</table>\n",
              "</div>"
            ],
            "text/plain": [
              "                  a1             a2  ...             a4          class\n",
              "count  177152.000000  177152.000000  ...  177152.000000  177152.000000\n",
              "mean       -0.011448       0.007617  ...      -0.006159       0.498555\n",
              "std         4.901857       4.041203  ...       3.346755       0.499999\n",
              "min       -38.414400     -29.159600  ...     -23.450000       0.000000\n",
              "25%        -2.393790      -2.007557  ...      -1.789515       0.000000\n",
              "50%         0.009984       0.057149  ...       0.005622       0.000000\n",
              "75%         2.368275       2.138662  ...       1.791345       1.000000\n",
              "max        39.267700      29.214600  ...      25.977600       1.000000\n",
              "\n",
              "[8 rows x 5 columns]"
            ]
          },
          "metadata": {
            "tags": []
          },
          "execution_count": 195
        }
      ]
    },
    {
      "cell_type": "code",
      "metadata": {
        "colab": {
          "base_uri": "https://localhost:8080/",
          "height": 206
        },
        "id": "uXrh2ygnYH47",
        "outputId": "2eb7f93f-2a50-4d29-f4b4-60ac15c44a74"
      },
      "source": [
        "data.head()"
      ],
      "execution_count": 196,
      "outputs": [
        {
          "output_type": "execute_result",
          "data": {
            "text/html": [
              "<div>\n",
              "<style scoped>\n",
              "    .dataframe tbody tr th:only-of-type {\n",
              "        vertical-align: middle;\n",
              "    }\n",
              "\n",
              "    .dataframe tbody tr th {\n",
              "        vertical-align: top;\n",
              "    }\n",
              "\n",
              "    .dataframe thead th {\n",
              "        text-align: right;\n",
              "    }\n",
              "</style>\n",
              "<table border=\"1\" class=\"dataframe\">\n",
              "  <thead>\n",
              "    <tr style=\"text-align: right;\">\n",
              "      <th></th>\n",
              "      <th>a1</th>\n",
              "      <th>a2</th>\n",
              "      <th>a3</th>\n",
              "      <th>a4</th>\n",
              "      <th>class</th>\n",
              "    </tr>\n",
              "  </thead>\n",
              "  <tbody>\n",
              "    <tr>\n",
              "      <th>0</th>\n",
              "      <td>2.350390</td>\n",
              "      <td>1.454870</td>\n",
              "      <td>-1.667080</td>\n",
              "      <td>-2.055610</td>\n",
              "      <td>1</td>\n",
              "    </tr>\n",
              "    <tr>\n",
              "      <th>1</th>\n",
              "      <td>2.452970</td>\n",
              "      <td>1.400100</td>\n",
              "      <td>-2.825100</td>\n",
              "      <td>0.984487</td>\n",
              "      <td>1</td>\n",
              "    </tr>\n",
              "    <tr>\n",
              "      <th>2</th>\n",
              "      <td>-0.241284</td>\n",
              "      <td>-0.267390</td>\n",
              "      <td>0.793540</td>\n",
              "      <td>0.605862</td>\n",
              "      <td>1</td>\n",
              "    </tr>\n",
              "    <tr>\n",
              "      <th>3</th>\n",
              "      <td>1.130270</td>\n",
              "      <td>-0.890918</td>\n",
              "      <td>0.696969</td>\n",
              "      <td>0.613068</td>\n",
              "      <td>1</td>\n",
              "    </tr>\n",
              "    <tr>\n",
              "      <th>4</th>\n",
              "      <td>-1.296140</td>\n",
              "      <td>0.980479</td>\n",
              "      <td>-1.130560</td>\n",
              "      <td>-0.346971</td>\n",
              "      <td>1</td>\n",
              "    </tr>\n",
              "  </tbody>\n",
              "</table>\n",
              "</div>"
            ],
            "text/plain": [
              "         a1        a2        a3        a4  class\n",
              "0  2.350390  1.454870 -1.667080 -2.055610      1\n",
              "1  2.452970  1.400100 -2.825100  0.984487      1\n",
              "2 -0.241284 -0.267390  0.793540  0.605862      1\n",
              "3  1.130270 -0.890918  0.696969  0.613068      1\n",
              "4 -1.296140  0.980479 -1.130560 -0.346971      1"
            ]
          },
          "metadata": {
            "tags": []
          },
          "execution_count": 196
        }
      ]
    },
    {
      "cell_type": "code",
      "metadata": {
        "id": "W9vT2F9YY6bq"
      },
      "source": [
        "data_atrib = data.iloc[:,0:4]"
      ],
      "execution_count": 197,
      "outputs": []
    },
    {
      "cell_type": "code",
      "metadata": {
        "colab": {
          "base_uri": "https://localhost:8080/",
          "height": 424
        },
        "id": "6cTPfg6dZT3e",
        "outputId": "dbb705d7-1c18-4536-ba1f-2609b91a9a08"
      },
      "source": [
        "data_atrib"
      ],
      "execution_count": 198,
      "outputs": [
        {
          "output_type": "execute_result",
          "data": {
            "text/html": [
              "<div>\n",
              "<style scoped>\n",
              "    .dataframe tbody tr th:only-of-type {\n",
              "        vertical-align: middle;\n",
              "    }\n",
              "\n",
              "    .dataframe tbody tr th {\n",
              "        vertical-align: top;\n",
              "    }\n",
              "\n",
              "    .dataframe thead th {\n",
              "        text-align: right;\n",
              "    }\n",
              "</style>\n",
              "<table border=\"1\" class=\"dataframe\">\n",
              "  <thead>\n",
              "    <tr style=\"text-align: right;\">\n",
              "      <th></th>\n",
              "      <th>a1</th>\n",
              "      <th>a2</th>\n",
              "      <th>a3</th>\n",
              "      <th>a4</th>\n",
              "    </tr>\n",
              "  </thead>\n",
              "  <tbody>\n",
              "    <tr>\n",
              "      <th>0</th>\n",
              "      <td>2.350390</td>\n",
              "      <td>1.454870</td>\n",
              "      <td>-1.667080</td>\n",
              "      <td>-2.055610</td>\n",
              "    </tr>\n",
              "    <tr>\n",
              "      <th>1</th>\n",
              "      <td>2.452970</td>\n",
              "      <td>1.400100</td>\n",
              "      <td>-2.825100</td>\n",
              "      <td>0.984487</td>\n",
              "    </tr>\n",
              "    <tr>\n",
              "      <th>2</th>\n",
              "      <td>-0.241284</td>\n",
              "      <td>-0.267390</td>\n",
              "      <td>0.793540</td>\n",
              "      <td>0.605862</td>\n",
              "    </tr>\n",
              "    <tr>\n",
              "      <th>3</th>\n",
              "      <td>1.130270</td>\n",
              "      <td>-0.890918</td>\n",
              "      <td>0.696969</td>\n",
              "      <td>0.613068</td>\n",
              "    </tr>\n",
              "    <tr>\n",
              "      <th>4</th>\n",
              "      <td>-1.296140</td>\n",
              "      <td>0.980479</td>\n",
              "      <td>-1.130560</td>\n",
              "      <td>-0.346971</td>\n",
              "    </tr>\n",
              "    <tr>\n",
              "      <th>...</th>\n",
              "      <td>...</td>\n",
              "      <td>...</td>\n",
              "      <td>...</td>\n",
              "      <td>...</td>\n",
              "    </tr>\n",
              "    <tr>\n",
              "      <th>88827</th>\n",
              "      <td>2.809130</td>\n",
              "      <td>-3.421020</td>\n",
              "      <td>2.817560</td>\n",
              "      <td>5.418570</td>\n",
              "    </tr>\n",
              "    <tr>\n",
              "      <th>88828</th>\n",
              "      <td>11.952700</td>\n",
              "      <td>1.738450</td>\n",
              "      <td>4.215360</td>\n",
              "      <td>5.602480</td>\n",
              "    </tr>\n",
              "    <tr>\n",
              "      <th>88829</th>\n",
              "      <td>6.530280</td>\n",
              "      <td>-3.127760</td>\n",
              "      <td>-2.620330</td>\n",
              "      <td>-3.159950</td>\n",
              "    </tr>\n",
              "    <tr>\n",
              "      <th>88830</th>\n",
              "      <td>-8.614460</td>\n",
              "      <td>5.420640</td>\n",
              "      <td>-6.559170</td>\n",
              "      <td>-0.519373</td>\n",
              "    </tr>\n",
              "    <tr>\n",
              "      <th>88831</th>\n",
              "      <td>-13.777300</td>\n",
              "      <td>2.096510</td>\n",
              "      <td>-0.539919</td>\n",
              "      <td>-2.721940</td>\n",
              "    </tr>\n",
              "  </tbody>\n",
              "</table>\n",
              "<p>177152 rows × 4 columns</p>\n",
              "</div>"
            ],
            "text/plain": [
              "              a1        a2        a3        a4\n",
              "0       2.350390  1.454870 -1.667080 -2.055610\n",
              "1       2.452970  1.400100 -2.825100  0.984487\n",
              "2      -0.241284 -0.267390  0.793540  0.605862\n",
              "3       1.130270 -0.890918  0.696969  0.613068\n",
              "4      -1.296140  0.980479 -1.130560 -0.346971\n",
              "...          ...       ...       ...       ...\n",
              "88827   2.809130 -3.421020  2.817560  5.418570\n",
              "88828  11.952700  1.738450  4.215360  5.602480\n",
              "88829   6.530280 -3.127760 -2.620330 -3.159950\n",
              "88830  -8.614460  5.420640 -6.559170 -0.519373\n",
              "88831 -13.777300  2.096510 -0.539919 -2.721940\n",
              "\n",
              "[177152 rows x 4 columns]"
            ]
          },
          "metadata": {
            "tags": []
          },
          "execution_count": 198
        }
      ]
    },
    {
      "cell_type": "code",
      "metadata": {
        "colab": {
          "base_uri": "https://localhost:8080/",
          "height": 630
        },
        "id": "BTULv_wIYS5q",
        "outputId": "e429dce6-e3d3-4e7e-e6b5-e772621ef97a"
      },
      "source": [
        "plt.figure(figsize=(10,10))\n",
        "sns.boxplot(data=data_atrib)\n",
        "sns.despine(offset=10, trim=True)\n",
        "plt.xticks(rotation=90, fontsize=16)"
      ],
      "execution_count": 199,
      "outputs": [
        {
          "output_type": "execute_result",
          "data": {
            "text/plain": [
              "(array([0, 1, 2, 3]), <a list of 4 Text major ticklabel objects>)"
            ]
          },
          "metadata": {
            "tags": []
          },
          "execution_count": 199
        },
        {
          "output_type": "display_data",
          "data": {
            "image/png": "[encoded data removed]",
            "text/plain": [
              "<Figure size 720x720 with 1 Axes>"
            ]
          },
          "metadata": {
            "tags": []
          }
        }
      ]
    },
    {
      "cell_type": "code",
      "metadata": {
        "colab": {
          "base_uri": "https://localhost:8080/",
          "height": 337
        },
        "id": "WgV_3oc9Yfz2",
        "outputId": "787fbaa1-d0f0-45ec-a6c4-ff71d3e28e15"
      },
      "source": [
        "#correlation map\n",
        "f,ax = plt.subplots(figsize=(5,5))\n",
        "sns.heatmap(data_atrib.corr(),annot=True, linewidths=.5, fmt= '.1f',ax=ax)\n",
        "plt.title('Correlações')\n",
        "plt.show()"
      ],
      "execution_count": 200,
      "outputs": [
        {
          "output_type": "display_data",
          "data": {
            "image/png": "[encoded data removed]",
            "text/plain": [
              "<Figure size 360x360 with 2 Axes>"
            ]
          },
          "metadata": {
            "tags": []
          }
        }
      ]
    },
    {
      "cell_type": "code",
      "metadata": {
        "colab": {
          "base_uri": "https://localhost:8080/",
          "height": 36
        },
        "id": "YA-jb8NQkTLK",
        "outputId": "be55fbfc-f0c2-4a49-e8f0-242b8d48590e"
      },
      "source": [
        "'''\n",
        "g = sns.pairplot(data, hue='class', markers='+')\n",
        "plt.show()\n",
        "'''"
      ],
      "execution_count": 201,
      "outputs": [
        {
          "output_type": "execute_result",
          "data": {
            "application/vnd.google.colaboratory.intrinsic+json": {
              "type": "string"
            },
            "text/plain": [
              "\"\\ng = sns.pairplot(data, hue='class', markers='+')\\nplt.show()\\n\""
            ]
          },
          "metadata": {
            "tags": []
          },
          "execution_count": 201
        }
      ]
    },
    {
      "cell_type": "code",
      "metadata": {
        "colab": {
          "base_uri": "https://localhost:8080/",
          "height": 282
        },
        "id": "yU0zps20aT8B",
        "outputId": "ca047fcb-4952-4ab2-fa35-d2c1a3b56131"
      },
      "source": [
        "plt.figure(figsize=(5,4))\n",
        "ax = sns.histplot(data=data, x=\"a1\", hue=\"class\",kde=True)"
      ],
      "execution_count": 202,
      "outputs": [
        {
          "output_type": "display_data",
          "data": {
            "image/png": "[encoded data removed]",
            "text/plain": [
              "<Figure size 360x288 with 1 Axes>"
            ]
          },
          "metadata": {
            "tags": []
          }
        }
      ]
    },
    {
      "cell_type": "code",
      "metadata": {
        "colab": {
          "base_uri": "https://localhost:8080/",
          "height": 282
        },
        "id": "wY8MjvHJae6b",
        "outputId": "beffa8c6-e323-4958-dfd5-61d1d195a4de"
      },
      "source": [
        "plt.figure(figsize=(5,4))\n",
        "ax = sns.histplot(data=data, x=\"a2\", hue=\"class\",kde=True)"
      ],
      "execution_count": 203,
      "outputs": [
        {
          "output_type": "display_data",
          "data": {
            "image/png": "[encoded data removed]",
            "text/plain": [
              "<Figure size 360x288 with 1 Axes>"
            ]
          },
          "metadata": {
            "tags": []
          }
        }
      ]
    },
    {
      "cell_type": "code",
      "metadata": {
        "colab": {
          "base_uri": "https://localhost:8080/",
          "height": 282
        },
        "id": "RzGhe8pjaghT",
        "outputId": "6b4fe6f6-9903-4c0f-b48e-6e9796ff6be3"
      },
      "source": [
        "plt.figure(figsize=(5,4))\n",
        "ax = sns.histplot(data=data, x=\"a3\", hue=\"class\",kde=True)"
      ],
      "execution_count": 204,
      "outputs": [
        {
          "output_type": "display_data",
          "data": {
            "image/png": "[encoded data removed]",
            "text/plain": [
              "<Figure size 360x288 with 1 Axes>"
            ]
          },
          "metadata": {
            "tags": []
          }
        }
      ]
    },
    {
      "cell_type": "code",
      "metadata": {
        "colab": {
          "base_uri": "https://localhost:8080/",
          "height": 282
        },
        "id": "Aj3KY6BEah14",
        "outputId": "b35cdb2f-3590-45c4-f767-b44cde684991"
      },
      "source": [
        "plt.figure(figsize=(5,4))\n",
        "ax = sns.histplot(data=data, x=\"a4\", hue=\"class\",kde=True)"
      ],
      "execution_count": 205,
      "outputs": [
        {
          "output_type": "display_data",
          "data": {
            "image/png": "[encoded data removed]",
            "text/plain": [
              "<Figure size 360x288 with 1 Axes>"
            ]
          },
          "metadata": {
            "tags": []
          }
        }
      ]
    },
    {
      "cell_type": "code",
      "metadata": {
        "colab": {
          "base_uri": "https://localhost:8080/",
          "height": 375
        },
        "id": "H5jhg0bYZtQH",
        "outputId": "e977bcc6-7305-4518-8775-2afe3af80790"
      },
      "source": [
        "plt.figure(figsize=(10,4))\n",
        "ax = sns.histplot(data=data, x=\"class\", hue=\"class\",kde=True)"
      ],
      "execution_count": 206,
      "outputs": [
        {
          "output_type": "stream",
          "text": [
            "/usr/local/lib/python3.7/dist-packages/seaborn/distributions.py:306: UserWarning: Dataset has 0 variance; skipping density estimate.\n",
            "  warnings.warn(msg, UserWarning)\n",
            "/usr/local/lib/python3.7/dist-packages/seaborn/distributions.py:306: UserWarning: Dataset has 0 variance; skipping density estimate.\n",
            "  warnings.warn(msg, UserWarning)\n"
          ],
          "name": "stderr"
        },
        {
          "output_type": "display_data",
          "data": {
            "image/png": "[encoded data removed]",
            "text/plain": [
              "<Figure size 720x288 with 1 Axes>"
            ]
          },
          "metadata": {
            "tags": []
          }
        }
      ]
    },
    {
      "cell_type": "code",
      "metadata": {
        "id": "MUb0bgXtjEJV"
      },
      "source": [
        "# Split o dataset e definindo as variáveis de treino e teste \n",
        "X = data.drop(\"class\", axis=1)\n",
        "y = data['class']\n",
        "X_train, X_test, y_train, y_test = train_test_split(X, y, test_size=1/3,stratify = y, random_state=42)"
      ],
      "execution_count": 207,
      "outputs": []
    },
    {
      "cell_type": "markdown",
      "metadata": {
        "id": "x6qxikyXr1aP"
      },
      "source": [
        "#Pré-processamento "
      ]
    },
    {
      "cell_type": "markdown",
      "metadata": {
        "id": "Mo5Z6IH9RK0Z"
      },
      "source": [
        "##retirarando os outliers"
      ]
    },
    {
      "cell_type": "code",
      "metadata": {
        "id": "ziE1vXpRpaC9"
      },
      "source": [
        "from sklearn.preprocessing import RobustScaler\n",
        "transformer = RobustScaler().fit(X)\n",
        "transformer\n",
        "RobustScaler()\n",
        "Xr=transformer.transform(X)"
      ],
      "execution_count": 208,
      "outputs": []
    },
    {
      "cell_type": "code",
      "metadata": {
        "id": "I87btqW0qNPO"
      },
      "source": [
        "Xr_train, Xr_test, yr_train, yr_test = train_test_split(Xr, y, test_size=1/3,stratify = y, random_state=42)"
      ],
      "execution_count": 209,
      "outputs": []
    },
    {
      "cell_type": "markdown",
      "metadata": {
        "id": "q_HETnAtr_CZ"
      },
      "source": [
        "##Normalização"
      ]
    },
    {
      "cell_type": "code",
      "metadata": {
        "id": "CW_uVHWAcuFE"
      },
      "source": [
        "from sklearn.preprocessing import MinMaxScaler"
      ],
      "execution_count": 210,
      "outputs": []
    },
    {
      "cell_type": "code",
      "metadata": {
        "colab": {
          "base_uri": "https://localhost:8080/"
        },
        "id": "vW6KHBG5cskb",
        "outputId": "c872ba4d-c836-4a14-c20f-0d7b05535eb9"
      },
      "source": [
        "scaler = MinMaxScaler(feature_range=(-1,1))\n",
        "scaler.fit(data.iloc[:,:-1])"
      ],
      "execution_count": 211,
      "outputs": [
        {
          "output_type": "execute_result",
          "data": {
            "text/plain": [
              "MinMaxScaler(copy=True, feature_range=(-1, 1))"
            ]
          },
          "metadata": {
            "tags": []
          },
          "execution_count": 211
        }
      ]
    },
    {
      "cell_type": "code",
      "metadata": {
        "id": "M6KHXOHvE8xY"
      },
      "source": [
        "data_Norm = scaler.transform(data.iloc[:,:-1])"
      ],
      "execution_count": 212,
      "outputs": []
    },
    {
      "cell_type": "code",
      "metadata": {
        "id": "xkmzeQBlc9bW"
      },
      "source": [
        "data_Norm = pd.DataFrame(scaler.transform(data.iloc[:,:-1]), columns=data.iloc[:,:-1].columns) "
      ],
      "execution_count": 213,
      "outputs": []
    },
    {
      "cell_type": "code",
      "metadata": {
        "colab": {
          "base_uri": "https://localhost:8080/",
          "height": 424
        },
        "id": "BnYEG66dtt0n",
        "outputId": "3c54b9eb-72b3-48c7-ef7a-c63990022d28"
      },
      "source": [
        "data_Norm"
      ],
      "execution_count": 214,
      "outputs": [
        {
          "output_type": "execute_result",
          "data": {
            "text/html": [
              "<div>\n",
              "<style scoped>\n",
              "    .dataframe tbody tr th:only-of-type {\n",
              "        vertical-align: middle;\n",
              "    }\n",
              "\n",
              "    .dataframe tbody tr th {\n",
              "        vertical-align: top;\n",
              "    }\n",
              "\n",
              "    .dataframe thead th {\n",
              "        text-align: right;\n",
              "    }\n",
              "</style>\n",
              "<table border=\"1\" class=\"dataframe\">\n",
              "  <thead>\n",
              "    <tr style=\"text-align: right;\">\n",
              "      <th></th>\n",
              "      <th>a1</th>\n",
              "      <th>a2</th>\n",
              "      <th>a3</th>\n",
              "      <th>a4</th>\n",
              "    </tr>\n",
              "  </thead>\n",
              "  <tbody>\n",
              "    <tr>\n",
              "      <th>0</th>\n",
              "      <td>0.049529</td>\n",
              "      <td>0.048904</td>\n",
              "      <td>-0.022244</td>\n",
              "      <td>-0.134314</td>\n",
              "    </tr>\n",
              "    <tr>\n",
              "      <th>1</th>\n",
              "      <td>0.052170</td>\n",
              "      <td>0.047028</td>\n",
              "      <td>-0.080021</td>\n",
              "      <td>-0.011302</td>\n",
              "    </tr>\n",
              "    <tr>\n",
              "      <th>2</th>\n",
              "      <td>-0.017197</td>\n",
              "      <td>-0.010103</td>\n",
              "      <td>0.100524</td>\n",
              "      <td>-0.026622</td>\n",
              "    </tr>\n",
              "    <tr>\n",
              "      <th>3</th>\n",
              "      <td>0.018115</td>\n",
              "      <td>-0.031467</td>\n",
              "      <td>0.095706</td>\n",
              "      <td>-0.026331</td>\n",
              "    </tr>\n",
              "    <tr>\n",
              "      <th>4</th>\n",
              "      <td>-0.044355</td>\n",
              "      <td>0.032651</td>\n",
              "      <td>0.004525</td>\n",
              "      <td>-0.065177</td>\n",
              "    </tr>\n",
              "    <tr>\n",
              "      <th>...</th>\n",
              "      <td>...</td>\n",
              "      <td>...</td>\n",
              "      <td>...</td>\n",
              "      <td>...</td>\n",
              "    </tr>\n",
              "    <tr>\n",
              "      <th>177147</th>\n",
              "      <td>0.061339</td>\n",
              "      <td>-0.118152</td>\n",
              "      <td>0.201509</td>\n",
              "      <td>0.168115</td>\n",
              "    </tr>\n",
              "    <tr>\n",
              "      <th>177148</th>\n",
              "      <td>0.296749</td>\n",
              "      <td>0.058620</td>\n",
              "      <td>0.271249</td>\n",
              "      <td>0.175557</td>\n",
              "    </tr>\n",
              "    <tr>\n",
              "      <th>177149</th>\n",
              "      <td>0.157144</td>\n",
              "      <td>-0.108105</td>\n",
              "      <td>-0.069804</td>\n",
              "      <td>-0.178999</td>\n",
              "    </tr>\n",
              "    <tr>\n",
              "      <th>177150</th>\n",
              "      <td>-0.232772</td>\n",
              "      <td>0.184778</td>\n",
              "      <td>-0.266325</td>\n",
              "      <td>-0.072153</td>\n",
              "    </tr>\n",
              "    <tr>\n",
              "      <th>177151</th>\n",
              "      <td>-0.365694</td>\n",
              "      <td>0.070888</td>\n",
              "      <td>0.033994</td>\n",
              "      <td>-0.161276</td>\n",
              "    </tr>\n",
              "  </tbody>\n",
              "</table>\n",
              "<p>177152 rows × 4 columns</p>\n",
              "</div>"
            ],
            "text/plain": [
              "              a1        a2        a3        a4\n",
              "0       0.049529  0.048904 -0.022244 -0.134314\n",
              "1       0.052170  0.047028 -0.080021 -0.011302\n",
              "2      -0.017197 -0.010103  0.100524 -0.026622\n",
              "3       0.018115 -0.031467  0.095706 -0.026331\n",
              "4      -0.044355  0.032651  0.004525 -0.065177\n",
              "...          ...       ...       ...       ...\n",
              "177147  0.061339 -0.118152  0.201509  0.168115\n",
              "177148  0.296749  0.058620  0.271249  0.175557\n",
              "177149  0.157144 -0.108105 -0.069804 -0.178999\n",
              "177150 -0.232772  0.184778 -0.266325 -0.072153\n",
              "177151 -0.365694  0.070888  0.033994 -0.161276\n",
              "\n",
              "[177152 rows x 4 columns]"
            ]
          },
          "metadata": {
            "tags": []
          },
          "execution_count": 214
        }
      ]
    },
    {
      "cell_type": "code",
      "metadata": {
        "id": "RouFdrdPEJfk"
      },
      "source": [
        "#df_Normalized = pd.concat([data_Norm,data.iloc[:,-1]], axis=1)"
      ],
      "execution_count": 215,
      "outputs": []
    },
    {
      "cell_type": "code",
      "metadata": {
        "id": "p9vgoM-wsfHP"
      },
      "source": [
        "Xn = data_Norm\n",
        "yn = data['class']"
      ],
      "execution_count": 216,
      "outputs": []
    },
    {
      "cell_type": "code",
      "metadata": {
        "colab": {
          "base_uri": "https://localhost:8080/"
        },
        "id": "A76kcVdi0-uq",
        "outputId": "98634ae9-0fcd-430c-fd06-0937cb6e7022"
      },
      "source": [
        "data['class'].value_counts()"
      ],
      "execution_count": 217,
      "outputs": [
        {
          "output_type": "execute_result",
          "data": {
            "text/plain": [
              "0    88832\n",
              "1    88320\n",
              "Name: class, dtype: int64"
            ]
          },
          "metadata": {
            "tags": []
          },
          "execution_count": 217
        }
      ]
    },
    {
      "cell_type": "code",
      "metadata": {
        "colab": {
          "base_uri": "https://localhost:8080/"
        },
        "id": "opEuC0m_GsHP",
        "outputId": "40c4b166-3cc2-4ddf-c0bc-159ea3163b75"
      },
      "source": [
        "data_Norm['a1'].describe()"
      ],
      "execution_count": 218,
      "outputs": [
        {
          "output_type": "execute_result",
          "data": {
            "text/plain": [
              "count    177152.000000\n",
              "mean         -0.011279\n",
              "std           0.126203\n",
              "min          -1.000000\n",
              "25%          -0.072615\n",
              "50%          -0.010727\n",
              "75%           0.049989\n",
              "max           1.000000\n",
              "Name: a1, dtype: float64"
            ]
          },
          "metadata": {
            "tags": []
          },
          "execution_count": 218
        }
      ]
    },
    {
      "cell_type": "code",
      "metadata": {
        "id": "oEHssk16sIfT"
      },
      "source": [
        "Xn_train, Xn_test, yn_train, yn_test = train_test_split(Xn, yn, test_size=1/3,stratify = yn, random_state=42)"
      ],
      "execution_count": 219,
      "outputs": []
    },
    {
      "cell_type": "markdown",
      "metadata": {
        "id": "YtqyWz24RReh"
      },
      "source": [
        "#Classificadores\n"
      ]
    },
    {
      "cell_type": "markdown",
      "metadata": {
        "id": "TtrPMmPzfkDp"
      },
      "source": [
        "##Dummy Classifier"
      ]
    },
    {
      "cell_type": "code",
      "metadata": {
        "colab": {
          "base_uri": "https://localhost:8080/"
        },
        "id": "RyKTjrGqfo3-",
        "outputId": "e675a9b9-5739-4879-fda3-aa7dd42a8025"
      },
      "source": [
        "from sklearn.dummy import DummyClassifier\n",
        "from sklearn.metrics import accuracy_score\n",
        "\n",
        "modelo_dummy = DummyClassifier('most_frequent')\n",
        "modelo_dummy.fit(X_train, y_train)\n",
        "previsao_dummy = modelo_dummy.predict(X_test)\n",
        "accuracy_score(y_test, previsao_dummy)"
      ],
      "execution_count": 119,
      "outputs": [
        {
          "output_type": "execute_result",
          "data": {
            "text/plain": [
              "0.5014479009669608"
            ]
          },
          "metadata": {
            "tags": []
          },
          "execution_count": 119
        }
      ]
    },
    {
      "cell_type": "markdown",
      "metadata": {
        "id": "ZNoRidtsfgpa"
      },
      "source": [
        "##Árvores de Decisão"
      ]
    },
    {
      "cell_type": "markdown",
      "metadata": {
        "id": "ZmexMs1w12jn"
      },
      "source": [
        "###Entropia"
      ]
    },
    {
      "cell_type": "code",
      "metadata": {
        "colab": {
          "base_uri": "https://localhost:8080/"
        },
        "id": "yfC5WXHikgqv",
        "outputId": "07f7d147-5a52-430d-c1f7-3094b40e26ce"
      },
      "source": [
        "#Variar os hiperparametros de tamanho da árvore\n",
        "depth_range = list(range(1, 20))\n",
        "print(depth_range)\n",
        "\n",
        "param_grid_tree = dict(max_depth=depth_range)\n",
        "print(param_grid_tree)"
      ],
      "execution_count": 120,
      "outputs": [
        {
          "output_type": "stream",
          "text": [
            "[1, 2, 3, 4, 5, 6, 7, 8, 9, 10, 11, 12, 13, 14, 15, 16, 17, 18, 19]\n",
            "{'max_depth': [1, 2, 3, 4, 5, 6, 7, 8, 9, 10, 11, 12, 13, 14, 15, 16, 17, 18, 19]}\n"
          ],
          "name": "stdout"
        }
      ]
    },
    {
      "cell_type": "code",
      "metadata": {
        "id": "N5kAN4lLkoVZ",
        "colab": {
          "base_uri": "https://localhost:8080/",
          "height": 54
        },
        "outputId": "9e48ee4f-bbc9-48a1-c356-12c979e5f5c4"
      },
      "source": [
        "\"\"\"\n",
        "#Fazendo um dicionário chamado param_grid contendo os parâmetros que serão variados também o tipo de algoritmo\n",
        "param_grid_tree['criterion'] = ['entropy','gini']\n",
        "\"\"\""
      ],
      "execution_count": 121,
      "outputs": [
        {
          "output_type": "execute_result",
          "data": {
            "application/vnd.google.colaboratory.intrinsic+json": {
              "type": "string"
            },
            "text/plain": [
              "\"\\n#Fazendo um dicionário chamado param_grid contendo os parâmetros que serão variados também o tipo de algoritmo\\nparam_grid_tree['criterion'] = ['entropy','gini']\\n\""
            ]
          },
          "metadata": {
            "tags": []
          },
          "execution_count": 121
        }
      ]
    },
    {
      "cell_type": "code",
      "metadata": {
        "colab": {
          "base_uri": "https://localhost:8080/"
        },
        "id": "Ajw94yOMkvhq",
        "outputId": "285e4e7c-b73c-4399-a03d-2b6ceed9b048"
      },
      "source": [
        "#Criando o objeto GridSearch e treinando o modelo com os melhores hiperparâmetros\n",
        "\n",
        "grid_tree = GridSearchCV(DecisionTreeClassifier(criterion = 'entropy'), param_grid_tree, refit = True, verbose=3, cv=5)\n",
        "grid_tree.fit(X_train, y_train)\n",
        "print(\"-----------------------------------------------------------\")\n",
        "print(\"melhor estimador: \",grid_tree.best_estimator_)\n",
        "print(\"melhores Parâmetros: \",grid_tree.best_params_)\n",
        "print(\"Melhor score: \",grid_tree.score(X_test, y_test))"
      ],
      "execution_count": 122,
      "outputs": [
        {
          "output_type": "stream",
          "text": [
            "Fitting 5 folds for each of 19 candidates, totalling 95 fits\n",
            "[CV] max_depth=1 .....................................................\n",
            "[CV] ......................... max_depth=1, score=0.525, total=   0.2s\n",
            "[CV] max_depth=1 .....................................................\n"
          ],
          "name": "stdout"
        },
        {
          "output_type": "stream",
          "text": [
            "[Parallel(n_jobs=1)]: Using backend SequentialBackend with 1 concurrent workers.\n",
            "[Parallel(n_jobs=1)]: Done   1 out of   1 | elapsed:    0.2s remaining:    0.0s\n"
          ],
          "name": "stderr"
        },
        {
          "output_type": "stream",
          "text": [
            "[CV] ......................... max_depth=1, score=0.518, total=   0.1s\n",
            "[CV] max_depth=1 .....................................................\n",
            "[CV] ......................... max_depth=1, score=0.519, total=   0.1s\n",
            "[CV] max_depth=1 .....................................................\n"
          ],
          "name": "stdout"
        },
        {
          "output_type": "stream",
          "text": [
            "[Parallel(n_jobs=1)]: Done   2 out of   2 | elapsed:    0.3s remaining:    0.0s\n"
          ],
          "name": "stderr"
        },
        {
          "output_type": "stream",
          "text": [
            "[CV] ......................... max_depth=1, score=0.521, total=   0.1s\n",
            "[CV] max_depth=1 .....................................................\n",
            "[CV] ......................... max_depth=1, score=0.521, total=   0.1s\n",
            "[CV] max_depth=2 .....................................................\n",
            "[CV] ......................... max_depth=2, score=0.552, total=   0.2s\n",
            "[CV] max_depth=2 .....................................................\n",
            "[CV] ......................... max_depth=2, score=0.546, total=   0.2s\n",
            "[CV] max_depth=2 .....................................................\n",
            "[CV] ......................... max_depth=2, score=0.546, total=   0.2s\n",
            "[CV] max_depth=2 .....................................................\n",
            "[CV] ......................... max_depth=2, score=0.548, total=   0.2s\n",
            "[CV] max_depth=2 .....................................................\n",
            "[CV] ......................... max_depth=2, score=0.543, total=   0.2s\n",
            "[CV] max_depth=3 .....................................................\n",
            "[CV] ......................... max_depth=3, score=0.562, total=   0.3s\n",
            "[CV] max_depth=3 .....................................................\n",
            "[CV] ......................... max_depth=3, score=0.563, total=   0.3s\n",
            "[CV] max_depth=3 .....................................................\n",
            "[CV] ......................... max_depth=3, score=0.561, total=   0.3s\n",
            "[CV] max_depth=3 .....................................................\n",
            "[CV] ......................... max_depth=3, score=0.560, total=   0.3s\n",
            "[CV] max_depth=3 .....................................................\n",
            "[CV] ......................... max_depth=3, score=0.554, total=   0.3s\n",
            "[CV] max_depth=4 .....................................................\n",
            "[CV] ......................... max_depth=4, score=0.572, total=   0.4s\n",
            "[CV] max_depth=4 .....................................................\n",
            "[CV] ......................... max_depth=4, score=0.570, total=   0.5s\n",
            "[CV] max_depth=4 .....................................................\n",
            "[CV] ......................... max_depth=4, score=0.574, total=   0.5s\n",
            "[CV] max_depth=4 .....................................................\n",
            "[CV] ......................... max_depth=4, score=0.571, total=   0.4s\n",
            "[CV] max_depth=4 .....................................................\n",
            "[CV] ......................... max_depth=4, score=0.570, total=   0.4s\n",
            "[CV] max_depth=5 .....................................................\n",
            "[CV] ......................... max_depth=5, score=0.575, total=   0.5s\n",
            "[CV] max_depth=5 .....................................................\n",
            "[CV] ......................... max_depth=5, score=0.573, total=   0.5s\n",
            "[CV] max_depth=5 .....................................................\n",
            "[CV] ......................... max_depth=5, score=0.579, total=   0.5s\n",
            "[CV] max_depth=5 .....................................................\n",
            "[CV] ......................... max_depth=5, score=0.574, total=   0.6s\n",
            "[CV] max_depth=5 .....................................................\n",
            "[CV] ......................... max_depth=5, score=0.571, total=   0.6s\n",
            "[CV] max_depth=6 .....................................................\n",
            "[CV] ......................... max_depth=6, score=0.575, total=   0.6s\n",
            "[CV] max_depth=6 .....................................................\n",
            "[CV] ......................... max_depth=6, score=0.573, total=   0.6s\n",
            "[CV] max_depth=6 .....................................................\n",
            "[CV] ......................... max_depth=6, score=0.579, total=   0.6s\n",
            "[CV] max_depth=6 .....................................................\n",
            "[CV] ......................... max_depth=6, score=0.576, total=   0.6s\n",
            "[CV] max_depth=6 .....................................................\n",
            "[CV] ......................... max_depth=6, score=0.572, total=   0.6s\n",
            "[CV] max_depth=7 .....................................................\n",
            "[CV] ......................... max_depth=7, score=0.576, total=   0.7s\n",
            "[CV] max_depth=7 .....................................................\n",
            "[CV] ......................... max_depth=7, score=0.581, total=   0.7s\n",
            "[CV] max_depth=7 .....................................................\n",
            "[CV] ......................... max_depth=7, score=0.581, total=   0.7s\n",
            "[CV] max_depth=7 .....................................................\n",
            "[CV] ......................... max_depth=7, score=0.579, total=   0.7s\n",
            "[CV] max_depth=7 .....................................................\n",
            "[CV] ......................... max_depth=7, score=0.582, total=   0.8s\n",
            "[CV] max_depth=8 .....................................................\n",
            "[CV] ......................... max_depth=8, score=0.585, total=   0.9s\n",
            "[CV] max_depth=8 .....................................................\n",
            "[CV] ......................... max_depth=8, score=0.581, total=   0.8s\n",
            "[CV] max_depth=8 .....................................................\n",
            "[CV] ......................... max_depth=8, score=0.592, total=   0.8s\n",
            "[CV] max_depth=8 .....................................................\n",
            "[CV] ......................... max_depth=8, score=0.583, total=   0.8s\n",
            "[CV] max_depth=8 .....................................................\n",
            "[CV] ......................... max_depth=8, score=0.592, total=   0.8s\n",
            "[CV] max_depth=9 .....................................................\n",
            "[CV] ......................... max_depth=9, score=0.588, total=   0.9s\n",
            "[CV] max_depth=9 .....................................................\n",
            "[CV] ......................... max_depth=9, score=0.584, total=   0.9s\n",
            "[CV] max_depth=9 .....................................................\n",
            "[CV] ......................... max_depth=9, score=0.594, total=   0.9s\n",
            "[CV] max_depth=9 .....................................................\n",
            "[CV] ......................... max_depth=9, score=0.584, total=   0.9s\n",
            "[CV] max_depth=9 .....................................................\n",
            "[CV] ......................... max_depth=9, score=0.593, total=   0.9s\n",
            "[CV] max_depth=10 ....................................................\n",
            "[CV] ........................ max_depth=10, score=0.588, total=   1.0s\n",
            "[CV] max_depth=10 ....................................................\n",
            "[CV] ........................ max_depth=10, score=0.587, total=   1.0s\n",
            "[CV] max_depth=10 ....................................................\n",
            "[CV] ........................ max_depth=10, score=0.594, total=   1.0s\n",
            "[CV] max_depth=10 ....................................................\n",
            "[CV] ........................ max_depth=10, score=0.593, total=   1.0s\n",
            "[CV] max_depth=10 ....................................................\n",
            "[CV] ........................ max_depth=10, score=0.597, total=   1.0s\n",
            "[CV] max_depth=11 ....................................................\n",
            "[CV] ........................ max_depth=11, score=0.591, total=   1.1s\n",
            "[CV] max_depth=11 ....................................................\n",
            "[CV] ........................ max_depth=11, score=0.591, total=   1.1s\n",
            "[CV] max_depth=11 ....................................................\n",
            "[CV] ........................ max_depth=11, score=0.596, total=   1.1s\n",
            "[CV] max_depth=11 ....................................................\n",
            "[CV] ........................ max_depth=11, score=0.593, total=   1.1s\n",
            "[CV] max_depth=11 ....................................................\n",
            "[CV] ........................ max_depth=11, score=0.596, total=   1.1s\n",
            "[CV] max_depth=12 ....................................................\n",
            "[CV] ........................ max_depth=12, score=0.589, total=   1.2s\n",
            "[CV] max_depth=12 ....................................................\n",
            "[CV] ........................ max_depth=12, score=0.595, total=   1.2s\n",
            "[CV] max_depth=12 ....................................................\n",
            "[CV] ........................ max_depth=12, score=0.596, total=   1.2s\n",
            "[CV] max_depth=12 ....................................................\n",
            "[CV] ........................ max_depth=12, score=0.593, total=   1.2s\n",
            "[CV] max_depth=12 ....................................................\n",
            "[CV] ........................ max_depth=12, score=0.597, total=   1.2s\n",
            "[CV] max_depth=13 ....................................................\n",
            "[CV] ........................ max_depth=13, score=0.594, total=   1.3s\n",
            "[CV] max_depth=13 ....................................................\n",
            "[CV] ........................ max_depth=13, score=0.593, total=   1.3s\n",
            "[CV] max_depth=13 ....................................................\n",
            "[CV] ........................ max_depth=13, score=0.591, total=   1.3s\n",
            "[CV] max_depth=13 ....................................................\n",
            "[CV] ........................ max_depth=13, score=0.595, total=   1.3s\n",
            "[CV] max_depth=13 ....................................................\n",
            "[CV] ........................ max_depth=13, score=0.599, total=   1.3s\n",
            "[CV] max_depth=14 ....................................................\n",
            "[CV] ........................ max_depth=14, score=0.592, total=   1.4s\n",
            "[CV] max_depth=14 ....................................................\n",
            "[CV] ........................ max_depth=14, score=0.587, total=   1.4s\n",
            "[CV] max_depth=14 ....................................................\n",
            "[CV] ........................ max_depth=14, score=0.590, total=   1.4s\n",
            "[CV] max_depth=14 ....................................................\n",
            "[CV] ........................ max_depth=14, score=0.592, total=   1.4s\n",
            "[CV] max_depth=14 ....................................................\n",
            "[CV] ........................ max_depth=14, score=0.595, total=   1.4s\n",
            "[CV] max_depth=15 ....................................................\n",
            "[CV] ........................ max_depth=15, score=0.591, total=   1.4s\n",
            "[CV] max_depth=15 ....................................................\n",
            "[CV] ........................ max_depth=15, score=0.590, total=   1.4s\n",
            "[CV] max_depth=15 ....................................................\n",
            "[CV] ........................ max_depth=15, score=0.592, total=   1.4s\n",
            "[CV] max_depth=15 ....................................................\n",
            "[CV] ........................ max_depth=15, score=0.593, total=   1.4s\n",
            "[CV] max_depth=15 ....................................................\n",
            "[CV] ........................ max_depth=15, score=0.592, total=   1.4s\n",
            "[CV] max_depth=16 ....................................................\n",
            "[CV] ........................ max_depth=16, score=0.589, total=   1.5s\n",
            "[CV] max_depth=16 ....................................................\n",
            "[CV] ........................ max_depth=16, score=0.590, total=   1.5s\n",
            "[CV] max_depth=16 ....................................................\n",
            "[CV] ........................ max_depth=16, score=0.587, total=   1.5s\n",
            "[CV] max_depth=16 ....................................................\n",
            "[CV] ........................ max_depth=16, score=0.592, total=   1.5s\n",
            "[CV] max_depth=16 ....................................................\n",
            "[CV] ........................ max_depth=16, score=0.591, total=   1.5s\n",
            "[CV] max_depth=17 ....................................................\n",
            "[CV] ........................ max_depth=17, score=0.585, total=   1.6s\n",
            "[CV] max_depth=17 ....................................................\n",
            "[CV] ........................ max_depth=17, score=0.589, total=   1.6s\n",
            "[CV] max_depth=17 ....................................................\n",
            "[CV] ........................ max_depth=17, score=0.585, total=   1.6s\n",
            "[CV] max_depth=17 ....................................................\n",
            "[CV] ........................ max_depth=17, score=0.587, total=   1.6s\n",
            "[CV] max_depth=17 ....................................................\n",
            "[CV] ........................ max_depth=17, score=0.585, total=   1.6s\n",
            "[CV] max_depth=18 ....................................................\n",
            "[CV] ........................ max_depth=18, score=0.583, total=   1.7s\n",
            "[CV] max_depth=18 ....................................................\n",
            "[CV] ........................ max_depth=18, score=0.587, total=   1.7s\n",
            "[CV] max_depth=18 ....................................................\n",
            "[CV] ........................ max_depth=18, score=0.582, total=   1.7s\n",
            "[CV] max_depth=18 ....................................................\n",
            "[CV] ........................ max_depth=18, score=0.584, total=   1.7s\n",
            "[CV] max_depth=18 ....................................................\n",
            "[CV] ........................ max_depth=18, score=0.583, total=   1.7s\n",
            "[CV] max_depth=19 ....................................................\n",
            "[CV] ........................ max_depth=19, score=0.581, total=   1.7s\n",
            "[CV] max_depth=19 ....................................................\n",
            "[CV] ........................ max_depth=19, score=0.585, total=   1.7s\n",
            "[CV] max_depth=19 ....................................................\n",
            "[CV] ........................ max_depth=19, score=0.581, total=   1.7s\n",
            "[CV] max_depth=19 ....................................................\n",
            "[CV] ........................ max_depth=19, score=0.584, total=   1.7s\n",
            "[CV] max_depth=19 ....................................................\n",
            "[CV] ........................ max_depth=19, score=0.583, total=   1.7s\n"
          ],
          "name": "stdout"
        },
        {
          "output_type": "stream",
          "text": [
            "[Parallel(n_jobs=1)]: Done  95 out of  95 | elapsed:  1.6min finished\n"
          ],
          "name": "stderr"
        },
        {
          "output_type": "stream",
          "text": [
            "-----------------------------------------------------------\n",
            "melhor estimador:  DecisionTreeClassifier(ccp_alpha=0.0, class_weight=None, criterion='entropy',\n",
            "                       max_depth=13, max_features=None, max_leaf_nodes=None,\n",
            "                       min_impurity_decrease=0.0, min_impurity_split=None,\n",
            "                       min_samples_leaf=1, min_samples_split=2,\n",
            "                       min_weight_fraction_leaf=0.0, presort='deprecated',\n",
            "                       random_state=None, splitter='best')\n",
            "melhores Parâmetros:  {'max_depth': 13}\n",
            "Melhor score:  0.59059118389189\n"
          ],
          "name": "stdout"
        }
      ]
    },
    {
      "cell_type": "code",
      "metadata": {
        "colab": {
          "base_uri": "https://localhost:8080/"
        },
        "id": "RCPSBP-2jiOd",
        "outputId": "eff7323b-0a7a-4001-e5f1-466e6850a55d"
      },
      "source": [
        "#Criando objeto da árvore de decisão e treinando\n",
        "clf = tree.DecisionTreeClassifier(criterion = 'entropy', max_depth= 13)\n",
        "clf.fit(X_train, y_train)"
      ],
      "execution_count": 167,
      "outputs": [
        {
          "output_type": "execute_result",
          "data": {
            "text/plain": [
              "DecisionTreeClassifier(ccp_alpha=0.0, class_weight=None, criterion='entropy',\n",
              "                       max_depth=13, max_features=None, max_leaf_nodes=None,\n",
              "                       min_impurity_decrease=0.0, min_impurity_split=None,\n",
              "                       min_samples_leaf=1, min_samples_split=2,\n",
              "                       min_weight_fraction_leaf=0.0, presort='deprecated',\n",
              "                       random_state=None, splitter='best')"
            ]
          },
          "metadata": {
            "tags": []
          },
          "execution_count": 167
        }
      ]
    },
    {
      "cell_type": "code",
      "metadata": {
        "colab": {
          "base_uri": "https://localhost:8080/"
        },
        "id": "EPfc0f6vmU4M",
        "outputId": "cb632754-a5b0-499a-ce1f-159581e09d1b"
      },
      "source": [
        "#Computar a acurácia do teste\n",
        "test_accuracy_tree = clf.score(X_test, y_test)\n",
        "print('Acurácia do teste = ' ,test_accuracy_tree)\n",
        "\n",
        "predictions_tree = clf.predict(X_test)\n",
        "print(confusion_matrix(y_test, predictions_tree))\n",
        "print(classification_report(y_test, predictions_tree))"
      ],
      "execution_count": 124,
      "outputs": [
        {
          "output_type": "stream",
          "text": [
            "Acurácia do teste =  0.5917257963455318\n",
            "[[10939 18672]\n",
            " [ 5437 24003]]\n",
            "              precision    recall  f1-score   support\n",
            "\n",
            "           0       0.67      0.37      0.48     29611\n",
            "           1       0.56      0.82      0.67     29440\n",
            "\n",
            "    accuracy                           0.59     59051\n",
            "   macro avg       0.62      0.59      0.57     59051\n",
            "weighted avg       0.62      0.59      0.57     59051\n",
            "\n"
          ],
          "name": "stdout"
        }
      ]
    },
    {
      "cell_type": "markdown",
      "metadata": {
        "id": "EXWDOuHJY3QJ"
      },
      "source": [
        "A precisão está ruím!!!! A quantidade de false positive está gigante.  Isto é, a quantidade que ele classifica como falha, mas que não foi falha está grande.\n",
        "\n",
        "---\n",
        "\n",
        "No entanto, a cobertura é muito boa\n"
      ]
    },
    {
      "cell_type": "markdown",
      "metadata": {
        "id": "nspFAT794QGz"
      },
      "source": [
        "###CART"
      ]
    },
    {
      "cell_type": "code",
      "metadata": {
        "colab": {
          "base_uri": "https://localhost:8080/"
        },
        "id": "RlSfBrVR-GU2",
        "outputId": "b611e308-da18-4456-962d-896ff7fa6e9c"
      },
      "source": [
        "#Variar os hiperparametros de tamanho da árvore\n",
        "depth_cart = list(range(1, 20))\n",
        "print(depth_cart)\n",
        "\n",
        "param_grid_cart = dict(max_depth=depth_cart)\n",
        "print(param_grid_cart)"
      ],
      "execution_count": 125,
      "outputs": [
        {
          "output_type": "stream",
          "text": [
            "[1, 2, 3, 4, 5, 6, 7, 8, 9, 10, 11, 12, 13, 14, 15, 16, 17, 18, 19]\n",
            "{'max_depth': [1, 2, 3, 4, 5, 6, 7, 8, 9, 10, 11, 12, 13, 14, 15, 16, 17, 18, 19]}\n"
          ],
          "name": "stdout"
        }
      ]
    },
    {
      "cell_type": "code",
      "metadata": {
        "colab": {
          "base_uri": "https://localhost:8080/"
        },
        "id": "juKpV09v4QHB",
        "outputId": "a67ba499-180b-454b-bd25-0706b81b76cb"
      },
      "source": [
        "#Criando o objeto GridSearch e treinando o modelo com os melhores hiperparâmetros\n",
        "\n",
        "grid_CART = GridSearchCV(DecisionTreeClassifier(criterion = 'gini'), param_grid_cart, refit = True, verbose=3, cv=5)\n",
        "grid_CART.fit(X_train, y_train)\n",
        "print(\"-----------------------------------------------------------\")\n",
        "print(\"melhor estimador: \",grid_CART.best_estimator_)\n",
        "print(\"melhores Parâmetros: \",grid_CART.best_params_)\n",
        "print(\"Melhor score: \",grid_CART.score(X_test, y_test))"
      ],
      "execution_count": 126,
      "outputs": [
        {
          "output_type": "stream",
          "text": [
            "Fitting 5 folds for each of 19 candidates, totalling 95 fits\n",
            "[CV] max_depth=1 .....................................................\n",
            "[CV] ......................... max_depth=1, score=0.526, total=   0.1s\n",
            "[CV] max_depth=1 .....................................................\n",
            "[CV] ......................... max_depth=1, score=0.522, total=   0.1s\n",
            "[CV] max_depth=1 .....................................................\n"
          ],
          "name": "stdout"
        },
        {
          "output_type": "stream",
          "text": [
            "[Parallel(n_jobs=1)]: Using backend SequentialBackend with 1 concurrent workers.\n",
            "[Parallel(n_jobs=1)]: Done   1 out of   1 | elapsed:    0.1s remaining:    0.0s\n",
            "[Parallel(n_jobs=1)]: Done   2 out of   2 | elapsed:    0.2s remaining:    0.0s\n"
          ],
          "name": "stderr"
        },
        {
          "output_type": "stream",
          "text": [
            "[CV] ......................... max_depth=1, score=0.525, total=   0.1s\n",
            "[CV] max_depth=1 .....................................................\n",
            "[CV] ......................... max_depth=1, score=0.523, total=   0.1s\n",
            "[CV] max_depth=1 .....................................................\n",
            "[CV] ......................... max_depth=1, score=0.526, total=   0.1s\n",
            "[CV] max_depth=2 .....................................................\n",
            "[CV] ......................... max_depth=2, score=0.553, total=   0.2s\n",
            "[CV] max_depth=2 .....................................................\n",
            "[CV] ......................... max_depth=2, score=0.553, total=   0.2s\n",
            "[CV] max_depth=2 .....................................................\n",
            "[CV] ......................... max_depth=2, score=0.556, total=   0.1s\n",
            "[CV] max_depth=2 .....................................................\n",
            "[CV] ......................... max_depth=2, score=0.551, total=   0.1s\n",
            "[CV] max_depth=2 .....................................................\n",
            "[CV] ......................... max_depth=2, score=0.556, total=   0.2s\n",
            "[CV] max_depth=3 .....................................................\n",
            "[CV] ......................... max_depth=3, score=0.562, total=   0.2s\n",
            "[CV] max_depth=3 .....................................................\n",
            "[CV] ......................... max_depth=3, score=0.564, total=   0.2s\n",
            "[CV] max_depth=3 .....................................................\n",
            "[CV] ......................... max_depth=3, score=0.565, total=   0.2s\n",
            "[CV] max_depth=3 .....................................................\n",
            "[CV] ......................... max_depth=3, score=0.560, total=   0.2s\n",
            "[CV] max_depth=3 .....................................................\n",
            "[CV] ......................... max_depth=3, score=0.562, total=   0.2s\n",
            "[CV] max_depth=4 .....................................................\n",
            "[CV] ......................... max_depth=4, score=0.572, total=   0.3s\n",
            "[CV] max_depth=4 .....................................................\n",
            "[CV] ......................... max_depth=4, score=0.572, total=   0.3s\n",
            "[CV] max_depth=4 .....................................................\n",
            "[CV] ......................... max_depth=4, score=0.574, total=   0.3s\n",
            "[CV] max_depth=4 .....................................................\n",
            "[CV] ......................... max_depth=4, score=0.572, total=   0.3s\n",
            "[CV] max_depth=4 .....................................................\n",
            "[CV] ......................... max_depth=4, score=0.575, total=   0.3s\n",
            "[CV] max_depth=5 .....................................................\n",
            "[CV] ......................... max_depth=5, score=0.573, total=   0.3s\n",
            "[CV] max_depth=5 .....................................................\n",
            "[CV] ......................... max_depth=5, score=0.575, total=   0.3s\n",
            "[CV] max_depth=5 .....................................................\n",
            "[CV] ......................... max_depth=5, score=0.581, total=   0.3s\n",
            "[CV] max_depth=5 .....................................................\n",
            "[CV] ......................... max_depth=5, score=0.575, total=   0.3s\n",
            "[CV] max_depth=5 .....................................................\n",
            "[CV] ......................... max_depth=5, score=0.576, total=   0.3s\n",
            "[CV] max_depth=6 .....................................................\n",
            "[CV] ......................... max_depth=6, score=0.577, total=   0.4s\n",
            "[CV] max_depth=6 .....................................................\n",
            "[CV] ......................... max_depth=6, score=0.577, total=   0.4s\n",
            "[CV] max_depth=6 .....................................................\n",
            "[CV] ......................... max_depth=6, score=0.580, total=   0.4s\n",
            "[CV] max_depth=6 .....................................................\n",
            "[CV] ......................... max_depth=6, score=0.575, total=   0.4s\n",
            "[CV] max_depth=6 .....................................................\n",
            "[CV] ......................... max_depth=6, score=0.579, total=   0.4s\n",
            "[CV] max_depth=7 .....................................................\n",
            "[CV] ......................... max_depth=7, score=0.577, total=   0.5s\n",
            "[CV] max_depth=7 .....................................................\n",
            "[CV] ......................... max_depth=7, score=0.578, total=   0.5s\n",
            "[CV] max_depth=7 .....................................................\n",
            "[CV] ......................... max_depth=7, score=0.582, total=   0.5s\n",
            "[CV] max_depth=7 .....................................................\n",
            "[CV] ......................... max_depth=7, score=0.578, total=   0.5s\n",
            "[CV] max_depth=7 .....................................................\n",
            "[CV] ......................... max_depth=7, score=0.580, total=   0.5s\n",
            "[CV] max_depth=8 .....................................................\n",
            "[CV] ......................... max_depth=8, score=0.585, total=   0.5s\n",
            "[CV] max_depth=8 .....................................................\n",
            "[CV] ......................... max_depth=8, score=0.590, total=   0.5s\n",
            "[CV] max_depth=8 .....................................................\n",
            "[CV] ......................... max_depth=8, score=0.592, total=   0.5s\n",
            "[CV] max_depth=8 .....................................................\n",
            "[CV] ......................... max_depth=8, score=0.583, total=   0.5s\n",
            "[CV] max_depth=8 .....................................................\n",
            "[CV] ......................... max_depth=8, score=0.588, total=   0.5s\n",
            "[CV] max_depth=9 .....................................................\n",
            "[CV] ......................... max_depth=9, score=0.586, total=   0.6s\n",
            "[CV] max_depth=9 .....................................................\n",
            "[CV] ......................... max_depth=9, score=0.592, total=   0.6s\n",
            "[CV] max_depth=9 .....................................................\n",
            "[CV] ......................... max_depth=9, score=0.592, total=   0.6s\n",
            "[CV] max_depth=9 .....................................................\n",
            "[CV] ......................... max_depth=9, score=0.584, total=   0.6s\n",
            "[CV] max_depth=9 .....................................................\n",
            "[CV] ......................... max_depth=9, score=0.590, total=   0.6s\n",
            "[CV] max_depth=10 ....................................................\n",
            "[CV] ........................ max_depth=10, score=0.586, total=   0.6s\n",
            "[CV] max_depth=10 ....................................................\n",
            "[CV] ........................ max_depth=10, score=0.595, total=   0.6s\n",
            "[CV] max_depth=10 ....................................................\n",
            "[CV] ........................ max_depth=10, score=0.585, total=   0.6s\n",
            "[CV] max_depth=10 ....................................................\n",
            "[CV] ........................ max_depth=10, score=0.594, total=   0.6s\n",
            "[CV] max_depth=10 ....................................................\n",
            "[CV] ........................ max_depth=10, score=0.593, total=   0.6s\n",
            "[CV] max_depth=11 ....................................................\n",
            "[CV] ........................ max_depth=11, score=0.591, total=   0.7s\n",
            "[CV] max_depth=11 ....................................................\n",
            "[CV] ........................ max_depth=11, score=0.593, total=   0.6s\n",
            "[CV] max_depth=11 ....................................................\n",
            "[CV] ........................ max_depth=11, score=0.591, total=   0.7s\n",
            "[CV] max_depth=11 ....................................................\n",
            "[CV] ........................ max_depth=11, score=0.595, total=   0.7s\n",
            "[CV] max_depth=11 ....................................................\n",
            "[CV] ........................ max_depth=11, score=0.595, total=   0.7s\n",
            "[CV] max_depth=12 ....................................................\n",
            "[CV] ........................ max_depth=12, score=0.589, total=   0.7s\n",
            "[CV] max_depth=12 ....................................................\n",
            "[CV] ........................ max_depth=12, score=0.592, total=   0.7s\n",
            "[CV] max_depth=12 ....................................................\n",
            "[CV] ........................ max_depth=12, score=0.591, total=   0.7s\n",
            "[CV] max_depth=12 ....................................................\n",
            "[CV] ........................ max_depth=12, score=0.598, total=   0.7s\n",
            "[CV] max_depth=12 ....................................................\n",
            "[CV] ........................ max_depth=12, score=0.593, total=   0.7s\n",
            "[CV] max_depth=13 ....................................................\n",
            "[CV] ........................ max_depth=13, score=0.594, total=   0.7s\n",
            "[CV] max_depth=13 ....................................................\n",
            "[CV] ........................ max_depth=13, score=0.588, total=   0.7s\n",
            "[CV] max_depth=13 ....................................................\n",
            "[CV] ........................ max_depth=13, score=0.593, total=   0.7s\n",
            "[CV] max_depth=13 ....................................................\n",
            "[CV] ........................ max_depth=13, score=0.595, total=   0.8s\n",
            "[CV] max_depth=13 ....................................................\n",
            "[CV] ........................ max_depth=13, score=0.594, total=   0.7s\n",
            "[CV] max_depth=14 ....................................................\n",
            "[CV] ........................ max_depth=14, score=0.590, total=   0.8s\n",
            "[CV] max_depth=14 ....................................................\n",
            "[CV] ........................ max_depth=14, score=0.589, total=   0.8s\n",
            "[CV] max_depth=14 ....................................................\n",
            "[CV] ........................ max_depth=14, score=0.589, total=   0.8s\n",
            "[CV] max_depth=14 ....................................................\n",
            "[CV] ........................ max_depth=14, score=0.594, total=   0.8s\n",
            "[CV] max_depth=14 ....................................................\n",
            "[CV] ........................ max_depth=14, score=0.591, total=   0.8s\n",
            "[CV] max_depth=15 ....................................................\n",
            "[CV] ........................ max_depth=15, score=0.587, total=   0.8s\n",
            "[CV] max_depth=15 ....................................................\n",
            "[CV] ........................ max_depth=15, score=0.587, total=   0.8s\n",
            "[CV] max_depth=15 ....................................................\n",
            "[CV] ........................ max_depth=15, score=0.588, total=   0.8s\n",
            "[CV] max_depth=15 ....................................................\n",
            "[CV] ........................ max_depth=15, score=0.591, total=   0.8s\n",
            "[CV] max_depth=15 ....................................................\n",
            "[CV] ........................ max_depth=15, score=0.590, total=   0.8s\n",
            "[CV] max_depth=16 ....................................................\n",
            "[CV] ........................ max_depth=16, score=0.581, total=   0.9s\n",
            "[CV] max_depth=16 ....................................................\n",
            "[CV] ........................ max_depth=16, score=0.586, total=   0.9s\n",
            "[CV] max_depth=16 ....................................................\n",
            "[CV] ........................ max_depth=16, score=0.586, total=   0.8s\n",
            "[CV] max_depth=16 ....................................................\n",
            "[CV] ........................ max_depth=16, score=0.589, total=   0.9s\n",
            "[CV] max_depth=16 ....................................................\n",
            "[CV] ........................ max_depth=16, score=0.587, total=   0.9s\n",
            "[CV] max_depth=17 ....................................................\n",
            "[CV] ........................ max_depth=17, score=0.582, total=   0.9s\n",
            "[CV] max_depth=17 ....................................................\n",
            "[CV] ........................ max_depth=17, score=0.580, total=   0.9s\n",
            "[CV] max_depth=17 ....................................................\n",
            "[CV] ........................ max_depth=17, score=0.584, total=   0.9s\n",
            "[CV] max_depth=17 ....................................................\n",
            "[CV] ........................ max_depth=17, score=0.585, total=   0.9s\n",
            "[CV] max_depth=17 ....................................................\n",
            "[CV] ........................ max_depth=17, score=0.586, total=   0.9s\n",
            "[CV] max_depth=18 ....................................................\n",
            "[CV] ........................ max_depth=18, score=0.579, total=   0.9s\n",
            "[CV] max_depth=18 ....................................................\n",
            "[CV] ........................ max_depth=18, score=0.579, total=   0.9s\n",
            "[CV] max_depth=18 ....................................................\n",
            "[CV] ........................ max_depth=18, score=0.579, total=   0.9s\n",
            "[CV] max_depth=18 ....................................................\n",
            "[CV] ........................ max_depth=18, score=0.580, total=   0.9s\n",
            "[CV] max_depth=18 ....................................................\n",
            "[CV] ........................ max_depth=18, score=0.580, total=   0.9s\n",
            "[CV] max_depth=19 ....................................................\n",
            "[CV] ........................ max_depth=19, score=0.574, total=   1.0s\n",
            "[CV] max_depth=19 ....................................................\n",
            "[CV] ........................ max_depth=19, score=0.578, total=   0.9s\n",
            "[CV] max_depth=19 ....................................................\n",
            "[CV] ........................ max_depth=19, score=0.572, total=   0.9s\n",
            "[CV] max_depth=19 ....................................................\n",
            "[CV] ........................ max_depth=19, score=0.578, total=   1.0s\n",
            "[CV] max_depth=19 ....................................................\n",
            "[CV] ........................ max_depth=19, score=0.580, total=   1.0s\n"
          ],
          "name": "stdout"
        },
        {
          "output_type": "stream",
          "text": [
            "[Parallel(n_jobs=1)]: Done  95 out of  95 | elapsed:   55.0s finished\n"
          ],
          "name": "stderr"
        },
        {
          "output_type": "stream",
          "text": [
            "-----------------------------------------------------------\n",
            "melhor estimador:  DecisionTreeClassifier(ccp_alpha=0.0, class_weight=None, criterion='gini',\n",
            "                       max_depth=13, max_features=None, max_leaf_nodes=None,\n",
            "                       min_impurity_decrease=0.0, min_impurity_split=None,\n",
            "                       min_samples_leaf=1, min_samples_split=2,\n",
            "                       min_weight_fraction_leaf=0.0, presort='deprecated',\n",
            "                       random_state=None, splitter='best')\n",
            "melhores Parâmetros:  {'max_depth': 13}\n",
            "Melhor score:  0.5876107093868013\n"
          ],
          "name": "stdout"
        }
      ]
    },
    {
      "cell_type": "code",
      "metadata": {
        "colab": {
          "base_uri": "https://localhost:8080/"
        },
        "id": "gHBegrWU4QHF",
        "outputId": "7b63df4d-1ece-4f6a-9154-e52b25c1d75e"
      },
      "source": [
        "#Criando objeto da árvore de decisão e treinando\n",
        "clfCART = tree.DecisionTreeClassifier(criterion = 'gini', max_depth= 13)\n",
        "clfCART.fit(X_train, y_train)"
      ],
      "execution_count": 127,
      "outputs": [
        {
          "output_type": "execute_result",
          "data": {
            "text/plain": [
              "DecisionTreeClassifier(ccp_alpha=0.0, class_weight=None, criterion='gini',\n",
              "                       max_depth=10, max_features=None, max_leaf_nodes=None,\n",
              "                       min_impurity_decrease=0.0, min_impurity_split=None,\n",
              "                       min_samples_leaf=1, min_samples_split=2,\n",
              "                       min_weight_fraction_leaf=0.0, presort='deprecated',\n",
              "                       random_state=None, splitter='best')"
            ]
          },
          "metadata": {
            "tags": []
          },
          "execution_count": 127
        }
      ]
    },
    {
      "cell_type": "code",
      "metadata": {
        "colab": {
          "base_uri": "https://localhost:8080/"
        },
        "id": "V8SCOF7a4QHJ",
        "outputId": "f8443459-fe73-4e06-e664-15e57ad3b473"
      },
      "source": [
        "#Computar a acurácia do teste\n",
        "test_accuracy_CART = clfCART.score(X_test, y_test)\n",
        "print('Acurácia do teste = ' ,test_accuracy_CART)\n",
        "\n",
        "predictions_CART = clfCART.predict(X_test)\n",
        "print(confusion_matrix(y_test, predictions_CART))\n",
        "print(classification_report(y_test, predictions_CART))"
      ],
      "execution_count": 128,
      "outputs": [
        {
          "output_type": "stream",
          "text": [
            "Acurácia do teste =  0.5894396369240148\n",
            "[[10835 18776]\n",
            " [ 5468 23972]]\n",
            "              precision    recall  f1-score   support\n",
            "\n",
            "           0       0.66      0.37      0.47     29611\n",
            "           1       0.56      0.81      0.66     29440\n",
            "\n",
            "    accuracy                           0.59     59051\n",
            "   macro avg       0.61      0.59      0.57     59051\n",
            "weighted avg       0.61      0.59      0.57     59051\n",
            "\n"
          ],
          "name": "stdout"
        }
      ]
    },
    {
      "cell_type": "code",
      "metadata": {
        "colab": {
          "base_uri": "https://localhost:8080/",
          "height": 283
        },
        "id": "81lDjwDzKnGZ",
        "outputId": "a0e4644e-8a45-4e6a-fda8-cd7cd6d9cc01"
      },
      "source": [
        "cm = pd.DataFrame(confusion_matrix(y_test, predictions_CART))\n",
        "sns.heatmap(cm, annot=True)"
      ],
      "execution_count": 129,
      "outputs": [
        {
          "output_type": "execute_result",
          "data": {
            "text/plain": [
              "<matplotlib.axes._subplots.AxesSubplot at 0x7f225ae2cf90>"
            ]
          },
          "metadata": {
            "tags": []
          },
          "execution_count": 129
        },
        {
          "output_type": "display_data",
          "data": {
            "image/png": "[encoded data removed]",
            "text/plain": [
              "<Figure size 432x288 with 2 Axes>"
            ]
          },
          "metadata": {
            "tags": [],
            "needs_background": "light"
          }
        }
      ]
    },
    {
      "cell_type": "markdown",
      "metadata": {
        "id": "bZjSN_gR7hbx"
      },
      "source": [
        "##Random Forest\n"
      ]
    },
    {
      "cell_type": "code",
      "metadata": {
        "id": "CY0XNF1ZBKts"
      },
      "source": [
        "#Tentei usar um número grande de árvores votantes, mas ficou muito lento\n",
        "#n_estimators = [int(x) for x in np.linspace(start = 200, stop = 2000, num = 10)]"
      ],
      "execution_count": 130,
      "outputs": []
    },
    {
      "cell_type": "code",
      "metadata": {
        "id": "hDqdkeYG86WR"
      },
      "source": [
        "#Variar os hiperparametros de tamanho do número de árvores votantes\n",
        "estimadores = [10,20,50,100]"
      ],
      "execution_count": 131,
      "outputs": []
    },
    {
      "cell_type": "code",
      "metadata": {
        "colab": {
          "base_uri": "https://localhost:8080/"
        },
        "id": "u5b5RTTK_1t_",
        "outputId": "61bc0bdf-8d07-4926-eddf-4d3694547e07"
      },
      "source": [
        "param_grid_RF = dict(n_estimators=estimadores)\n",
        "print(param_grid_RF)"
      ],
      "execution_count": 132,
      "outputs": [
        {
          "output_type": "stream",
          "text": [
            "{'n_estimators': [10, 20, 50, 100]}\n"
          ],
          "name": "stdout"
        }
      ]
    },
    {
      "cell_type": "code",
      "metadata": {
        "colab": {
          "base_uri": "https://localhost:8080/"
        },
        "id": "VBsMJQNI7w9-",
        "outputId": "b30104d8-b9f9-44f9-9271-753272d18cac"
      },
      "source": [
        "#Criando o objeto GridSearch e treinando o modelo com os melhores hiperparâmetros\n",
        "\n",
        "grid_RF = GridSearchCV(RandomForestClassifier(random_state = 42), param_grid_RF, refit = True, verbose=3, cv=5)\n",
        "grid_RF.fit(X_train, y_train)\n",
        "print(\"-----------------------------------------------------------\")\n",
        "print(\"melhor estimador: \",grid_RF.best_estimator_)\n",
        "print(\"melhores Parâmetros: \",grid_RF.best_params_)\n",
        "print(\"Melhor score: \",grid_RF.score(X_test, y_test))"
      ],
      "execution_count": 133,
      "outputs": [
        {
          "output_type": "stream",
          "text": [
            "Fitting 5 folds for each of 4 candidates, totalling 20 fits\n",
            "[CV] n_estimators=10 .................................................\n"
          ],
          "name": "stdout"
        },
        {
          "output_type": "stream",
          "text": [
            "[Parallel(n_jobs=1)]: Using backend SequentialBackend with 1 concurrent workers.\n"
          ],
          "name": "stderr"
        },
        {
          "output_type": "stream",
          "text": [
            "[CV] ..................... n_estimators=10, score=0.573, total=   4.4s\n",
            "[CV] n_estimators=10 .................................................\n"
          ],
          "name": "stdout"
        },
        {
          "output_type": "stream",
          "text": [
            "[Parallel(n_jobs=1)]: Done   1 out of   1 | elapsed:    4.4s remaining:    0.0s\n"
          ],
          "name": "stderr"
        },
        {
          "output_type": "stream",
          "text": [
            "[CV] ..................... n_estimators=10, score=0.565, total=   4.5s\n",
            "[CV] n_estimators=10 .................................................\n"
          ],
          "name": "stdout"
        },
        {
          "output_type": "stream",
          "text": [
            "[Parallel(n_jobs=1)]: Done   2 out of   2 | elapsed:    8.9s remaining:    0.0s\n"
          ],
          "name": "stderr"
        },
        {
          "output_type": "stream",
          "text": [
            "[CV] ..................... n_estimators=10, score=0.574, total=   4.5s\n",
            "[CV] n_estimators=10 .................................................\n",
            "[CV] ..................... n_estimators=10, score=0.572, total=   4.4s\n",
            "[CV] n_estimators=10 .................................................\n",
            "[CV] ..................... n_estimators=10, score=0.570, total=   4.6s\n",
            "[CV] n_estimators=20 .................................................\n",
            "[CV] ..................... n_estimators=20, score=0.582, total=   8.8s\n",
            "[CV] n_estimators=20 .................................................\n",
            "[CV] ..................... n_estimators=20, score=0.573, total=   8.9s\n",
            "[CV] n_estimators=20 .................................................\n",
            "[CV] ..................... n_estimators=20, score=0.578, total=   8.9s\n",
            "[CV] n_estimators=20 .................................................\n",
            "[CV] ..................... n_estimators=20, score=0.579, total=   8.7s\n",
            "[CV] n_estimators=20 .................................................\n",
            "[CV] ..................... n_estimators=20, score=0.581, total=   9.0s\n",
            "[CV] n_estimators=50 .................................................\n",
            "[CV] ..................... n_estimators=50, score=0.590, total=  22.0s\n",
            "[CV] n_estimators=50 .................................................\n",
            "[CV] ..................... n_estimators=50, score=0.580, total=  22.1s\n",
            "[CV] n_estimators=50 .................................................\n",
            "[CV] ..................... n_estimators=50, score=0.585, total=  22.1s\n",
            "[CV] n_estimators=50 .................................................\n",
            "[CV] ..................... n_estimators=50, score=0.589, total=  21.8s\n",
            "[CV] n_estimators=50 .................................................\n",
            "[CV] ..................... n_estimators=50, score=0.586, total=  22.3s\n",
            "[CV] n_estimators=100 ................................................\n",
            "[CV] .................... n_estimators=100, score=0.589, total=  43.9s\n",
            "[CV] n_estimators=100 ................................................\n",
            "[CV] .................... n_estimators=100, score=0.585, total=  44.1s\n",
            "[CV] n_estimators=100 ................................................\n",
            "[CV] .................... n_estimators=100, score=0.587, total=  44.6s\n",
            "[CV] n_estimators=100 ................................................\n",
            "[CV] .................... n_estimators=100, score=0.592, total=  44.2s\n",
            "[CV] n_estimators=100 ................................................\n",
            "[CV] .................... n_estimators=100, score=0.588, total=  43.9s\n"
          ],
          "name": "stdout"
        },
        {
          "output_type": "stream",
          "text": [
            "[Parallel(n_jobs=1)]: Done  20 out of  20 | elapsed:  6.6min finished\n"
          ],
          "name": "stderr"
        },
        {
          "output_type": "stream",
          "text": [
            "-----------------------------------------------------------\n",
            "melhor estimador:  RandomForestClassifier(bootstrap=True, ccp_alpha=0.0, class_weight=None,\n",
            "                       criterion='gini', max_depth=None, max_features='auto',\n",
            "                       max_leaf_nodes=None, max_samples=None,\n",
            "                       min_impurity_decrease=0.0, min_impurity_split=None,\n",
            "                       min_samples_leaf=1, min_samples_split=2,\n",
            "                       min_weight_fraction_leaf=0.0, n_estimators=100,\n",
            "                       n_jobs=None, oob_score=False, random_state=42, verbose=0,\n",
            "                       warm_start=False)\n",
            "melhores Parâmetros:  {'n_estimators': 100}\n",
            "Melhor score:  0.5845963658532455\n"
          ],
          "name": "stdout"
        }
      ]
    },
    {
      "cell_type": "code",
      "metadata": {
        "colab": {
          "base_uri": "https://localhost:8080/"
        },
        "id": "mXnKKrX57w-H",
        "outputId": "f293e374-d657-473f-f908-8255fe164b7c"
      },
      "source": [
        "#Criando objeto da árvore de decisão e treinando\n",
        "rf = RandomForestClassifier(random_state = 42, n_estimators=100)\n",
        "rf.fit(X_train, y_train)"
      ],
      "execution_count": 134,
      "outputs": [
        {
          "output_type": "execute_result",
          "data": {
            "text/plain": [
              "RandomForestClassifier(bootstrap=True, ccp_alpha=0.0, class_weight=None,\n",
              "                       criterion='gini', max_depth=None, max_features='auto',\n",
              "                       max_leaf_nodes=None, max_samples=None,\n",
              "                       min_impurity_decrease=0.0, min_impurity_split=None,\n",
              "                       min_samples_leaf=1, min_samples_split=2,\n",
              "                       min_weight_fraction_leaf=0.0, n_estimators=100,\n",
              "                       n_jobs=None, oob_score=False, random_state=42, verbose=0,\n",
              "                       warm_start=False)"
            ]
          },
          "metadata": {
            "tags": []
          },
          "execution_count": 134
        }
      ]
    },
    {
      "cell_type": "code",
      "metadata": {
        "colab": {
          "base_uri": "https://localhost:8080/"
        },
        "id": "HCvGXAd27w-K",
        "outputId": "58210285-77dd-4e7a-992d-78dea303e809"
      },
      "source": [
        "#Computar a acurácia do teste\n",
        "test_accuracy_rf = rf.score(X_test, y_test)\n",
        "print('Acurácia do teste = ' ,test_accuracy_rf)\n",
        "\n",
        "predictions_rf = rf.predict(X_test)\n",
        "print(confusion_matrix(y_test, predictions_rf))\n",
        "print(classification_report(y_test, predictions_rf))"
      ],
      "execution_count": 135,
      "outputs": [
        {
          "output_type": "stream",
          "text": [
            "Acurácia do teste =  0.5845963658532455\n",
            "[[16563 13048]\n",
            " [11482 17958]]\n",
            "              precision    recall  f1-score   support\n",
            "\n",
            "           0       0.59      0.56      0.57     29611\n",
            "           1       0.58      0.61      0.59     29440\n",
            "\n",
            "    accuracy                           0.58     59051\n",
            "   macro avg       0.58      0.58      0.58     59051\n",
            "weighted avg       0.58      0.58      0.58     59051\n",
            "\n"
          ],
          "name": "stdout"
        }
      ]
    },
    {
      "cell_type": "code",
      "metadata": {
        "id": "0ZILqfIPJ02d"
      },
      "source": [
        "#cm = pd.DataFrame(confusion_matrix(y_test, predictions_rf), columns=data.target_names, index=data.target_names)\n",
        "#sns.heatmap(cm, annot=True)"
      ],
      "execution_count": 136,
      "outputs": []
    },
    {
      "cell_type": "markdown",
      "metadata": {
        "id": "efroG06C5sDt"
      },
      "source": [
        "##K-NN"
      ]
    },
    {
      "cell_type": "markdown",
      "metadata": {
        "id": "Hu88M4R4cwFA"
      },
      "source": [
        "Foi testado o grid para chegar no melhor k para o KNN, mas optou-se em testar todos os valores de k de forma direta."
      ]
    },
    {
      "cell_type": "code",
      "metadata": {
        "colab": {
          "base_uri": "https://localhost:8080/"
        },
        "id": "KjkONVrf5sDy",
        "outputId": "8e1c9867-487e-4cf9-c112-2a4bb6048d5f"
      },
      "source": [
        "#Variar os parametros de tamanho do KNN\n",
        "param_grid_KNN = dict(n_neighbors=list(range(1, 100,2)))\n",
        "print(param_grid_KNN)"
      ],
      "execution_count": 137,
      "outputs": [
        {
          "output_type": "stream",
          "text": [
            "{'n_neighbors': [1, 3, 5, 7, 9, 11, 13, 15, 17, 19, 21, 23, 25, 27, 29, 31, 33, 35, 37, 39, 41, 43, 45, 47, 49, 51, 53, 55, 57, 59, 61, 63, 65, 67, 69, 71, 73, 75, 77, 79, 81, 83, 85, 87, 89, 91, 93, 95, 97, 99]}\n"
          ],
          "name": "stdout"
        }
      ]
    },
    {
      "cell_type": "code",
      "metadata": {
        "colab": {
          "base_uri": "https://localhost:8080/",
          "height": 91
        },
        "id": "AZecLrZz5sD2",
        "outputId": "389251e2-7bf2-42b5-b6c9-e4678eaf1a5a"
      },
      "source": [
        "#Criando o objeto GridSearch e treinando o modelo com os melhores hiperparâmetros\n",
        "\n",
        "\"\"\"grid_KNN = GridSearchCV(KNeighborsClassifier(), param_grid_KNN, refit = True, verbose=3, cv=5)\n",
        "grid_KNN.fit(Xn_train, yn_train)\n",
        "\n",
        "print(\"-----------------------------------------------------------\")\n",
        "print(\"melhor estimador: \",grid_KNN.best_estimator_)\n",
        "print(\"melhores Parâmetros: \",grid_KNN.best_params_)\n",
        "print(\"Melhor score: \",grid_KNN.score(X_test, y_test))\n",
        "\n",
        "\"\"\""
      ],
      "execution_count": 138,
      "outputs": [
        {
          "output_type": "execute_result",
          "data": {
            "application/vnd.google.colaboratory.intrinsic+json": {
              "type": "string"
            },
            "text/plain": [
              "'grid_KNN = GridSearchCV(KNeighborsClassifier(), param_grid_KNN, refit = True, verbose=3, cv=5)\\ngrid_KNN.fit(Xn_train, yn_train)\\n\\nprint(\"-----------------------------------------------------------\")\\nprint(\"melhor estimador: \",grid_KNN.best_estimator_)\\nprint(\"melhores Parâmetros: \",grid_KNN.best_params_)\\nprint(\"Melhor score: \",grid_KNN.score(X_test, y_test))\\n\\n'"
            ]
          },
          "metadata": {
            "tags": []
          },
          "execution_count": 138
        }
      ]
    },
    {
      "cell_type": "code",
      "metadata": {
        "colab": {
          "base_uri": "https://localhost:8080/"
        },
        "id": "Fe6BX6uZ5sD4",
        "outputId": "3211301a-e2ea-45d4-f731-aba7e9d4ecb9"
      },
      "source": [
        "#treinando o KNN com os melhores parâmetros\n",
        "KNN = KNeighborsClassifier(n_neighbors=95)\n",
        "KNN.fit(Xn_train, yn_train)"
      ],
      "execution_count": 139,
      "outputs": [
        {
          "output_type": "execute_result",
          "data": {
            "text/plain": [
              "KNeighborsClassifier(algorithm='auto', leaf_size=30, metric='minkowski',\n",
              "                     metric_params=None, n_jobs=None, n_neighbors=95, p=2,\n",
              "                     weights='uniform')"
            ]
          },
          "metadata": {
            "tags": []
          },
          "execution_count": 139
        }
      ]
    },
    {
      "cell_type": "code",
      "metadata": {
        "colab": {
          "base_uri": "https://localhost:8080/"
        },
        "id": "xmH8JNtc5sD4",
        "outputId": "ed64f177-c534-4412-f6ab-69b8c75cf09e"
      },
      "source": [
        "\"\"\"\n",
        "#Computar a acurácia do teste\n",
        "test_accuracy_KNN = KNN.score(Xn_test, yn_test)\n",
        "print(\"Acurácia do teste = %0.4f\" % (test_accuracy_KNN))\n",
        "\n",
        "predictions_KNN = KNN.predict(Xn_test)\n",
        "print(confusion_matrix(yn_test, predictions_KNN))\n",
        "print(classification_report(yn_test, predictions_KNN))\n",
        "\"\"\""
      ],
      "execution_count": 140,
      "outputs": [
        {
          "output_type": "stream",
          "text": [
            "Acurácia do teste = 0.6047\n",
            "[[15414 14197]\n",
            " [ 9144 20296]]\n",
            "              precision    recall  f1-score   support\n",
            "\n",
            "           0       0.63      0.52      0.57     29611\n",
            "           1       0.59      0.69      0.63     29440\n",
            "\n",
            "    accuracy                           0.60     59051\n",
            "   macro avg       0.61      0.60      0.60     59051\n",
            "weighted avg       0.61      0.60      0.60     59051\n",
            "\n"
          ],
          "name": "stdout"
        }
      ]
    },
    {
      "cell_type": "code",
      "metadata": {
        "id": "9kB2NTduPAvU"
      },
      "source": [
        "ListaKNN={}\n",
        "res_test = []\n",
        "test_accuracy = 0\n",
        "val_max = 200\n",
        "for i in range(1,val_max,2):\n",
        "  KNN_teste = KNeighborsClassifier(n_neighbors=i)\n",
        "  KNN_teste.fit(Xn_train, yn_train)\n",
        "  #Computar a acurácia do teste\n",
        "  test_accuracy = KNN_teste.score(Xn_test, yn_test)\n",
        "  res_test.append(test_accuracy) \n",
        "  #print('Com k = ',i, ', a Acurácia do teste = ' ,test_accuracy)\n",
        "  ListaKNN['KNN'+str(i)]=round(test_accuracy,3)"
      ],
      "execution_count": 141,
      "outputs": []
    },
    {
      "cell_type": "code",
      "metadata": {
        "id": "3IpbOQe2VN0q"
      },
      "source": [
        "neighbors = np.arange(1,val_max,2)"
      ],
      "execution_count": 142,
      "outputs": []
    },
    {
      "cell_type": "code",
      "metadata": {
        "id": "oIZXUa_xY-Qb"
      },
      "source": [
        "valoresKNN = []\n",
        "for item in ListaKNN.values():\n",
        "  valoresKNN.append(item)"
      ],
      "execution_count": 143,
      "outputs": []
    },
    {
      "cell_type": "code",
      "metadata": {
        "colab": {
          "base_uri": "https://localhost:8080/",
          "height": 295
        },
        "id": "oV7Kv1MGTpCf",
        "outputId": "8929aac3-b94e-4e5f-b184-0a2cc1eff929"
      },
      "source": [
        "#Generate plot\n",
        "plt.title('k-NN - Com dados normalizados')\n",
        "plt.plot(neighbors,valoresKNN, label='Acurácia do Teste')\n",
        "plt.xlabel('Número de vizinhos')\n",
        "plt.ylabel('Acurácia')\n",
        "plt.show()"
      ],
      "execution_count": 144,
      "outputs": [
        {
          "output_type": "display_data",
          "data": {
            "image/png": "[encoded data removed]",
            "text/plain": [
              "<Figure size 432x288 with 1 Axes>"
            ]
          },
          "metadata": {
            "tags": [],
            "needs_background": "light"
          }
        }
      ]
    },
    {
      "cell_type": "code",
      "metadata": {
        "colab": {
          "base_uri": "https://localhost:8080/",
          "height": 36
        },
        "id": "lOSA9S4hbUY8",
        "outputId": "982a8511-527c-4d5d-a355-8974b93ea75c"
      },
      "source": [
        "max(ListaKNN, key=ListaKNN.get)"
      ],
      "execution_count": 145,
      "outputs": [
        {
          "output_type": "execute_result",
          "data": {
            "application/vnd.google.colaboratory.intrinsic+json": {
              "type": "string"
            },
            "text/plain": [
              "'KNN179'"
            ]
          },
          "metadata": {
            "tags": []
          },
          "execution_count": 145
        }
      ]
    },
    {
      "cell_type": "code",
      "metadata": {
        "colab": {
          "base_uri": "https://localhost:8080/"
        },
        "id": "P08WRXc3c0gW",
        "outputId": "12fb3a2a-098b-4762-a9cb-b1c17181fef6"
      },
      "source": [
        "max(res_test)"
      ],
      "execution_count": 146,
      "outputs": [
        {
          "output_type": "execute_result",
          "data": {
            "text/plain": [
              "0.6083216202943219"
            ]
          },
          "metadata": {
            "tags": []
          },
          "execution_count": 146
        }
      ]
    },
    {
      "cell_type": "code",
      "metadata": {
        "colab": {
          "base_uri": "https://localhost:8080/"
        },
        "id": "hi04ZX3GcTmB",
        "outputId": "6e919ff5-185a-4614-b580-7c7f0184c54a"
      },
      "source": [
        "ListaKNN['KNN179']"
      ],
      "execution_count": 168,
      "outputs": [
        {
          "output_type": "execute_result",
          "data": {
            "text/plain": [
              "0.608"
            ]
          },
          "metadata": {
            "tags": []
          },
          "execution_count": 168
        }
      ]
    },
    {
      "cell_type": "code",
      "metadata": {
        "colab": {
          "base_uri": "https://localhost:8080/"
        },
        "id": "pdC_bT_wH0nN",
        "outputId": "8655c808-8aec-40b0-8bc9-328ddf95f364"
      },
      "source": [
        "#treinando o KNN com o k de maior acurárica\n",
        "KNN = KNeighborsClassifier(n_neighbors=179)\n",
        "KNN.fit(Xn_train, yn_train)"
      ],
      "execution_count": 148,
      "outputs": [
        {
          "output_type": "execute_result",
          "data": {
            "text/plain": [
              "KNeighborsClassifier(algorithm='auto', leaf_size=30, metric='minkowski',\n",
              "                     metric_params=None, n_jobs=None, n_neighbors=197, p=2,\n",
              "                     weights='uniform')"
            ]
          },
          "metadata": {
            "tags": []
          },
          "execution_count": 148
        }
      ]
    },
    {
      "cell_type": "code",
      "metadata": {
        "colab": {
          "base_uri": "https://localhost:8080/"
        },
        "id": "AaqQpVd4H0nR",
        "outputId": "1c7f797f-32a5-427a-be9e-bf53415da3b5"
      },
      "source": [
        "#Computar a acurácia do teste\n",
        "test_accuracy_KNN = KNN.score(Xn_test, yn_test)\n",
        "print(\"Acurácia do teste = %0.4f\" % (test_accuracy_KNN))\n",
        "\n",
        "predictions_KNN = KNN.predict(Xn_test)\n",
        "print(confusion_matrix(yn_test, predictions_KNN))\n",
        "print(classification_report(yn_test, predictions_KNN))"
      ],
      "execution_count": 149,
      "outputs": [
        {
          "output_type": "stream",
          "text": [
            "Acurácia do teste = 0.6072\n",
            "[[14984 14627]\n",
            " [ 8568 20872]]\n",
            "              precision    recall  f1-score   support\n",
            "\n",
            "           0       0.64      0.51      0.56     29611\n",
            "           1       0.59      0.71      0.64     29440\n",
            "\n",
            "    accuracy                           0.61     59051\n",
            "   macro avg       0.61      0.61      0.60     59051\n",
            "weighted avg       0.61      0.61      0.60     59051\n",
            "\n"
          ],
          "name": "stdout"
        }
      ]
    },
    {
      "cell_type": "markdown",
      "metadata": {
        "id": "96eVRAEwV4YL"
      },
      "source": [
        "##NB"
      ]
    },
    {
      "cell_type": "code",
      "metadata": {
        "id": "i_BsBIKtAVdX"
      },
      "source": [
        "#Fazendo um dicionário chamado param_grid contendo os hiperparâmetros que serão variados\n",
        "parameters_NB = {\n",
        "    'var_smoothing': [1e-2, 1e-3, 1e-4, 1e-5, 1e-6, 1e-7, 1e-8, 1e-9, 1e-10, 1e-11, 1e-12, 1e-13, 1e-14, 1e-15]\n",
        "}"
      ],
      "execution_count": 150,
      "outputs": []
    },
    {
      "cell_type": "code",
      "metadata": {
        "colab": {
          "base_uri": "https://localhost:8080/"
        },
        "id": "B_ORTSJZAbFS",
        "outputId": "c6ed1b58-2ecd-48c5-c54e-23c6635bc1d6"
      },
      "source": [
        "n#Criando o objeto GridSearch e treinando o modelo com os melhores hiperparâmetros\n",
        "grid_NB = GridSearchCV(GaussianNB(), parameters_NB, refit = True, verbose=3, cv=10)\n",
        "grid_NB.fit(X_train, y_train)\n"
      ],
      "execution_count": 151,
      "outputs": [
        {
          "output_type": "stream",
          "text": [
            "Fitting 10 folds for each of 14 candidates, totalling 140 fits\n",
            "[CV] var_smoothing=0.01 ..............................................\n",
            "[CV] .................. var_smoothing=0.01, score=0.558, total=   0.0s\n",
            "[CV] var_smoothing=0.01 ..............................................\n",
            "[CV] .................. var_smoothing=0.01, score=0.568, total=   0.0s\n",
            "[CV] var_smoothing=0.01 ..............................................\n",
            "[CV] .................. var_smoothing=0.01, score=0.565, total=   0.0s\n",
            "[CV] var_smoothing=0.01 ..............................................\n",
            "[CV] .................. var_smoothing=0.01, score=0.567, total=   0.0s\n",
            "[CV] var_smoothing=0.01 ..............................................\n"
          ],
          "name": "stdout"
        },
        {
          "output_type": "stream",
          "text": [
            "[Parallel(n_jobs=1)]: Using backend SequentialBackend with 1 concurrent workers.\n",
            "[Parallel(n_jobs=1)]: Done   1 out of   1 | elapsed:    0.0s remaining:    0.0s\n",
            "[Parallel(n_jobs=1)]: Done   2 out of   2 | elapsed:    0.1s remaining:    0.0s\n"
          ],
          "name": "stderr"
        },
        {
          "output_type": "stream",
          "text": [
            "[CV] .................. var_smoothing=0.01, score=0.567, total=   0.0s\n",
            "[CV] var_smoothing=0.01 ..............................................\n",
            "[CV] .................. var_smoothing=0.01, score=0.565, total=   0.0s\n",
            "[CV] var_smoothing=0.01 ..............................................\n",
            "[CV] .................. var_smoothing=0.01, score=0.566, total=   0.0s\n",
            "[CV] var_smoothing=0.01 ..............................................\n",
            "[CV] .................. var_smoothing=0.01, score=0.569, total=   0.0s\n",
            "[CV] var_smoothing=0.01 ..............................................\n",
            "[CV] .................. var_smoothing=0.01, score=0.570, total=   0.0s\n",
            "[CV] var_smoothing=0.01 ..............................................\n",
            "[CV] .................. var_smoothing=0.01, score=0.562, total=   0.0s\n",
            "[CV] var_smoothing=0.001 .............................................\n",
            "[CV] ................. var_smoothing=0.001, score=0.557, total=   0.0s\n",
            "[CV] var_smoothing=0.001 .............................................\n",
            "[CV] ................. var_smoothing=0.001, score=0.568, total=   0.0s\n",
            "[CV] var_smoothing=0.001 .............................................\n",
            "[CV] ................. var_smoothing=0.001, score=0.564, total=   0.0s\n",
            "[CV] var_smoothing=0.001 .............................................\n",
            "[CV] ................. var_smoothing=0.001, score=0.567, total=   0.0s\n",
            "[CV] var_smoothing=0.001 .............................................\n",
            "[CV] ................. var_smoothing=0.001, score=0.567, total=   0.0s\n",
            "[CV] var_smoothing=0.001 .............................................\n",
            "[CV] ................. var_smoothing=0.001, score=0.566, total=   0.0s\n",
            "[CV] var_smoothing=0.001 .............................................\n",
            "[CV] ................. var_smoothing=0.001, score=0.565, total=   0.0s\n",
            "[CV] var_smoothing=0.001 .............................................\n",
            "[CV] ................. var_smoothing=0.001, score=0.569, total=   0.0s\n",
            "[CV] var_smoothing=0.001 .............................................\n",
            "[CV] ................. var_smoothing=0.001, score=0.570, total=   0.0s\n",
            "[CV] var_smoothing=0.001 .............................................\n",
            "[CV] ................. var_smoothing=0.001, score=0.562, total=   0.0s\n",
            "[CV] var_smoothing=0.0001 ............................................\n",
            "[CV] ................ var_smoothing=0.0001, score=0.557, total=   0.0s\n",
            "[CV] var_smoothing=0.0001 ............................................\n",
            "[CV] ................ var_smoothing=0.0001, score=0.568, total=   0.0s\n",
            "[CV] var_smoothing=0.0001 ............................................\n",
            "[CV] ................ var_smoothing=0.0001, score=0.564, total=   0.0s\n",
            "[CV] var_smoothing=0.0001 ............................................\n",
            "[CV] ................ var_smoothing=0.0001, score=0.568, total=   0.0s\n",
            "[CV] var_smoothing=0.0001 ............................................\n",
            "[CV] ................ var_smoothing=0.0001, score=0.567, total=   0.0s\n",
            "[CV] var_smoothing=0.0001 ............................................\n",
            "[CV] ................ var_smoothing=0.0001, score=0.566, total=   0.0s\n",
            "[CV] var_smoothing=0.0001 ............................................\n",
            "[CV] ................ var_smoothing=0.0001, score=0.565, total=   0.0s\n",
            "[CV] var_smoothing=0.0001 ............................................\n",
            "[CV] ................ var_smoothing=0.0001, score=0.569, total=   0.0s\n",
            "[CV] var_smoothing=0.0001 ............................................\n",
            "[CV] ................ var_smoothing=0.0001, score=0.570, total=   0.0s\n",
            "[CV] var_smoothing=0.0001 ............................................\n",
            "[CV] ................ var_smoothing=0.0001, score=0.562, total=   0.0s\n",
            "[CV] var_smoothing=1e-05 .............................................\n",
            "[CV] ................. var_smoothing=1e-05, score=0.557, total=   0.0s\n",
            "[CV] var_smoothing=1e-05 .............................................\n",
            "[CV] ................. var_smoothing=1e-05, score=0.568, total=   0.0s\n",
            "[CV] var_smoothing=1e-05 .............................................\n",
            "[CV] ................. var_smoothing=1e-05, score=0.564, total=   0.0s\n",
            "[CV] var_smoothing=1e-05 .............................................\n",
            "[CV] ................. var_smoothing=1e-05, score=0.568, total=   0.0s\n",
            "[CV] var_smoothing=1e-05 .............................................\n",
            "[CV] ................. var_smoothing=1e-05, score=0.567, total=   0.0s\n",
            "[CV] var_smoothing=1e-05 .............................................\n",
            "[CV] ................. var_smoothing=1e-05, score=0.566, total=   0.0s\n",
            "[CV] var_smoothing=1e-05 .............................................\n",
            "[CV] ................. var_smoothing=1e-05, score=0.565, total=   0.0s\n",
            "[CV] var_smoothing=1e-05 .............................................\n",
            "[CV] ................. var_smoothing=1e-05, score=0.569, total=   0.0s\n",
            "[CV] var_smoothing=1e-05 .............................................\n",
            "[CV] ................. var_smoothing=1e-05, score=0.570, total=   0.0s\n",
            "[CV] var_smoothing=1e-05 .............................................\n",
            "[CV] ................. var_smoothing=1e-05, score=0.562, total=   0.0s\n",
            "[CV] var_smoothing=1e-06 .............................................\n",
            "[CV] ................. var_smoothing=1e-06, score=0.557, total=   0.0s\n",
            "[CV] var_smoothing=1e-06 .............................................\n",
            "[CV] ................. var_smoothing=1e-06, score=0.568, total=   0.0s\n",
            "[CV] var_smoothing=1e-06 .............................................\n",
            "[CV] ................. var_smoothing=1e-06, score=0.564, total=   0.0s\n",
            "[CV] var_smoothing=1e-06 .............................................\n",
            "[CV] ................. var_smoothing=1e-06, score=0.568, total=   0.0s\n",
            "[CV] var_smoothing=1e-06 .............................................\n",
            "[CV] ................. var_smoothing=1e-06, score=0.567, total=   0.0s\n",
            "[CV] var_smoothing=1e-06 .............................................\n",
            "[CV] ................. var_smoothing=1e-06, score=0.566, total=   0.0s\n",
            "[CV] var_smoothing=1e-06 .............................................\n",
            "[CV] ................. var_smoothing=1e-06, score=0.565, total=   0.0s\n",
            "[CV] var_smoothing=1e-06 .............................................\n",
            "[CV] ................. var_smoothing=1e-06, score=0.569, total=   0.0s\n",
            "[CV] var_smoothing=1e-06 .............................................\n",
            "[CV] ................. var_smoothing=1e-06, score=0.570, total=   0.0s\n",
            "[CV] var_smoothing=1e-06 .............................................\n",
            "[CV] ................. var_smoothing=1e-06, score=0.562, total=   0.0s\n",
            "[CV] var_smoothing=1e-07 .............................................\n",
            "[CV] ................. var_smoothing=1e-07, score=0.557, total=   0.0s\n",
            "[CV] var_smoothing=1e-07 .............................................\n",
            "[CV] ................. var_smoothing=1e-07, score=0.568, total=   0.0s\n",
            "[CV] var_smoothing=1e-07 .............................................\n",
            "[CV] ................. var_smoothing=1e-07, score=0.564, total=   0.0s\n",
            "[CV] var_smoothing=1e-07 .............................................\n",
            "[CV] ................. var_smoothing=1e-07, score=0.568, total=   0.0s\n",
            "[CV] var_smoothing=1e-07 .............................................\n",
            "[CV] ................. var_smoothing=1e-07, score=0.567, total=   0.0s\n",
            "[CV] var_smoothing=1e-07 .............................................\n",
            "[CV] ................. var_smoothing=1e-07, score=0.566, total=   0.0s\n",
            "[CV] var_smoothing=1e-07 .............................................\n",
            "[CV] ................. var_smoothing=1e-07, score=0.565, total=   0.0s\n",
            "[CV] var_smoothing=1e-07 .............................................\n",
            "[CV] ................. var_smoothing=1e-07, score=0.569, total=   0.0s\n",
            "[CV] var_smoothing=1e-07 .............................................\n",
            "[CV] ................. var_smoothing=1e-07, score=0.570, total=   0.0s\n",
            "[CV] var_smoothing=1e-07 .............................................\n",
            "[CV] ................. var_smoothing=1e-07, score=0.562, total=   0.0s\n",
            "[CV] var_smoothing=1e-08 .............................................\n",
            "[CV] ................. var_smoothing=1e-08, score=0.557, total=   0.0s\n",
            "[CV] var_smoothing=1e-08 .............................................\n",
            "[CV] ................. var_smoothing=1e-08, score=0.568, total=   0.0s\n",
            "[CV] var_smoothing=1e-08 .............................................\n",
            "[CV] ................. var_smoothing=1e-08, score=0.564, total=   0.0s\n",
            "[CV] var_smoothing=1e-08 .............................................\n",
            "[CV] ................. var_smoothing=1e-08, score=0.568, total=   0.0s\n",
            "[CV] var_smoothing=1e-08 .............................................\n",
            "[CV] ................. var_smoothing=1e-08, score=0.567, total=   0.0s\n",
            "[CV] var_smoothing=1e-08 .............................................\n",
            "[CV] ................. var_smoothing=1e-08, score=0.566, total=   0.0s\n",
            "[CV] var_smoothing=1e-08 .............................................\n",
            "[CV] ................. var_smoothing=1e-08, score=0.565, total=   0.0s\n",
            "[CV] var_smoothing=1e-08 .............................................\n",
            "[CV] ................. var_smoothing=1e-08, score=0.569, total=   0.0s\n",
            "[CV] var_smoothing=1e-08 .............................................\n",
            "[CV] ................. var_smoothing=1e-08, score=0.570, total=   0.0s\n",
            "[CV] var_smoothing=1e-08 .............................................\n",
            "[CV] ................. var_smoothing=1e-08, score=0.562, total=   0.0s\n",
            "[CV] var_smoothing=1e-09 .............................................\n",
            "[CV] ................. var_smoothing=1e-09, score=0.557, total=   0.0s\n",
            "[CV] var_smoothing=1e-09 .............................................\n",
            "[CV] ................. var_smoothing=1e-09, score=0.568, total=   0.0s\n",
            "[CV] var_smoothing=1e-09 .............................................\n",
            "[CV] ................. var_smoothing=1e-09, score=0.564, total=   0.0s\n",
            "[CV] var_smoothing=1e-09 .............................................\n",
            "[CV] ................. var_smoothing=1e-09, score=0.568, total=   0.0s\n",
            "[CV] var_smoothing=1e-09 .............................................\n",
            "[CV] ................. var_smoothing=1e-09, score=0.567, total=   0.0s\n",
            "[CV] var_smoothing=1e-09 .............................................\n",
            "[CV] ................. var_smoothing=1e-09, score=0.566, total=   0.0s\n",
            "[CV] var_smoothing=1e-09 .............................................\n",
            "[CV] ................. var_smoothing=1e-09, score=0.565, total=   0.0s\n",
            "[CV] var_smoothing=1e-09 .............................................\n",
            "[CV] ................. var_smoothing=1e-09, score=0.569, total=   0.0s\n",
            "[CV] var_smoothing=1e-09 .............................................\n",
            "[CV] ................. var_smoothing=1e-09, score=0.570, total=   0.0s\n",
            "[CV] var_smoothing=1e-09 .............................................\n",
            "[CV] ................. var_smoothing=1e-09, score=0.562, total=   0.0s\n",
            "[CV] var_smoothing=1e-10 .............................................\n",
            "[CV] ................. var_smoothing=1e-10, score=0.557, total=   0.0s\n",
            "[CV] var_smoothing=1e-10 .............................................\n",
            "[CV] ................. var_smoothing=1e-10, score=0.568, total=   0.0s\n",
            "[CV] var_smoothing=1e-10 .............................................\n",
            "[CV] ................. var_smoothing=1e-10, score=0.564, total=   0.0s\n",
            "[CV] var_smoothing=1e-10 .............................................\n",
            "[CV] ................. var_smoothing=1e-10, score=0.568, total=   0.0s\n",
            "[CV] var_smoothing=1e-10 .............................................\n",
            "[CV] ................. var_smoothing=1e-10, score=0.567, total=   0.0s\n",
            "[CV] var_smoothing=1e-10 .............................................\n",
            "[CV] ................. var_smoothing=1e-10, score=0.566, total=   0.0s\n",
            "[CV] var_smoothing=1e-10 .............................................\n",
            "[CV] ................. var_smoothing=1e-10, score=0.565, total=   0.0s\n",
            "[CV] var_smoothing=1e-10 .............................................\n",
            "[CV] ................. var_smoothing=1e-10, score=0.569, total=   0.0s\n",
            "[CV] var_smoothing=1e-10 .............................................\n",
            "[CV] ................. var_smoothing=1e-10, score=0.570, total=   0.0s\n",
            "[CV] var_smoothing=1e-10 .............................................\n",
            "[CV] ................. var_smoothing=1e-10, score=0.562, total=   0.0s\n",
            "[CV] var_smoothing=1e-11 .............................................\n",
            "[CV] ................. var_smoothing=1e-11, score=0.557, total=   0.0s\n",
            "[CV] var_smoothing=1e-11 .............................................\n",
            "[CV] ................. var_smoothing=1e-11, score=0.568, total=   0.0s\n",
            "[CV] var_smoothing=1e-11 .............................................\n",
            "[CV] ................. var_smoothing=1e-11, score=0.564, total=   0.0s\n",
            "[CV] var_smoothing=1e-11 .............................................\n",
            "[CV] ................. var_smoothing=1e-11, score=0.568, total=   0.0s\n",
            "[CV] var_smoothing=1e-11 .............................................\n",
            "[CV] ................. var_smoothing=1e-11, score=0.567, total=   0.0s\n",
            "[CV] var_smoothing=1e-11 .............................................\n",
            "[CV] ................. var_smoothing=1e-11, score=0.566, total=   0.0s\n",
            "[CV] var_smoothing=1e-11 .............................................\n",
            "[CV] ................. var_smoothing=1e-11, score=0.565, total=   0.0s\n",
            "[CV] var_smoothing=1e-11 .............................................\n",
            "[CV] ................. var_smoothing=1e-11, score=0.569, total=   0.0s\n",
            "[CV] var_smoothing=1e-11 .............................................\n",
            "[CV] ................. var_smoothing=1e-11, score=0.570, total=   0.0s\n",
            "[CV] var_smoothing=1e-11 .............................................\n",
            "[CV] ................. var_smoothing=1e-11, score=0.562, total=   0.0s\n",
            "[CV] var_smoothing=1e-12 .............................................\n",
            "[CV] ................. var_smoothing=1e-12, score=0.557, total=   0.0s\n",
            "[CV] var_smoothing=1e-12 .............................................\n",
            "[CV] ................. var_smoothing=1e-12, score=0.568, total=   0.0s\n",
            "[CV] var_smoothing=1e-12 .............................................\n",
            "[CV] ................. var_smoothing=1e-12, score=0.564, total=   0.0s\n",
            "[CV] var_smoothing=1e-12 .............................................\n",
            "[CV] ................. var_smoothing=1e-12, score=0.568, total=   0.0s\n",
            "[CV] var_smoothing=1e-12 .............................................\n",
            "[CV] ................. var_smoothing=1e-12, score=0.567, total=   0.0s\n",
            "[CV] var_smoothing=1e-12 .............................................\n",
            "[CV] ................. var_smoothing=1e-12, score=0.566, total=   0.0s\n",
            "[CV] var_smoothing=1e-12 .............................................\n",
            "[CV] ................. var_smoothing=1e-12, score=0.565, total=   0.0s\n",
            "[CV] var_smoothing=1e-12 .............................................\n",
            "[CV] ................. var_smoothing=1e-12, score=0.569, total=   0.0s\n",
            "[CV] var_smoothing=1e-12 .............................................\n",
            "[CV] ................. var_smoothing=1e-12, score=0.570, total=   0.0s\n",
            "[CV] var_smoothing=1e-12 .............................................\n",
            "[CV] ................. var_smoothing=1e-12, score=0.562, total=   0.0s\n",
            "[CV] var_smoothing=1e-13 .............................................\n",
            "[CV] ................. var_smoothing=1e-13, score=0.557, total=   0.0s\n",
            "[CV] var_smoothing=1e-13 .............................................\n",
            "[CV] ................. var_smoothing=1e-13, score=0.568, total=   0.0s\n",
            "[CV] var_smoothing=1e-13 .............................................\n",
            "[CV] ................. var_smoothing=1e-13, score=0.564, total=   0.0s\n",
            "[CV] var_smoothing=1e-13 .............................................\n",
            "[CV] ................. var_smoothing=1e-13, score=0.568, total=   0.0s\n",
            "[CV] var_smoothing=1e-13 .............................................\n",
            "[CV] ................. var_smoothing=1e-13, score=0.567, total=   0.0s\n",
            "[CV] var_smoothing=1e-13 .............................................\n",
            "[CV] ................. var_smoothing=1e-13, score=0.566, total=   0.0s\n",
            "[CV] var_smoothing=1e-13 .............................................\n",
            "[CV] ................. var_smoothing=1e-13, score=0.565, total=   0.0s\n",
            "[CV] var_smoothing=1e-13 .............................................\n",
            "[CV] ................. var_smoothing=1e-13, score=0.569, total=   0.0s\n",
            "[CV] var_smoothing=1e-13 .............................................\n",
            "[CV] ................. var_smoothing=1e-13, score=0.570, total=   0.0s\n",
            "[CV] var_smoothing=1e-13 .............................................\n",
            "[CV] ................. var_smoothing=1e-13, score=0.562, total=   0.0s\n",
            "[CV] var_smoothing=1e-14 .............................................\n",
            "[CV] ................. var_smoothing=1e-14, score=0.557, total=   0.0s\n",
            "[CV] var_smoothing=1e-14 .............................................\n",
            "[CV] ................. var_smoothing=1e-14, score=0.568, total=   0.0s\n",
            "[CV] var_smoothing=1e-14 .............................................\n",
            "[CV] ................. var_smoothing=1e-14, score=0.564, total=   0.0s\n",
            "[CV] var_smoothing=1e-14 .............................................\n",
            "[CV] ................. var_smoothing=1e-14, score=0.568, total=   0.0s\n",
            "[CV] var_smoothing=1e-14 .............................................\n",
            "[CV] ................. var_smoothing=1e-14, score=0.567, total=   0.0s\n",
            "[CV] var_smoothing=1e-14 .............................................\n",
            "[CV] ................. var_smoothing=1e-14, score=0.566, total=   0.0s\n",
            "[CV] var_smoothing=1e-14 .............................................\n",
            "[CV] ................. var_smoothing=1e-14, score=0.565, total=   0.0s\n",
            "[CV] var_smoothing=1e-14 .............................................\n",
            "[CV] ................. var_smoothing=1e-14, score=0.569, total=   0.0s\n",
            "[CV] var_smoothing=1e-14 .............................................\n",
            "[CV] ................. var_smoothing=1e-14, score=0.570, total=   0.0s\n",
            "[CV] var_smoothing=1e-14 .............................................\n",
            "[CV] ................. var_smoothing=1e-14, score=0.562, total=   0.0s\n",
            "[CV] var_smoothing=1e-15 .............................................\n",
            "[CV] ................. var_smoothing=1e-15, score=0.557, total=   0.0s\n",
            "[CV] var_smoothing=1e-15 .............................................\n",
            "[CV] ................. var_smoothing=1e-15, score=0.568, total=   0.0s\n",
            "[CV] var_smoothing=1e-15 .............................................\n",
            "[CV] ................. var_smoothing=1e-15, score=0.564, total=   0.0s\n",
            "[CV] var_smoothing=1e-15 .............................................\n",
            "[CV] ................. var_smoothing=1e-15, score=0.568, total=   0.0s\n",
            "[CV] var_smoothing=1e-15 .............................................\n",
            "[CV] ................. var_smoothing=1e-15, score=0.567, total=   0.0s\n",
            "[CV] var_smoothing=1e-15 .............................................\n",
            "[CV] ................. var_smoothing=1e-15, score=0.566, total=   0.0s\n",
            "[CV] var_smoothing=1e-15 .............................................\n",
            "[CV] ................. var_smoothing=1e-15, score=0.565, total=   0.0s\n",
            "[CV] var_smoothing=1e-15 .............................................\n",
            "[CV] ................. var_smoothing=1e-15, score=0.569, total=   0.0s\n",
            "[CV] var_smoothing=1e-15 .............................................\n",
            "[CV] ................. var_smoothing=1e-15, score=0.570, total=   0.0s\n",
            "[CV] var_smoothing=1e-15 .............................................\n",
            "[CV] ................. var_smoothing=1e-15, score=0.562, total=   0.0s\n"
          ],
          "name": "stdout"
        },
        {
          "output_type": "stream",
          "text": [
            "[Parallel(n_jobs=1)]: Done 140 out of 140 | elapsed:    6.0s finished\n"
          ],
          "name": "stderr"
        },
        {
          "output_type": "execute_result",
          "data": {
            "text/plain": [
              "GridSearchCV(cv=10, error_score=nan,\n",
              "             estimator=GaussianNB(priors=None, var_smoothing=1e-09),\n",
              "             iid='deprecated', n_jobs=None,\n",
              "             param_grid={'var_smoothing': [0.01, 0.001, 0.0001, 1e-05, 1e-06,\n",
              "                                           1e-07, 1e-08, 1e-09, 1e-10, 1e-11,\n",
              "                                           1e-12, 1e-13, 1e-14, 1e-15]},\n",
              "             pre_dispatch='2*n_jobs', refit=True, return_train_score=False,\n",
              "             scoring=None, verbose=3)"
            ]
          },
          "metadata": {
            "tags": []
          },
          "execution_count": 151
        }
      ]
    },
    {
      "cell_type": "code",
      "metadata": {
        "colab": {
          "base_uri": "https://localhost:8080/"
        },
        "id": "4q53N85RvIU_",
        "outputId": "c8f30c25-1cb3-41fb-9a30-c4583cdb8039"
      },
      "source": [
        "print(\"-----------------------------------------------------------\")\n",
        "print(\"melhor estimador: \",grid_NB.best_estimator_)\n",
        "print(\"melhores Parâmetros: \",grid_NB.best_params_)\n",
        "print(\"Melhor score: \",grid_NB.score(X_test, y_test))"
      ],
      "execution_count": 152,
      "outputs": [
        {
          "output_type": "stream",
          "text": [
            "-----------------------------------------------------------\n",
            "melhor estimador:  GaussianNB(priors=None, var_smoothing=0.01)\n",
            "melhores Parâmetros:  {'var_smoothing': 0.01}\n",
            "Melhor score:  0.5603461414709319\n"
          ],
          "name": "stdout"
        }
      ]
    },
    {
      "cell_type": "code",
      "metadata": {
        "colab": {
          "base_uri": "https://localhost:8080/"
        },
        "id": "pn7j4A-xDszm",
        "outputId": "d7c4fcc0-bb34-4978-b121-17d1efa1eb94"
      },
      "source": [
        "# treinando com os melhores parâmetros\n",
        "NB = GaussianNB(var_smoothing = 0.01)\n",
        "NB.fit(X_train, y_train)"
      ],
      "execution_count": 169,
      "outputs": [
        {
          "output_type": "execute_result",
          "data": {
            "text/plain": [
              "GaussianNB(priors=None, var_smoothing=0.01)"
            ]
          },
          "metadata": {
            "tags": []
          },
          "execution_count": 169
        }
      ]
    },
    {
      "cell_type": "code",
      "metadata": {
        "colab": {
          "base_uri": "https://localhost:8080/"
        },
        "id": "I3pB-M-zD-7L",
        "outputId": "625dbbab-d7a7-46a0-86fd-f1b0372699e9"
      },
      "source": [
        "#Computar a acurácia do teste\n",
        "test_accuracy_NB = NB.score(X_test, y_test)\n",
        "print(\"Acurácia do teste = %0.4f\" % (test_accuracy_NB))\n",
        "\n",
        "predictions_NB = NB.predict(X_test)\n",
        "print(confusion_matrix(y_test, predictions_NB))\n",
        "print(classification_report(y_test, predictions_NB))"
      ],
      "execution_count": 170,
      "outputs": [
        {
          "output_type": "stream",
          "text": [
            "Acurácia do teste = 0.5603\n",
            "[[ 9676 19935]\n",
            " [ 6027 23413]]\n",
            "              precision    recall  f1-score   support\n",
            "\n",
            "           0       0.62      0.33      0.43     29611\n",
            "           1       0.54      0.80      0.64     29440\n",
            "\n",
            "    accuracy                           0.56     59051\n",
            "   macro avg       0.58      0.56      0.54     59051\n",
            "weighted avg       0.58      0.56      0.53     59051\n",
            "\n"
          ],
          "name": "stdout"
        }
      ]
    },
    {
      "cell_type": "markdown",
      "metadata": {
        "id": "vA0qlBYbFJ_k"
      },
      "source": [
        "##SVM"
      ]
    },
    {
      "cell_type": "markdown",
      "metadata": {
        "id": "pK5ZwK_7PU4f"
      },
      "source": [
        "SVM levando muito tempo.  Não será levado em consideração?"
      ]
    },
    {
      "cell_type": "code",
      "metadata": {
        "id": "VZchrESkFRaX"
      },
      "source": [
        "#Fazendo um dicionário chamado param_grid contendo os parâmetros que serão variados C e Gamma\n",
        "param_SVM = {'C':[0.1,1,10,100], 'gamma':[1,0.1,0.01,0.001],'kernel':['rbf', 'poly'],'degree':[2, 3, 4, 5]}"
      ],
      "execution_count": 155,
      "outputs": []
    },
    {
      "cell_type": "code",
      "metadata": {
        "colab": {
          "base_uri": "https://localhost:8080/",
          "height": 54
        },
        "id": "e44NwZu5FJ_o",
        "outputId": "40a416b1-9057-42ef-be27-7a3307f25461"
      },
      "source": [
        "#Criando o objeto GridSearch e treinando o modelo com os melhores hiperparâmetros\n",
        "\n",
        "\"\"\"grid_SVM = GridSearchCV(SVC(), param_SVM, refit = True, verbose=3, cv=5)\n",
        "grid_SVM.fit(Xn_train, yn_train)\"\"\""
      ],
      "execution_count": 156,
      "outputs": [
        {
          "output_type": "execute_result",
          "data": {
            "application/vnd.google.colaboratory.intrinsic+json": {
              "type": "string"
            },
            "text/plain": [
              "'grid_SVM = GridSearchCV(SVC(), param_SVM, refit = True, verbose=3, cv=5)\\ngrid_SVM.fit(Xn_train, yn_train)'"
            ]
          },
          "metadata": {
            "tags": []
          },
          "execution_count": 156
        }
      ]
    },
    {
      "cell_type": "code",
      "metadata": {
        "colab": {
          "base_uri": "https://localhost:8080/",
          "height": 54
        },
        "id": "KIWhQZOwFJ_s",
        "outputId": "ea9d14e2-1840-4e7e-c0de-8108e7517433"
      },
      "source": [
        "\"\"\"print(grid_SVM.best_estimator_)\n",
        "\n",
        "print(grid_SVM.best_params_)\n",
        "\n",
        "print(grid_SVM.score(Xn_test, yn_test))\n",
        "\"\"\""
      ],
      "execution_count": 157,
      "outputs": [
        {
          "output_type": "execute_result",
          "data": {
            "application/vnd.google.colaboratory.intrinsic+json": {
              "type": "string"
            },
            "text/plain": [
              "'print(grid_SVM.best_estimator_)\\n\\nprint(grid_SVM.best_params_)\\n\\nprint(grid_SVM.score(Xn_test, yn_test))\\n'"
            ]
          },
          "metadata": {
            "tags": []
          },
          "execution_count": 157
        }
      ]
    },
    {
      "cell_type": "code",
      "metadata": {
        "colab": {
          "base_uri": "https://localhost:8080/",
          "height": 36
        },
        "id": "Str9UcPYFJ_t",
        "outputId": "70ac4537-8b75-479e-c345-8f1b6361baad"
      },
      "source": [
        "\"\"\"# treinando com os melhores parâmetros\n",
        "SVM = SVC(kernel='poly')\n",
        "SVM.fit(Xn_train, yn_train)\"\"\""
      ],
      "execution_count": 158,
      "outputs": [
        {
          "output_type": "execute_result",
          "data": {
            "application/vnd.google.colaboratory.intrinsic+json": {
              "type": "string"
            },
            "text/plain": [
              "\"# treinando com os melhores parâmetros\\nSVM = SVC(kernel='poly')\\nSVM.fit(Xn_train, yn_train)\""
            ]
          },
          "metadata": {
            "tags": []
          },
          "execution_count": 158
        }
      ]
    },
    {
      "cell_type": "code",
      "metadata": {
        "colab": {
          "base_uri": "https://localhost:8080/",
          "height": 72
        },
        "id": "gEciLF8eFJ_u",
        "outputId": "40350ae1-b293-4c5f-9fad-013c67b0001e"
      },
      "source": [
        "\"\"\"#Computar a acurácia do teste\n",
        "test_accuracy_SVM = SVM.score(Xn_test, yn_test)\n",
        "print(\"Acurácia do teste = %0.4f\" % (test_accuracy_SVM))\n",
        "\n",
        "predictions_SVM = SVM.predict(X_test)\n",
        "print(confusion_matrix(yn_test, predictions_SVM))\n",
        "print(classification_report(yn_test, predictions_SVM))\"\"\""
      ],
      "execution_count": 159,
      "outputs": [
        {
          "output_type": "execute_result",
          "data": {
            "application/vnd.google.colaboratory.intrinsic+json": {
              "type": "string"
            },
            "text/plain": [
              "'#Computar a acurácia do teste\\ntest_accuracy_SVM = SVM.score(Xn_test, yn_test)\\nprint(\"Acurácia do teste = %0.4f\" % (test_accuracy_SVM))\\n\\npredictions_SVM = SVM.predict(X_test)\\nprint(confusion_matrix(yn_test, predictions_SVM))\\nprint(classification_report(yn_test, predictions_SVM))'"
            ]
          },
          "metadata": {
            "tags": []
          },
          "execution_count": 159
        }
      ]
    },
    {
      "cell_type": "code",
      "metadata": {
        "id": "iZ7tsSXebM1q"
      },
      "source": [
        ""
      ],
      "execution_count": 159,
      "outputs": []
    },
    {
      "cell_type": "markdown",
      "metadata": {
        "id": "hqiBOGqwbNcX"
      },
      "source": [
        "##MLP"
      ]
    },
    {
      "cell_type": "markdown",
      "metadata": {
        "id": "j0I50SUjPxVX"
      },
      "source": [
        "Grid levando muito tempo.  Hiperparâmetros não serão variados"
      ]
    },
    {
      "cell_type": "code",
      "metadata": {
        "id": "i0PA3Mt8bs0-"
      },
      "source": [
        "# Criando objeto e treinando o modelo\n",
        "MLP = MLPClassifier(max_iter=10000)\n"
      ],
      "execution_count": 160,
      "outputs": []
    },
    {
      "cell_type": "code",
      "metadata": {
        "id": "nMB9LDcsbNcb"
      },
      "source": [
        "#Além dos parâmetros de neurônios das camadas intermediárias, busquei variar outros para avaliar os resultados.\n",
        "parameter_space2 = {\n",
        "    'hidden_layer_sizes': [(50,50,50), (50,100,50), (100,)],\n",
        "    'activation': ['tanh', 'relu'],\n",
        "    'solver': ['sgd', 'adam'],\n",
        "    'alpha': [0.0001, 0.05],\n",
        "    'learning_rate': ['constant','adaptive'],\n",
        "}"
      ],
      "execution_count": 161,
      "outputs": []
    },
    {
      "cell_type": "code",
      "metadata": {
        "id": "Aihr9KGN8atU"
      },
      "source": [
        "parameter_space = {\n",
        "    'hidden_layer_sizes': [(50,50,50), (50,100,50), (100,)],\n",
        "   \n",
        "}"
      ],
      "execution_count": 162,
      "outputs": []
    },
    {
      "cell_type": "code",
      "metadata": {
        "colab": {
          "base_uri": "https://localhost:8080/",
          "height": 54
        },
        "id": "0QuiMfQibNcg",
        "outputId": "e09db4dd-89b9-41a7-b8e9-8138112ae713"
      },
      "source": [
        "#Criando o objeto GridSearch e treinando o modelo com os melhores hiperparâmetros\n",
        "\"\"\"\n",
        "grid_MLP = GridSearchCV(MLP, parameter_space, refit = True, verbose=3, cv=5)\n",
        "grid_MLP.fit(Xn_train, yn_train)\n",
        "\"\"\""
      ],
      "execution_count": 163,
      "outputs": [
        {
          "output_type": "execute_result",
          "data": {
            "application/vnd.google.colaboratory.intrinsic+json": {
              "type": "string"
            },
            "text/plain": [
              "'\\ngrid_MLP = GridSearchCV(MLP, parameter_space, refit = True, verbose=3, cv=5)\\ngrid_MLP.fit(Xn_train, yn_train)\\n'"
            ]
          },
          "metadata": {
            "tags": []
          },
          "execution_count": 163
        }
      ]
    },
    {
      "cell_type": "code",
      "metadata": {
        "colab": {
          "base_uri": "https://localhost:8080/",
          "height": 54
        },
        "id": "u01AxGYTbNcj",
        "outputId": "01d0d543-5c47-4e27-b228-6817bb0ea995"
      },
      "source": [
        "\"\"\"print(grid_SVM.best_estimator_)\n",
        "\n",
        "print(grid_SVM.best_params_)\n",
        "\n",
        "print(grid_SVM.score(Xn_test, yn_test))\n",
        "\"\"\""
      ],
      "execution_count": 164,
      "outputs": [
        {
          "output_type": "execute_result",
          "data": {
            "application/vnd.google.colaboratory.intrinsic+json": {
              "type": "string"
            },
            "text/plain": [
              "'print(grid_SVM.best_estimator_)\\n\\nprint(grid_SVM.best_params_)\\n\\nprint(grid_SVM.score(Xn_test, yn_test))\\n'"
            ]
          },
          "metadata": {
            "tags": []
          },
          "execution_count": 164
        }
      ]
    },
    {
      "cell_type": "code",
      "metadata": {
        "colab": {
          "base_uri": "https://localhost:8080/"
        },
        "id": "szvJeugJ1CaF",
        "outputId": "85a81b01-69a3-4e08-e42f-ff51249d9acd"
      },
      "source": [
        "# Treinando o modelo\n",
        "MLP = MLPClassifier(max_iter=10000)\n",
        "MLP.fit(Xn_train, yn_train)"
      ],
      "execution_count": 165,
      "outputs": [
        {
          "output_type": "execute_result",
          "data": {
            "text/plain": [
              "MLPClassifier(activation='relu', alpha=0.0001, batch_size='auto', beta_1=0.9,\n",
              "              beta_2=0.999, early_stopping=False, epsilon=1e-08,\n",
              "              hidden_layer_sizes=(100,), learning_rate='constant',\n",
              "              learning_rate_init=0.001, max_fun=15000, max_iter=10000,\n",
              "              momentum=0.9, n_iter_no_change=10, nesterovs_momentum=True,\n",
              "              power_t=0.5, random_state=None, shuffle=True, solver='adam',\n",
              "              tol=0.0001, validation_fraction=0.1, verbose=False,\n",
              "              warm_start=False)"
            ]
          },
          "metadata": {
            "tags": []
          },
          "execution_count": 165
        }
      ]
    },
    {
      "cell_type": "code",
      "metadata": {
        "colab": {
          "base_uri": "https://localhost:8080/"
        },
        "id": "j1lHXUq8bNcp",
        "outputId": "e2d5d113-b562-474b-f5c3-261e90e270f3"
      },
      "source": [
        "#Computar a acurácia do teste\n",
        "test_accuracy_MLP = MLP.score(Xn_test, yn_test)\n",
        "print(\"Acurácia do teste = %0.4f\" % (test_accuracy_MLP))\n",
        "\n",
        "predictions_MLP = MLP.predict(Xn_test)\n",
        "print(confusion_matrix(yn_test, predictions_MLP))\n",
        "print(classification_report(yn_test, predictions_MLP))"
      ],
      "execution_count": 184,
      "outputs": [
        {
          "output_type": "stream",
          "text": [
            "Acurácia do teste = 0.6097\n",
            "[[15457 14154]\n",
            " [ 8893 20547]]\n",
            "              precision    recall  f1-score   support\n",
            "\n",
            "           0       0.63      0.52      0.57     29611\n",
            "           1       0.59      0.70      0.64     29440\n",
            "\n",
            "    accuracy                           0.61     59051\n",
            "   macro avg       0.61      0.61      0.61     59051\n",
            "weighted avg       0.61      0.61      0.61     59051\n",
            "\n"
          ],
          "name": "stdout"
        }
      ]
    },
    {
      "cell_type": "markdown",
      "metadata": {
        "id": "_7tXhvwmHTxG"
      },
      "source": [
        "\n",
        "\n",
        "---\n",
        "\n",
        "\n",
        "\n",
        "---\n",
        "\n"
      ]
    },
    {
      "cell_type": "markdown",
      "metadata": {
        "id": "RHZeRo5OjFsz"
      },
      "source": [
        "#Teste da acurácia com diversos modelos usando o 10-fold cross validation para comparação"
      ]
    },
    {
      "cell_type": "code",
      "metadata": {
        "id": "kdJlwnBRjCCv",
        "colab": {
          "base_uri": "https://localhost:8080/"
        },
        "outputId": "c6360c4a-f62e-4b95-9937-8cff40a82503"
      },
      "source": [
        "seed=42\n",
        "models = []\n",
        "models_results = []\n",
        "scoring='accuracy'\n",
        "models.append(('TREE', DecisionTreeClassifier(criterion = 'entropy', max_depth= 13)))\n",
        "models.append(('CART', DecisionTreeClassifier(criterion = 'gini', max_depth= 13)))\n",
        "models.append(('LR', LogisticRegression(solver='liblinear', multi_class='ovr')))\n",
        "models.append(('LDA', LinearDiscriminantAnalysis()))\n",
        "models.append(('KNN', KNeighborsClassifier(n_neighbors=179)))\n",
        "models.append(('NB', GaussianNB(priors=None, var_smoothing=0.01)))\n",
        "models.append(('Random Forest', RandomForestClassifier(n_estimators=100)))\n",
        "models.append(('Isolation Forest',IsolationForest()))\n",
        "models.append(('MLP',MLPClassifier(max_iter=10000)))\n",
        "\n",
        "#models.append(('SVM', SVC(gamma='auto')))\n",
        "# evaluate each model in turn\n",
        "results = []\n",
        "names = []\n",
        "for name, model in models:\n",
        "    kfold = model_selection.KFold(n_splits=10, random_state=seed, shuffle = True)\n",
        "    cv_results = model_selection.cross_val_score(model, Xn_train, yn_train, cv=kfold, scoring=scoring)\n",
        "    results.append(cv_results)\n",
        "    names.append(name)\n",
        "    lista = [name, cv_results.mean(), cv_results.std()]\n",
        "    models_results.append(lista)\n",
        "    msg = \"%s: %f (%f)\" % (name, cv_results.mean(), cv_results.std())\n",
        "    print(msg)"
      ],
      "execution_count": 232,
      "outputs": [
        {
          "output_type": "stream",
          "text": [
            "TREE: 0.594982 (0.003986)\n",
            "CART: 0.592053 (0.003511)\n",
            "LR: 0.500478 (0.004052)\n",
            "LDA: 0.500462 (0.004073)\n",
            "KNN: 0.609182 (0.004047)\n",
            "NB: 0.565440 (0.003424)\n",
            "Random Forest: 0.587861 (0.002104)\n",
            "Isolation Forest: 0.448455 (0.007139)\n",
            "MLP: 0.612120 (0.003912)\n"
          ],
          "name": "stdout"
        }
      ]
    },
    {
      "cell_type": "code",
      "metadata": {
        "id": "XYcLlb00r2T-",
        "colab": {
          "base_uri": "https://localhost:8080/"
        },
        "outputId": "67609745-8a9a-4442-8581-a3f1badf5af3"
      },
      "source": [
        "models_results"
      ],
      "execution_count": 221,
      "outputs": [
        {
          "output_type": "execute_result",
          "data": {
            "text/plain": [
              "[['TREE', 0.5948722129394584, 0.003958832475894167],\n",
              " ['CART', 0.5920017849575637, 0.0035286948660163903],\n",
              " ['LR', 0.5004784651228913, 0.0040519744087577705],\n",
              " ['LDA', 0.5004615324725992, 0.004072546458554841],\n",
              " ['KNN', 0.6091820043758631, 0.004046842619924553],\n",
              " ['NB', 0.5654396972468797, 0.003424361297725274],\n",
              " ['Random Forest', 0.5875310612941294, 0.003855591661416324],\n",
              " ['Isolation Forest', 0.4466177090186526, 0.005218666337860722],\n",
              " ['MLP', 0.611493592527123, 0.0046276990470139525]]"
            ]
          },
          "metadata": {
            "tags": []
          },
          "execution_count": 221
        }
      ]
    },
    {
      "cell_type": "code",
      "metadata": {
        "id": "47yYsBYtr2UE",
        "colab": {
          "base_uri": "https://localhost:8080/",
          "height": 332
        },
        "outputId": "5cfe4f89-cb1f-4965-f661-65f24a386f80"
      },
      "source": [
        "df_results = pd.DataFrame(models_results, \n",
        "                          columns = ['modelo','Acuracia_k-fold=10','Desvio-padrão'])\n",
        "df_results.sort_values(by='Acuracia_k-fold=10', ascending=False, inplace=True)\n",
        "df_results.reset_index(inplace=True,drop=True)\n",
        "df_results"
      ],
      "execution_count": 233,
      "outputs": [
        {
          "output_type": "execute_result",
          "data": {
            "text/html": [
              "<div>\n",
              "<style scoped>\n",
              "    .dataframe tbody tr th:only-of-type {\n",
              "        vertical-align: middle;\n",
              "    }\n",
              "\n",
              "    .dataframe tbody tr th {\n",
              "        vertical-align: top;\n",
              "    }\n",
              "\n",
              "    .dataframe thead th {\n",
              "        text-align: right;\n",
              "    }\n",
              "</style>\n",
              "<table border=\"1\" class=\"dataframe\">\n",
              "  <thead>\n",
              "    <tr style=\"text-align: right;\">\n",
              "      <th></th>\n",
              "      <th>modelo</th>\n",
              "      <th>Acuracia_k-fold=10</th>\n",
              "      <th>Desvio-padrão</th>\n",
              "    </tr>\n",
              "  </thead>\n",
              "  <tbody>\n",
              "    <tr>\n",
              "      <th>0</th>\n",
              "      <td>MLP</td>\n",
              "      <td>0.612120</td>\n",
              "      <td>0.003912</td>\n",
              "    </tr>\n",
              "    <tr>\n",
              "      <th>1</th>\n",
              "      <td>KNN</td>\n",
              "      <td>0.609182</td>\n",
              "      <td>0.004047</td>\n",
              "    </tr>\n",
              "    <tr>\n",
              "      <th>2</th>\n",
              "      <td>TREE</td>\n",
              "      <td>0.594982</td>\n",
              "      <td>0.003986</td>\n",
              "    </tr>\n",
              "    <tr>\n",
              "      <th>3</th>\n",
              "      <td>CART</td>\n",
              "      <td>0.592053</td>\n",
              "      <td>0.003511</td>\n",
              "    </tr>\n",
              "    <tr>\n",
              "      <th>4</th>\n",
              "      <td>Random Forest</td>\n",
              "      <td>0.587861</td>\n",
              "      <td>0.002104</td>\n",
              "    </tr>\n",
              "    <tr>\n",
              "      <th>5</th>\n",
              "      <td>NB</td>\n",
              "      <td>0.565440</td>\n",
              "      <td>0.003424</td>\n",
              "    </tr>\n",
              "    <tr>\n",
              "      <th>6</th>\n",
              "      <td>LR</td>\n",
              "      <td>0.500478</td>\n",
              "      <td>0.004052</td>\n",
              "    </tr>\n",
              "    <tr>\n",
              "      <th>7</th>\n",
              "      <td>LDA</td>\n",
              "      <td>0.500462</td>\n",
              "      <td>0.004073</td>\n",
              "    </tr>\n",
              "    <tr>\n",
              "      <th>8</th>\n",
              "      <td>Isolation Forest</td>\n",
              "      <td>0.448455</td>\n",
              "      <td>0.007139</td>\n",
              "    </tr>\n",
              "  </tbody>\n",
              "</table>\n",
              "</div>"
            ],
            "text/plain": [
              "             modelo  Acuracia_k-fold=10  Desvio-padrão\n",
              "0               MLP            0.612120       0.003912\n",
              "1               KNN            0.609182       0.004047\n",
              "2              TREE            0.594982       0.003986\n",
              "3              CART            0.592053       0.003511\n",
              "4     Random Forest            0.587861       0.002104\n",
              "5                NB            0.565440       0.003424\n",
              "6                LR            0.500478       0.004052\n",
              "7               LDA            0.500462       0.004073\n",
              "8  Isolation Forest            0.448455       0.007139"
            ]
          },
          "metadata": {
            "tags": []
          },
          "execution_count": 233
        }
      ]
    },
    {
      "cell_type": "code",
      "metadata": {
        "id": "h2dp-kDCr2UH",
        "colab": {
          "base_uri": "https://localhost:8080/",
          "height": 419
        },
        "outputId": "166d5476-0853-4998-cdb1-c8866d1bf403"
      },
      "source": [
        "import matplotlib.pyplot as plt\n",
        "import seaborn as sns\n",
        "plt.style.use('ggplot')\n",
        "plt.figure(figsize = (15,5))\n",
        "sns.barplot(x = \"modelo\", y = \"Acuracia_k-fold=10\", data = df_results)\n",
        "plt.title('Validação média', fontsize = 15)\n",
        "#plt.ylim(0.8,1)\n",
        "plt.xlabel('Modelo', fontsize=15)\n",
        "plt.ylabel('Acurácia_k-fold=10',fontsize=15)\n",
        "plt.xticks(rotation=90, fontsize=12)\n",
        "plt.show()"
      ],
      "execution_count": 234,
      "outputs": [
        {
          "output_type": "display_data",
          "data": {
            "image/png": "[encoded data removed]",
            "text/plain": [
              "<Figure size 1080x360 with 1 Axes>"
            ]
          },
          "metadata": {
            "tags": []
          }
        }
      ]
    },
    {
      "cell_type": "code",
      "metadata": {
        "id": "Cb7h4sdUx7qK",
        "colab": {
          "base_uri": "https://localhost:8080/"
        },
        "outputId": "56394dee-478b-43af-d3a5-ec2a0948d93b"
      },
      "source": [
        "models\n"
      ],
      "execution_count": 224,
      "outputs": [
        {
          "output_type": "execute_result",
          "data": {
            "text/plain": [
              "[('TREE',\n",
              "  DecisionTreeClassifier(ccp_alpha=0.0, class_weight=None, criterion='entropy',\n",
              "                         max_depth=13, max_features=None, max_leaf_nodes=None,\n",
              "                         min_impurity_decrease=0.0, min_impurity_split=None,\n",
              "                         min_samples_leaf=1, min_samples_split=2,\n",
              "                         min_weight_fraction_leaf=0.0, presort='deprecated',\n",
              "                         random_state=None, splitter='best')),\n",
              " ('CART',\n",
              "  DecisionTreeClassifier(ccp_alpha=0.0, class_weight=None, criterion='gini',\n",
              "                         max_depth=13, max_features=None, max_leaf_nodes=None,\n",
              "                         min_impurity_decrease=0.0, min_impurity_split=None,\n",
              "                         min_samples_leaf=1, min_samples_split=2,\n",
              "                         min_weight_fraction_leaf=0.0, presort='deprecated',\n",
              "                         random_state=None, splitter='best')),\n",
              " ('LR',\n",
              "  LogisticRegression(C=1.0, class_weight=None, dual=False, fit_intercept=True,\n",
              "                     intercept_scaling=1, l1_ratio=None, max_iter=100,\n",
              "                     multi_class='ovr', n_jobs=None, penalty='l2',\n",
              "                     random_state=None, solver='liblinear', tol=0.0001, verbose=0,\n",
              "                     warm_start=False)),\n",
              " ('LDA',\n",
              "  LinearDiscriminantAnalysis(n_components=None, priors=None, shrinkage=None,\n",
              "                             solver='svd', store_covariance=False, tol=0.0001)),\n",
              " ('KNN',\n",
              "  KNeighborsClassifier(algorithm='auto', leaf_size=30, metric='minkowski',\n",
              "                       metric_params=None, n_jobs=None, n_neighbors=179, p=2,\n",
              "                       weights='uniform')),\n",
              " ('NB', GaussianNB(priors=None, var_smoothing=0.01)),\n",
              " ('Random Forest',\n",
              "  RandomForestClassifier(bootstrap=True, ccp_alpha=0.0, class_weight=None,\n",
              "                         criterion='gini', max_depth=None, max_features='auto',\n",
              "                         max_leaf_nodes=None, max_samples=None,\n",
              "                         min_impurity_decrease=0.0, min_impurity_split=None,\n",
              "                         min_samples_leaf=1, min_samples_split=2,\n",
              "                         min_weight_fraction_leaf=0.0, n_estimators=100,\n",
              "                         n_jobs=None, oob_score=False, random_state=None,\n",
              "                         verbose=0, warm_start=False)),\n",
              " ('Isolation Forest',\n",
              "  IsolationForest(behaviour='deprecated', bootstrap=False, contamination='auto',\n",
              "                  max_features=1.0, max_samples='auto', n_estimators=100,\n",
              "                  n_jobs=None, random_state=None, verbose=0, warm_start=False)),\n",
              " ('MLP',\n",
              "  MLPClassifier(activation='relu', alpha=0.0001, batch_size='auto', beta_1=0.9,\n",
              "                beta_2=0.999, early_stopping=False, epsilon=1e-08,\n",
              "                hidden_layer_sizes=(100,), learning_rate='constant',\n",
              "                learning_rate_init=0.001, max_fun=15000, max_iter=10000,\n",
              "                momentum=0.9, n_iter_no_change=10, nesterovs_momentum=True,\n",
              "                power_t=0.5, random_state=None, shuffle=True, solver='adam',\n",
              "                tol=0.0001, validation_fraction=0.1, verbose=False,\n",
              "                warm_start=False))]"
            ]
          },
          "metadata": {
            "tags": []
          },
          "execution_count": 224
        }
      ]
    },
    {
      "cell_type": "markdown",
      "metadata": {
        "id": "VOFmF7c3jmvE"
      },
      "source": [
        "# PCA"
      ]
    },
    {
      "cell_type": "code",
      "metadata": {
        "id": "0BWt8BYdjqrV",
        "scrolled": true,
        "colab": {
          "base_uri": "https://localhost:8080/",
          "height": 297
        },
        "outputId": "45711a27-0129-4234-f51a-33d892c0b5e7"
      },
      "source": [
        "from sklearn.preprocessing import StandardScaler\n",
        "from sklearn.decomposition import PCA\n",
        "pca = PCA()\n",
        "X_train_pca = pca.fit_transform(Xn_train)\n",
        "# Determine explained variance using explained_variance_ration_ attribute\n",
        "exp_var_pca = pca.explained_variance_ratio_\n",
        "# Cumulative sum of eigenvalues; This will be used to create step plot\n",
        "# for visualizing the variance explained by each principal component.\n",
        "cum_sum_eigenvalues = np.cumsum(exp_var_pca)\n",
        "# Create the visualization plot\n",
        "\n",
        "plt.bar(range(1,len(exp_var_pca)+1), exp_var_pca, alpha=0.5, align='center', label='Individual explained variance')\n",
        "plt.step(range(1,len(cum_sum_eigenvalues)+1), cum_sum_eigenvalues, where='mid',label='Cumulative explained variance')\n",
        "plt.ylabel('Explained variance ratio')\n",
        "plt.xlabel('Principal component index')\n",
        "plt.legend(loc='best')\n",
        "plt.tight_layout()\n",
        "plt.show()"
      ],
      "execution_count": 225,
      "outputs": [
        {
          "output_type": "display_data",
          "data": {
            "image/png": "[encoded data removed]",
            "text/plain": [
              "<Figure size 432x288 with 1 Axes>"
            ]
          },
          "metadata": {
            "tags": []
          }
        }
      ]
    },
    {
      "cell_type": "code",
      "metadata": {
        "id": "rUUQcCbykz-n",
        "scrolled": true,
        "colab": {
          "base_uri": "https://localhost:8080/",
          "height": 424
        },
        "outputId": "56bb9c1e-0ec5-4eb4-881f-1eb52ec825f7"
      },
      "source": [
        "N=3\n",
        "columns_vector = ['element '+str(i) for i in range(1,N+1)]\n",
        "pca = PCA(n_components=3)\n",
        "df_PCA = pca.fit_transform(data_Norm)\n",
        "df_PCA = pd.DataFrame(data = df_PCA\n",
        "             , columns = columns_vector)\n",
        "df_PCA"
      ],
      "execution_count": 226,
      "outputs": [
        {
          "output_type": "execute_result",
          "data": {
            "text/html": [
              "<div>\n",
              "<style scoped>\n",
              "    .dataframe tbody tr th:only-of-type {\n",
              "        vertical-align: middle;\n",
              "    }\n",
              "\n",
              "    .dataframe tbody tr th {\n",
              "        vertical-align: top;\n",
              "    }\n",
              "\n",
              "    .dataframe thead th {\n",
              "        text-align: right;\n",
              "    }\n",
              "</style>\n",
              "<table border=\"1\" class=\"dataframe\">\n",
              "  <thead>\n",
              "    <tr style=\"text-align: right;\">\n",
              "      <th></th>\n",
              "      <th>element 1</th>\n",
              "      <th>element 2</th>\n",
              "      <th>element 3</th>\n",
              "    </tr>\n",
              "  </thead>\n",
              "  <tbody>\n",
              "    <tr>\n",
              "      <th>0</th>\n",
              "      <td>-0.065625</td>\n",
              "      <td>0.086738</td>\n",
              "      <td>0.007816</td>\n",
              "    </tr>\n",
              "    <tr>\n",
              "      <th>1</th>\n",
              "      <td>-0.151242</td>\n",
              "      <td>0.032319</td>\n",
              "      <td>-0.055085</td>\n",
              "    </tr>\n",
              "    <tr>\n",
              "      <th>2</th>\n",
              "      <td>0.029556</td>\n",
              "      <td>-0.035959</td>\n",
              "      <td>-0.007673</td>\n",
              "    </tr>\n",
              "    <tr>\n",
              "      <th>3</th>\n",
              "      <td>0.035157</td>\n",
              "      <td>-0.021186</td>\n",
              "      <td>-0.044934</td>\n",
              "    </tr>\n",
              "    <tr>\n",
              "      <th>4</th>\n",
              "      <td>-0.056010</td>\n",
              "      <td>0.022619</td>\n",
              "      <td>0.042187</td>\n",
              "    </tr>\n",
              "    <tr>\n",
              "      <th>...</th>\n",
              "      <td>...</td>\n",
              "      <td>...</td>\n",
              "      <td>...</td>\n",
              "    </tr>\n",
              "    <tr>\n",
              "      <th>177147</th>\n",
              "      <td>0.099481</td>\n",
              "      <td>-0.174674</td>\n",
              "      <td>-0.196727</td>\n",
              "    </tr>\n",
              "    <tr>\n",
              "      <th>177148</th>\n",
              "      <td>0.061291</td>\n",
              "      <td>-0.276530</td>\n",
              "      <td>-0.288102</td>\n",
              "    </tr>\n",
              "    <tr>\n",
              "      <th>177149</th>\n",
              "      <td>-0.015490</td>\n",
              "      <td>0.222495</td>\n",
              "      <td>-0.131528</td>\n",
              "    </tr>\n",
              "    <tr>\n",
              "      <th>177150</th>\n",
              "      <td>-0.342960</td>\n",
              "      <td>0.092729</td>\n",
              "      <td>0.236409</td>\n",
              "    </tr>\n",
              "    <tr>\n",
              "      <th>177151</th>\n",
              "      <td>-0.012032</td>\n",
              "      <td>0.031040</td>\n",
              "      <td>0.348110</td>\n",
              "    </tr>\n",
              "  </tbody>\n",
              "</table>\n",
              "<p>177152 rows × 3 columns</p>\n",
              "</div>"
            ],
            "text/plain": [
              "        element 1  element 2  element 3\n",
              "0       -0.065625   0.086738   0.007816\n",
              "1       -0.151242   0.032319  -0.055085\n",
              "2        0.029556  -0.035959  -0.007673\n",
              "3        0.035157  -0.021186  -0.044934\n",
              "4       -0.056010   0.022619   0.042187\n",
              "...           ...        ...        ...\n",
              "177147   0.099481  -0.174674  -0.196727\n",
              "177148   0.061291  -0.276530  -0.288102\n",
              "177149  -0.015490   0.222495  -0.131528\n",
              "177150  -0.342960   0.092729   0.236409\n",
              "177151  -0.012032   0.031040   0.348110\n",
              "\n",
              "[177152 rows x 3 columns]"
            ]
          },
          "metadata": {
            "tags": []
          },
          "execution_count": 226
        }
      ]
    },
    {
      "cell_type": "markdown",
      "metadata": {
        "id": "KbRS4Btlnc90"
      },
      "source": [
        "###Treino e Teste com os dados após o PCA"
      ]
    },
    {
      "cell_type": "code",
      "metadata": {
        "id": "xWSO627wmiR8"
      },
      "source": [
        "X_train_pca, X_test_pca, y_train_pca, y_test_pca = train_test_split(df_PCA, y, test_size=1/3,stratify = y, random_state=42)"
      ],
      "execution_count": 227,
      "outputs": []
    },
    {
      "cell_type": "code",
      "metadata": {
        "id": "zDanC7qwm_LN",
        "colab": {
          "base_uri": "https://localhost:8080/"
        },
        "outputId": "ac19f092-2e1e-496d-a345-feb7d233cc76"
      },
      "source": [
        "seed=42\n",
        "models = []\n",
        "models_results_pca = []\n",
        "scoring='accuracy'\n",
        "models.append(('TREE', DecisionTreeClassifier(criterion = 'entropy', max_depth= 13)))\n",
        "models.append(('CART', DecisionTreeClassifier(criterion = 'gini', max_depth= 13)))\n",
        "models.append(('LR', LogisticRegression(solver='liblinear', multi_class='ovr')))\n",
        "models.append(('LDA', LinearDiscriminantAnalysis()))\n",
        "models.append(('KNN', KNeighborsClassifier(n_neighbors=179)))\n",
        "models.append(('NB', GaussianNB(priors=None, var_smoothing=0.01)))\n",
        "models.append(('Random Forest', RandomForestClassifier(n_estimators=100)))\n",
        "models.append(('Isolation Forest',IsolationForest()))\n",
        "models.append(('MLP',MLPClassifier(max_iter=10000)))\n",
        "#models.append(('SVM', SVC(gamma='auto')))\n",
        "# evaluate each model in turn\n",
        "results_pca = []\n",
        "names_pca = []\n",
        "for name, model in models:\n",
        "    kfold = model_selection.KFold(n_splits=10, random_state=seed, shuffle = True)\n",
        "    cv_results = model_selection.cross_val_score(model, X_train_pca, y_train_pca, cv=kfold, scoring=scoring)\n",
        "    results_pca.append(cv_results)\n",
        "    names_pca.append(name)\n",
        "    listapca = [name, cv_results.mean(), cv_results.std()]\n",
        "    models_results_pca.append(listapca)\n",
        "    msg = \"%s: %f (%f)\" % (name, cv_results.mean(), cv_results.std())\n",
        "    print(msg)"
      ],
      "execution_count": 228,
      "outputs": [
        {
          "output_type": "stream",
          "text": [
            "TREE: 0.550139 (0.003973)\n",
            "CART: 0.549242 (0.002286)\n",
            "LR: 0.507100 (0.004877)\n",
            "LDA: 0.507083 (0.004963)\n",
            "KNN: 0.557684 (0.003479)\n",
            "NB: 0.537125 (0.003676)\n",
            "Random Forest: 0.536956 (0.003894)\n",
            "Isolation Forest: 0.435314 (0.005122)\n",
            "MLP: 0.561062 (0.003333)\n"
          ],
          "name": "stdout"
        }
      ]
    },
    {
      "cell_type": "code",
      "metadata": {
        "id": "ja-yw9qppplT",
        "colab": {
          "base_uri": "https://localhost:8080/"
        },
        "outputId": "191aa63e-b2eb-4a9b-87d9-89f453bd6a77"
      },
      "source": [
        "models_results_pca"
      ],
      "execution_count": 229,
      "outputs": [
        {
          "output_type": "execute_result",
          "data": {
            "text/plain": [
              "[['TREE', 0.550139314582891, 0.003973418442383165],\n",
              " ['CART', 0.5492417622430503, 0.0022855338173242536],\n",
              " ['LR', 0.5070999042139208, 0.00487675258208878],\n",
              " ['LDA', 0.5070829708467207, 0.004963383714867725],\n",
              " ['KNN', 0.5576836601824489, 0.0034791363959982137],\n",
              " ['NB', 0.5371249816561162, 0.003675850844266313],\n",
              " ['Random Forest', 0.5369556924324123, 0.00389440549318818],\n",
              " ['Isolation Forest', 0.4353137773732505, 0.005121583650911553],\n",
              " ['MLP', 0.5610621580035144, 0.0033328345799938067]]"
            ]
          },
          "metadata": {
            "tags": []
          },
          "execution_count": 229
        }
      ]
    },
    {
      "cell_type": "code",
      "metadata": {
        "id": "G4X-FTrZoWKp",
        "colab": {
          "base_uri": "https://localhost:8080/",
          "height": 332
        },
        "outputId": "31e43fb5-a120-49f1-a4f7-f2045da76d7a"
      },
      "source": [
        "df_results_pca = pd.DataFrame(models_results_pca, \n",
        "                          columns = ['modelo','Acuracia_k-fold=10 com PCA','Desvio-padrão'])\n",
        "df_results_pca.sort_values(by='Acuracia_k-fold=10 com PCA', ascending=False, inplace=True)\n",
        "df_results_pca.reset_index(inplace=True,drop=True)\n",
        "df_results_pca"
      ],
      "execution_count": 230,
      "outputs": [
        {
          "output_type": "execute_result",
          "data": {
            "text/html": [
              "<div>\n",
              "<style scoped>\n",
              "    .dataframe tbody tr th:only-of-type {\n",
              "        vertical-align: middle;\n",
              "    }\n",
              "\n",
              "    .dataframe tbody tr th {\n",
              "        vertical-align: top;\n",
              "    }\n",
              "\n",
              "    .dataframe thead th {\n",
              "        text-align: right;\n",
              "    }\n",
              "</style>\n",
              "<table border=\"1\" class=\"dataframe\">\n",
              "  <thead>\n",
              "    <tr style=\"text-align: right;\">\n",
              "      <th></th>\n",
              "      <th>modelo</th>\n",
              "      <th>Acuracia_k-fold=10 com PCA</th>\n",
              "      <th>Desvio-padrão</th>\n",
              "    </tr>\n",
              "  </thead>\n",
              "  <tbody>\n",
              "    <tr>\n",
              "      <th>0</th>\n",
              "      <td>MLP</td>\n",
              "      <td>0.561062</td>\n",
              "      <td>0.003333</td>\n",
              "    </tr>\n",
              "    <tr>\n",
              "      <th>1</th>\n",
              "      <td>KNN</td>\n",
              "      <td>0.557684</td>\n",
              "      <td>0.003479</td>\n",
              "    </tr>\n",
              "    <tr>\n",
              "      <th>2</th>\n",
              "      <td>TREE</td>\n",
              "      <td>0.550139</td>\n",
              "      <td>0.003973</td>\n",
              "    </tr>\n",
              "    <tr>\n",
              "      <th>3</th>\n",
              "      <td>CART</td>\n",
              "      <td>0.549242</td>\n",
              "      <td>0.002286</td>\n",
              "    </tr>\n",
              "    <tr>\n",
              "      <th>4</th>\n",
              "      <td>NB</td>\n",
              "      <td>0.537125</td>\n",
              "      <td>0.003676</td>\n",
              "    </tr>\n",
              "    <tr>\n",
              "      <th>5</th>\n",
              "      <td>Random Forest</td>\n",
              "      <td>0.536956</td>\n",
              "      <td>0.003894</td>\n",
              "    </tr>\n",
              "    <tr>\n",
              "      <th>6</th>\n",
              "      <td>LR</td>\n",
              "      <td>0.507100</td>\n",
              "      <td>0.004877</td>\n",
              "    </tr>\n",
              "    <tr>\n",
              "      <th>7</th>\n",
              "      <td>LDA</td>\n",
              "      <td>0.507083</td>\n",
              "      <td>0.004963</td>\n",
              "    </tr>\n",
              "    <tr>\n",
              "      <th>8</th>\n",
              "      <td>Isolation Forest</td>\n",
              "      <td>0.435314</td>\n",
              "      <td>0.005122</td>\n",
              "    </tr>\n",
              "  </tbody>\n",
              "</table>\n",
              "</div>"
            ],
            "text/plain": [
              "             modelo  Acuracia_k-fold=10 com PCA  Desvio-padrão\n",
              "0               MLP                    0.561062       0.003333\n",
              "1               KNN                    0.557684       0.003479\n",
              "2              TREE                    0.550139       0.003973\n",
              "3              CART                    0.549242       0.002286\n",
              "4                NB                    0.537125       0.003676\n",
              "5     Random Forest                    0.536956       0.003894\n",
              "6                LR                    0.507100       0.004877\n",
              "7               LDA                    0.507083       0.004963\n",
              "8  Isolation Forest                    0.435314       0.005122"
            ]
          },
          "metadata": {
            "tags": []
          },
          "execution_count": 230
        }
      ]
    },
    {
      "cell_type": "code",
      "metadata": {
        "id": "ba3HuoirqfOF",
        "colab": {
          "base_uri": "https://localhost:8080/",
          "height": 419
        },
        "outputId": "24e7ad92-fbda-4262-9e0e-eab1c7cf46f2"
      },
      "source": [
        "import matplotlib.pyplot as plt\n",
        "import seaborn as sns\n",
        "plt.style.use('ggplot')\n",
        "plt.figure(figsize = (15,5))\n",
        "sns.barplot(x = \"modelo\", y = \"Acuracia_k-fold=10 com PCA\", data = df_results_pca)\n",
        "plt.title('Validação média com PCA', fontsize = 15)\n",
        "#plt.ylim(0.8,1)\n",
        "plt.xlabel('Modelo', fontsize=15)\n",
        "plt.ylabel('Acurácia_k-fold=10',fontsize=15)\n",
        "plt.xticks(rotation=90, fontsize=12)\n",
        "plt.show()"
      ],
      "execution_count": 231,
      "outputs": [
        {
          "output_type": "display_data",
          "data": {
            "image/png": "[encoded data removed]",
            "text/plain": [
              "<Figure size 1080x360 with 1 Axes>"
            ]
          },
          "metadata": {
            "tags": []
          }
        }
      ]
    }
  ]
}