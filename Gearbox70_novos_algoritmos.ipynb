{
  "nbformat": 4,
  "nbformat_minor": 0,
  "metadata": {
    "colab": {
      "name": "Gearbox70 novos algoritmos.ipynb",
      "provenance": [],
      "collapsed_sections": [],
      "toc_visible": true
    },
    "kernelspec": {
      "display_name": "myenv",
      "language": "python",
      "name": "myenv"
    },
    "language_info": {
      "codemirror_mode": {
        "name": "ipython",
        "version": 3
      },
      "file_extension": ".py",
      "mimetype": "text/x-python",
      "name": "python",
      "nbconvert_exporter": "python",
      "pygments_lexer": "ipython3",
      "version": "3.8.5"
    }
  },
  "cells": [
    {
      "cell_type": "markdown",
      "metadata": {
        "id": "G8ppB5CLOWY5"
      },
      "source": [
        "#*Dataset extraído do Kaggle*"
      ]
    },
    {
      "cell_type": "markdown",
      "metadata": {
        "id": "m9vzzUwmOTUP"
      },
      "source": [
        "https://www.kaggle.com/brjapon/gearbox-fault-diagnosis"
      ]
    },
    {
      "cell_type": "markdown",
      "metadata": {
        "id": "pzAPtW5uio-F"
      },
      "source": [
        "Carga = 70"
      ]
    },
    {
      "cell_type": "code",
      "metadata": {
        "id": "De5Php-xT0UY"
      },
      "source": [
        "import pandas as pd\n",
        "from sklearn import model_selection\n",
        "import seaborn as sns\n",
        "import numpy as np\n",
        "import matplotlib.pyplot as plt\n",
        "from sklearn.model_selection import train_test_split\n",
        "#algoritmos\n",
        "from sklearn import tree\n",
        "from sklearn.linear_model import LogisticRegression\n",
        "from sklearn.tree import DecisionTreeClassifier\n",
        "from sklearn.neighbors import KNeighborsClassifier\n",
        "from sklearn.discriminant_analysis import LinearDiscriminantAnalysis\n",
        "from sklearn.naive_bayes import GaussianNB\n",
        "from sklearn.svm import SVC\n",
        "from sklearn.neural_network import MLPClassifier\n",
        "from sklearn.model_selection import GridSearchCV\n",
        "from sklearn.neural_network import MLPClassifier\n",
        "from sklearn.ensemble import RandomForestClassifier\n",
        "from sklearn.ensemble import IsolationForest\n",
        "#Importando a biblioteca das métricas\n",
        "from sklearn.metrics import classification_report\n",
        "from sklearn.metrics import confusion_matrix\n",
        "from sklearn.metrics import accuracy_score\n",
        "#para fazer o cross validation\n",
        "from sklearn.model_selection import cross_val_score\n"
      ],
      "execution_count": 2,
      "outputs": []
    },
    {
      "cell_type": "code",
      "metadata": {
        "id": "wXsDCKLRT9Dk"
      },
      "source": [
        "url_dados = 'https://github.com/rslmartins/gearbox-failure/blob/main/BrokenTooth/b30hz70.csv?raw=true'\n",
        "\n",
        "data1 = pd.read_csv(url_dados, sep= ',')"
      ],
      "execution_count": 3,
      "outputs": []
    },
    {
      "cell_type": "code",
      "metadata": {
        "id": "n8BzP3iQUVgr"
      },
      "source": [
        "url_dados = 'https://github.com/rslmartins/gearbox-failure/blob/main/Healthy/h30hz70.csv?raw=true'\n",
        "\n",
        "data2 = pd.read_csv(url_dados, sep= ',')"
      ],
      "execution_count": 4,
      "outputs": []
    },
    {
      "cell_type": "code",
      "metadata": {
        "id": "ifkk9JLuUdYS"
      },
      "source": [
        "# inserindo o atributo de classe defeituosa\n",
        "data1['class']= data1['a1'].apply(lambda x:1)"
      ],
      "execution_count": 5,
      "outputs": []
    },
    {
      "cell_type": "code",
      "metadata": {
        "colab": {
          "base_uri": "https://localhost:8080/",
          "height": 300
        },
        "id": "xt0FDDhjVoAF",
        "outputId": "d518fd94-5226-4ac3-f055-b7f6d8e09f84"
      },
      "source": [
        "data1.describe()"
      ],
      "execution_count": 6,
      "outputs": [
        {
          "output_type": "execute_result",
          "data": {
            "text/html": [
              "<div>\n",
              "<style scoped>\n",
              "    .dataframe tbody tr th:only-of-type {\n",
              "        vertical-align: middle;\n",
              "    }\n",
              "\n",
              "    .dataframe tbody tr th {\n",
              "        vertical-align: top;\n",
              "    }\n",
              "\n",
              "    .dataframe thead th {\n",
              "        text-align: right;\n",
              "    }\n",
              "</style>\n",
              "<table border=\"1\" class=\"dataframe\">\n",
              "  <thead>\n",
              "    <tr style=\"text-align: right;\">\n",
              "      <th></th>\n",
              "      <th>a1</th>\n",
              "      <th>a2</th>\n",
              "      <th>a3</th>\n",
              "      <th>a4</th>\n",
              "      <th>class</th>\n",
              "    </tr>\n",
              "  </thead>\n",
              "  <tbody>\n",
              "    <tr>\n",
              "      <th>count</th>\n",
              "      <td>100864.000000</td>\n",
              "      <td>100864.000000</td>\n",
              "      <td>100864.000000</td>\n",
              "      <td>100864.000000</td>\n",
              "      <td>100864.0</td>\n",
              "    </tr>\n",
              "    <tr>\n",
              "      <th>mean</th>\n",
              "      <td>-0.000904</td>\n",
              "      <td>-0.000561</td>\n",
              "      <td>-0.006323</td>\n",
              "      <td>-0.001538</td>\n",
              "      <td>1.0</td>\n",
              "    </tr>\n",
              "    <tr>\n",
              "      <th>std</th>\n",
              "      <td>5.270876</td>\n",
              "      <td>4.687098</td>\n",
              "      <td>4.144201</td>\n",
              "      <td>4.907809</td>\n",
              "      <td>0.0</td>\n",
              "    </tr>\n",
              "    <tr>\n",
              "      <th>min</th>\n",
              "      <td>-24.837700</td>\n",
              "      <td>-29.210900</td>\n",
              "      <td>-19.272700</td>\n",
              "      <td>-21.672800</td>\n",
              "      <td>1.0</td>\n",
              "    </tr>\n",
              "    <tr>\n",
              "      <th>25%</th>\n",
              "      <td>-3.358650</td>\n",
              "      <td>-2.785288</td>\n",
              "      <td>-2.403012</td>\n",
              "      <td>-2.847530</td>\n",
              "      <td>1.0</td>\n",
              "    </tr>\n",
              "    <tr>\n",
              "      <th>50%</th>\n",
              "      <td>-0.090988</td>\n",
              "      <td>0.167050</td>\n",
              "      <td>0.052780</td>\n",
              "      <td>0.094538</td>\n",
              "      <td>1.0</td>\n",
              "    </tr>\n",
              "    <tr>\n",
              "      <th>75%</th>\n",
              "      <td>3.228580</td>\n",
              "      <td>2.992777</td>\n",
              "      <td>2.424740</td>\n",
              "      <td>2.938625</td>\n",
              "      <td>1.0</td>\n",
              "    </tr>\n",
              "    <tr>\n",
              "      <th>max</th>\n",
              "      <td>24.535900</td>\n",
              "      <td>21.457900</td>\n",
              "      <td>26.938900</td>\n",
              "      <td>26.310100</td>\n",
              "      <td>1.0</td>\n",
              "    </tr>\n",
              "  </tbody>\n",
              "</table>\n",
              "</div>"
            ],
            "text/plain": [
              "                  a1             a2             a3             a4     class\n",
              "count  100864.000000  100864.000000  100864.000000  100864.000000  100864.0\n",
              "mean       -0.000904      -0.000561      -0.006323      -0.001538       1.0\n",
              "std         5.270876       4.687098       4.144201       4.907809       0.0\n",
              "min       -24.837700     -29.210900     -19.272700     -21.672800       1.0\n",
              "25%        -3.358650      -2.785288      -2.403012      -2.847530       1.0\n",
              "50%        -0.090988       0.167050       0.052780       0.094538       1.0\n",
              "75%         3.228580       2.992777       2.424740       2.938625       1.0\n",
              "max        24.535900      21.457900      26.938900      26.310100       1.0"
            ]
          },
          "metadata": {
            "tags": []
          },
          "execution_count": 6
        }
      ]
    },
    {
      "cell_type": "code",
      "metadata": {
        "id": "ayHbq4MGVw9I"
      },
      "source": [
        "# inserindo o atributo de classe ok\n",
        "data2['class']= data2['a1'].apply(lambda x:0)"
      ],
      "execution_count": 7,
      "outputs": []
    },
    {
      "cell_type": "code",
      "metadata": {
        "colab": {
          "base_uri": "https://localhost:8080/",
          "height": 300
        },
        "id": "dpTtnVQeV8dz",
        "outputId": "69b245b2-baca-4338-a4de-17c96ef6ac34"
      },
      "source": [
        "data2.describe()"
      ],
      "execution_count": 8,
      "outputs": [
        {
          "output_type": "execute_result",
          "data": {
            "text/html": [
              "<div>\n",
              "<style scoped>\n",
              "    .dataframe tbody tr th:only-of-type {\n",
              "        vertical-align: middle;\n",
              "    }\n",
              "\n",
              "    .dataframe tbody tr th {\n",
              "        vertical-align: top;\n",
              "    }\n",
              "\n",
              "    .dataframe thead th {\n",
              "        text-align: right;\n",
              "    }\n",
              "</style>\n",
              "<table border=\"1\" class=\"dataframe\">\n",
              "  <thead>\n",
              "    <tr style=\"text-align: right;\">\n",
              "      <th></th>\n",
              "      <th>a1</th>\n",
              "      <th>a2</th>\n",
              "      <th>a3</th>\n",
              "      <th>a4</th>\n",
              "      <th>class</th>\n",
              "    </tr>\n",
              "  </thead>\n",
              "  <tbody>\n",
              "    <tr>\n",
              "      <th>count</th>\n",
              "      <td>101376.000000</td>\n",
              "      <td>101376.000000</td>\n",
              "      <td>101376.000000</td>\n",
              "      <td>101376.000000</td>\n",
              "      <td>101376.0</td>\n",
              "    </tr>\n",
              "    <tr>\n",
              "      <th>mean</th>\n",
              "      <td>0.015718</td>\n",
              "      <td>-0.003398</td>\n",
              "      <td>0.016392</td>\n",
              "      <td>-0.029492</td>\n",
              "      <td>0.0</td>\n",
              "    </tr>\n",
              "    <tr>\n",
              "      <th>std</th>\n",
              "      <td>8.170172</td>\n",
              "      <td>4.617839</td>\n",
              "      <td>4.593342</td>\n",
              "      <td>5.130183</td>\n",
              "      <td>0.0</td>\n",
              "    </tr>\n",
              "    <tr>\n",
              "      <th>min</th>\n",
              "      <td>-52.670900</td>\n",
              "      <td>-26.342200</td>\n",
              "      <td>-26.680300</td>\n",
              "      <td>-24.616800</td>\n",
              "      <td>0.0</td>\n",
              "    </tr>\n",
              "    <tr>\n",
              "      <th>25%</th>\n",
              "      <td>-4.788685</td>\n",
              "      <td>-2.745370</td>\n",
              "      <td>-2.659463</td>\n",
              "      <td>-2.945695</td>\n",
              "      <td>0.0</td>\n",
              "    </tr>\n",
              "    <tr>\n",
              "      <th>50%</th>\n",
              "      <td>-0.157715</td>\n",
              "      <td>0.093818</td>\n",
              "      <td>0.073383</td>\n",
              "      <td>0.152648</td>\n",
              "      <td>0.0</td>\n",
              "    </tr>\n",
              "    <tr>\n",
              "      <th>75%</th>\n",
              "      <td>4.704107</td>\n",
              "      <td>2.817028</td>\n",
              "      <td>2.732972</td>\n",
              "      <td>3.030765</td>\n",
              "      <td>0.0</td>\n",
              "    </tr>\n",
              "    <tr>\n",
              "      <th>max</th>\n",
              "      <td>51.094700</td>\n",
              "      <td>29.351100</td>\n",
              "      <td>24.273400</td>\n",
              "      <td>25.231200</td>\n",
              "      <td>0.0</td>\n",
              "    </tr>\n",
              "  </tbody>\n",
              "</table>\n",
              "</div>"
            ],
            "text/plain": [
              "                  a1             a2             a3             a4     class\n",
              "count  101376.000000  101376.000000  101376.000000  101376.000000  101376.0\n",
              "mean        0.015718      -0.003398       0.016392      -0.029492       0.0\n",
              "std         8.170172       4.617839       4.593342       5.130183       0.0\n",
              "min       -52.670900     -26.342200     -26.680300     -24.616800       0.0\n",
              "25%        -4.788685      -2.745370      -2.659463      -2.945695       0.0\n",
              "50%        -0.157715       0.093818       0.073383       0.152648       0.0\n",
              "75%         4.704107       2.817028       2.732972       3.030765       0.0\n",
              "max        51.094700      29.351100      24.273400      25.231200       0.0"
            ]
          },
          "metadata": {
            "tags": []
          },
          "execution_count": 8
        }
      ]
    },
    {
      "cell_type": "code",
      "metadata": {
        "id": "DxatiCjQWQ-l"
      },
      "source": [
        "data = pd.concat([data1,data2])"
      ],
      "execution_count": 9,
      "outputs": []
    },
    {
      "cell_type": "code",
      "metadata": {
        "colab": {
          "base_uri": "https://localhost:8080/",
          "height": 424
        },
        "id": "26xHwlYFxJjF",
        "outputId": "350ba256-35b7-4920-cedf-ca1c5fd30933"
      },
      "source": [
        "data"
      ],
      "execution_count": 10,
      "outputs": [
        {
          "output_type": "execute_result",
          "data": {
            "text/html": [
              "<div>\n",
              "<style scoped>\n",
              "    .dataframe tbody tr th:only-of-type {\n",
              "        vertical-align: middle;\n",
              "    }\n",
              "\n",
              "    .dataframe tbody tr th {\n",
              "        vertical-align: top;\n",
              "    }\n",
              "\n",
              "    .dataframe thead th {\n",
              "        text-align: right;\n",
              "    }\n",
              "</style>\n",
              "<table border=\"1\" class=\"dataframe\">\n",
              "  <thead>\n",
              "    <tr style=\"text-align: right;\">\n",
              "      <th></th>\n",
              "      <th>a1</th>\n",
              "      <th>a2</th>\n",
              "      <th>a3</th>\n",
              "      <th>a4</th>\n",
              "      <th>class</th>\n",
              "    </tr>\n",
              "  </thead>\n",
              "  <tbody>\n",
              "    <tr>\n",
              "      <th>0</th>\n",
              "      <td>-0.157490</td>\n",
              "      <td>1.526610</td>\n",
              "      <td>1.534550</td>\n",
              "      <td>-1.017460</td>\n",
              "      <td>1</td>\n",
              "    </tr>\n",
              "    <tr>\n",
              "      <th>1</th>\n",
              "      <td>1.160740</td>\n",
              "      <td>0.023445</td>\n",
              "      <td>1.704930</td>\n",
              "      <td>-3.502950</td>\n",
              "      <td>1</td>\n",
              "    </tr>\n",
              "    <tr>\n",
              "      <th>2</th>\n",
              "      <td>0.033562</td>\n",
              "      <td>0.045544</td>\n",
              "      <td>-0.431215</td>\n",
              "      <td>-5.582870</td>\n",
              "      <td>1</td>\n",
              "    </tr>\n",
              "    <tr>\n",
              "      <th>3</th>\n",
              "      <td>0.135058</td>\n",
              "      <td>0.525358</td>\n",
              "      <td>0.990718</td>\n",
              "      <td>-3.442710</td>\n",
              "      <td>1</td>\n",
              "    </tr>\n",
              "    <tr>\n",
              "      <th>4</th>\n",
              "      <td>1.760760</td>\n",
              "      <td>0.305720</td>\n",
              "      <td>2.149290</td>\n",
              "      <td>0.108471</td>\n",
              "      <td>1</td>\n",
              "    </tr>\n",
              "    <tr>\n",
              "      <th>...</th>\n",
              "      <td>...</td>\n",
              "      <td>...</td>\n",
              "      <td>...</td>\n",
              "      <td>...</td>\n",
              "      <td>...</td>\n",
              "    </tr>\n",
              "    <tr>\n",
              "      <th>101371</th>\n",
              "      <td>-17.360600</td>\n",
              "      <td>7.022290</td>\n",
              "      <td>-9.121040</td>\n",
              "      <td>0.734927</td>\n",
              "      <td>0</td>\n",
              "    </tr>\n",
              "    <tr>\n",
              "      <th>101372</th>\n",
              "      <td>-22.285400</td>\n",
              "      <td>-0.540992</td>\n",
              "      <td>-0.275450</td>\n",
              "      <td>-0.964922</td>\n",
              "      <td>0</td>\n",
              "    </tr>\n",
              "    <tr>\n",
              "      <th>101373</th>\n",
              "      <td>2.141050</td>\n",
              "      <td>11.010600</td>\n",
              "      <td>-2.304670</td>\n",
              "      <td>5.376580</td>\n",
              "      <td>0</td>\n",
              "    </tr>\n",
              "    <tr>\n",
              "      <th>101374</th>\n",
              "      <td>10.832000</td>\n",
              "      <td>-2.274780</td>\n",
              "      <td>5.258050</td>\n",
              "      <td>3.297100</td>\n",
              "      <td>0</td>\n",
              "    </tr>\n",
              "    <tr>\n",
              "      <th>101375</th>\n",
              "      <td>-1.393130</td>\n",
              "      <td>1.581770</td>\n",
              "      <td>10.786700</td>\n",
              "      <td>4.370710</td>\n",
              "      <td>0</td>\n",
              "    </tr>\n",
              "  </tbody>\n",
              "</table>\n",
              "<p>202240 rows × 5 columns</p>\n",
              "</div>"
            ],
            "text/plain": [
              "               a1         a2         a3        a4  class\n",
              "0       -0.157490   1.526610   1.534550 -1.017460      1\n",
              "1        1.160740   0.023445   1.704930 -3.502950      1\n",
              "2        0.033562   0.045544  -0.431215 -5.582870      1\n",
              "3        0.135058   0.525358   0.990718 -3.442710      1\n",
              "4        1.760760   0.305720   2.149290  0.108471      1\n",
              "...           ...        ...        ...       ...    ...\n",
              "101371 -17.360600   7.022290  -9.121040  0.734927      0\n",
              "101372 -22.285400  -0.540992  -0.275450 -0.964922      0\n",
              "101373   2.141050  11.010600  -2.304670  5.376580      0\n",
              "101374  10.832000  -2.274780   5.258050  3.297100      0\n",
              "101375  -1.393130   1.581770  10.786700  4.370710      0\n",
              "\n",
              "[202240 rows x 5 columns]"
            ]
          },
          "metadata": {
            "tags": []
          },
          "execution_count": 10
        }
      ]
    },
    {
      "cell_type": "code",
      "metadata": {
        "id": "-trwz3i7x1OH"
      },
      "source": [
        "#data.to_csv('File.csv', index = False)"
      ],
      "execution_count": 11,
      "outputs": []
    },
    {
      "cell_type": "code",
      "metadata": {
        "colab": {
          "base_uri": "https://localhost:8080/",
          "height": 300
        },
        "id": "9qWR5QTiX--s",
        "outputId": "0c1e2400-abd5-4b85-cbd3-13a9fa602783"
      },
      "source": [
        "data.describe()"
      ],
      "execution_count": 12,
      "outputs": [
        {
          "output_type": "execute_result",
          "data": {
            "text/html": [
              "<div>\n",
              "<style scoped>\n",
              "    .dataframe tbody tr th:only-of-type {\n",
              "        vertical-align: middle;\n",
              "    }\n",
              "\n",
              "    .dataframe tbody tr th {\n",
              "        vertical-align: top;\n",
              "    }\n",
              "\n",
              "    .dataframe thead th {\n",
              "        text-align: right;\n",
              "    }\n",
              "</style>\n",
              "<table border=\"1\" class=\"dataframe\">\n",
              "  <thead>\n",
              "    <tr style=\"text-align: right;\">\n",
              "      <th></th>\n",
              "      <th>a1</th>\n",
              "      <th>a2</th>\n",
              "      <th>a3</th>\n",
              "      <th>a4</th>\n",
              "      <th>class</th>\n",
              "    </tr>\n",
              "  </thead>\n",
              "  <tbody>\n",
              "    <tr>\n",
              "      <th>count</th>\n",
              "      <td>202240.000000</td>\n",
              "      <td>202240.000000</td>\n",
              "      <td>202240.000000</td>\n",
              "      <td>202240.000000</td>\n",
              "      <td>202240.000000</td>\n",
              "    </tr>\n",
              "    <tr>\n",
              "      <th>mean</th>\n",
              "      <td>0.007428</td>\n",
              "      <td>-0.001983</td>\n",
              "      <td>0.005063</td>\n",
              "      <td>-0.015550</td>\n",
              "      <td>0.498734</td>\n",
              "    </tr>\n",
              "    <tr>\n",
              "      <th>std</th>\n",
              "      <td>6.878669</td>\n",
              "      <td>4.652499</td>\n",
              "      <td>4.375111</td>\n",
              "      <td>5.020516</td>\n",
              "      <td>0.500000</td>\n",
              "    </tr>\n",
              "    <tr>\n",
              "      <th>min</th>\n",
              "      <td>-52.670900</td>\n",
              "      <td>-29.210900</td>\n",
              "      <td>-26.680300</td>\n",
              "      <td>-24.616800</td>\n",
              "      <td>0.000000</td>\n",
              "    </tr>\n",
              "    <tr>\n",
              "      <th>25%</th>\n",
              "      <td>-3.966260</td>\n",
              "      <td>-2.765223</td>\n",
              "      <td>-2.527405</td>\n",
              "      <td>-2.896223</td>\n",
              "      <td>0.000000</td>\n",
              "    </tr>\n",
              "    <tr>\n",
              "      <th>50%</th>\n",
              "      <td>-0.116878</td>\n",
              "      <td>0.130442</td>\n",
              "      <td>0.062905</td>\n",
              "      <td>0.121886</td>\n",
              "      <td>0.000000</td>\n",
              "    </tr>\n",
              "    <tr>\n",
              "      <th>75%</th>\n",
              "      <td>3.841258</td>\n",
              "      <td>2.900867</td>\n",
              "      <td>2.574745</td>\n",
              "      <td>2.985142</td>\n",
              "      <td>1.000000</td>\n",
              "    </tr>\n",
              "    <tr>\n",
              "      <th>max</th>\n",
              "      <td>51.094700</td>\n",
              "      <td>29.351100</td>\n",
              "      <td>26.938900</td>\n",
              "      <td>26.310100</td>\n",
              "      <td>1.000000</td>\n",
              "    </tr>\n",
              "  </tbody>\n",
              "</table>\n",
              "</div>"
            ],
            "text/plain": [
              "                  a1             a2  ...             a4          class\n",
              "count  202240.000000  202240.000000  ...  202240.000000  202240.000000\n",
              "mean        0.007428      -0.001983  ...      -0.015550       0.498734\n",
              "std         6.878669       4.652499  ...       5.020516       0.500000\n",
              "min       -52.670900     -29.210900  ...     -24.616800       0.000000\n",
              "25%        -3.966260      -2.765223  ...      -2.896223       0.000000\n",
              "50%        -0.116878       0.130442  ...       0.121886       0.000000\n",
              "75%         3.841258       2.900867  ...       2.985142       1.000000\n",
              "max        51.094700      29.351100  ...      26.310100       1.000000\n",
              "\n",
              "[8 rows x 5 columns]"
            ]
          },
          "metadata": {
            "tags": []
          },
          "execution_count": 12
        }
      ]
    },
    {
      "cell_type": "code",
      "metadata": {
        "colab": {
          "base_uri": "https://localhost:8080/",
          "height": 206
        },
        "id": "uXrh2ygnYH47",
        "outputId": "3e4ec55c-c154-489b-ec82-95fa8b61c2e2"
      },
      "source": [
        "data.head()"
      ],
      "execution_count": 13,
      "outputs": [
        {
          "output_type": "execute_result",
          "data": {
            "text/html": [
              "<div>\n",
              "<style scoped>\n",
              "    .dataframe tbody tr th:only-of-type {\n",
              "        vertical-align: middle;\n",
              "    }\n",
              "\n",
              "    .dataframe tbody tr th {\n",
              "        vertical-align: top;\n",
              "    }\n",
              "\n",
              "    .dataframe thead th {\n",
              "        text-align: right;\n",
              "    }\n",
              "</style>\n",
              "<table border=\"1\" class=\"dataframe\">\n",
              "  <thead>\n",
              "    <tr style=\"text-align: right;\">\n",
              "      <th></th>\n",
              "      <th>a1</th>\n",
              "      <th>a2</th>\n",
              "      <th>a3</th>\n",
              "      <th>a4</th>\n",
              "      <th>class</th>\n",
              "    </tr>\n",
              "  </thead>\n",
              "  <tbody>\n",
              "    <tr>\n",
              "      <th>0</th>\n",
              "      <td>-0.157490</td>\n",
              "      <td>1.526610</td>\n",
              "      <td>1.534550</td>\n",
              "      <td>-1.017460</td>\n",
              "      <td>1</td>\n",
              "    </tr>\n",
              "    <tr>\n",
              "      <th>1</th>\n",
              "      <td>1.160740</td>\n",
              "      <td>0.023445</td>\n",
              "      <td>1.704930</td>\n",
              "      <td>-3.502950</td>\n",
              "      <td>1</td>\n",
              "    </tr>\n",
              "    <tr>\n",
              "      <th>2</th>\n",
              "      <td>0.033562</td>\n",
              "      <td>0.045544</td>\n",
              "      <td>-0.431215</td>\n",
              "      <td>-5.582870</td>\n",
              "      <td>1</td>\n",
              "    </tr>\n",
              "    <tr>\n",
              "      <th>3</th>\n",
              "      <td>0.135058</td>\n",
              "      <td>0.525358</td>\n",
              "      <td>0.990718</td>\n",
              "      <td>-3.442710</td>\n",
              "      <td>1</td>\n",
              "    </tr>\n",
              "    <tr>\n",
              "      <th>4</th>\n",
              "      <td>1.760760</td>\n",
              "      <td>0.305720</td>\n",
              "      <td>2.149290</td>\n",
              "      <td>0.108471</td>\n",
              "      <td>1</td>\n",
              "    </tr>\n",
              "  </tbody>\n",
              "</table>\n",
              "</div>"
            ],
            "text/plain": [
              "         a1        a2        a3        a4  class\n",
              "0 -0.157490  1.526610  1.534550 -1.017460      1\n",
              "1  1.160740  0.023445  1.704930 -3.502950      1\n",
              "2  0.033562  0.045544 -0.431215 -5.582870      1\n",
              "3  0.135058  0.525358  0.990718 -3.442710      1\n",
              "4  1.760760  0.305720  2.149290  0.108471      1"
            ]
          },
          "metadata": {
            "tags": []
          },
          "execution_count": 13
        }
      ]
    },
    {
      "cell_type": "code",
      "metadata": {
        "id": "W9vT2F9YY6bq"
      },
      "source": [
        "data_atrib = data.iloc[:,0:4]"
      ],
      "execution_count": 14,
      "outputs": []
    },
    {
      "cell_type": "code",
      "metadata": {
        "colab": {
          "base_uri": "https://localhost:8080/",
          "height": 424
        },
        "id": "6cTPfg6dZT3e",
        "outputId": "0ec25a10-0908-4310-ac25-ca8c2aad4764"
      },
      "source": [
        "data_atrib"
      ],
      "execution_count": 15,
      "outputs": [
        {
          "output_type": "execute_result",
          "data": {
            "text/html": [
              "<div>\n",
              "<style scoped>\n",
              "    .dataframe tbody tr th:only-of-type {\n",
              "        vertical-align: middle;\n",
              "    }\n",
              "\n",
              "    .dataframe tbody tr th {\n",
              "        vertical-align: top;\n",
              "    }\n",
              "\n",
              "    .dataframe thead th {\n",
              "        text-align: right;\n",
              "    }\n",
              "</style>\n",
              "<table border=\"1\" class=\"dataframe\">\n",
              "  <thead>\n",
              "    <tr style=\"text-align: right;\">\n",
              "      <th></th>\n",
              "      <th>a1</th>\n",
              "      <th>a2</th>\n",
              "      <th>a3</th>\n",
              "      <th>a4</th>\n",
              "    </tr>\n",
              "  </thead>\n",
              "  <tbody>\n",
              "    <tr>\n",
              "      <th>0</th>\n",
              "      <td>-0.157490</td>\n",
              "      <td>1.526610</td>\n",
              "      <td>1.534550</td>\n",
              "      <td>-1.017460</td>\n",
              "    </tr>\n",
              "    <tr>\n",
              "      <th>1</th>\n",
              "      <td>1.160740</td>\n",
              "      <td>0.023445</td>\n",
              "      <td>1.704930</td>\n",
              "      <td>-3.502950</td>\n",
              "    </tr>\n",
              "    <tr>\n",
              "      <th>2</th>\n",
              "      <td>0.033562</td>\n",
              "      <td>0.045544</td>\n",
              "      <td>-0.431215</td>\n",
              "      <td>-5.582870</td>\n",
              "    </tr>\n",
              "    <tr>\n",
              "      <th>3</th>\n",
              "      <td>0.135058</td>\n",
              "      <td>0.525358</td>\n",
              "      <td>0.990718</td>\n",
              "      <td>-3.442710</td>\n",
              "    </tr>\n",
              "    <tr>\n",
              "      <th>4</th>\n",
              "      <td>1.760760</td>\n",
              "      <td>0.305720</td>\n",
              "      <td>2.149290</td>\n",
              "      <td>0.108471</td>\n",
              "    </tr>\n",
              "    <tr>\n",
              "      <th>...</th>\n",
              "      <td>...</td>\n",
              "      <td>...</td>\n",
              "      <td>...</td>\n",
              "      <td>...</td>\n",
              "    </tr>\n",
              "    <tr>\n",
              "      <th>101371</th>\n",
              "      <td>-17.360600</td>\n",
              "      <td>7.022290</td>\n",
              "      <td>-9.121040</td>\n",
              "      <td>0.734927</td>\n",
              "    </tr>\n",
              "    <tr>\n",
              "      <th>101372</th>\n",
              "      <td>-22.285400</td>\n",
              "      <td>-0.540992</td>\n",
              "      <td>-0.275450</td>\n",
              "      <td>-0.964922</td>\n",
              "    </tr>\n",
              "    <tr>\n",
              "      <th>101373</th>\n",
              "      <td>2.141050</td>\n",
              "      <td>11.010600</td>\n",
              "      <td>-2.304670</td>\n",
              "      <td>5.376580</td>\n",
              "    </tr>\n",
              "    <tr>\n",
              "      <th>101374</th>\n",
              "      <td>10.832000</td>\n",
              "      <td>-2.274780</td>\n",
              "      <td>5.258050</td>\n",
              "      <td>3.297100</td>\n",
              "    </tr>\n",
              "    <tr>\n",
              "      <th>101375</th>\n",
              "      <td>-1.393130</td>\n",
              "      <td>1.581770</td>\n",
              "      <td>10.786700</td>\n",
              "      <td>4.370710</td>\n",
              "    </tr>\n",
              "  </tbody>\n",
              "</table>\n",
              "<p>202240 rows × 4 columns</p>\n",
              "</div>"
            ],
            "text/plain": [
              "               a1         a2         a3        a4\n",
              "0       -0.157490   1.526610   1.534550 -1.017460\n",
              "1        1.160740   0.023445   1.704930 -3.502950\n",
              "2        0.033562   0.045544  -0.431215 -5.582870\n",
              "3        0.135058   0.525358   0.990718 -3.442710\n",
              "4        1.760760   0.305720   2.149290  0.108471\n",
              "...           ...        ...        ...       ...\n",
              "101371 -17.360600   7.022290  -9.121040  0.734927\n",
              "101372 -22.285400  -0.540992  -0.275450 -0.964922\n",
              "101373   2.141050  11.010600  -2.304670  5.376580\n",
              "101374  10.832000  -2.274780   5.258050  3.297100\n",
              "101375  -1.393130   1.581770  10.786700  4.370710\n",
              "\n",
              "[202240 rows x 4 columns]"
            ]
          },
          "metadata": {
            "tags": []
          },
          "execution_count": 15
        }
      ]
    },
    {
      "cell_type": "code",
      "metadata": {
        "colab": {
          "base_uri": "https://localhost:8080/",
          "height": 630
        },
        "id": "BTULv_wIYS5q",
        "outputId": "c86896a9-3a91-4ae0-d495-c61d128dbf5f"
      },
      "source": [
        "plt.figure(figsize=(10,10))\n",
        "sns.boxplot(data=data_atrib)\n",
        "sns.despine(offset=10, trim=True)\n",
        "plt.xticks(rotation=90, fontsize=16)"
      ],
      "execution_count": 16,
      "outputs": [
        {
          "output_type": "execute_result",
          "data": {
            "text/plain": [
              "(array([0, 1, 2, 3]), <a list of 4 Text major ticklabel objects>)"
            ]
          },
          "metadata": {
            "tags": []
          },
          "execution_count": 16
        },
        {
          "output_type": "display_data",
          "data": {
            "image/png": "[encoded data removed]",
            "text/plain": [
              "<Figure size 720x720 with 1 Axes>"
            ]
          },
          "metadata": {
            "tags": [],
            "needs_background": "light"
          }
        }
      ]
    },
    {
      "cell_type": "code",
      "metadata": {
        "colab": {
          "base_uri": "https://localhost:8080/",
          "height": 336
        },
        "id": "WgV_3oc9Yfz2",
        "outputId": "8f954ca3-514d-4f8b-cd08-000493901cbd"
      },
      "source": [
        "#correlation map\n",
        "f,ax = plt.subplots(figsize=(5,5))\n",
        "sns.heatmap(data_atrib.corr(),annot=True, linewidths=.5, fmt= '.1f',ax=ax)\n",
        "plt.title('Correlações')\n",
        "plt.show()"
      ],
      "execution_count": 17,
      "outputs": [
        {
          "output_type": "display_data",
          "data": {
            "image/png": "[encoded data removed]",
            "text/plain": [
              "<Figure size 360x360 with 2 Axes>"
            ]
          },
          "metadata": {
            "tags": [],
            "needs_background": "light"
          }
        }
      ]
    },
    {
      "cell_type": "code",
      "metadata": {
        "colab": {
          "base_uri": "https://localhost:8080/",
          "height": 36
        },
        "id": "YA-jb8NQkTLK",
        "outputId": "b45f3c00-51e6-4cc8-9144-4be04ce5a70d"
      },
      "source": [
        "\n",
        "g = sns.pairplot(data, hue='class', markers='+')\n",
        "plt.show()\n",
        "plt.figure(figsize=(10,10))"
      ],
      "execution_count": 18,
      "outputs": [
        {
          "output_type": "execute_result",
          "data": {
            "application/vnd.google.colaboratory.intrinsic+json": {
              "type": "string"
            },
            "text/plain": [
              "\"\\ng = sns.pairplot(data, hue='class', markers='+')\\nplt.show()\\n\""
            ]
          },
          "metadata": {
            "tags": []
          },
          "execution_count": 18
        }
      ]
    },
    {
      "cell_type": "code",
      "metadata": {
        "colab": {
          "base_uri": "https://localhost:8080/",
          "height": 279
        },
        "id": "yU0zps20aT8B",
        "outputId": "46b215e5-d687-4a39-aeeb-5be430148b84"
      },
      "source": [
        "plt.figure(figsize=(5,4))\n",
        "ax = sns.histplot(data=data, x=\"a1\", hue=\"class\",kde=True)"
      ],
      "execution_count": 19,
      "outputs": [
        {
          "output_type": "display_data",
          "data": {
            "image/png": "[encoded data removed]",
            "text/plain": [
              "<Figure size 360x288 with 1 Axes>"
            ]
          },
          "metadata": {
            "tags": [],
            "needs_background": "light"
          }
        }
      ]
    },
    {
      "cell_type": "code",
      "metadata": {
        "colab": {
          "base_uri": "https://localhost:8080/",
          "height": 279
        },
        "id": "wY8MjvHJae6b",
        "outputId": "a3e84b92-272a-4ad6-8d8e-ecc85b5b3998"
      },
      "source": [
        "plt.figure(figsize=(5,4))\n",
        "ax = sns.histplot(data=data, x=\"a2\", hue=\"class\",kde=True)"
      ],
      "execution_count": 20,
      "outputs": [
        {
          "output_type": "display_data",
          "data": {
            "image/png": "[encoded data removed]",
            "text/plain": [
              "<Figure size 360x288 with 1 Axes>"
            ]
          },
          "metadata": {
            "tags": [],
            "needs_background": "light"
          }
        }
      ]
    },
    {
      "cell_type": "code",
      "metadata": {
        "colab": {
          "base_uri": "https://localhost:8080/",
          "height": 279
        },
        "id": "RzGhe8pjaghT",
        "outputId": "91758e61-e422-46f8-a99d-6b264e5d45e6"
      },
      "source": [
        "plt.figure(figsize=(5,4))\n",
        "ax = sns.histplot(data=data, x=\"a3\", hue=\"class\",kde=True)"
      ],
      "execution_count": 21,
      "outputs": [
        {
          "output_type": "display_data",
          "data": {
            "image/png": "[encoded data removed]",
            "text/plain": [
              "<Figure size 360x288 with 1 Axes>"
            ]
          },
          "metadata": {
            "tags": [],
            "needs_background": "light"
          }
        }
      ]
    },
    {
      "cell_type": "code",
      "metadata": {
        "colab": {
          "base_uri": "https://localhost:8080/",
          "height": 279
        },
        "id": "Aj3KY6BEah14",
        "outputId": "423da934-29fc-435a-8200-d289737187d3"
      },
      "source": [
        "plt.figure(figsize=(5,4))\n",
        "ax = sns.histplot(data=data, x=\"a4\", hue=\"class\",kde=True)"
      ],
      "execution_count": 22,
      "outputs": [
        {
          "output_type": "display_data",
          "data": {
            "image/png": "[encoded data removed]",
            "text/plain": [
              "<Figure size 360x288 with 1 Axes>"
            ]
          },
          "metadata": {
            "tags": [],
            "needs_background": "light"
          }
        }
      ]
    },
    {
      "cell_type": "code",
      "metadata": {
        "colab": {
          "base_uri": "https://localhost:8080/",
          "height": 372
        },
        "id": "H5jhg0bYZtQH",
        "outputId": "dba79de4-119a-4af7-9fb8-1c80f1099fb4"
      },
      "source": [
        "plt.figure(figsize=(10,4))\n",
        "ax = sns.histplot(data=data, x=\"class\", hue=\"class\",kde=True)"
      ],
      "execution_count": 22,
      "outputs": [
        {
          "output_type": "stream",
          "text": [
            "/usr/local/lib/python3.7/dist-packages/seaborn/distributions.py:306: UserWarning: Dataset has 0 variance; skipping density estimate.\n",
            "  warnings.warn(msg, UserWarning)\n",
            "/usr/local/lib/python3.7/dist-packages/seaborn/distributions.py:306: UserWarning: Dataset has 0 variance; skipping density estimate.\n",
            "  warnings.warn(msg, UserWarning)\n"
          ],
          "name": "stderr"
        },
        {
          "output_type": "display_data",
          "data": {
            "image/png": "[encoded data removed]",
            "text/plain": [
              "<Figure size 720x288 with 1 Axes>"
            ]
          },
          "metadata": {
            "tags": [],
            "needs_background": "light"
          }
        }
      ]
    },
    {
      "cell_type": "code",
      "metadata": {
        "id": "MUb0bgXtjEJV"
      },
      "source": [
        "# Split o dataset e definindo as variáveis de treino e teste \n",
        "X = data.drop(\"class\", axis=1)\n",
        "y = data['class']\n",
        "X_train, X_test, y_train, y_test = train_test_split(X, y, test_size=1/3,stratify = y, random_state=42)"
      ],
      "execution_count": 25,
      "outputs": []
    },
    {
      "cell_type": "markdown",
      "metadata": {
        "id": "x6qxikyXr1aP"
      },
      "source": [
        "#Pré-processamento "
      ]
    },
    {
      "cell_type": "markdown",
      "metadata": {
        "id": "Mo5Z6IH9RK0Z"
      },
      "source": [
        "##retirarando os outliers"
      ]
    },
    {
      "cell_type": "code",
      "metadata": {
        "id": "ziE1vXpRpaC9"
      },
      "source": [
        "from sklearn.preprocessing import RobustScaler\n",
        "transformer = RobustScaler().fit(X)\n",
        "transformer\n",
        "RobustScaler()\n",
        "Xr=transformer.transform(X)"
      ],
      "execution_count": 28,
      "outputs": []
    },
    {
      "cell_type": "code",
      "metadata": {
        "id": "I87btqW0qNPO"
      },
      "source": [
        "Xr_train, Xr_test, yr_train, yr_test = train_test_split(Xr, y, test_size=1/3,stratify = y, random_state=42)"
      ],
      "execution_count": 29,
      "outputs": []
    },
    {
      "cell_type": "markdown",
      "metadata": {
        "id": "q_HETnAtr_CZ"
      },
      "source": [
        "##Normalização"
      ]
    },
    {
      "cell_type": "code",
      "metadata": {
        "id": "CW_uVHWAcuFE"
      },
      "source": [
        "from sklearn.preprocessing import MinMaxScaler"
      ],
      "execution_count": 30,
      "outputs": []
    },
    {
      "cell_type": "code",
      "metadata": {
        "colab": {
          "base_uri": "https://localhost:8080/"
        },
        "id": "vW6KHBG5cskb",
        "outputId": "20d32ea8-773b-4aec-e7ad-e79afe649bcf"
      },
      "source": [
        "scaler = MinMaxScaler(feature_range=(-1,1))\n",
        "scaler.fit(data.iloc[:,:-1])"
      ],
      "execution_count": 31,
      "outputs": [
        {
          "output_type": "execute_result",
          "data": {
            "text/plain": [
              "MinMaxScaler(copy=True, feature_range=(-1, 1))"
            ]
          },
          "metadata": {
            "tags": []
          },
          "execution_count": 31
        }
      ]
    },
    {
      "cell_type": "code",
      "metadata": {
        "id": "M6KHXOHvE8xY"
      },
      "source": [
        "data_Norm = scaler.transform(data.iloc[:,:-1])"
      ],
      "execution_count": 32,
      "outputs": []
    },
    {
      "cell_type": "code",
      "metadata": {
        "id": "xkmzeQBlc9bW"
      },
      "source": [
        "data_Norm = pd.DataFrame(scaler.transform(data.iloc[:,:-1]), columns=data.iloc[:,:-1].columns) "
      ],
      "execution_count": 33,
      "outputs": []
    },
    {
      "cell_type": "code",
      "metadata": {
        "colab": {
          "base_uri": "https://localhost:8080/",
          "height": 424
        },
        "id": "BnYEG66dtt0n",
        "outputId": "d44370ab-1bc6-4994-d697-3fe3dec1d3e3"
      },
      "source": [
        "data_Norm"
      ],
      "execution_count": 34,
      "outputs": [
        {
          "output_type": "execute_result",
          "data": {
            "text/html": [
              "<div>\n",
              "<style scoped>\n",
              "    .dataframe tbody tr th:only-of-type {\n",
              "        vertical-align: middle;\n",
              "    }\n",
              "\n",
              "    .dataframe tbody tr th {\n",
              "        vertical-align: top;\n",
              "    }\n",
              "\n",
              "    .dataframe thead th {\n",
              "        text-align: right;\n",
              "    }\n",
              "</style>\n",
              "<table border=\"1\" class=\"dataframe\">\n",
              "  <thead>\n",
              "    <tr style=\"text-align: right;\">\n",
              "      <th></th>\n",
              "      <th>a1</th>\n",
              "      <th>a2</th>\n",
              "      <th>a3</th>\n",
              "      <th>a4</th>\n",
              "    </tr>\n",
              "  </thead>\n",
              "  <tbody>\n",
              "    <tr>\n",
              "      <th>0</th>\n",
              "      <td>0.012155</td>\n",
              "      <td>0.049742</td>\n",
              "      <td>0.052416</td>\n",
              "      <td>-0.073207</td>\n",
              "    </tr>\n",
              "    <tr>\n",
              "      <th>1</th>\n",
              "      <td>0.037562</td>\n",
              "      <td>-0.001593</td>\n",
              "      <td>0.058771</td>\n",
              "      <td>-0.170817</td>\n",
              "    </tr>\n",
              "    <tr>\n",
              "      <th>2</th>\n",
              "      <td>0.015837</td>\n",
              "      <td>-0.000839</td>\n",
              "      <td>-0.020907</td>\n",
              "      <td>-0.252500</td>\n",
              "    </tr>\n",
              "    <tr>\n",
              "      <th>3</th>\n",
              "      <td>0.017793</td>\n",
              "      <td>0.015548</td>\n",
              "      <td>0.032131</td>\n",
              "      <td>-0.168452</td>\n",
              "    </tr>\n",
              "    <tr>\n",
              "      <th>4</th>\n",
              "      <td>0.049127</td>\n",
              "      <td>0.008047</td>\n",
              "      <td>0.075346</td>\n",
              "      <td>-0.028990</td>\n",
              "    </tr>\n",
              "    <tr>\n",
              "      <th>...</th>\n",
              "      <td>...</td>\n",
              "      <td>...</td>\n",
              "      <td>...</td>\n",
              "      <td>...</td>\n",
              "    </tr>\n",
              "    <tr>\n",
              "      <th>202235</th>\n",
              "      <td>-0.319422</td>\n",
              "      <td>0.237430</td>\n",
              "      <td>-0.345038</td>\n",
              "      <td>-0.004388</td>\n",
              "    </tr>\n",
              "    <tr>\n",
              "      <th>202236</th>\n",
              "      <td>-0.414343</td>\n",
              "      <td>-0.020870</td>\n",
              "      <td>-0.015097</td>\n",
              "      <td>-0.071144</td>\n",
              "    </tr>\n",
              "    <tr>\n",
              "      <th>202237</th>\n",
              "      <td>0.056457</td>\n",
              "      <td>0.373638</td>\n",
              "      <td>-0.090787</td>\n",
              "      <td>0.177899</td>\n",
              "    </tr>\n",
              "    <tr>\n",
              "      <th>202238</th>\n",
              "      <td>0.223968</td>\n",
              "      <td>-0.080082</td>\n",
              "      <td>0.191303</td>\n",
              "      <td>0.096234</td>\n",
              "    </tr>\n",
              "    <tr>\n",
              "      <th>202239</th>\n",
              "      <td>-0.011661</td>\n",
              "      <td>0.051626</td>\n",
              "      <td>0.397522</td>\n",
              "      <td>0.138397</td>\n",
              "    </tr>\n",
              "  </tbody>\n",
              "</table>\n",
              "<p>202240 rows × 4 columns</p>\n",
              "</div>"
            ],
            "text/plain": [
              "              a1        a2        a3        a4\n",
              "0       0.012155  0.049742  0.052416 -0.073207\n",
              "1       0.037562 -0.001593  0.058771 -0.170817\n",
              "2       0.015837 -0.000839 -0.020907 -0.252500\n",
              "3       0.017793  0.015548  0.032131 -0.168452\n",
              "4       0.049127  0.008047  0.075346 -0.028990\n",
              "...          ...       ...       ...       ...\n",
              "202235 -0.319422  0.237430 -0.345038 -0.004388\n",
              "202236 -0.414343 -0.020870 -0.015097 -0.071144\n",
              "202237  0.056457  0.373638 -0.090787  0.177899\n",
              "202238  0.223968 -0.080082  0.191303  0.096234\n",
              "202239 -0.011661  0.051626  0.397522  0.138397\n",
              "\n",
              "[202240 rows x 4 columns]"
            ]
          },
          "metadata": {
            "tags": []
          },
          "execution_count": 34
        }
      ]
    },
    {
      "cell_type": "code",
      "metadata": {
        "id": "RouFdrdPEJfk"
      },
      "source": [
        "#df_Normalized = pd.concat([data_Norm,data.iloc[:,-1]], axis=1)"
      ],
      "execution_count": 35,
      "outputs": []
    },
    {
      "cell_type": "code",
      "metadata": {
        "id": "p9vgoM-wsfHP"
      },
      "source": [
        "Xn = data_Norm\n",
        "yn = data['class']"
      ],
      "execution_count": 36,
      "outputs": []
    },
    {
      "cell_type": "code",
      "metadata": {
        "colab": {
          "base_uri": "https://localhost:8080/"
        },
        "id": "A76kcVdi0-uq",
        "outputId": "5d5b7892-d0e4-436d-a942-b80f8578288d"
      },
      "source": [
        "data['class'].value_counts()"
      ],
      "execution_count": 37,
      "outputs": [
        {
          "output_type": "execute_result",
          "data": {
            "text/plain": [
              "0    101376\n",
              "1    100864\n",
              "Name: class, dtype: int64"
            ]
          },
          "metadata": {
            "tags": []
          },
          "execution_count": 37
        }
      ]
    },
    {
      "cell_type": "code",
      "metadata": {
        "colab": {
          "base_uri": "https://localhost:8080/"
        },
        "id": "opEuC0m_GsHP",
        "outputId": "cf400a3c-9dc7-452a-ae17-7061b4c1d3ed"
      },
      "source": [
        "data_Norm['a1'].describe()"
      ],
      "execution_count": 38,
      "outputs": [
        {
          "output_type": "execute_result",
          "data": {
            "text/plain": [
              "count    202240.000000\n",
              "mean          0.015333\n",
              "std           0.132581\n",
              "min          -1.000000\n",
              "25%          -0.061257\n",
              "50%           0.012937\n",
              "75%           0.089227\n",
              "max           1.000000\n",
              "Name: a1, dtype: float64"
            ]
          },
          "metadata": {
            "tags": []
          },
          "execution_count": 38
        }
      ]
    },
    {
      "cell_type": "code",
      "metadata": {
        "id": "oEHssk16sIfT"
      },
      "source": [
        "Xn_train, Xn_test, yn_train, yn_test = train_test_split(Xn, yn, test_size=1/3,stratify = yn, random_state=42)"
      ],
      "execution_count": 39,
      "outputs": []
    },
    {
      "cell_type": "markdown",
      "metadata": {
        "id": "YtqyWz24RReh"
      },
      "source": [
        "#Classificadores\n"
      ]
    },
    {
      "cell_type": "markdown",
      "metadata": {
        "id": "TtrPMmPzfkDp"
      },
      "source": [
        "##Dummy Classifier"
      ]
    },
    {
      "cell_type": "code",
      "metadata": {
        "colab": {
          "base_uri": "https://localhost:8080/"
        },
        "id": "RyKTjrGqfo3-",
        "outputId": "464a55dc-9295-4a58-d8db-35af7680c921"
      },
      "source": [
        "from sklearn.dummy import DummyClassifier\n",
        "from sklearn.metrics import accuracy_score\n",
        "\n",
        "modelo_dummy = DummyClassifier('most_frequent')\n",
        "modelo_dummy.fit(X_train, y_train)\n",
        "previsao_dummy = modelo_dummy.predict(X_test)\n",
        "accuracy_score(y_test, previsao_dummy)"
      ],
      "execution_count": null,
      "outputs": [
        {
          "output_type": "execute_result",
          "data": {
            "text/plain": [
              "0.5012608656955528"
            ]
          },
          "metadata": {
            "tags": []
          },
          "execution_count": 36
        }
      ]
    },
    {
      "cell_type": "markdown",
      "metadata": {
        "id": "ZNoRidtsfgpa"
      },
      "source": [
        "##Árvores de Decisão"
      ]
    },
    {
      "cell_type": "markdown",
      "metadata": {
        "id": "ZmexMs1w12jn"
      },
      "source": [
        "###Entropia"
      ]
    },
    {
      "cell_type": "code",
      "metadata": {
        "colab": {
          "base_uri": "https://localhost:8080/"
        },
        "id": "yfC5WXHikgqv",
        "outputId": "410434fa-4c70-4a0a-d460-8c9c70423af4"
      },
      "source": [
        "#Variar os hiperparametros de tamanho da árvore\n",
        "depth_range = list(range(1, 20))\n",
        "print(depth_range)\n",
        "\n",
        "param_grid_tree = dict(max_depth=depth_range)\n",
        "print(param_grid_tree)"
      ],
      "execution_count": null,
      "outputs": [
        {
          "output_type": "stream",
          "text": [
            "[1, 2, 3, 4, 5, 6, 7, 8, 9, 10, 11, 12, 13, 14, 15, 16, 17, 18, 19, 20, 21, 22, 23, 24, 25, 26, 27, 28, 29, 30, 31, 32, 33, 34, 35, 36, 37, 38, 39, 40, 41, 42, 43, 44, 45, 46, 47, 48, 49, 50, 51, 52, 53, 54, 55, 56, 57, 58, 59, 60, 61, 62, 63, 64, 65, 66, 67, 68, 69, 70, 71, 72, 73, 74, 75, 76, 77, 78, 79, 80, 81, 82, 83, 84, 85, 86, 87, 88, 89, 90, 91, 92, 93, 94, 95, 96, 97, 98, 99]\n",
            "{'max_depth': [1, 2, 3, 4, 5, 6, 7, 8, 9, 10, 11, 12, 13, 14, 15, 16, 17, 18, 19, 20, 21, 22, 23, 24, 25, 26, 27, 28, 29, 30, 31, 32, 33, 34, 35, 36, 37, 38, 39, 40, 41, 42, 43, 44, 45, 46, 47, 48, 49, 50, 51, 52, 53, 54, 55, 56, 57, 58, 59, 60, 61, 62, 63, 64, 65, 66, 67, 68, 69, 70, 71, 72, 73, 74, 75, 76, 77, 78, 79, 80, 81, 82, 83, 84, 85, 86, 87, 88, 89, 90, 91, 92, 93, 94, 95, 96, 97, 98, 99]}\n"
          ],
          "name": "stdout"
        }
      ]
    },
    {
      "cell_type": "code",
      "metadata": {
        "id": "N5kAN4lLkoVZ"
      },
      "source": [
        "\"\"\"\n",
        "#Fazendo um dicionário chamado param_grid contendo os parâmetros que serão variados também o tipo de algoritmo\n",
        "param_grid_tree['criterion'] = ['entropy','gini']\n",
        "\"\"\""
      ],
      "execution_count": null,
      "outputs": []
    },
    {
      "cell_type": "code",
      "metadata": {
        "colab": {
          "base_uri": "https://localhost:8080/"
        },
        "id": "Ajw94yOMkvhq",
        "outputId": "ae381e89-5fcf-4fd4-f07e-4b3d2997959d"
      },
      "source": [
        "#Criando o objeto GridSearch e treinando o modelo com os melhores hiperparâmetros\n",
        "\n",
        "grid_tree = GridSearchCV(DecisionTreeClassifier(criterion = 'entropy'), param_grid_tree, refit = True, verbose=3, cv=5)\n",
        "grid_tree.fit(X_train, y_train)\n",
        "print(\"-----------------------------------------------------------\")\n",
        "print(\"melhor estimador: \",grid_tree.best_estimator_)\n",
        "print(\"melhores Parâmetros: \",grid_tree.best_params_)\n",
        "print(\"Melhor score: \",grid_tree.score(X_test, y_test))"
      ],
      "execution_count": null,
      "outputs": [
        {
          "output_type": "stream",
          "text": [
            "Fitting 5 folds for each of 99 candidates, totalling 495 fits\n",
            "[CV] max_depth=1 .....................................................\n",
            "[CV] ......................... max_depth=1, score=0.532, total=   0.2s\n",
            "[CV] max_depth=1 .....................................................\n"
          ],
          "name": "stdout"
        },
        {
          "output_type": "stream",
          "text": [
            "[Parallel(n_jobs=1)]: Using backend SequentialBackend with 1 concurrent workers.\n",
            "[Parallel(n_jobs=1)]: Done   1 out of   1 | elapsed:    0.2s remaining:    0.0s\n"
          ],
          "name": "stderr"
        },
        {
          "output_type": "stream",
          "text": [
            "[CV] ......................... max_depth=1, score=0.534, total=   0.2s\n",
            "[CV] max_depth=1 .....................................................\n",
            "[CV] ......................... max_depth=1, score=0.533, total=   0.1s\n",
            "[CV] max_depth=1 .....................................................\n"
          ],
          "name": "stdout"
        },
        {
          "output_type": "stream",
          "text": [
            "[Parallel(n_jobs=1)]: Done   2 out of   2 | elapsed:    0.3s remaining:    0.0s\n"
          ],
          "name": "stderr"
        },
        {
          "output_type": "stream",
          "text": [
            "[CV] ......................... max_depth=1, score=0.535, total=   0.2s\n",
            "[CV] max_depth=1 .....................................................\n",
            "[CV] ......................... max_depth=1, score=0.533, total=   0.2s\n",
            "[CV] max_depth=2 .....................................................\n",
            "[CV] ......................... max_depth=2, score=0.569, total=   0.3s\n",
            "[CV] max_depth=2 .....................................................\n",
            "[CV] ......................... max_depth=2, score=0.570, total=   0.3s\n",
            "[CV] max_depth=2 .....................................................\n",
            "[CV] ......................... max_depth=2, score=0.569, total=   0.3s\n",
            "[CV] max_depth=2 .....................................................\n",
            "[CV] ......................... max_depth=2, score=0.568, total=   0.3s\n",
            "[CV] max_depth=2 .....................................................\n",
            "[CV] ......................... max_depth=2, score=0.569, total=   0.3s\n",
            "[CV] max_depth=3 .....................................................\n",
            "[CV] ......................... max_depth=3, score=0.577, total=   0.4s\n",
            "[CV] max_depth=3 .....................................................\n",
            "[CV] ......................... max_depth=3, score=0.578, total=   0.4s\n",
            "[CV] max_depth=3 .....................................................\n",
            "[CV] ......................... max_depth=3, score=0.578, total=   0.4s\n",
            "[CV] max_depth=3 .....................................................\n",
            "[CV] ......................... max_depth=3, score=0.578, total=   0.4s\n",
            "[CV] max_depth=3 .....................................................\n",
            "[CV] ......................... max_depth=3, score=0.578, total=   0.4s\n",
            "[CV] max_depth=4 .....................................................\n",
            "[CV] ......................... max_depth=4, score=0.585, total=   0.5s\n",
            "[CV] max_depth=4 .....................................................\n",
            "[CV] ......................... max_depth=4, score=0.591, total=   0.6s\n",
            "[CV] max_depth=4 .....................................................\n",
            "[CV] ......................... max_depth=4, score=0.586, total=   0.5s\n",
            "[CV] max_depth=4 .....................................................\n",
            "[CV] ......................... max_depth=4, score=0.590, total=   0.5s\n",
            "[CV] max_depth=4 .....................................................\n",
            "[CV] ......................... max_depth=4, score=0.592, total=   0.5s\n",
            "[CV] max_depth=5 .....................................................\n",
            "[CV] ......................... max_depth=5, score=0.597, total=   0.7s\n",
            "[CV] max_depth=5 .....................................................\n",
            "[CV] ......................... max_depth=5, score=0.598, total=   0.7s\n",
            "[CV] max_depth=5 .....................................................\n",
            "[CV] ......................... max_depth=5, score=0.594, total=   0.7s\n",
            "[CV] max_depth=5 .....................................................\n",
            "[CV] ......................... max_depth=5, score=0.597, total=   0.7s\n",
            "[CV] max_depth=5 .....................................................\n",
            "[CV] ......................... max_depth=5, score=0.601, total=   0.7s\n",
            "[CV] max_depth=6 .....................................................\n",
            "[CV] ......................... max_depth=6, score=0.601, total=   0.8s\n",
            "[CV] max_depth=6 .....................................................\n",
            "[CV] ......................... max_depth=6, score=0.603, total=   0.8s\n",
            "[CV] max_depth=6 .....................................................\n",
            "[CV] ......................... max_depth=6, score=0.603, total=   0.8s\n",
            "[CV] max_depth=6 .....................................................\n",
            "[CV] ......................... max_depth=6, score=0.606, total=   0.8s\n",
            "[CV] max_depth=6 .....................................................\n",
            "[CV] ......................... max_depth=6, score=0.605, total=   0.8s\n",
            "[CV] max_depth=7 .....................................................\n",
            "[CV] ......................... max_depth=7, score=0.605, total=   0.9s\n",
            "[CV] max_depth=7 .....................................................\n",
            "[CV] ......................... max_depth=7, score=0.609, total=   0.9s\n",
            "[CV] max_depth=7 .....................................................\n",
            "[CV] ......................... max_depth=7, score=0.604, total=   0.9s\n",
            "[CV] max_depth=7 .....................................................\n",
            "[CV] ......................... max_depth=7, score=0.608, total=   0.9s\n",
            "[CV] max_depth=7 .....................................................\n",
            "[CV] ......................... max_depth=7, score=0.610, total=   0.9s\n",
            "[CV] max_depth=8 .....................................................\n",
            "[CV] ......................... max_depth=8, score=0.607, total=   1.0s\n",
            "[CV] max_depth=8 .....................................................\n",
            "[CV] ......................... max_depth=8, score=0.612, total=   1.0s\n",
            "[CV] max_depth=8 .....................................................\n",
            "[CV] ......................... max_depth=8, score=0.605, total=   1.0s\n",
            "[CV] max_depth=8 .....................................................\n",
            "[CV] ......................... max_depth=8, score=0.608, total=   1.0s\n",
            "[CV] max_depth=8 .....................................................\n",
            "[CV] ......................... max_depth=8, score=0.614, total=   1.0s\n",
            "[CV] max_depth=9 .....................................................\n",
            "[CV] ......................... max_depth=9, score=0.610, total=   1.1s\n",
            "[CV] max_depth=9 .....................................................\n",
            "[CV] ......................... max_depth=9, score=0.617, total=   1.1s\n",
            "[CV] max_depth=9 .....................................................\n",
            "[CV] ......................... max_depth=9, score=0.606, total=   1.1s\n",
            "[CV] max_depth=9 .....................................................\n",
            "[CV] ......................... max_depth=9, score=0.611, total=   1.1s\n",
            "[CV] max_depth=9 .....................................................\n",
            "[CV] ......................... max_depth=9, score=0.608, total=   1.1s\n",
            "[CV] max_depth=10 ....................................................\n",
            "[CV] ........................ max_depth=10, score=0.606, total=   1.2s\n",
            "[CV] max_depth=10 ....................................................\n",
            "[CV] ........................ max_depth=10, score=0.617, total=   1.2s\n",
            "[CV] max_depth=10 ....................................................\n",
            "[CV] ........................ max_depth=10, score=0.608, total=   1.2s\n",
            "[CV] max_depth=10 ....................................................\n",
            "[CV] ........................ max_depth=10, score=0.608, total=   1.2s\n",
            "[CV] max_depth=10 ....................................................\n",
            "[CV] ........................ max_depth=10, score=0.609, total=   1.2s\n",
            "[CV] max_depth=11 ....................................................\n",
            "[CV] ........................ max_depth=11, score=0.606, total=   1.3s\n",
            "[CV] max_depth=11 ....................................................\n",
            "[CV] ........................ max_depth=11, score=0.616, total=   1.4s\n",
            "[CV] max_depth=11 ....................................................\n",
            "[CV] ........................ max_depth=11, score=0.607, total=   1.3s\n",
            "[CV] max_depth=11 ....................................................\n",
            "[CV] ........................ max_depth=11, score=0.610, total=   1.3s\n",
            "[CV] max_depth=11 ....................................................\n",
            "[CV] ........................ max_depth=11, score=0.609, total=   1.3s\n",
            "[CV] max_depth=12 ....................................................\n",
            "[CV] ........................ max_depth=12, score=0.603, total=   1.4s\n",
            "[CV] max_depth=12 ....................................................\n",
            "[CV] ........................ max_depth=12, score=0.612, total=   1.4s\n",
            "[CV] max_depth=12 ....................................................\n",
            "[CV] ........................ max_depth=12, score=0.604, total=   1.4s\n",
            "[CV] max_depth=12 ....................................................\n",
            "[CV] ........................ max_depth=12, score=0.608, total=   1.4s\n",
            "[CV] max_depth=12 ....................................................\n",
            "[CV] ........................ max_depth=12, score=0.608, total=   1.4s\n",
            "[CV] max_depth=13 ....................................................\n",
            "[CV] ........................ max_depth=13, score=0.602, total=   1.6s\n",
            "[CV] max_depth=13 ....................................................\n",
            "[CV] ........................ max_depth=13, score=0.609, total=   1.5s\n",
            "[CV] max_depth=13 ....................................................\n",
            "[CV] ........................ max_depth=13, score=0.603, total=   1.5s\n",
            "[CV] max_depth=13 ....................................................\n",
            "[CV] ........................ max_depth=13, score=0.602, total=   1.5s\n",
            "[CV] max_depth=13 ....................................................\n",
            "[CV] ........................ max_depth=13, score=0.605, total=   1.5s\n",
            "[CV] max_depth=14 ....................................................\n",
            "[CV] ........................ max_depth=14, score=0.601, total=   1.6s\n",
            "[CV] max_depth=14 ....................................................\n",
            "[CV] ........................ max_depth=14, score=0.607, total=   1.6s\n",
            "[CV] max_depth=14 ....................................................\n",
            "[CV] ........................ max_depth=14, score=0.602, total=   1.6s\n",
            "[CV] max_depth=14 ....................................................\n",
            "[CV] ........................ max_depth=14, score=0.602, total=   1.6s\n",
            "[CV] max_depth=14 ....................................................\n",
            "[CV] ........................ max_depth=14, score=0.603, total=   1.6s\n",
            "[CV] max_depth=15 ....................................................\n",
            "[CV] ........................ max_depth=15, score=0.599, total=   1.7s\n",
            "[CV] max_depth=15 ....................................................\n",
            "[CV] ........................ max_depth=15, score=0.604, total=   1.6s\n",
            "[CV] max_depth=15 ....................................................\n",
            "[CV] ........................ max_depth=15, score=0.599, total=   1.7s\n",
            "[CV] max_depth=15 ....................................................\n",
            "[CV] ........................ max_depth=15, score=0.600, total=   1.7s\n",
            "[CV] max_depth=15 ....................................................\n",
            "[CV] ........................ max_depth=15, score=0.601, total=   1.7s\n",
            "[CV] max_depth=16 ....................................................\n",
            "[CV] ........................ max_depth=16, score=0.596, total=   1.8s\n",
            "[CV] max_depth=16 ....................................................\n",
            "[CV] ........................ max_depth=16, score=0.601, total=   1.7s\n",
            "[CV] max_depth=16 ....................................................\n",
            "[CV] ........................ max_depth=16, score=0.599, total=   1.7s\n",
            "[CV] max_depth=16 ....................................................\n",
            "[CV] ........................ max_depth=16, score=0.598, total=   1.8s\n",
            "[CV] max_depth=16 ....................................................\n",
            "[CV] ........................ max_depth=16, score=0.601, total=   1.8s\n",
            "[CV] max_depth=17 ....................................................\n",
            "[CV] ........................ max_depth=17, score=0.592, total=   1.8s\n",
            "[CV] max_depth=17 ....................................................\n",
            "[CV] ........................ max_depth=17, score=0.598, total=   1.8s\n",
            "[CV] max_depth=17 ....................................................\n",
            "[CV] ........................ max_depth=17, score=0.595, total=   1.8s\n",
            "[CV] max_depth=17 ....................................................\n",
            "[CV] ........................ max_depth=17, score=0.593, total=   1.8s\n",
            "[CV] max_depth=17 ....................................................\n",
            "[CV] ........................ max_depth=17, score=0.599, total=   1.8s\n",
            "[CV] max_depth=18 ....................................................\n",
            "[CV] ........................ max_depth=18, score=0.589, total=   1.9s\n",
            "[CV] max_depth=18 ....................................................\n",
            "[CV] ........................ max_depth=18, score=0.596, total=   1.9s\n",
            "[CV] max_depth=18 ....................................................\n",
            "[CV] ........................ max_depth=18, score=0.592, total=   1.9s\n",
            "[CV] max_depth=18 ....................................................\n",
            "[CV] ........................ max_depth=18, score=0.590, total=   1.9s\n",
            "[CV] max_depth=18 ....................................................\n",
            "[CV] ........................ max_depth=18, score=0.595, total=   1.9s\n",
            "[CV] max_depth=19 ....................................................\n",
            "[CV] ........................ max_depth=19, score=0.587, total=   2.0s\n",
            "[CV] max_depth=19 ....................................................\n",
            "[CV] ........................ max_depth=19, score=0.591, total=   2.0s\n",
            "[CV] max_depth=19 ....................................................\n",
            "[CV] ........................ max_depth=19, score=0.587, total=   2.0s\n",
            "[CV] max_depth=19 ....................................................\n",
            "[CV] ........................ max_depth=19, score=0.590, total=   2.0s\n",
            "[CV] max_depth=19 ....................................................\n",
            "[CV] ........................ max_depth=19, score=0.592, total=   2.0s\n",
            "[CV] max_depth=20 ....................................................\n",
            "[CV] ........................ max_depth=20, score=0.583, total=   2.0s\n",
            "[CV] max_depth=20 ....................................................\n",
            "[CV] ........................ max_depth=20, score=0.587, total=   2.0s\n",
            "[CV] max_depth=20 ....................................................\n",
            "[CV] ........................ max_depth=20, score=0.586, total=   2.0s\n",
            "[CV] max_depth=20 ....................................................\n",
            "[CV] ........................ max_depth=20, score=0.588, total=   2.0s\n",
            "[CV] max_depth=20 ....................................................\n",
            "[CV] ........................ max_depth=20, score=0.588, total=   2.0s\n",
            "[CV] max_depth=21 ....................................................\n",
            "[CV] ........................ max_depth=21, score=0.585, total=   2.1s\n",
            "[CV] max_depth=21 ....................................................\n",
            "[CV] ........................ max_depth=21, score=0.581, total=   2.1s\n",
            "[CV] max_depth=21 ....................................................\n",
            "[CV] ........................ max_depth=21, score=0.581, total=   2.1s\n",
            "[CV] max_depth=21 ....................................................\n",
            "[CV] ........................ max_depth=21, score=0.586, total=   2.1s\n",
            "[CV] max_depth=21 ....................................................\n",
            "[CV] ........................ max_depth=21, score=0.586, total=   2.1s\n",
            "[CV] max_depth=22 ....................................................\n",
            "[CV] ........................ max_depth=22, score=0.582, total=   2.1s\n",
            "[CV] max_depth=22 ....................................................\n",
            "[CV] ........................ max_depth=22, score=0.581, total=   2.2s\n",
            "[CV] max_depth=22 ....................................................\n",
            "[CV] ........................ max_depth=22, score=0.581, total=   2.2s\n",
            "[CV] max_depth=22 ....................................................\n",
            "[CV] ........................ max_depth=22, score=0.580, total=   2.2s\n",
            "[CV] max_depth=22 ....................................................\n",
            "[CV] ........................ max_depth=22, score=0.586, total=   2.2s\n",
            "[CV] max_depth=23 ....................................................\n",
            "[CV] ........................ max_depth=23, score=0.579, total=   2.2s\n",
            "[CV] max_depth=23 ....................................................\n",
            "[CV] ........................ max_depth=23, score=0.578, total=   2.2s\n",
            "[CV] max_depth=23 ....................................................\n",
            "[CV] ........................ max_depth=23, score=0.580, total=   2.2s\n",
            "[CV] max_depth=23 ....................................................\n",
            "[CV] ........................ max_depth=23, score=0.579, total=   2.2s\n",
            "[CV] max_depth=23 ....................................................\n",
            "[CV] ........................ max_depth=23, score=0.582, total=   2.2s\n",
            "[CV] max_depth=24 ....................................................\n",
            "[CV] ........................ max_depth=24, score=0.577, total=   2.3s\n",
            "[CV] max_depth=24 ....................................................\n",
            "[CV] ........................ max_depth=24, score=0.574, total=   2.2s\n",
            "[CV] max_depth=24 ....................................................\n",
            "[CV] ........................ max_depth=24, score=0.575, total=   2.3s\n",
            "[CV] max_depth=24 ....................................................\n",
            "[CV] ........................ max_depth=24, score=0.575, total=   2.3s\n",
            "[CV] max_depth=24 ....................................................\n",
            "[CV] ........................ max_depth=24, score=0.580, total=   2.3s\n",
            "[CV] max_depth=25 ....................................................\n",
            "[CV] ........................ max_depth=25, score=0.575, total=   2.3s\n",
            "[CV] max_depth=25 ....................................................\n",
            "[CV] ........................ max_depth=25, score=0.574, total=   2.3s\n",
            "[CV] max_depth=25 ....................................................\n",
            "[CV] ........................ max_depth=25, score=0.575, total=   2.3s\n",
            "[CV] max_depth=25 ....................................................\n",
            "[CV] ........................ max_depth=25, score=0.572, total=   2.3s\n",
            "[CV] max_depth=25 ....................................................\n",
            "[CV] ........................ max_depth=25, score=0.578, total=   2.3s\n",
            "[CV] max_depth=26 ....................................................\n",
            "[CV] ........................ max_depth=26, score=0.572, total=   2.4s\n",
            "[CV] max_depth=26 ....................................................\n",
            "[CV] ........................ max_depth=26, score=0.573, total=   2.3s\n",
            "[CV] max_depth=26 ....................................................\n",
            "[CV] ........................ max_depth=26, score=0.573, total=   2.3s\n",
            "[CV] max_depth=26 ....................................................\n",
            "[CV] ........................ max_depth=26, score=0.570, total=   2.3s\n",
            "[CV] max_depth=26 ....................................................\n",
            "[CV] ........................ max_depth=26, score=0.576, total=   2.4s\n",
            "[CV] max_depth=27 ....................................................\n",
            "[CV] ........................ max_depth=27, score=0.571, total=   2.4s\n",
            "[CV] max_depth=27 ....................................................\n",
            "[CV] ........................ max_depth=27, score=0.571, total=   2.4s\n",
            "[CV] max_depth=27 ....................................................\n",
            "[CV] ........................ max_depth=27, score=0.571, total=   2.4s\n",
            "[CV] max_depth=27 ....................................................\n",
            "[CV] ........................ max_depth=27, score=0.567, total=   2.4s\n",
            "[CV] max_depth=27 ....................................................\n",
            "[CV] ........................ max_depth=27, score=0.575, total=   2.4s\n",
            "[CV] max_depth=28 ....................................................\n",
            "[CV] ........................ max_depth=28, score=0.570, total=   2.5s\n",
            "[CV] max_depth=28 ....................................................\n",
            "[CV] ........................ max_depth=28, score=0.570, total=   2.4s\n",
            "[CV] max_depth=28 ....................................................\n",
            "[CV] ........................ max_depth=28, score=0.570, total=   2.4s\n",
            "[CV] max_depth=28 ....................................................\n",
            "[CV] ........................ max_depth=28, score=0.567, total=   2.4s\n",
            "[CV] max_depth=28 ....................................................\n",
            "[CV] ........................ max_depth=28, score=0.572, total=   2.4s\n",
            "[CV] max_depth=29 ....................................................\n",
            "[CV] ........................ max_depth=29, score=0.566, total=   2.5s\n",
            "[CV] max_depth=29 ....................................................\n",
            "[CV] ........................ max_depth=29, score=0.570, total=   2.5s\n",
            "[CV] max_depth=29 ....................................................\n",
            "[CV] ........................ max_depth=29, score=0.567, total=   2.5s\n",
            "[CV] max_depth=29 ....................................................\n",
            "[CV] ........................ max_depth=29, score=0.564, total=   2.5s\n",
            "[CV] max_depth=29 ....................................................\n",
            "[CV] ........................ max_depth=29, score=0.570, total=   2.5s\n",
            "[CV] max_depth=30 ....................................................\n",
            "[CV] ........................ max_depth=30, score=0.565, total=   2.5s\n",
            "[CV] max_depth=30 ....................................................\n",
            "[CV] ........................ max_depth=30, score=0.562, total=   2.5s\n",
            "[CV] max_depth=30 ....................................................\n",
            "[CV] ........................ max_depth=30, score=0.565, total=   2.5s\n",
            "[CV] max_depth=30 ....................................................\n",
            "[CV] ........................ max_depth=30, score=0.563, total=   2.5s\n",
            "[CV] max_depth=30 ....................................................\n",
            "[CV] ........................ max_depth=30, score=0.567, total=   2.5s\n",
            "[CV] max_depth=31 ....................................................\n",
            "[CV] ........................ max_depth=31, score=0.561, total=   2.5s\n",
            "[CV] max_depth=31 ....................................................\n",
            "[CV] ........................ max_depth=31, score=0.561, total=   2.5s\n",
            "[CV] max_depth=31 ....................................................\n",
            "[CV] ........................ max_depth=31, score=0.566, total=   2.6s\n",
            "[CV] max_depth=31 ....................................................\n",
            "[CV] ........................ max_depth=31, score=0.564, total=   2.6s\n",
            "[CV] max_depth=31 ....................................................\n",
            "[CV] ........................ max_depth=31, score=0.568, total=   2.6s\n",
            "[CV] max_depth=32 ....................................................\n",
            "[CV] ........................ max_depth=32, score=0.562, total=   2.6s\n",
            "[CV] max_depth=32 ....................................................\n",
            "[CV] ........................ max_depth=32, score=0.561, total=   2.6s\n",
            "[CV] max_depth=32 ....................................................\n",
            "[CV] ........................ max_depth=32, score=0.563, total=   2.5s\n",
            "[CV] max_depth=32 ....................................................\n",
            "[CV] ........................ max_depth=32, score=0.563, total=   2.6s\n",
            "[CV] max_depth=32 ....................................................\n",
            "[CV] ........................ max_depth=32, score=0.566, total=   2.6s\n",
            "[CV] max_depth=33 ....................................................\n",
            "[CV] ........................ max_depth=33, score=0.559, total=   2.7s\n",
            "[CV] max_depth=33 ....................................................\n",
            "[CV] ........................ max_depth=33, score=0.562, total=   2.6s\n",
            "[CV] max_depth=33 ....................................................\n",
            "[CV] ........................ max_depth=33, score=0.564, total=   2.6s\n",
            "[CV] max_depth=33 ....................................................\n",
            "[CV] ........................ max_depth=33, score=0.560, total=   2.6s\n",
            "[CV] max_depth=33 ....................................................\n",
            "[CV] ........................ max_depth=33, score=0.563, total=   2.6s\n",
            "[CV] max_depth=34 ....................................................\n",
            "[CV] ........................ max_depth=34, score=0.559, total=   2.7s\n",
            "[CV] max_depth=34 ....................................................\n",
            "[CV] ........................ max_depth=34, score=0.559, total=   2.6s\n",
            "[CV] max_depth=34 ....................................................\n",
            "[CV] ........................ max_depth=34, score=0.563, total=   2.6s\n",
            "[CV] max_depth=34 ....................................................\n",
            "[CV] ........................ max_depth=34, score=0.557, total=   2.6s\n",
            "[CV] max_depth=34 ....................................................\n",
            "[CV] ........................ max_depth=34, score=0.562, total=   2.6s\n",
            "[CV] max_depth=35 ....................................................\n",
            "[CV] ........................ max_depth=35, score=0.559, total=   2.7s\n",
            "[CV] max_depth=35 ....................................................\n",
            "[CV] ........................ max_depth=35, score=0.559, total=   2.6s\n",
            "[CV] max_depth=35 ....................................................\n",
            "[CV] ........................ max_depth=35, score=0.560, total=   2.7s\n",
            "[CV] max_depth=35 ....................................................\n",
            "[CV] ........................ max_depth=35, score=0.554, total=   2.7s\n",
            "[CV] max_depth=35 ....................................................\n",
            "[CV] ........................ max_depth=35, score=0.561, total=   2.6s\n",
            "[CV] max_depth=36 ....................................................\n",
            "[CV] ........................ max_depth=36, score=0.556, total=   2.7s\n",
            "[CV] max_depth=36 ....................................................\n",
            "[CV] ........................ max_depth=36, score=0.559, total=   2.7s\n",
            "[CV] max_depth=36 ....................................................\n",
            "[CV] ........................ max_depth=36, score=0.560, total=   2.6s\n",
            "[CV] max_depth=36 ....................................................\n",
            "[CV] ........................ max_depth=36, score=0.557, total=   2.7s\n",
            "[CV] max_depth=36 ....................................................\n",
            "[CV] ........................ max_depth=36, score=0.560, total=   2.7s\n",
            "[CV] max_depth=37 ....................................................\n",
            "[CV] ........................ max_depth=37, score=0.553, total=   2.7s\n",
            "[CV] max_depth=37 ....................................................\n",
            "[CV] ........................ max_depth=37, score=0.558, total=   2.6s\n",
            "[CV] max_depth=37 ....................................................\n",
            "[CV] ........................ max_depth=37, score=0.561, total=   2.7s\n",
            "[CV] max_depth=37 ....................................................\n",
            "[CV] ........................ max_depth=37, score=0.553, total=   2.7s\n",
            "[CV] max_depth=37 ....................................................\n",
            "[CV] ........................ max_depth=37, score=0.559, total=   2.7s\n",
            "[CV] max_depth=38 ....................................................\n",
            "[CV] ........................ max_depth=38, score=0.553, total=   2.7s\n",
            "[CV] max_depth=38 ....................................................\n",
            "[CV] ........................ max_depth=38, score=0.557, total=   2.7s\n",
            "[CV] max_depth=38 ....................................................\n",
            "[CV] ........................ max_depth=38, score=0.559, total=   2.7s\n",
            "[CV] max_depth=38 ....................................................\n",
            "[CV] ........................ max_depth=38, score=0.553, total=   2.9s\n",
            "[CV] max_depth=38 ....................................................\n",
            "[CV] ........................ max_depth=38, score=0.559, total=   2.7s\n",
            "[CV] max_depth=39 ....................................................\n",
            "[CV] ........................ max_depth=39, score=0.555, total=   2.8s\n",
            "[CV] max_depth=39 ....................................................\n",
            "[CV] ........................ max_depth=39, score=0.556, total=   2.7s\n",
            "[CV] max_depth=39 ....................................................\n",
            "[CV] ........................ max_depth=39, score=0.560, total=   2.7s\n",
            "[CV] max_depth=39 ....................................................\n",
            "[CV] ........................ max_depth=39, score=0.554, total=   2.8s\n",
            "[CV] max_depth=39 ....................................................\n",
            "[CV] ........................ max_depth=39, score=0.560, total=   2.8s\n",
            "[CV] max_depth=40 ....................................................\n",
            "[CV] ........................ max_depth=40, score=0.552, total=   2.9s\n",
            "[CV] max_depth=40 ....................................................\n",
            "[CV] ........................ max_depth=40, score=0.556, total=   2.7s\n",
            "[CV] max_depth=40 ....................................................\n",
            "[CV] ........................ max_depth=40, score=0.558, total=   2.7s\n",
            "[CV] max_depth=40 ....................................................\n",
            "[CV] ........................ max_depth=40, score=0.555, total=   2.8s\n",
            "[CV] max_depth=40 ....................................................\n",
            "[CV] ........................ max_depth=40, score=0.558, total=   2.9s\n",
            "[CV] max_depth=41 ....................................................\n",
            "[CV] ........................ max_depth=41, score=0.551, total=   2.8s\n",
            "[CV] max_depth=41 ....................................................\n",
            "[CV] ........................ max_depth=41, score=0.555, total=   2.7s\n",
            "[CV] max_depth=41 ....................................................\n",
            "[CV] ........................ max_depth=41, score=0.558, total=   2.8s\n",
            "[CV] max_depth=41 ....................................................\n",
            "[CV] ........................ max_depth=41, score=0.552, total=   2.8s\n",
            "[CV] max_depth=41 ....................................................\n",
            "[CV] ........................ max_depth=41, score=0.554, total=   2.9s\n",
            "[CV] max_depth=42 ....................................................\n",
            "[CV] ........................ max_depth=42, score=0.549, total=   2.8s\n",
            "[CV] max_depth=42 ....................................................\n",
            "[CV] ........................ max_depth=42, score=0.553, total=   2.7s\n",
            "[CV] max_depth=42 ....................................................\n",
            "[CV] ........................ max_depth=42, score=0.559, total=   2.7s\n",
            "[CV] max_depth=42 ....................................................\n",
            "[CV] ........................ max_depth=42, score=0.552, total=   2.8s\n",
            "[CV] max_depth=42 ....................................................\n",
            "[CV] ........................ max_depth=42, score=0.555, total=   2.8s\n",
            "[CV] max_depth=43 ....................................................\n",
            "[CV] ........................ max_depth=43, score=0.549, total=   2.8s\n",
            "[CV] max_depth=43 ....................................................\n",
            "[CV] ........................ max_depth=43, score=0.553, total=   2.8s\n",
            "[CV] max_depth=43 ....................................................\n",
            "[CV] ........................ max_depth=43, score=0.558, total=   2.7s\n",
            "[CV] max_depth=43 ....................................................\n",
            "[CV] ........................ max_depth=43, score=0.554, total=   2.7s\n",
            "[CV] max_depth=43 ....................................................\n",
            "[CV] ........................ max_depth=43, score=0.555, total=   2.8s\n",
            "[CV] max_depth=44 ....................................................\n",
            "[CV] ........................ max_depth=44, score=0.548, total=   2.8s\n",
            "[CV] max_depth=44 ....................................................\n",
            "[CV] ........................ max_depth=44, score=0.555, total=   2.7s\n",
            "[CV] max_depth=44 ....................................................\n",
            "[CV] ........................ max_depth=44, score=0.557, total=   2.7s\n",
            "[CV] max_depth=44 ....................................................\n",
            "[CV] ........................ max_depth=44, score=0.552, total=   2.8s\n",
            "[CV] max_depth=44 ....................................................\n",
            "[CV] ........................ max_depth=44, score=0.554, total=   2.8s\n",
            "[CV] max_depth=45 ....................................................\n",
            "[CV] ........................ max_depth=45, score=0.549, total=   2.8s\n",
            "[CV] max_depth=45 ....................................................\n",
            "[CV] ........................ max_depth=45, score=0.556, total=   2.7s\n",
            "[CV] max_depth=45 ....................................................\n",
            "[CV] ........................ max_depth=45, score=0.556, total=   2.7s\n",
            "[CV] max_depth=45 ....................................................\n",
            "[CV] ........................ max_depth=45, score=0.551, total=   2.8s\n",
            "[CV] max_depth=45 ....................................................\n",
            "[CV] ........................ max_depth=45, score=0.555, total=   2.8s\n",
            "[CV] max_depth=46 ....................................................\n",
            "[CV] ........................ max_depth=46, score=0.550, total=   2.8s\n",
            "[CV] max_depth=46 ....................................................\n",
            "[CV] ........................ max_depth=46, score=0.553, total=   2.8s\n",
            "[CV] max_depth=46 ....................................................\n",
            "[CV] ........................ max_depth=46, score=0.555, total=   2.8s\n",
            "[CV] max_depth=46 ....................................................\n",
            "[CV] ........................ max_depth=46, score=0.547, total=   2.8s\n",
            "[CV] max_depth=46 ....................................................\n",
            "[CV] ........................ max_depth=46, score=0.554, total=   2.8s\n",
            "[CV] max_depth=47 ....................................................\n",
            "[CV] ........................ max_depth=47, score=0.550, total=   2.8s\n",
            "[CV] max_depth=47 ....................................................\n",
            "[CV] ........................ max_depth=47, score=0.554, total=   2.7s\n",
            "[CV] max_depth=47 ....................................................\n",
            "[CV] ........................ max_depth=47, score=0.556, total=   2.7s\n",
            "[CV] max_depth=47 ....................................................\n",
            "[CV] ........................ max_depth=47, score=0.550, total=   2.8s\n",
            "[CV] max_depth=47 ....................................................\n",
            "[CV] ........................ max_depth=47, score=0.554, total=   2.8s\n",
            "[CV] max_depth=48 ....................................................\n",
            "[CV] ........................ max_depth=48, score=0.551, total=   2.8s\n",
            "[CV] max_depth=48 ....................................................\n",
            "[CV] ........................ max_depth=48, score=0.553, total=   2.8s\n",
            "[CV] max_depth=48 ....................................................\n",
            "[CV] ........................ max_depth=48, score=0.555, total=   2.8s\n",
            "[CV] max_depth=48 ....................................................\n",
            "[CV] ........................ max_depth=48, score=0.550, total=   2.8s\n",
            "[CV] max_depth=48 ....................................................\n",
            "[CV] ........................ max_depth=48, score=0.551, total=   2.8s\n",
            "[CV] max_depth=49 ....................................................\n",
            "[CV] ........................ max_depth=49, score=0.549, total=   2.8s\n",
            "[CV] max_depth=49 ....................................................\n",
            "[CV] ........................ max_depth=49, score=0.554, total=   2.8s\n",
            "[CV] max_depth=49 ....................................................\n",
            "[CV] ........................ max_depth=49, score=0.553, total=   2.8s\n",
            "[CV] max_depth=49 ....................................................\n",
            "[CV] ........................ max_depth=49, score=0.548, total=   2.8s\n",
            "[CV] max_depth=49 ....................................................\n",
            "[CV] ........................ max_depth=49, score=0.554, total=   2.8s\n",
            "[CV] max_depth=50 ....................................................\n",
            "[CV] ........................ max_depth=50, score=0.551, total=   2.8s\n",
            "[CV] max_depth=50 ....................................................\n",
            "[CV] ........................ max_depth=50, score=0.553, total=   2.8s\n",
            "[CV] max_depth=50 ....................................................\n",
            "[CV] ........................ max_depth=50, score=0.556, total=   2.8s\n",
            "[CV] max_depth=50 ....................................................\n",
            "[CV] ........................ max_depth=50, score=0.549, total=   2.9s\n",
            "[CV] max_depth=50 ....................................................\n",
            "[CV] ........................ max_depth=50, score=0.554, total=   2.9s\n",
            "[CV] max_depth=51 ....................................................\n",
            "[CV] ........................ max_depth=51, score=0.549, total=   2.8s\n",
            "[CV] max_depth=51 ....................................................\n",
            "[CV] ........................ max_depth=51, score=0.552, total=   2.8s\n",
            "[CV] max_depth=51 ....................................................\n",
            "[CV] ........................ max_depth=51, score=0.555, total=   2.8s\n",
            "[CV] max_depth=51 ....................................................\n",
            "[CV] ........................ max_depth=51, score=0.550, total=   2.8s\n",
            "[CV] max_depth=51 ....................................................\n",
            "[CV] ........................ max_depth=51, score=0.554, total=   2.8s\n",
            "[CV] max_depth=52 ....................................................\n",
            "[CV] ........................ max_depth=52, score=0.550, total=   2.8s\n",
            "[CV] max_depth=52 ....................................................\n",
            "[CV] ........................ max_depth=52, score=0.555, total=   2.8s\n",
            "[CV] max_depth=52 ....................................................\n",
            "[CV] ........................ max_depth=52, score=0.553, total=   2.8s\n",
            "[CV] max_depth=52 ....................................................\n",
            "[CV] ........................ max_depth=52, score=0.547, total=   2.8s\n",
            "[CV] max_depth=52 ....................................................\n",
            "[CV] ........................ max_depth=52, score=0.554, total=   2.8s\n",
            "[CV] max_depth=53 ....................................................\n",
            "[CV] ........................ max_depth=53, score=0.549, total=   2.8s\n",
            "[CV] max_depth=53 ....................................................\n",
            "[CV] ........................ max_depth=53, score=0.552, total=   2.7s\n",
            "[CV] max_depth=53 ....................................................\n",
            "[CV] ........................ max_depth=53, score=0.555, total=   2.8s\n",
            "[CV] max_depth=53 ....................................................\n",
            "[CV] ........................ max_depth=53, score=0.548, total=   2.8s\n",
            "[CV] max_depth=53 ....................................................\n",
            "[CV] ........................ max_depth=53, score=0.555, total=   2.8s\n",
            "[CV] max_depth=54 ....................................................\n",
            "[CV] ........................ max_depth=54, score=0.550, total=   2.8s\n",
            "[CV] max_depth=54 ....................................................\n",
            "[CV] ........................ max_depth=54, score=0.551, total=   2.7s\n",
            "[CV] max_depth=54 ....................................................\n",
            "[CV] ........................ max_depth=54, score=0.556, total=   2.8s\n",
            "[CV] max_depth=54 ....................................................\n",
            "[CV] ........................ max_depth=54, score=0.551, total=   2.8s\n",
            "[CV] max_depth=54 ....................................................\n",
            "[CV] ........................ max_depth=54, score=0.555, total=   2.8s\n",
            "[CV] max_depth=55 ....................................................\n",
            "[CV] ........................ max_depth=55, score=0.549, total=   2.8s\n",
            "[CV] max_depth=55 ....................................................\n",
            "[CV] ........................ max_depth=55, score=0.550, total=   2.8s\n",
            "[CV] max_depth=55 ....................................................\n",
            "[CV] ........................ max_depth=55, score=0.556, total=   2.8s\n",
            "[CV] max_depth=55 ....................................................\n",
            "[CV] ........................ max_depth=55, score=0.548, total=   2.8s\n",
            "[CV] max_depth=55 ....................................................\n",
            "[CV] ........................ max_depth=55, score=0.552, total=   2.9s\n",
            "[CV] max_depth=56 ....................................................\n",
            "[CV] ........................ max_depth=56, score=0.550, total=   2.9s\n",
            "[CV] max_depth=56 ....................................................\n",
            "[CV] ........................ max_depth=56, score=0.551, total=   2.8s\n",
            "[CV] max_depth=56 ....................................................\n",
            "[CV] ........................ max_depth=56, score=0.554, total=   2.8s\n",
            "[CV] max_depth=56 ....................................................\n",
            "[CV] ........................ max_depth=56, score=0.549, total=   2.9s\n",
            "[CV] max_depth=56 ....................................................\n",
            "[CV] ........................ max_depth=56, score=0.556, total=   2.9s\n",
            "[CV] max_depth=57 ....................................................\n",
            "[CV] ........................ max_depth=57, score=0.547, total=   2.8s\n",
            "[CV] max_depth=57 ....................................................\n",
            "[CV] ........................ max_depth=57, score=0.551, total=   2.8s\n",
            "[CV] max_depth=57 ....................................................\n",
            "[CV] ........................ max_depth=57, score=0.553, total=   2.8s\n",
            "[CV] max_depth=57 ....................................................\n",
            "[CV] ........................ max_depth=57, score=0.550, total=   2.9s\n",
            "[CV] max_depth=57 ....................................................\n",
            "[CV] ........................ max_depth=57, score=0.554, total=   3.0s\n",
            "[CV] max_depth=58 ....................................................\n",
            "[CV] ........................ max_depth=58, score=0.547, total=   2.9s\n",
            "[CV] max_depth=58 ....................................................\n",
            "[CV] ........................ max_depth=58, score=0.551, total=   2.8s\n",
            "[CV] max_depth=58 ....................................................\n",
            "[CV] ........................ max_depth=58, score=0.553, total=   2.9s\n",
            "[CV] max_depth=58 ....................................................\n",
            "[CV] ........................ max_depth=58, score=0.550, total=   2.8s\n",
            "[CV] max_depth=58 ....................................................\n",
            "[CV] ........................ max_depth=58, score=0.553, total=   2.9s\n",
            "[CV] max_depth=59 ....................................................\n",
            "[CV] ........................ max_depth=59, score=0.549, total=   2.9s\n",
            "[CV] max_depth=59 ....................................................\n",
            "[CV] ........................ max_depth=59, score=0.551, total=   2.8s\n",
            "[CV] max_depth=59 ....................................................\n",
            "[CV] ........................ max_depth=59, score=0.553, total=   2.8s\n",
            "[CV] max_depth=59 ....................................................\n",
            "[CV] ........................ max_depth=59, score=0.549, total=   2.9s\n",
            "[CV] max_depth=59 ....................................................\n",
            "[CV] ........................ max_depth=59, score=0.553, total=   2.9s\n",
            "[CV] max_depth=60 ....................................................\n",
            "[CV] ........................ max_depth=60, score=0.551, total=   3.0s\n",
            "[CV] max_depth=60 ....................................................\n",
            "[CV] ........................ max_depth=60, score=0.551, total=   2.8s\n",
            "[CV] max_depth=60 ....................................................\n",
            "[CV] ........................ max_depth=60, score=0.554, total=   2.9s\n",
            "[CV] max_depth=60 ....................................................\n",
            "[CV] ........................ max_depth=60, score=0.547, total=   2.8s\n",
            "[CV] max_depth=60 ....................................................\n",
            "[CV] ........................ max_depth=60, score=0.551, total=   2.9s\n",
            "[CV] max_depth=61 ....................................................\n",
            "[CV] ........................ max_depth=61, score=0.548, total=   2.9s\n",
            "[CV] max_depth=61 ....................................................\n",
            "[CV] ........................ max_depth=61, score=0.553, total=   2.8s\n",
            "[CV] max_depth=61 ....................................................\n",
            "[CV] ........................ max_depth=61, score=0.552, total=   2.8s\n",
            "[CV] max_depth=61 ....................................................\n",
            "[CV] ........................ max_depth=61, score=0.551, total=   2.8s\n",
            "[CV] max_depth=61 ....................................................\n",
            "[CV] ........................ max_depth=61, score=0.551, total=   2.9s\n",
            "[CV] max_depth=62 ....................................................\n",
            "[CV] ........................ max_depth=62, score=0.548, total=   2.9s\n",
            "[CV] max_depth=62 ....................................................\n",
            "[CV] ........................ max_depth=62, score=0.550, total=   2.8s\n",
            "[CV] max_depth=62 ....................................................\n",
            "[CV] ........................ max_depth=62, score=0.553, total=   2.8s\n",
            "[CV] max_depth=62 ....................................................\n",
            "[CV] ........................ max_depth=62, score=0.550, total=   2.8s\n",
            "[CV] max_depth=62 ....................................................\n",
            "[CV] ........................ max_depth=62, score=0.552, total=   2.9s\n",
            "[CV] max_depth=63 ....................................................\n",
            "[CV] ........................ max_depth=63, score=0.547, total=   2.9s\n",
            "[CV] max_depth=63 ....................................................\n",
            "[CV] ........................ max_depth=63, score=0.550, total=   2.8s\n",
            "[CV] max_depth=63 ....................................................\n",
            "[CV] ........................ max_depth=63, score=0.555, total=   2.9s\n",
            "[CV] max_depth=63 ....................................................\n",
            "[CV] ........................ max_depth=63, score=0.550, total=   2.9s\n",
            "[CV] max_depth=63 ....................................................\n",
            "[CV] ........................ max_depth=63, score=0.552, total=   2.9s\n",
            "[CV] max_depth=64 ....................................................\n",
            "[CV] ........................ max_depth=64, score=0.550, total=   2.9s\n",
            "[CV] max_depth=64 ....................................................\n",
            "[CV] ........................ max_depth=64, score=0.549, total=   2.8s\n",
            "[CV] max_depth=64 ....................................................\n",
            "[CV] ........................ max_depth=64, score=0.555, total=   2.8s\n",
            "[CV] max_depth=64 ....................................................\n",
            "[CV] ........................ max_depth=64, score=0.548, total=   2.8s\n",
            "[CV] max_depth=64 ....................................................\n",
            "[CV] ........................ max_depth=64, score=0.551, total=   2.9s\n",
            "[CV] max_depth=65 ....................................................\n",
            "[CV] ........................ max_depth=65, score=0.548, total=   2.8s\n",
            "[CV] max_depth=65 ....................................................\n",
            "[CV] ........................ max_depth=65, score=0.550, total=   2.8s\n",
            "[CV] max_depth=65 ....................................................\n",
            "[CV] ........................ max_depth=65, score=0.554, total=   2.8s\n",
            "[CV] max_depth=65 ....................................................\n",
            "[CV] ........................ max_depth=65, score=0.550, total=   2.9s\n",
            "[CV] max_depth=65 ....................................................\n",
            "[CV] ........................ max_depth=65, score=0.552, total=   2.9s\n",
            "[CV] max_depth=66 ....................................................\n",
            "[CV] ........................ max_depth=66, score=0.548, total=   2.9s\n",
            "[CV] max_depth=66 ....................................................\n",
            "[CV] ........................ max_depth=66, score=0.550, total=   2.8s\n",
            "[CV] max_depth=66 ....................................................\n",
            "[CV] ........................ max_depth=66, score=0.555, total=   2.8s\n",
            "[CV] max_depth=66 ....................................................\n",
            "[CV] ........................ max_depth=66, score=0.546, total=   2.8s\n",
            "[CV] max_depth=66 ....................................................\n",
            "[CV] ........................ max_depth=66, score=0.553, total=   2.9s\n",
            "[CV] max_depth=67 ....................................................\n",
            "[CV] ........................ max_depth=67, score=0.550, total=   2.8s\n",
            "[CV] max_depth=67 ....................................................\n",
            "[CV] ........................ max_depth=67, score=0.550, total=   2.8s\n",
            "[CV] max_depth=67 ....................................................\n",
            "[CV] ........................ max_depth=67, score=0.554, total=   2.8s\n",
            "[CV] max_depth=67 ....................................................\n",
            "[CV] ........................ max_depth=67, score=0.550, total=   2.9s\n",
            "[CV] max_depth=67 ....................................................\n",
            "[CV] ........................ max_depth=67, score=0.551, total=   2.9s\n",
            "[CV] max_depth=68 ....................................................\n",
            "[CV] ........................ max_depth=68, score=0.548, total=   2.9s\n",
            "[CV] max_depth=68 ....................................................\n",
            "[CV] ........................ max_depth=68, score=0.551, total=   2.8s\n",
            "[CV] max_depth=68 ....................................................\n",
            "[CV] ........................ max_depth=68, score=0.553, total=   2.9s\n",
            "[CV] max_depth=68 ....................................................\n",
            "[CV] ........................ max_depth=68, score=0.548, total=   2.8s\n",
            "[CV] max_depth=68 ....................................................\n",
            "[CV] ........................ max_depth=68, score=0.550, total=   2.9s\n",
            "[CV] max_depth=69 ....................................................\n",
            "[CV] ........................ max_depth=69, score=0.549, total=   2.9s\n",
            "[CV] max_depth=69 ....................................................\n",
            "[CV] ........................ max_depth=69, score=0.553, total=   2.7s\n",
            "[CV] max_depth=69 ....................................................\n",
            "[CV] ........................ max_depth=69, score=0.554, total=   2.8s\n",
            "[CV] max_depth=69 ....................................................\n",
            "[CV] ........................ max_depth=69, score=0.549, total=   2.8s\n",
            "[CV] max_depth=69 ....................................................\n",
            "[CV] ........................ max_depth=69, score=0.550, total=   2.9s\n",
            "[CV] max_depth=70 ....................................................\n",
            "[CV] ........................ max_depth=70, score=0.550, total=   2.8s\n",
            "[CV] max_depth=70 ....................................................\n",
            "[CV] ........................ max_depth=70, score=0.550, total=   2.8s\n",
            "[CV] max_depth=70 ....................................................\n",
            "[CV] ........................ max_depth=70, score=0.552, total=   2.9s\n",
            "[CV] max_depth=70 ....................................................\n",
            "[CV] ........................ max_depth=70, score=0.548, total=   2.8s\n",
            "[CV] max_depth=70 ....................................................\n",
            "[CV] ........................ max_depth=70, score=0.553, total=   2.9s\n",
            "[CV] max_depth=71 ....................................................\n",
            "[CV] ........................ max_depth=71, score=0.550, total=   2.9s\n",
            "[CV] max_depth=71 ....................................................\n",
            "[CV] ........................ max_depth=71, score=0.553, total=   2.7s\n",
            "[CV] max_depth=71 ....................................................\n",
            "[CV] ........................ max_depth=71, score=0.552, total=   2.8s\n",
            "[CV] max_depth=71 ....................................................\n",
            "[CV] ........................ max_depth=71, score=0.549, total=   2.9s\n",
            "[CV] max_depth=71 ....................................................\n",
            "[CV] ........................ max_depth=71, score=0.549, total=   2.9s\n",
            "[CV] max_depth=72 ....................................................\n",
            "[CV] ........................ max_depth=72, score=0.550, total=   2.9s\n",
            "[CV] max_depth=72 ....................................................\n",
            "[CV] ........................ max_depth=72, score=0.552, total=   2.8s\n",
            "[CV] max_depth=72 ....................................................\n",
            "[CV] ........................ max_depth=72, score=0.554, total=   2.9s\n",
            "[CV] max_depth=72 ....................................................\n",
            "[CV] ........................ max_depth=72, score=0.549, total=   2.9s\n",
            "[CV] max_depth=72 ....................................................\n",
            "[CV] ........................ max_depth=72, score=0.553, total=   2.9s\n",
            "[CV] max_depth=73 ....................................................\n",
            "[CV] ........................ max_depth=73, score=0.548, total=   2.8s\n",
            "[CV] max_depth=73 ....................................................\n",
            "[CV] ........................ max_depth=73, score=0.554, total=   2.8s\n",
            "[CV] max_depth=73 ....................................................\n",
            "[CV] ........................ max_depth=73, score=0.552, total=   2.9s\n",
            "[CV] max_depth=73 ....................................................\n",
            "[CV] ........................ max_depth=73, score=0.548, total=   2.9s\n",
            "[CV] max_depth=73 ....................................................\n",
            "[CV] ........................ max_depth=73, score=0.552, total=   2.9s\n",
            "[CV] max_depth=74 ....................................................\n",
            "[CV] ........................ max_depth=74, score=0.548, total=   2.8s\n",
            "[CV] max_depth=74 ....................................................\n",
            "[CV] ........................ max_depth=74, score=0.552, total=   2.8s\n",
            "[CV] max_depth=74 ....................................................\n",
            "[CV] ........................ max_depth=74, score=0.554, total=   2.8s\n",
            "[CV] max_depth=74 ....................................................\n",
            "[CV] ........................ max_depth=74, score=0.550, total=   2.8s\n",
            "[CV] max_depth=74 ....................................................\n",
            "[CV] ........................ max_depth=74, score=0.551, total=   2.9s\n",
            "[CV] max_depth=75 ....................................................\n",
            "[CV] ........................ max_depth=75, score=0.547, total=   2.8s\n",
            "[CV] max_depth=75 ....................................................\n",
            "[CV] ........................ max_depth=75, score=0.552, total=   2.7s\n",
            "[CV] max_depth=75 ....................................................\n",
            "[CV] ........................ max_depth=75, score=0.553, total=   2.8s\n",
            "[CV] max_depth=75 ....................................................\n",
            "[CV] ........................ max_depth=75, score=0.547, total=   2.8s\n",
            "[CV] max_depth=75 ....................................................\n",
            "[CV] ........................ max_depth=75, score=0.552, total=   2.9s\n",
            "[CV] max_depth=76 ....................................................\n",
            "[CV] ........................ max_depth=76, score=0.548, total=   2.8s\n",
            "[CV] max_depth=76 ....................................................\n",
            "[CV] ........................ max_depth=76, score=0.552, total=   2.7s\n",
            "[CV] max_depth=76 ....................................................\n",
            "[CV] ........................ max_depth=76, score=0.555, total=   2.8s\n",
            "[CV] max_depth=76 ....................................................\n",
            "[CV] ........................ max_depth=76, score=0.547, total=   2.8s\n",
            "[CV] max_depth=76 ....................................................\n",
            "[CV] ........................ max_depth=76, score=0.552, total=   2.9s\n",
            "[CV] max_depth=77 ....................................................\n",
            "[CV] ........................ max_depth=77, score=0.548, total=   2.8s\n",
            "[CV] max_depth=77 ....................................................\n",
            "[CV] ........................ max_depth=77, score=0.553, total=   2.8s\n",
            "[CV] max_depth=77 ....................................................\n",
            "[CV] ........................ max_depth=77, score=0.552, total=   2.9s\n",
            "[CV] max_depth=77 ....................................................\n",
            "[CV] ........................ max_depth=77, score=0.550, total=   2.8s\n",
            "[CV] max_depth=77 ....................................................\n",
            "[CV] ........................ max_depth=77, score=0.552, total=   2.9s\n",
            "[CV] max_depth=78 ....................................................\n",
            "[CV] ........................ max_depth=78, score=0.547, total=   2.8s\n",
            "[CV] max_depth=78 ....................................................\n",
            "[CV] ........................ max_depth=78, score=0.551, total=   2.8s\n",
            "[CV] max_depth=78 ....................................................\n",
            "[CV] ........................ max_depth=78, score=0.552, total=   2.8s\n",
            "[CV] max_depth=78 ....................................................\n",
            "[CV] ........................ max_depth=78, score=0.549, total=   2.8s\n",
            "[CV] max_depth=78 ....................................................\n",
            "[CV] ........................ max_depth=78, score=0.550, total=   2.9s\n",
            "[CV] max_depth=79 ....................................................\n",
            "[CV] ........................ max_depth=79, score=0.548, total=   2.8s\n",
            "[CV] max_depth=79 ....................................................\n",
            "[CV] ........................ max_depth=79, score=0.552, total=   2.8s\n",
            "[CV] max_depth=79 ....................................................\n",
            "[CV] ........................ max_depth=79, score=0.552, total=   2.8s\n",
            "[CV] max_depth=79 ....................................................\n",
            "[CV] ........................ max_depth=79, score=0.550, total=   2.8s\n",
            "[CV] max_depth=79 ....................................................\n",
            "[CV] ........................ max_depth=79, score=0.551, total=   2.9s\n",
            "[CV] max_depth=80 ....................................................\n",
            "[CV] ........................ max_depth=80, score=0.547, total=   2.9s\n",
            "[CV] max_depth=80 ....................................................\n",
            "[CV] ........................ max_depth=80, score=0.553, total=   2.8s\n",
            "[CV] max_depth=80 ....................................................\n",
            "[CV] ........................ max_depth=80, score=0.555, total=   2.8s\n",
            "[CV] max_depth=80 ....................................................\n",
            "[CV] ........................ max_depth=80, score=0.549, total=   2.8s\n",
            "[CV] max_depth=80 ....................................................\n",
            "[CV] ........................ max_depth=80, score=0.551, total=   2.9s\n",
            "[CV] max_depth=81 ....................................................\n",
            "[CV] ........................ max_depth=81, score=0.549, total=   2.9s\n",
            "[CV] max_depth=81 ....................................................\n",
            "[CV] ........................ max_depth=81, score=0.551, total=   2.8s\n",
            "[CV] max_depth=81 ....................................................\n",
            "[CV] ........................ max_depth=81, score=0.554, total=   2.8s\n",
            "[CV] max_depth=81 ....................................................\n",
            "[CV] ........................ max_depth=81, score=0.548, total=   2.8s\n",
            "[CV] max_depth=81 ....................................................\n",
            "[CV] ........................ max_depth=81, score=0.551, total=   2.8s\n",
            "[CV] max_depth=82 ....................................................\n",
            "[CV] ........................ max_depth=82, score=0.549, total=   2.8s\n",
            "[CV] max_depth=82 ....................................................\n",
            "[CV] ........................ max_depth=82, score=0.553, total=   2.8s\n",
            "[CV] max_depth=82 ....................................................\n",
            "[CV] ........................ max_depth=82, score=0.553, total=   2.9s\n",
            "[CV] max_depth=82 ....................................................\n",
            "[CV] ........................ max_depth=82, score=0.550, total=   2.8s\n",
            "[CV] max_depth=82 ....................................................\n",
            "[CV] ........................ max_depth=82, score=0.552, total=   2.9s\n",
            "[CV] max_depth=83 ....................................................\n",
            "[CV] ........................ max_depth=83, score=0.548, total=   3.0s\n",
            "[CV] max_depth=83 ....................................................\n",
            "[CV] ........................ max_depth=83, score=0.552, total=   2.8s\n",
            "[CV] max_depth=83 ....................................................\n",
            "[CV] ........................ max_depth=83, score=0.553, total=   2.8s\n",
            "[CV] max_depth=83 ....................................................\n",
            "[CV] ........................ max_depth=83, score=0.550, total=   2.8s\n",
            "[CV] max_depth=83 ....................................................\n",
            "[CV] ........................ max_depth=83, score=0.550, total=   2.9s\n",
            "[CV] max_depth=84 ....................................................\n",
            "[CV] ........................ max_depth=84, score=0.548, total=   2.8s\n",
            "[CV] max_depth=84 ....................................................\n",
            "[CV] ........................ max_depth=84, score=0.550, total=   2.8s\n",
            "[CV] max_depth=84 ....................................................\n",
            "[CV] ........................ max_depth=84, score=0.554, total=   2.9s\n",
            "[CV] max_depth=84 ....................................................\n",
            "[CV] ........................ max_depth=84, score=0.550, total=   2.8s\n",
            "[CV] max_depth=84 ....................................................\n",
            "[CV] ........................ max_depth=84, score=0.551, total=   2.9s\n",
            "[CV] max_depth=85 ....................................................\n",
            "[CV] ........................ max_depth=85, score=0.547, total=   2.9s\n",
            "[CV] max_depth=85 ....................................................\n",
            "[CV] ........................ max_depth=85, score=0.551, total=   2.8s\n",
            "[CV] max_depth=85 ....................................................\n",
            "[CV] ........................ max_depth=85, score=0.550, total=   2.9s\n",
            "[CV] max_depth=85 ....................................................\n",
            "[CV] ........................ max_depth=85, score=0.548, total=   2.8s\n",
            "[CV] max_depth=85 ....................................................\n",
            "[CV] ........................ max_depth=85, score=0.553, total=   2.9s\n",
            "[CV] max_depth=86 ....................................................\n",
            "[CV] ........................ max_depth=86, score=0.549, total=   2.9s\n",
            "[CV] max_depth=86 ....................................................\n",
            "[CV] ........................ max_depth=86, score=0.550, total=   2.8s\n",
            "[CV] max_depth=86 ....................................................\n",
            "[CV] ........................ max_depth=86, score=0.553, total=   2.8s\n",
            "[CV] max_depth=86 ....................................................\n",
            "[CV] ........................ max_depth=86, score=0.550, total=   2.8s\n",
            "[CV] max_depth=86 ....................................................\n",
            "[CV] ........................ max_depth=86, score=0.550, total=   2.9s\n",
            "[CV] max_depth=87 ....................................................\n",
            "[CV] ........................ max_depth=87, score=0.549, total=   2.8s\n",
            "[CV] max_depth=87 ....................................................\n",
            "[CV] ........................ max_depth=87, score=0.551, total=   2.8s\n",
            "[CV] max_depth=87 ....................................................\n",
            "[CV] ........................ max_depth=87, score=0.552, total=   2.9s\n",
            "[CV] max_depth=87 ....................................................\n",
            "[CV] ........................ max_depth=87, score=0.548, total=   2.8s\n",
            "[CV] max_depth=87 ....................................................\n",
            "[CV] ........................ max_depth=87, score=0.552, total=   2.8s\n",
            "[CV] max_depth=88 ....................................................\n",
            "[CV] ........................ max_depth=88, score=0.551, total=   2.9s\n",
            "[CV] max_depth=88 ....................................................\n",
            "[CV] ........................ max_depth=88, score=0.553, total=   2.7s\n",
            "[CV] max_depth=88 ....................................................\n",
            "[CV] ........................ max_depth=88, score=0.551, total=   2.8s\n",
            "[CV] max_depth=88 ....................................................\n",
            "[CV] ........................ max_depth=88, score=0.549, total=   2.8s\n",
            "[CV] max_depth=88 ....................................................\n",
            "[CV] ........................ max_depth=88, score=0.552, total=   2.9s\n",
            "[CV] max_depth=89 ....................................................\n",
            "[CV] ........................ max_depth=89, score=0.547, total=   2.8s\n",
            "[CV] max_depth=89 ....................................................\n",
            "[CV] ........................ max_depth=89, score=0.551, total=   2.8s\n",
            "[CV] max_depth=89 ....................................................\n",
            "[CV] ........................ max_depth=89, score=0.553, total=   2.9s\n",
            "[CV] max_depth=89 ....................................................\n",
            "[CV] ........................ max_depth=89, score=0.550, total=   2.8s\n",
            "[CV] max_depth=89 ....................................................\n",
            "[CV] ........................ max_depth=89, score=0.552, total=   2.8s\n",
            "[CV] max_depth=90 ....................................................\n",
            "[CV] ........................ max_depth=90, score=0.547, total=   2.8s\n",
            "[CV] max_depth=90 ....................................................\n",
            "[CV] ........................ max_depth=90, score=0.551, total=   2.8s\n",
            "[CV] max_depth=90 ....................................................\n",
            "[CV] ........................ max_depth=90, score=0.554, total=   2.8s\n",
            "[CV] max_depth=90 ....................................................\n",
            "[CV] ........................ max_depth=90, score=0.551, total=   2.8s\n",
            "[CV] max_depth=90 ....................................................\n",
            "[CV] ........................ max_depth=90, score=0.552, total=   2.8s\n",
            "[CV] max_depth=91 ....................................................\n",
            "[CV] ........................ max_depth=91, score=0.550, total=   2.8s\n",
            "[CV] max_depth=91 ....................................................\n",
            "[CV] ........................ max_depth=91, score=0.553, total=   2.7s\n",
            "[CV] max_depth=91 ....................................................\n",
            "[CV] ........................ max_depth=91, score=0.553, total=   2.9s\n",
            "[CV] max_depth=91 ....................................................\n",
            "[CV] ........................ max_depth=91, score=0.549, total=   2.8s\n",
            "[CV] max_depth=91 ....................................................\n",
            "[CV] ........................ max_depth=91, score=0.551, total=   2.9s\n",
            "[CV] max_depth=92 ....................................................\n",
            "[CV] ........................ max_depth=92, score=0.550, total=   2.8s\n",
            "[CV] max_depth=92 ....................................................\n",
            "[CV] ........................ max_depth=92, score=0.552, total=   2.8s\n",
            "[CV] max_depth=92 ....................................................\n",
            "[CV] ........................ max_depth=92, score=0.554, total=   2.8s\n",
            "[CV] max_depth=92 ....................................................\n",
            "[CV] ........................ max_depth=92, score=0.549, total=   2.9s\n",
            "[CV] max_depth=92 ....................................................\n",
            "[CV] ........................ max_depth=92, score=0.552, total=   2.9s\n",
            "[CV] max_depth=93 ....................................................\n",
            "[CV] ........................ max_depth=93, score=0.548, total=   2.8s\n",
            "[CV] max_depth=93 ....................................................\n",
            "[CV] ........................ max_depth=93, score=0.552, total=   2.8s\n",
            "[CV] max_depth=93 ....................................................\n",
            "[CV] ........................ max_depth=93, score=0.552, total=   2.9s\n",
            "[CV] max_depth=93 ....................................................\n",
            "[CV] ........................ max_depth=93, score=0.547, total=   2.8s\n",
            "[CV] max_depth=93 ....................................................\n",
            "[CV] ........................ max_depth=93, score=0.552, total=   2.9s\n",
            "[CV] max_depth=94 ....................................................\n",
            "[CV] ........................ max_depth=94, score=0.547, total=   2.8s\n",
            "[CV] max_depth=94 ....................................................\n",
            "[CV] ........................ max_depth=94, score=0.551, total=   2.7s\n",
            "[CV] max_depth=94 ....................................................\n",
            "[CV] ........................ max_depth=94, score=0.553, total=   2.8s\n",
            "[CV] max_depth=94 ....................................................\n",
            "[CV] ........................ max_depth=94, score=0.550, total=   2.8s\n",
            "[CV] max_depth=94 ....................................................\n",
            "[CV] ........................ max_depth=94, score=0.552, total=   2.9s\n",
            "[CV] max_depth=95 ....................................................\n",
            "[CV] ........................ max_depth=95, score=0.550, total=   2.8s\n",
            "[CV] max_depth=95 ....................................................\n",
            "[CV] ........................ max_depth=95, score=0.551, total=   2.8s\n",
            "[CV] max_depth=95 ....................................................\n",
            "[CV] ........................ max_depth=95, score=0.553, total=   2.8s\n",
            "[CV] max_depth=95 ....................................................\n",
            "[CV] ........................ max_depth=95, score=0.547, total=   2.8s\n",
            "[CV] max_depth=95 ....................................................\n",
            "[CV] ........................ max_depth=95, score=0.552, total=   2.9s\n",
            "[CV] max_depth=96 ....................................................\n",
            "[CV] ........................ max_depth=96, score=0.549, total=   2.9s\n",
            "[CV] max_depth=96 ....................................................\n",
            "[CV] ........................ max_depth=96, score=0.551, total=   2.8s\n",
            "[CV] max_depth=96 ....................................................\n",
            "[CV] ........................ max_depth=96, score=0.552, total=   2.8s\n",
            "[CV] max_depth=96 ....................................................\n",
            "[CV] ........................ max_depth=96, score=0.549, total=   2.8s\n",
            "[CV] max_depth=96 ....................................................\n",
            "[CV] ........................ max_depth=96, score=0.553, total=   2.8s\n",
            "[CV] max_depth=97 ....................................................\n",
            "[CV] ........................ max_depth=97, score=0.550, total=   2.8s\n",
            "[CV] max_depth=97 ....................................................\n",
            "[CV] ........................ max_depth=97, score=0.550, total=   2.8s\n",
            "[CV] max_depth=97 ....................................................\n",
            "[CV] ........................ max_depth=97, score=0.553, total=   2.8s\n",
            "[CV] max_depth=97 ....................................................\n",
            "[CV] ........................ max_depth=97, score=0.550, total=   2.8s\n",
            "[CV] max_depth=97 ....................................................\n",
            "[CV] ........................ max_depth=97, score=0.549, total=   2.9s\n",
            "[CV] max_depth=98 ....................................................\n",
            "[CV] ........................ max_depth=98, score=0.550, total=   2.9s\n",
            "[CV] max_depth=98 ....................................................\n",
            "[CV] ........................ max_depth=98, score=0.554, total=   2.8s\n",
            "[CV] max_depth=98 ....................................................\n",
            "[CV] ........................ max_depth=98, score=0.554, total=   2.9s\n",
            "[CV] max_depth=98 ....................................................\n",
            "[CV] ........................ max_depth=98, score=0.549, total=   2.8s\n",
            "[CV] max_depth=98 ....................................................\n",
            "[CV] ........................ max_depth=98, score=0.549, total=   2.9s\n",
            "[CV] max_depth=99 ....................................................\n",
            "[CV] ........................ max_depth=99, score=0.548, total=   2.8s\n",
            "[CV] max_depth=99 ....................................................\n",
            "[CV] ........................ max_depth=99, score=0.550, total=   2.8s\n",
            "[CV] max_depth=99 ....................................................\n",
            "[CV] ........................ max_depth=99, score=0.553, total=   2.8s\n",
            "[CV] max_depth=99 ....................................................\n",
            "[CV] ........................ max_depth=99, score=0.548, total=   2.8s\n",
            "[CV] max_depth=99 ....................................................\n",
            "[CV] ........................ max_depth=99, score=0.551, total=   2.9s\n"
          ],
          "name": "stdout"
        },
        {
          "output_type": "stream",
          "text": [
            "[Parallel(n_jobs=1)]: Done 495 out of 495 | elapsed: 20.1min finished\n"
          ],
          "name": "stderr"
        },
        {
          "output_type": "stream",
          "text": [
            "-----------------------------------------------------------\n",
            "melhor estimador:  DecisionTreeClassifier(ccp_alpha=0.0, class_weight=None, criterion='entropy',\n",
            "                       max_depth=9, max_features=None, max_leaf_nodes=None,\n",
            "                       min_impurity_decrease=0.0, min_impurity_split=None,\n",
            "                       min_samples_leaf=1, min_samples_split=2,\n",
            "                       min_weight_fraction_leaf=0.0, presort='deprecated',\n",
            "                       random_state=None, splitter='best')\n",
            "melhores Parâmetros:  {'max_depth': 9}\n",
            "Melhor score:  0.6099326549381434\n"
          ],
          "name": "stdout"
        }
      ]
    },
    {
      "cell_type": "code",
      "metadata": {
        "colab": {
          "base_uri": "https://localhost:8080/"
        },
        "id": "RCPSBP-2jiOd",
        "outputId": "18326e7e-a385-4349-f840-ff98b184f86f"
      },
      "source": [
        "#Criando objeto da árvore de decisão e treinando\n",
        "clf = tree.DecisionTreeClassifier(criterion = 'entropy', max_depth= 9)\n",
        "clf.fit(X_train, y_train)"
      ],
      "execution_count": null,
      "outputs": [
        {
          "output_type": "execute_result",
          "data": {
            "text/plain": [
              "DecisionTreeClassifier(ccp_alpha=0.0, class_weight=None, criterion='entropy',\n",
              "                       max_depth=9, max_features=None, max_leaf_nodes=None,\n",
              "                       min_impurity_decrease=0.0, min_impurity_split=None,\n",
              "                       min_samples_leaf=1, min_samples_split=2,\n",
              "                       min_weight_fraction_leaf=0.0, presort='deprecated',\n",
              "                       random_state=None, splitter='best')"
            ]
          },
          "metadata": {
            "tags": []
          },
          "execution_count": 44
        }
      ]
    },
    {
      "cell_type": "code",
      "metadata": {
        "colab": {
          "base_uri": "https://localhost:8080/"
        },
        "id": "EPfc0f6vmU4M",
        "outputId": "9c280c88-aa1a-4ec4-b331-578209db8a59"
      },
      "source": [
        "#Computar a acurácia do teste\n",
        "test_accuracy_tree = clf.score(X_test, y_test)\n",
        "print('Acurácia do teste = ' ,test_accuracy_tree)\n",
        "\n",
        "predictions_tree = clf.predict(X_test)\n",
        "print(confusion_matrix(y_test, predictions_tree))\n",
        "print(classification_report(y_test, predictions_tree))"
      ],
      "execution_count": null,
      "outputs": [
        {
          "output_type": "stream",
          "text": [
            "Acurácia do teste =  0.6099474886522087\n",
            "[[14395 19397]\n",
            " [ 6898 26724]]\n",
            "              precision    recall  f1-score   support\n",
            "\n",
            "           0       0.68      0.43      0.52     33792\n",
            "           1       0.58      0.79      0.67     33622\n",
            "\n",
            "    accuracy                           0.61     67414\n",
            "   macro avg       0.63      0.61      0.60     67414\n",
            "weighted avg       0.63      0.61      0.60     67414\n",
            "\n"
          ],
          "name": "stdout"
        }
      ]
    },
    {
      "cell_type": "markdown",
      "metadata": {
        "id": "EXWDOuHJY3QJ"
      },
      "source": [
        "A precisão está ruím!!!! A quantidade de false positive está gigante.  Isto é, a quantidade que ele classifica como falha, mas que não foi falha está grande.\n",
        "\n",
        "---\n",
        "\n",
        "No entanto, a cobertura é muito boa\n"
      ]
    },
    {
      "cell_type": "code",
      "metadata": {
        "id": "GQWjn2yp4Pf0"
      },
      "source": [
        ""
      ],
      "execution_count": null,
      "outputs": []
    },
    {
      "cell_type": "markdown",
      "metadata": {
        "id": "nspFAT794QGz"
      },
      "source": [
        "###CART"
      ]
    },
    {
      "cell_type": "code",
      "metadata": {
        "colab": {
          "base_uri": "https://localhost:8080/"
        },
        "id": "RlSfBrVR-GU2",
        "outputId": "e14a62b2-d1eb-495e-b711-86cc9f212f67"
      },
      "source": [
        "#Variar os hiperparametros de tamanho da árvore\n",
        "depth_cart = list(range(1, 20))\n",
        "print(depth_cart)\n",
        "\n",
        "param_grid_cart = dict(max_depth=depth_cart)\n",
        "print(param_grid_cart)"
      ],
      "execution_count": null,
      "outputs": [
        {
          "output_type": "stream",
          "text": [
            "[1, 2, 3, 4, 5, 6, 7, 8, 9, 10, 11, 12, 13, 14, 15, 16, 17, 18, 19]\n",
            "{'max_depth': [1, 2, 3, 4, 5, 6, 7, 8, 9, 10, 11, 12, 13, 14, 15, 16, 17, 18, 19]}\n"
          ],
          "name": "stdout"
        }
      ]
    },
    {
      "cell_type": "code",
      "metadata": {
        "colab": {
          "base_uri": "https://localhost:8080/"
        },
        "id": "juKpV09v4QHB",
        "outputId": "7a6ec036-31e5-4b1b-841a-b5bedeeac534"
      },
      "source": [
        "#Criando o objeto GridSearch e treinando o modelo com os melhores hiperparâmetros\n",
        "\n",
        "grid_CART = GridSearchCV(DecisionTreeClassifier(criterion = 'gini'), param_grid_cart, refit = True, verbose=3, cv=5)\n",
        "grid_CART.fit(X_train, y_train)\n",
        "print(\"-----------------------------------------------------------\")\n",
        "print(\"melhor estimador: \",grid_CART.best_estimator_)\n",
        "print(\"melhores Parâmetros: \",grid_CART.best_params_)\n",
        "print(\"Melhor score: \",grid_CART.score(X_test, y_test))"
      ],
      "execution_count": null,
      "outputs": [
        {
          "output_type": "stream",
          "text": [
            "Fitting 5 folds for each of 19 candidates, totalling 95 fits\n",
            "[CV] max_depth=1 .....................................................\n",
            "[CV] ......................... max_depth=1, score=0.532, total=   0.1s\n",
            "[CV] max_depth=1 .....................................................\n"
          ],
          "name": "stdout"
        },
        {
          "output_type": "stream",
          "text": [
            "[Parallel(n_jobs=1)]: Using backend SequentialBackend with 1 concurrent workers.\n",
            "[Parallel(n_jobs=1)]: Done   1 out of   1 | elapsed:    0.1s remaining:    0.0s\n"
          ],
          "name": "stderr"
        },
        {
          "output_type": "stream",
          "text": [
            "[CV] ......................... max_depth=1, score=0.534, total=   0.1s\n",
            "[CV] max_depth=1 .....................................................\n",
            "[CV] ......................... max_depth=1, score=0.533, total=   0.1s\n",
            "[CV] max_depth=1 .....................................................\n",
            "[CV] ......................... max_depth=1, score=0.535, total=   0.1s\n",
            "[CV] max_depth=1 .....................................................\n"
          ],
          "name": "stdout"
        },
        {
          "output_type": "stream",
          "text": [
            "[Parallel(n_jobs=1)]: Done   2 out of   2 | elapsed:    0.2s remaining:    0.0s\n"
          ],
          "name": "stderr"
        },
        {
          "output_type": "stream",
          "text": [
            "[CV] ......................... max_depth=1, score=0.532, total=   0.1s\n",
            "[CV] max_depth=2 .....................................................\n",
            "[CV] ......................... max_depth=2, score=0.569, total=   0.2s\n",
            "[CV] max_depth=2 .....................................................\n",
            "[CV] ......................... max_depth=2, score=0.570, total=   0.2s\n",
            "[CV] max_depth=2 .....................................................\n",
            "[CV] ......................... max_depth=2, score=0.571, total=   0.2s\n",
            "[CV] max_depth=2 .....................................................\n",
            "[CV] ......................... max_depth=2, score=0.570, total=   0.2s\n",
            "[CV] max_depth=2 .....................................................\n",
            "[CV] ......................... max_depth=2, score=0.571, total=   0.2s\n",
            "[CV] max_depth=3 .....................................................\n",
            "[CV] ......................... max_depth=3, score=0.577, total=   0.3s\n",
            "[CV] max_depth=3 .....................................................\n",
            "[CV] ......................... max_depth=3, score=0.578, total=   0.3s\n",
            "[CV] max_depth=3 .....................................................\n",
            "[CV] ......................... max_depth=3, score=0.580, total=   0.3s\n",
            "[CV] max_depth=3 .....................................................\n",
            "[CV] ......................... max_depth=3, score=0.580, total=   0.3s\n",
            "[CV] max_depth=3 .....................................................\n",
            "[CV] ......................... max_depth=3, score=0.581, total=   0.3s\n",
            "[CV] max_depth=4 .....................................................\n",
            "[CV] ......................... max_depth=4, score=0.586, total=   0.3s\n",
            "[CV] max_depth=4 .....................................................\n",
            "[CV] ......................... max_depth=4, score=0.591, total=   0.3s\n",
            "[CV] max_depth=4 .....................................................\n",
            "[CV] ......................... max_depth=4, score=0.587, total=   0.4s\n",
            "[CV] max_depth=4 .....................................................\n",
            "[CV] ......................... max_depth=4, score=0.591, total=   0.4s\n",
            "[CV] max_depth=4 .....................................................\n",
            "[CV] ......................... max_depth=4, score=0.592, total=   0.5s\n",
            "[CV] max_depth=5 .....................................................\n",
            "[CV] ......................... max_depth=5, score=0.597, total=   0.5s\n",
            "[CV] max_depth=5 .....................................................\n",
            "[CV] ......................... max_depth=5, score=0.598, total=   0.4s\n",
            "[CV] max_depth=5 .....................................................\n",
            "[CV] ......................... max_depth=5, score=0.593, total=   0.4s\n",
            "[CV] max_depth=5 .....................................................\n",
            "[CV] ......................... max_depth=5, score=0.597, total=   0.4s\n",
            "[CV] max_depth=5 .....................................................\n",
            "[CV] ......................... max_depth=5, score=0.600, total=   0.4s\n",
            "[CV] max_depth=6 .....................................................\n",
            "[CV] ......................... max_depth=6, score=0.602, total=   0.5s\n",
            "[CV] max_depth=6 .....................................................\n",
            "[CV] ......................... max_depth=6, score=0.603, total=   0.5s\n",
            "[CV] max_depth=6 .....................................................\n",
            "[CV] ......................... max_depth=6, score=0.601, total=   0.5s\n",
            "[CV] max_depth=6 .....................................................\n",
            "[CV] ......................... max_depth=6, score=0.606, total=   0.5s\n",
            "[CV] max_depth=6 .....................................................\n",
            "[CV] ......................... max_depth=6, score=0.604, total=   0.5s\n",
            "[CV] max_depth=7 .....................................................\n",
            "[CV] ......................... max_depth=7, score=0.606, total=   0.5s\n",
            "[CV] max_depth=7 .....................................................\n",
            "[CV] ......................... max_depth=7, score=0.608, total=   0.5s\n",
            "[CV] max_depth=7 .....................................................\n",
            "[CV] ......................... max_depth=7, score=0.602, total=   0.5s\n",
            "[CV] max_depth=7 .....................................................\n",
            "[CV] ......................... max_depth=7, score=0.609, total=   0.5s\n",
            "[CV] max_depth=7 .....................................................\n",
            "[CV] ......................... max_depth=7, score=0.609, total=   0.5s\n",
            "[CV] max_depth=8 .....................................................\n",
            "[CV] ......................... max_depth=8, score=0.606, total=   0.6s\n",
            "[CV] max_depth=8 .....................................................\n",
            "[CV] ......................... max_depth=8, score=0.612, total=   0.6s\n",
            "[CV] max_depth=8 .....................................................\n",
            "[CV] ......................... max_depth=8, score=0.600, total=   0.6s\n",
            "[CV] max_depth=8 .....................................................\n",
            "[CV] ......................... max_depth=8, score=0.609, total=   0.6s\n",
            "[CV] max_depth=8 .....................................................\n",
            "[CV] ......................... max_depth=8, score=0.613, total=   0.6s\n",
            "[CV] max_depth=9 .....................................................\n",
            "[CV] ......................... max_depth=9, score=0.609, total=   0.7s\n",
            "[CV] max_depth=9 .....................................................\n",
            "[CV] ......................... max_depth=9, score=0.615, total=   0.7s\n",
            "[CV] max_depth=9 .....................................................\n",
            "[CV] ......................... max_depth=9, score=0.605, total=   0.7s\n",
            "[CV] max_depth=9 .....................................................\n",
            "[CV] ......................... max_depth=9, score=0.611, total=   0.6s\n",
            "[CV] max_depth=9 .....................................................\n",
            "[CV] ......................... max_depth=9, score=0.607, total=   0.6s\n",
            "[CV] max_depth=10 ....................................................\n",
            "[CV] ........................ max_depth=10, score=0.605, total=   0.7s\n",
            "[CV] max_depth=10 ....................................................\n",
            "[CV] ........................ max_depth=10, score=0.613, total=   0.7s\n",
            "[CV] max_depth=10 ....................................................\n",
            "[CV] ........................ max_depth=10, score=0.601, total=   0.7s\n",
            "[CV] max_depth=10 ....................................................\n",
            "[CV] ........................ max_depth=10, score=0.609, total=   0.7s\n",
            "[CV] max_depth=10 ....................................................\n",
            "[CV] ........................ max_depth=10, score=0.608, total=   0.7s\n",
            "[CV] max_depth=11 ....................................................\n",
            "[CV] ........................ max_depth=11, score=0.604, total=   0.8s\n",
            "[CV] max_depth=11 ....................................................\n",
            "[CV] ........................ max_depth=11, score=0.613, total=   0.7s\n",
            "[CV] max_depth=11 ....................................................\n",
            "[CV] ........................ max_depth=11, score=0.601, total=   0.7s\n",
            "[CV] max_depth=11 ....................................................\n",
            "[CV] ........................ max_depth=11, score=0.607, total=   0.8s\n",
            "[CV] max_depth=11 ....................................................\n",
            "[CV] ........................ max_depth=11, score=0.607, total=   0.8s\n",
            "[CV] max_depth=12 ....................................................\n",
            "[CV] ........................ max_depth=12, score=0.600, total=   0.8s\n",
            "[CV] max_depth=12 ....................................................\n",
            "[CV] ........................ max_depth=12, score=0.609, total=   0.8s\n",
            "[CV] max_depth=12 ....................................................\n",
            "[CV] ........................ max_depth=12, score=0.600, total=   0.8s\n",
            "[CV] max_depth=12 ....................................................\n",
            "[CV] ........................ max_depth=12, score=0.605, total=   0.8s\n",
            "[CV] max_depth=12 ....................................................\n",
            "[CV] ........................ max_depth=12, score=0.607, total=   0.8s\n",
            "[CV] max_depth=13 ....................................................\n",
            "[CV] ........................ max_depth=13, score=0.599, total=   0.9s\n",
            "[CV] max_depth=13 ....................................................\n",
            "[CV] ........................ max_depth=13, score=0.606, total=   0.8s\n",
            "[CV] max_depth=13 ....................................................\n",
            "[CV] ........................ max_depth=13, score=0.600, total=   0.8s\n",
            "[CV] max_depth=13 ....................................................\n",
            "[CV] ........................ max_depth=13, score=0.604, total=   0.8s\n",
            "[CV] max_depth=13 ....................................................\n",
            "[CV] ........................ max_depth=13, score=0.602, total=   0.8s\n",
            "[CV] max_depth=14 ....................................................\n",
            "[CV] ........................ max_depth=14, score=0.599, total=   0.9s\n",
            "[CV] max_depth=14 ....................................................\n",
            "[CV] ........................ max_depth=14, score=0.601, total=   0.9s\n",
            "[CV] max_depth=14 ....................................................\n",
            "[CV] ........................ max_depth=14, score=0.595, total=   0.9s\n",
            "[CV] max_depth=14 ....................................................\n",
            "[CV] ........................ max_depth=14, score=0.598, total=   0.9s\n",
            "[CV] max_depth=14 ....................................................\n",
            "[CV] ........................ max_depth=14, score=0.602, total=   0.9s\n",
            "[CV] max_depth=15 ....................................................\n",
            "[CV] ........................ max_depth=15, score=0.595, total=   0.9s\n",
            "[CV] max_depth=15 ....................................................\n",
            "[CV] ........................ max_depth=15, score=0.595, total=   0.9s\n",
            "[CV] max_depth=15 ....................................................\n",
            "[CV] ........................ max_depth=15, score=0.594, total=   0.9s\n",
            "[CV] max_depth=15 ....................................................\n",
            "[CV] ........................ max_depth=15, score=0.597, total=   0.9s\n",
            "[CV] max_depth=15 ....................................................\n",
            "[CV] ........................ max_depth=15, score=0.595, total=   0.9s\n",
            "[CV] max_depth=16 ....................................................\n",
            "[CV] ........................ max_depth=16, score=0.590, total=   1.0s\n",
            "[CV] max_depth=16 ....................................................\n",
            "[CV] ........................ max_depth=16, score=0.597, total=   1.0s\n",
            "[CV] max_depth=16 ....................................................\n",
            "[CV] ........................ max_depth=16, score=0.589, total=   1.0s\n",
            "[CV] max_depth=16 ....................................................\n",
            "[CV] ........................ max_depth=16, score=0.591, total=   1.0s\n",
            "[CV] max_depth=16 ....................................................\n",
            "[CV] ........................ max_depth=16, score=0.594, total=   1.0s\n",
            "[CV] max_depth=17 ....................................................\n",
            "[CV] ........................ max_depth=17, score=0.588, total=   1.0s\n",
            "[CV] max_depth=17 ....................................................\n",
            "[CV] ........................ max_depth=17, score=0.592, total=   1.0s\n",
            "[CV] max_depth=17 ....................................................\n",
            "[CV] ........................ max_depth=17, score=0.585, total=   1.0s\n",
            "[CV] max_depth=17 ....................................................\n",
            "[CV] ........................ max_depth=17, score=0.588, total=   1.0s\n",
            "[CV] max_depth=17 ....................................................\n",
            "[CV] ........................ max_depth=17, score=0.591, total=   1.0s\n",
            "[CV] max_depth=18 ....................................................\n",
            "[CV] ........................ max_depth=18, score=0.583, total=   1.1s\n",
            "[CV] max_depth=18 ....................................................\n",
            "[CV] ........................ max_depth=18, score=0.589, total=   1.1s\n",
            "[CV] max_depth=18 ....................................................\n",
            "[CV] ........................ max_depth=18, score=0.583, total=   1.1s\n",
            "[CV] max_depth=18 ....................................................\n",
            "[CV] ........................ max_depth=18, score=0.583, total=   1.1s\n",
            "[CV] max_depth=18 ....................................................\n",
            "[CV] ........................ max_depth=18, score=0.585, total=   1.1s\n",
            "[CV] max_depth=19 ....................................................\n",
            "[CV] ........................ max_depth=19, score=0.582, total=   1.1s\n",
            "[CV] max_depth=19 ....................................................\n",
            "[CV] ........................ max_depth=19, score=0.583, total=   1.1s\n",
            "[CV] max_depth=19 ....................................................\n",
            "[CV] ........................ max_depth=19, score=0.581, total=   1.1s\n",
            "[CV] max_depth=19 ....................................................\n",
            "[CV] ........................ max_depth=19, score=0.583, total=   1.0s\n",
            "[CV] max_depth=19 ....................................................\n",
            "[CV] ........................ max_depth=19, score=0.584, total=   1.1s\n"
          ],
          "name": "stdout"
        },
        {
          "output_type": "stream",
          "text": [
            "[Parallel(n_jobs=1)]: Done  95 out of  95 | elapsed:  1.1min finished\n"
          ],
          "name": "stderr"
        },
        {
          "output_type": "stream",
          "text": [
            "-----------------------------------------------------------\n",
            "melhor estimador:  DecisionTreeClassifier(ccp_alpha=0.0, class_weight=None, criterion='gini',\n",
            "                       max_depth=9, max_features=None, max_leaf_nodes=None,\n",
            "                       min_impurity_decrease=0.0, min_impurity_split=None,\n",
            "                       min_samples_leaf=1, min_samples_split=2,\n",
            "                       min_weight_fraction_leaf=0.0, presort='deprecated',\n",
            "                       random_state=None, splitter='best')\n",
            "melhores Parâmetros:  {'max_depth': 9}\n",
            "Melhor score:  0.6101996617913193\n"
          ],
          "name": "stdout"
        }
      ]
    },
    {
      "cell_type": "code",
      "metadata": {
        "colab": {
          "base_uri": "https://localhost:8080/"
        },
        "id": "gHBegrWU4QHF",
        "outputId": "fabb031c-a7a0-4a2b-84e9-c612fe51c7ef"
      },
      "source": [
        "#Criando objeto da árvore de decisão e treinando\n",
        "clfCART = tree.DecisionTreeClassifier(criterion = 'gini', max_depth= 9)\n",
        "clfCART.fit(X_train, y_train)"
      ],
      "execution_count": null,
      "outputs": [
        {
          "output_type": "execute_result",
          "data": {
            "text/plain": [
              "DecisionTreeClassifier(ccp_alpha=0.0, class_weight=None, criterion='gini',\n",
              "                       max_depth=9, max_features=None, max_leaf_nodes=None,\n",
              "                       min_impurity_decrease=0.0, min_impurity_split=None,\n",
              "                       min_samples_leaf=1, min_samples_split=2,\n",
              "                       min_weight_fraction_leaf=0.0, presort='deprecated',\n",
              "                       random_state=None, splitter='best')"
            ]
          },
          "metadata": {
            "tags": []
          },
          "execution_count": 52
        }
      ]
    },
    {
      "cell_type": "code",
      "metadata": {
        "colab": {
          "base_uri": "https://localhost:8080/"
        },
        "id": "V8SCOF7a4QHJ",
        "outputId": "286f6b72-a695-4cab-df66-78bbf584cb56"
      },
      "source": [
        "#Computar a acurácia do teste\n",
        "test_accuracy_CART = clfCART.score(X_test, y_test)\n",
        "print('Acurácia do teste = ' ,test_accuracy_CART)\n",
        "\n",
        "predictions_CART = clfCART.predict(X_test)\n",
        "print(confusion_matrix(y_test, predictions_CART))\n",
        "print(classification_report(y_test, predictions_CART))"
      ],
      "execution_count": null,
      "outputs": [
        {
          "output_type": "stream",
          "text": [
            "Acurácia do teste =  0.6102441629335152\n",
            "[[14453 19339]\n",
            " [ 6936 26686]]\n",
            "              precision    recall  f1-score   support\n",
            "\n",
            "           0       0.68      0.43      0.52     33792\n",
            "           1       0.58      0.79      0.67     33622\n",
            "\n",
            "    accuracy                           0.61     67414\n",
            "   macro avg       0.63      0.61      0.60     67414\n",
            "weighted avg       0.63      0.61      0.60     67414\n",
            "\n"
          ],
          "name": "stdout"
        }
      ]
    },
    {
      "cell_type": "code",
      "metadata": {
        "colab": {
          "base_uri": "https://localhost:8080/",
          "height": 283
        },
        "id": "81lDjwDzKnGZ",
        "outputId": "3832951d-c05e-4c4e-a602-09bb2198babd"
      },
      "source": [
        "cm = pd.DataFrame(confusion_matrix(y_test, predictions_CART))\n",
        "sns.heatmap(cm, annot=True)"
      ],
      "execution_count": null,
      "outputs": [
        {
          "output_type": "execute_result",
          "data": {
            "text/plain": [
              "<matplotlib.axes._subplots.AxesSubplot at 0x7f28ea763350>"
            ]
          },
          "metadata": {
            "tags": []
          },
          "execution_count": 72
        },
        {
          "output_type": "display_data",
          "data": {
            "image/png": "[encoded data removed]",
            "text/plain": [
              "<Figure size 432x288 with 2 Axes>"
            ]
          },
          "metadata": {
            "tags": [],
            "needs_background": "light"
          }
        }
      ]
    },
    {
      "cell_type": "markdown",
      "metadata": {
        "id": "bZjSN_gR7hbx"
      },
      "source": [
        "##Random Forest\n"
      ]
    },
    {
      "cell_type": "code",
      "metadata": {
        "id": "CY0XNF1ZBKts"
      },
      "source": [
        "#Tentei usar um número grande de árvores votantes, mas ficou muito lento\n",
        "#n_estimators = [int(x) for x in np.linspace(start = 200, stop = 2000, num = 10)]"
      ],
      "execution_count": null,
      "outputs": []
    },
    {
      "cell_type": "code",
      "metadata": {
        "id": "hDqdkeYG86WR"
      },
      "source": [
        "#Variar os hiperparametros de tamanho do número de árvores votantes\n",
        "estimadores = [10,20,50,100]"
      ],
      "execution_count": null,
      "outputs": []
    },
    {
      "cell_type": "code",
      "metadata": {
        "colab": {
          "base_uri": "https://localhost:8080/"
        },
        "id": "u5b5RTTK_1t_",
        "outputId": "d7311aac-4401-4369-fd26-f4207e2f94a5"
      },
      "source": [
        "param_grid_RF = dict(n_estimators=estimadores)\n",
        "print(param_grid_RF)"
      ],
      "execution_count": null,
      "outputs": [
        {
          "output_type": "stream",
          "text": [
            "{'n_estimators': [10, 20, 50, 100]}\n"
          ],
          "name": "stdout"
        }
      ]
    },
    {
      "cell_type": "code",
      "metadata": {
        "colab": {
          "base_uri": "https://localhost:8080/"
        },
        "id": "VBsMJQNI7w9-",
        "outputId": "d8bb3aaa-9814-43b5-a101-dc4c77be4459"
      },
      "source": [
        "#Criando o objeto GridSearch e treinando o modelo com os melhores hiperparâmetros\n",
        "\n",
        "grid_RF = GridSearchCV(RandomForestClassifier(random_state = 42), param_grid_RF, refit = True, verbose=3, cv=5)\n",
        "grid_RF.fit(X_train, y_train)\n",
        "print(\"-----------------------------------------------------------\")\n",
        "print(\"melhor estimador: \",grid_RF.best_estimator_)\n",
        "print(\"melhores Parâmetros: \",grid_RF.best_params_)\n",
        "print(\"Melhor score: \",grid_RF.score(X_test, y_test))"
      ],
      "execution_count": null,
      "outputs": [
        {
          "output_type": "stream",
          "text": [
            "Fitting 5 folds for each of 4 candidates, totalling 20 fits\n",
            "[CV] n_estimators=10 .................................................\n"
          ],
          "name": "stdout"
        },
        {
          "output_type": "stream",
          "text": [
            "[Parallel(n_jobs=1)]: Using backend SequentialBackend with 1 concurrent workers.\n"
          ],
          "name": "stderr"
        },
        {
          "output_type": "stream",
          "text": [
            "[CV] ..................... n_estimators=10, score=0.569, total=   4.9s\n",
            "[CV] n_estimators=10 .................................................\n"
          ],
          "name": "stdout"
        },
        {
          "output_type": "stream",
          "text": [
            "[Parallel(n_jobs=1)]: Done   1 out of   1 | elapsed:    4.9s remaining:    0.0s\n"
          ],
          "name": "stderr"
        },
        {
          "output_type": "stream",
          "text": [
            "[CV] ..................... n_estimators=10, score=0.574, total=   4.9s\n",
            "[CV] n_estimators=10 .................................................\n"
          ],
          "name": "stdout"
        },
        {
          "output_type": "stream",
          "text": [
            "[Parallel(n_jobs=1)]: Done   2 out of   2 | elapsed:    9.8s remaining:    0.0s\n"
          ],
          "name": "stderr"
        },
        {
          "output_type": "stream",
          "text": [
            "[CV] ..................... n_estimators=10, score=0.572, total=   5.0s\n",
            "[CV] n_estimators=10 .................................................\n",
            "[CV] ..................... n_estimators=10, score=0.572, total=   4.9s\n",
            "[CV] n_estimators=10 .................................................\n",
            "[CV] ..................... n_estimators=10, score=0.573, total=   5.1s\n",
            "[CV] n_estimators=20 .................................................\n",
            "[CV] ..................... n_estimators=20, score=0.579, total=   9.6s\n",
            "[CV] n_estimators=20 .................................................\n",
            "[CV] ..................... n_estimators=20, score=0.587, total=   9.7s\n",
            "[CV] n_estimators=20 .................................................\n",
            "[CV] ..................... n_estimators=20, score=0.582, total=   9.6s\n",
            "[CV] n_estimators=20 .................................................\n",
            "[CV] ..................... n_estimators=20, score=0.582, total=   9.7s\n",
            "[CV] n_estimators=20 .................................................\n",
            "[CV] ..................... n_estimators=20, score=0.586, total=   9.7s\n",
            "[CV] n_estimators=50 .................................................\n",
            "[CV] ..................... n_estimators=50, score=0.585, total=  24.1s\n",
            "[CV] n_estimators=50 .................................................\n",
            "[CV] ..................... n_estimators=50, score=0.595, total=  24.6s\n",
            "[CV] n_estimators=50 .................................................\n",
            "[CV] ..................... n_estimators=50, score=0.590, total=  24.1s\n",
            "[CV] n_estimators=50 .................................................\n",
            "[CV] ..................... n_estimators=50, score=0.590, total=  24.2s\n",
            "[CV] n_estimators=50 .................................................\n",
            "[CV] ..................... n_estimators=50, score=0.592, total=  24.5s\n",
            "[CV] n_estimators=100 ................................................\n",
            "[CV] .................... n_estimators=100, score=0.588, total=  48.0s\n",
            "[CV] n_estimators=100 ................................................\n",
            "[CV] .................... n_estimators=100, score=0.598, total=  49.1s\n",
            "[CV] n_estimators=100 ................................................\n",
            "[CV] .................... n_estimators=100, score=0.592, total=  48.7s\n",
            "[CV] n_estimators=100 ................................................\n",
            "[CV] .................... n_estimators=100, score=0.595, total=  48.3s\n",
            "[CV] n_estimators=100 ................................................\n",
            "[CV] .................... n_estimators=100, score=0.595, total=  49.0s\n"
          ],
          "name": "stdout"
        },
        {
          "output_type": "stream",
          "text": [
            "[Parallel(n_jobs=1)]: Done  20 out of  20 | elapsed:  7.3min finished\n"
          ],
          "name": "stderr"
        },
        {
          "output_type": "stream",
          "text": [
            "-----------------------------------------------------------\n",
            "melhor estimador:  RandomForestClassifier(bootstrap=True, ccp_alpha=0.0, class_weight=None,\n",
            "                       criterion='gini', max_depth=None, max_features='auto',\n",
            "                       max_leaf_nodes=None, max_samples=None,\n",
            "                       min_impurity_decrease=0.0, min_impurity_split=None,\n",
            "                       min_samples_leaf=1, min_samples_split=2,\n",
            "                       min_weight_fraction_leaf=0.0, n_estimators=100,\n",
            "                       n_jobs=None, oob_score=False, random_state=42, verbose=0,\n",
            "                       warm_start=False)\n",
            "melhores Parâmetros:  {'n_estimators': 100}\n",
            "Melhor score:  0.5946539294508559\n"
          ],
          "name": "stdout"
        }
      ]
    },
    {
      "cell_type": "code",
      "metadata": {
        "colab": {
          "base_uri": "https://localhost:8080/"
        },
        "id": "mXnKKrX57w-H",
        "outputId": "cebbd0d9-eadd-485e-8c6e-1ab082db4b42"
      },
      "source": [
        "#Criando objeto da árvore de decisão e treinando\n",
        "rf = RandomForestClassifier(random_state = 42, n_estimators=100)\n",
        "rf.fit(X_train, y_train)"
      ],
      "execution_count": null,
      "outputs": [
        {
          "output_type": "execute_result",
          "data": {
            "text/plain": [
              "RandomForestClassifier(bootstrap=True, ccp_alpha=0.0, class_weight=None,\n",
              "                       criterion='gini', max_depth=None, max_features='auto',\n",
              "                       max_leaf_nodes=None, max_samples=None,\n",
              "                       min_impurity_decrease=0.0, min_impurity_split=None,\n",
              "                       min_samples_leaf=1, min_samples_split=2,\n",
              "                       min_weight_fraction_leaf=0.0, n_estimators=100,\n",
              "                       n_jobs=None, oob_score=False, random_state=42, verbose=0,\n",
              "                       warm_start=False)"
            ]
          },
          "metadata": {
            "tags": []
          },
          "execution_count": 92
        }
      ]
    },
    {
      "cell_type": "code",
      "metadata": {
        "colab": {
          "base_uri": "https://localhost:8080/"
        },
        "id": "HCvGXAd27w-K",
        "outputId": "5581f288-d18b-446f-cff7-06fe6cfe96ef"
      },
      "source": [
        "#Computar a acurácia do teste\n",
        "test_accuracy_rf = rf.score(X_test, y_test)\n",
        "print('Acurácia do teste = ' ,test_accuracy_rf)\n",
        "\n",
        "predictions_rf = rf.predict(X_test)\n",
        "print(confusion_matrix(y_test, predictions_rf))\n",
        "print(classification_report(y_test, predictions_rf))"
      ],
      "execution_count": null,
      "outputs": [
        {
          "output_type": "stream",
          "text": [
            "Acurácia do teste =  0.5946539294508559\n",
            "[[18709 15083]\n",
            " [12243 21379]]\n",
            "              precision    recall  f1-score   support\n",
            "\n",
            "           0       0.60      0.55      0.58     33792\n",
            "           1       0.59      0.64      0.61     33622\n",
            "\n",
            "    accuracy                           0.59     67414\n",
            "   macro avg       0.60      0.59      0.59     67414\n",
            "weighted avg       0.60      0.59      0.59     67414\n",
            "\n"
          ],
          "name": "stdout"
        }
      ]
    },
    {
      "cell_type": "code",
      "metadata": {
        "id": "0ZILqfIPJ02d"
      },
      "source": [
        "#cm = pd.DataFrame(confusion_matrix(y_test, predictions_rf), columns=data.target_names, index=data.target_names)\n",
        "#sns.heatmap(cm, annot=True)"
      ],
      "execution_count": null,
      "outputs": []
    },
    {
      "cell_type": "markdown",
      "metadata": {
        "id": "efroG06C5sDt"
      },
      "source": [
        "##K-NN"
      ]
    },
    {
      "cell_type": "markdown",
      "metadata": {
        "id": "Hu88M4R4cwFA"
      },
      "source": [
        "Foi testado o grid para chegar no melhor k para o KNN, mas optou-se em testar todos os valores de k de forma direta."
      ]
    },
    {
      "cell_type": "code",
      "metadata": {
        "colab": {
          "base_uri": "https://localhost:8080/"
        },
        "id": "KjkONVrf5sDy",
        "outputId": "47912425-23a9-41f6-dbca-3356fd2b8678"
      },
      "source": [
        "#Variar os parametros de tamanho do KNN\n",
        "param_grid_KNN = dict(n_neighbors=list(range(1, 100,2)))\n",
        "print(param_grid_KNN)"
      ],
      "execution_count": null,
      "outputs": [
        {
          "output_type": "stream",
          "text": [
            "{'n_neighbors': [1, 3, 5, 7, 9, 11, 13, 15, 17, 19, 21, 23, 25, 27, 29, 31, 33, 35, 37, 39, 41, 43, 45, 47, 49, 51, 53, 55, 57, 59, 61, 63, 65, 67, 69, 71, 73, 75, 77, 79, 81, 83, 85, 87, 89, 91, 93, 95, 97, 99]}\n"
          ],
          "name": "stdout"
        }
      ]
    },
    {
      "cell_type": "code",
      "metadata": {
        "colab": {
          "base_uri": "https://localhost:8080/"
        },
        "id": "AZecLrZz5sD2",
        "outputId": "9b7fcc83-4212-4e7a-f7fb-776877b0a9a2"
      },
      "source": [
        "#Criando o objeto GridSearch e treinando o modelo com os melhores hiperparâmetros\n",
        "\n",
        "\"\"\"grid_KNN = GridSearchCV(KNeighborsClassifier(), param_grid_KNN, refit = True, verbose=3, cv=5)\n",
        "grid_KNN.fit(Xn_train, yn_train)\n",
        "\n",
        "print(\"-----------------------------------------------------------\")\n",
        "print(\"melhor estimador: \",grid_KNN.best_estimator_)\n",
        "print(\"melhores Parâmetros: \",grid_KNN.best_params_)\n",
        "print(\"Melhor score: \",grid_KNN.score(X_test, y_test))\n",
        "\n",
        "\"\"\""
      ],
      "execution_count": null,
      "outputs": [
        {
          "output_type": "stream",
          "text": [
            "Fitting 5 folds for each of 50 candidates, totalling 250 fits\n",
            "[CV] n_neighbors=1 ...................................................\n"
          ],
          "name": "stdout"
        },
        {
          "output_type": "stream",
          "text": [
            "[Parallel(n_jobs=1)]: Using backend SequentialBackend with 1 concurrent workers.\n"
          ],
          "name": "stderr"
        },
        {
          "output_type": "stream",
          "text": [
            "[CV] ....................... n_neighbors=1, score=0.551, total=   0.9s\n",
            "[CV] n_neighbors=1 ...................................................\n"
          ],
          "name": "stdout"
        },
        {
          "output_type": "stream",
          "text": [
            "[Parallel(n_jobs=1)]: Done   1 out of   1 | elapsed:    0.9s remaining:    0.0s\n"
          ],
          "name": "stderr"
        },
        {
          "output_type": "stream",
          "text": [
            "[CV] ....................... n_neighbors=1, score=0.557, total=   0.9s\n",
            "[CV] n_neighbors=1 ...................................................\n"
          ],
          "name": "stdout"
        },
        {
          "output_type": "stream",
          "text": [
            "[Parallel(n_jobs=1)]: Done   2 out of   2 | elapsed:    1.8s remaining:    0.0s\n"
          ],
          "name": "stderr"
        },
        {
          "output_type": "stream",
          "text": [
            "[CV] ....................... n_neighbors=1, score=0.558, total=   0.9s\n",
            "[CV] n_neighbors=1 ...................................................\n",
            "[CV] ....................... n_neighbors=1, score=0.552, total=   0.9s\n",
            "[CV] n_neighbors=1 ...................................................\n",
            "[CV] ....................... n_neighbors=1, score=0.551, total=   0.9s\n",
            "[CV] n_neighbors=3 ...................................................\n",
            "[CV] ....................... n_neighbors=3, score=0.564, total=   1.0s\n",
            "[CV] n_neighbors=3 ...................................................\n",
            "[CV] ....................... n_neighbors=3, score=0.570, total=   1.0s\n",
            "[CV] n_neighbors=3 ...................................................\n",
            "[CV] ....................... n_neighbors=3, score=0.568, total=   1.0s\n",
            "[CV] n_neighbors=3 ...................................................\n",
            "[CV] ....................... n_neighbors=3, score=0.567, total=   1.0s\n",
            "[CV] n_neighbors=3 ...................................................\n",
            "[CV] ....................... n_neighbors=3, score=0.569, total=   1.0s\n",
            "[CV] n_neighbors=5 ...................................................\n",
            "[CV] ....................... n_neighbors=5, score=0.573, total=   1.0s\n",
            "[CV] n_neighbors=5 ...................................................\n",
            "[CV] ....................... n_neighbors=5, score=0.577, total=   1.0s\n",
            "[CV] n_neighbors=5 ...................................................\n",
            "[CV] ....................... n_neighbors=5, score=0.573, total=   1.0s\n",
            "[CV] n_neighbors=5 ...................................................\n",
            "[CV] ....................... n_neighbors=5, score=0.577, total=   1.0s\n",
            "[CV] n_neighbors=5 ...................................................\n",
            "[CV] ....................... n_neighbors=5, score=0.575, total=   1.0s\n",
            "[CV] n_neighbors=7 ...................................................\n",
            "[CV] ....................... n_neighbors=7, score=0.581, total=   1.0s\n",
            "[CV] n_neighbors=7 ...................................................\n",
            "[CV] ....................... n_neighbors=7, score=0.582, total=   1.1s\n",
            "[CV] n_neighbors=7 ...................................................\n",
            "[CV] ....................... n_neighbors=7, score=0.581, total=   1.1s\n",
            "[CV] n_neighbors=7 ...................................................\n",
            "[CV] ....................... n_neighbors=7, score=0.583, total=   1.1s\n",
            "[CV] n_neighbors=7 ...................................................\n",
            "[CV] ....................... n_neighbors=7, score=0.580, total=   1.1s\n",
            "[CV] n_neighbors=9 ...................................................\n",
            "[CV] ....................... n_neighbors=9, score=0.582, total=   1.1s\n",
            "[CV] n_neighbors=9 ...................................................\n",
            "[CV] ....................... n_neighbors=9, score=0.584, total=   1.1s\n",
            "[CV] n_neighbors=9 ...................................................\n",
            "[CV] ....................... n_neighbors=9, score=0.583, total=   1.1s\n",
            "[CV] n_neighbors=9 ...................................................\n",
            "[CV] ....................... n_neighbors=9, score=0.587, total=   1.1s\n",
            "[CV] n_neighbors=9 ...................................................\n",
            "[CV] ....................... n_neighbors=9, score=0.586, total=   1.1s\n",
            "[CV] n_neighbors=11 ..................................................\n",
            "[CV] ...................... n_neighbors=11, score=0.584, total=   1.2s\n",
            "[CV] n_neighbors=11 ..................................................\n",
            "[CV] ...................... n_neighbors=11, score=0.590, total=   1.1s\n",
            "[CV] n_neighbors=11 ..................................................\n",
            "[CV] ...................... n_neighbors=11, score=0.590, total=   1.2s\n",
            "[CV] n_neighbors=11 ..................................................\n",
            "[CV] ...................... n_neighbors=11, score=0.592, total=   1.1s\n",
            "[CV] n_neighbors=11 ..................................................\n",
            "[CV] ...................... n_neighbors=11, score=0.588, total=   1.1s\n",
            "[CV] n_neighbors=13 ..................................................\n",
            "[CV] ...................... n_neighbors=13, score=0.590, total=   1.2s\n",
            "[CV] n_neighbors=13 ..................................................\n",
            "[CV] ...................... n_neighbors=13, score=0.592, total=   1.2s\n",
            "[CV] n_neighbors=13 ..................................................\n",
            "[CV] ...................... n_neighbors=13, score=0.594, total=   1.2s\n",
            "[CV] n_neighbors=13 ..................................................\n",
            "[CV] ...................... n_neighbors=13, score=0.592, total=   1.2s\n",
            "[CV] n_neighbors=13 ..................................................\n",
            "[CV] ...................... n_neighbors=13, score=0.592, total=   1.2s\n",
            "[CV] n_neighbors=15 ..................................................\n",
            "[CV] ...................... n_neighbors=15, score=0.592, total=   1.2s\n",
            "[CV] n_neighbors=15 ..................................................\n",
            "[CV] ...................... n_neighbors=15, score=0.594, total=   1.2s\n",
            "[CV] n_neighbors=15 ..................................................\n",
            "[CV] ...................... n_neighbors=15, score=0.595, total=   1.2s\n",
            "[CV] n_neighbors=15 ..................................................\n",
            "[CV] ...................... n_neighbors=15, score=0.596, total=   1.2s\n",
            "[CV] n_neighbors=15 ..................................................\n",
            "[CV] ...................... n_neighbors=15, score=0.595, total=   1.2s\n",
            "[CV] n_neighbors=17 ..................................................\n",
            "[CV] ...................... n_neighbors=17, score=0.593, total=   1.2s\n",
            "[CV] n_neighbors=17 ..................................................\n",
            "[CV] ...................... n_neighbors=17, score=0.598, total=   1.2s\n",
            "[CV] n_neighbors=17 ..................................................\n",
            "[CV] ...................... n_neighbors=17, score=0.596, total=   1.2s\n",
            "[CV] n_neighbors=17 ..................................................\n",
            "[CV] ...................... n_neighbors=17, score=0.599, total=   1.2s\n",
            "[CV] n_neighbors=17 ..................................................\n",
            "[CV] ...................... n_neighbors=17, score=0.596, total=   1.2s\n",
            "[CV] n_neighbors=19 ..................................................\n",
            "[CV] ...................... n_neighbors=19, score=0.595, total=   1.2s\n",
            "[CV] n_neighbors=19 ..................................................\n",
            "[CV] ...................... n_neighbors=19, score=0.599, total=   1.3s\n",
            "[CV] n_neighbors=19 ..................................................\n",
            "[CV] ...................... n_neighbors=19, score=0.599, total=   1.3s\n",
            "[CV] n_neighbors=19 ..................................................\n",
            "[CV] ...................... n_neighbors=19, score=0.599, total=   1.3s\n",
            "[CV] n_neighbors=19 ..................................................\n",
            "[CV] ...................... n_neighbors=19, score=0.598, total=   1.2s\n",
            "[CV] n_neighbors=21 ..................................................\n",
            "[CV] ...................... n_neighbors=21, score=0.595, total=   1.3s\n",
            "[CV] n_neighbors=21 ..................................................\n",
            "[CV] ...................... n_neighbors=21, score=0.602, total=   1.3s\n",
            "[CV] n_neighbors=21 ..................................................\n",
            "[CV] ...................... n_neighbors=21, score=0.600, total=   1.3s\n",
            "[CV] n_neighbors=21 ..................................................\n",
            "[CV] ...................... n_neighbors=21, score=0.599, total=   1.3s\n",
            "[CV] n_neighbors=21 ..................................................\n",
            "[CV] ...................... n_neighbors=21, score=0.598, total=   1.3s\n",
            "[CV] n_neighbors=23 ..................................................\n",
            "[CV] ...................... n_neighbors=23, score=0.595, total=   1.3s\n",
            "[CV] n_neighbors=23 ..................................................\n",
            "[CV] ...................... n_neighbors=23, score=0.603, total=   1.3s\n",
            "[CV] n_neighbors=23 ..................................................\n",
            "[CV] ...................... n_neighbors=23, score=0.600, total=   1.3s\n",
            "[CV] n_neighbors=23 ..................................................\n",
            "[CV] ...................... n_neighbors=23, score=0.599, total=   1.3s\n",
            "[CV] n_neighbors=23 ..................................................\n",
            "[CV] ...................... n_neighbors=23, score=0.598, total=   1.3s\n",
            "[CV] n_neighbors=25 ..................................................\n",
            "[CV] ...................... n_neighbors=25, score=0.597, total=   1.4s\n",
            "[CV] n_neighbors=25 ..................................................\n",
            "[CV] ...................... n_neighbors=25, score=0.605, total=   1.3s\n",
            "[CV] n_neighbors=25 ..................................................\n",
            "[CV] ...................... n_neighbors=25, score=0.601, total=   1.4s\n",
            "[CV] n_neighbors=25 ..................................................\n",
            "[CV] ...................... n_neighbors=25, score=0.600, total=   1.3s\n",
            "[CV] n_neighbors=25 ..................................................\n",
            "[CV] ...................... n_neighbors=25, score=0.600, total=   1.3s\n",
            "[CV] n_neighbors=27 ..................................................\n",
            "[CV] ...................... n_neighbors=27, score=0.599, total=   1.4s\n",
            "[CV] n_neighbors=27 ..................................................\n",
            "[CV] ...................... n_neighbors=27, score=0.603, total=   1.4s\n",
            "[CV] n_neighbors=27 ..................................................\n",
            "[CV] ...................... n_neighbors=27, score=0.601, total=   1.4s\n",
            "[CV] n_neighbors=27 ..................................................\n",
            "[CV] ...................... n_neighbors=27, score=0.600, total=   1.4s\n",
            "[CV] n_neighbors=27 ..................................................\n",
            "[CV] ...................... n_neighbors=27, score=0.602, total=   1.4s\n",
            "[CV] n_neighbors=29 ..................................................\n",
            "[CV] ...................... n_neighbors=29, score=0.599, total=   1.4s\n",
            "[CV] n_neighbors=29 ..................................................\n",
            "[CV] ...................... n_neighbors=29, score=0.604, total=   1.4s\n",
            "[CV] n_neighbors=29 ..................................................\n",
            "[CV] ...................... n_neighbors=29, score=0.601, total=   1.4s\n",
            "[CV] n_neighbors=29 ..................................................\n",
            "[CV] ...................... n_neighbors=29, score=0.601, total=   1.4s\n",
            "[CV] n_neighbors=29 ..................................................\n",
            "[CV] ...................... n_neighbors=29, score=0.603, total=   1.4s\n",
            "[CV] n_neighbors=31 ..................................................\n",
            "[CV] ...................... n_neighbors=31, score=0.600, total=   1.4s\n",
            "[CV] n_neighbors=31 ..................................................\n",
            "[CV] ...................... n_neighbors=31, score=0.605, total=   1.4s\n",
            "[CV] n_neighbors=31 ..................................................\n",
            "[CV] ...................... n_neighbors=31, score=0.603, total=   1.4s\n",
            "[CV] n_neighbors=31 ..................................................\n",
            "[CV] ...................... n_neighbors=31, score=0.603, total=   1.4s\n",
            "[CV] n_neighbors=31 ..................................................\n",
            "[CV] ...................... n_neighbors=31, score=0.605, total=   1.4s\n",
            "[CV] n_neighbors=33 ..................................................\n",
            "[CV] ...................... n_neighbors=33, score=0.602, total=   1.4s\n",
            "[CV] n_neighbors=33 ..................................................\n",
            "[CV] ...................... n_neighbors=33, score=0.605, total=   1.5s\n",
            "[CV] n_neighbors=33 ..................................................\n",
            "[CV] ...................... n_neighbors=33, score=0.602, total=   1.4s\n",
            "[CV] n_neighbors=33 ..................................................\n",
            "[CV] ...................... n_neighbors=33, score=0.603, total=   1.4s\n",
            "[CV] n_neighbors=33 ..................................................\n",
            "[CV] ...................... n_neighbors=33, score=0.604, total=   1.5s\n",
            "[CV] n_neighbors=35 ..................................................\n",
            "[CV] ...................... n_neighbors=35, score=0.603, total=   1.4s\n",
            "[CV] n_neighbors=35 ..................................................\n",
            "[CV] ...................... n_neighbors=35, score=0.608, total=   1.5s\n",
            "[CV] n_neighbors=35 ..................................................\n",
            "[CV] ...................... n_neighbors=35, score=0.603, total=   1.5s\n",
            "[CV] n_neighbors=35 ..................................................\n",
            "[CV] ...................... n_neighbors=35, score=0.604, total=   1.5s\n",
            "[CV] n_neighbors=35 ..................................................\n",
            "[CV] ...................... n_neighbors=35, score=0.605, total=   1.4s\n",
            "[CV] n_neighbors=37 ..................................................\n",
            "[CV] ...................... n_neighbors=37, score=0.603, total=   1.5s\n",
            "[CV] n_neighbors=37 ..................................................\n",
            "[CV] ...................... n_neighbors=37, score=0.607, total=   1.5s\n",
            "[CV] n_neighbors=37 ..................................................\n",
            "[CV] ...................... n_neighbors=37, score=0.603, total=   1.5s\n",
            "[CV] n_neighbors=37 ..................................................\n",
            "[CV] ...................... n_neighbors=37, score=0.605, total=   1.5s\n",
            "[CV] n_neighbors=37 ..................................................\n",
            "[CV] ...................... n_neighbors=37, score=0.605, total=   1.5s\n",
            "[CV] n_neighbors=39 ..................................................\n",
            "[CV] ...................... n_neighbors=39, score=0.606, total=   1.5s\n",
            "[CV] n_neighbors=39 ..................................................\n",
            "[CV] ...................... n_neighbors=39, score=0.607, total=   1.5s\n",
            "[CV] n_neighbors=39 ..................................................\n",
            "[CV] ...................... n_neighbors=39, score=0.606, total=   1.5s\n",
            "[CV] n_neighbors=39 ..................................................\n",
            "[CV] ...................... n_neighbors=39, score=0.605, total=   1.5s\n",
            "[CV] n_neighbors=39 ..................................................\n",
            "[CV] ...................... n_neighbors=39, score=0.606, total=   1.5s\n",
            "[CV] n_neighbors=41 ..................................................\n",
            "[CV] ...................... n_neighbors=41, score=0.605, total=   1.5s\n",
            "[CV] n_neighbors=41 ..................................................\n",
            "[CV] ...................... n_neighbors=41, score=0.609, total=   1.5s\n",
            "[CV] n_neighbors=41 ..................................................\n",
            "[CV] ...................... n_neighbors=41, score=0.604, total=   1.6s\n",
            "[CV] n_neighbors=41 ..................................................\n",
            "[CV] ...................... n_neighbors=41, score=0.606, total=   1.5s\n",
            "[CV] n_neighbors=41 ..................................................\n",
            "[CV] ...................... n_neighbors=41, score=0.605, total=   1.6s\n",
            "[CV] n_neighbors=43 ..................................................\n",
            "[CV] ...................... n_neighbors=43, score=0.604, total=   1.6s\n",
            "[CV] n_neighbors=43 ..................................................\n",
            "[CV] ...................... n_neighbors=43, score=0.611, total=   1.6s\n",
            "[CV] n_neighbors=43 ..................................................\n",
            "[CV] ...................... n_neighbors=43, score=0.606, total=   1.6s\n",
            "[CV] n_neighbors=43 ..................................................\n",
            "[CV] ...................... n_neighbors=43, score=0.608, total=   1.6s\n",
            "[CV] n_neighbors=43 ..................................................\n",
            "[CV] ...................... n_neighbors=43, score=0.607, total=   1.6s\n",
            "[CV] n_neighbors=45 ..................................................\n",
            "[CV] ...................... n_neighbors=45, score=0.606, total=   1.6s\n",
            "[CV] n_neighbors=45 ..................................................\n",
            "[CV] ...................... n_neighbors=45, score=0.612, total=   1.6s\n",
            "[CV] n_neighbors=45 ..................................................\n",
            "[CV] ...................... n_neighbors=45, score=0.606, total=   1.6s\n",
            "[CV] n_neighbors=45 ..................................................\n",
            "[CV] ...................... n_neighbors=45, score=0.608, total=   1.6s\n",
            "[CV] n_neighbors=45 ..................................................\n",
            "[CV] ...................... n_neighbors=45, score=0.608, total=   1.6s\n",
            "[CV] n_neighbors=47 ..................................................\n",
            "[CV] ...................... n_neighbors=47, score=0.606, total=   1.6s\n",
            "[CV] n_neighbors=47 ..................................................\n",
            "[CV] ...................... n_neighbors=47, score=0.611, total=   1.6s\n",
            "[CV] n_neighbors=47 ..................................................\n",
            "[CV] ...................... n_neighbors=47, score=0.608, total=   1.6s\n",
            "[CV] n_neighbors=47 ..................................................\n",
            "[CV] ...................... n_neighbors=47, score=0.608, total=   1.6s\n",
            "[CV] n_neighbors=47 ..................................................\n",
            "[CV] ...................... n_neighbors=47, score=0.607, total=   1.6s\n",
            "[CV] n_neighbors=49 ..................................................\n",
            "[CV] ...................... n_neighbors=49, score=0.609, total=   1.6s\n",
            "[CV] n_neighbors=49 ..................................................\n",
            "[CV] ...................... n_neighbors=49, score=0.612, total=   1.6s\n",
            "[CV] n_neighbors=49 ..................................................\n",
            "[CV] ...................... n_neighbors=49, score=0.608, total=   1.6s\n",
            "[CV] n_neighbors=49 ..................................................\n",
            "[CV] ...................... n_neighbors=49, score=0.609, total=   1.6s\n",
            "[CV] n_neighbors=49 ..................................................\n",
            "[CV] ...................... n_neighbors=49, score=0.608, total=   1.7s\n",
            "[CV] n_neighbors=51 ..................................................\n",
            "[CV] ...................... n_neighbors=51, score=0.608, total=   1.7s\n",
            "[CV] n_neighbors=51 ..................................................\n",
            "[CV] ...................... n_neighbors=51, score=0.612, total=   1.7s\n",
            "[CV] n_neighbors=51 ..................................................\n",
            "[CV] ...................... n_neighbors=51, score=0.608, total=   1.6s\n",
            "[CV] n_neighbors=51 ..................................................\n",
            "[CV] ...................... n_neighbors=51, score=0.608, total=   1.7s\n",
            "[CV] n_neighbors=51 ..................................................\n",
            "[CV] ...................... n_neighbors=51, score=0.610, total=   1.7s\n",
            "[CV] n_neighbors=53 ..................................................\n",
            "[CV] ...................... n_neighbors=53, score=0.609, total=   1.7s\n",
            "[CV] n_neighbors=53 ..................................................\n",
            "[CV] ...................... n_neighbors=53, score=0.612, total=   1.7s\n",
            "[CV] n_neighbors=53 ..................................................\n",
            "[CV] ...................... n_neighbors=53, score=0.608, total=   1.7s\n",
            "[CV] n_neighbors=53 ..................................................\n",
            "[CV] ...................... n_neighbors=53, score=0.608, total=   1.7s\n",
            "[CV] n_neighbors=53 ..................................................\n",
            "[CV] ...................... n_neighbors=53, score=0.610, total=   1.7s\n",
            "[CV] n_neighbors=55 ..................................................\n",
            "[CV] ...................... n_neighbors=55, score=0.610, total=   1.7s\n",
            "[CV] n_neighbors=55 ..................................................\n",
            "[CV] ...................... n_neighbors=55, score=0.612, total=   1.7s\n",
            "[CV] n_neighbors=55 ..................................................\n",
            "[CV] ...................... n_neighbors=55, score=0.609, total=   1.7s\n",
            "[CV] n_neighbors=55 ..................................................\n",
            "[CV] ...................... n_neighbors=55, score=0.610, total=   1.7s\n",
            "[CV] n_neighbors=55 ..................................................\n",
            "[CV] ...................... n_neighbors=55, score=0.610, total=   1.7s\n",
            "[CV] n_neighbors=57 ..................................................\n",
            "[CV] ...................... n_neighbors=57, score=0.610, total=   1.7s\n",
            "[CV] n_neighbors=57 ..................................................\n",
            "[CV] ...................... n_neighbors=57, score=0.614, total=   1.7s\n",
            "[CV] n_neighbors=57 ..................................................\n",
            "[CV] ...................... n_neighbors=57, score=0.609, total=   1.7s\n",
            "[CV] n_neighbors=57 ..................................................\n",
            "[CV] ...................... n_neighbors=57, score=0.612, total=   1.8s\n",
            "[CV] n_neighbors=57 ..................................................\n",
            "[CV] ...................... n_neighbors=57, score=0.609, total=   1.7s\n",
            "[CV] n_neighbors=59 ..................................................\n",
            "[CV] ...................... n_neighbors=59, score=0.609, total=   1.8s\n",
            "[CV] n_neighbors=59 ..................................................\n",
            "[CV] ...................... n_neighbors=59, score=0.614, total=   1.8s\n",
            "[CV] n_neighbors=59 ..................................................\n",
            "[CV] ...................... n_neighbors=59, score=0.610, total=   1.7s\n",
            "[CV] n_neighbors=59 ..................................................\n",
            "[CV] ...................... n_neighbors=59, score=0.612, total=   1.7s\n",
            "[CV] n_neighbors=59 ..................................................\n",
            "[CV] ...................... n_neighbors=59, score=0.609, total=   1.7s\n",
            "[CV] n_neighbors=61 ..................................................\n",
            "[CV] ...................... n_neighbors=61, score=0.610, total=   1.8s\n",
            "[CV] n_neighbors=61 ..................................................\n",
            "[CV] ...................... n_neighbors=61, score=0.615, total=   1.7s\n",
            "[CV] n_neighbors=61 ..................................................\n",
            "[CV] ...................... n_neighbors=61, score=0.609, total=   1.8s\n",
            "[CV] n_neighbors=61 ..................................................\n",
            "[CV] ...................... n_neighbors=61, score=0.613, total=   1.8s\n",
            "[CV] n_neighbors=61 ..................................................\n",
            "[CV] ...................... n_neighbors=61, score=0.610, total=   1.8s\n",
            "[CV] n_neighbors=63 ..................................................\n",
            "[CV] ...................... n_neighbors=63, score=0.612, total=   1.8s\n",
            "[CV] n_neighbors=63 ..................................................\n",
            "[CV] ...................... n_neighbors=63, score=0.616, total=   1.8s\n",
            "[CV] n_neighbors=63 ..................................................\n",
            "[CV] ...................... n_neighbors=63, score=0.609, total=   1.8s\n",
            "[CV] n_neighbors=63 ..................................................\n",
            "[CV] ...................... n_neighbors=63, score=0.612, total=   1.8s\n",
            "[CV] n_neighbors=63 ..................................................\n",
            "[CV] ...................... n_neighbors=63, score=0.610, total=   1.8s\n",
            "[CV] n_neighbors=65 ..................................................\n",
            "[CV] ...................... n_neighbors=65, score=0.611, total=   1.8s\n",
            "[CV] n_neighbors=65 ..................................................\n",
            "[CV] ...................... n_neighbors=65, score=0.616, total=   1.9s\n",
            "[CV] n_neighbors=65 ..................................................\n",
            "[CV] ...................... n_neighbors=65, score=0.609, total=   1.8s\n",
            "[CV] n_neighbors=65 ..................................................\n",
            "[CV] ...................... n_neighbors=65, score=0.613, total=   1.8s\n",
            "[CV] n_neighbors=65 ..................................................\n",
            "[CV] ...................... n_neighbors=65, score=0.610, total=   1.8s\n",
            "[CV] n_neighbors=67 ..................................................\n",
            "[CV] ...................... n_neighbors=67, score=0.611, total=   1.8s\n",
            "[CV] n_neighbors=67 ..................................................\n",
            "[CV] ...................... n_neighbors=67, score=0.617, total=   1.9s\n",
            "[CV] n_neighbors=67 ..................................................\n",
            "[CV] ...................... n_neighbors=67, score=0.610, total=   1.8s\n",
            "[CV] n_neighbors=67 ..................................................\n",
            "[CV] ...................... n_neighbors=67, score=0.613, total=   1.8s\n",
            "[CV] n_neighbors=67 ..................................................\n",
            "[CV] ...................... n_neighbors=67, score=0.612, total=   1.8s\n",
            "[CV] n_neighbors=69 ..................................................\n",
            "[CV] ...................... n_neighbors=69, score=0.611, total=   1.9s\n",
            "[CV] n_neighbors=69 ..................................................\n",
            "[CV] ...................... n_neighbors=69, score=0.617, total=   1.9s\n",
            "[CV] n_neighbors=69 ..................................................\n",
            "[CV] ...................... n_neighbors=69, score=0.610, total=   1.9s\n",
            "[CV] n_neighbors=69 ..................................................\n",
            "[CV] ...................... n_neighbors=69, score=0.613, total=   1.9s\n",
            "[CV] n_neighbors=69 ..................................................\n",
            "[CV] ...................... n_neighbors=69, score=0.612, total=   1.9s\n",
            "[CV] n_neighbors=71 ..................................................\n",
            "[CV] ...................... n_neighbors=71, score=0.609, total=   1.9s\n",
            "[CV] n_neighbors=71 ..................................................\n",
            "[CV] ...................... n_neighbors=71, score=0.617, total=   1.9s\n",
            "[CV] n_neighbors=71 ..................................................\n",
            "[CV] ...................... n_neighbors=71, score=0.611, total=   1.9s\n",
            "[CV] n_neighbors=71 ..................................................\n",
            "[CV] ...................... n_neighbors=71, score=0.613, total=   1.9s\n",
            "[CV] n_neighbors=71 ..................................................\n",
            "[CV] ...................... n_neighbors=71, score=0.612, total=   1.9s\n",
            "[CV] n_neighbors=73 ..................................................\n",
            "[CV] ...................... n_neighbors=73, score=0.611, total=   1.9s\n",
            "[CV] n_neighbors=73 ..................................................\n",
            "[CV] ...................... n_neighbors=73, score=0.616, total=   1.9s\n",
            "[CV] n_neighbors=73 ..................................................\n",
            "[CV] ...................... n_neighbors=73, score=0.611, total=   1.9s\n",
            "[CV] n_neighbors=73 ..................................................\n",
            "[CV] ...................... n_neighbors=73, score=0.612, total=   1.9s\n",
            "[CV] n_neighbors=73 ..................................................\n",
            "[CV] ...................... n_neighbors=73, score=0.613, total=   1.9s\n",
            "[CV] n_neighbors=75 ..................................................\n",
            "[CV] ...................... n_neighbors=75, score=0.611, total=   1.9s\n",
            "[CV] n_neighbors=75 ..................................................\n",
            "[CV] ...................... n_neighbors=75, score=0.616, total=   1.9s\n",
            "[CV] n_neighbors=75 ..................................................\n",
            "[CV] ...................... n_neighbors=75, score=0.610, total=   1.9s\n",
            "[CV] n_neighbors=75 ..................................................\n",
            "[CV] ...................... n_neighbors=75, score=0.612, total=   1.9s\n",
            "[CV] n_neighbors=75 ..................................................\n",
            "[CV] ...................... n_neighbors=75, score=0.612, total=   1.9s\n",
            "[CV] n_neighbors=77 ..................................................\n",
            "[CV] ...................... n_neighbors=77, score=0.611, total=   1.9s\n",
            "[CV] n_neighbors=77 ..................................................\n",
            "[CV] ...................... n_neighbors=77, score=0.616, total=   1.9s\n",
            "[CV] n_neighbors=77 ..................................................\n",
            "[CV] ...................... n_neighbors=77, score=0.611, total=   1.9s\n",
            "[CV] n_neighbors=77 ..................................................\n",
            "[CV] ...................... n_neighbors=77, score=0.612, total=   1.9s\n",
            "[CV] n_neighbors=77 ..................................................\n",
            "[CV] ...................... n_neighbors=77, score=0.613, total=   1.9s\n",
            "[CV] n_neighbors=79 ..................................................\n",
            "[CV] ...................... n_neighbors=79, score=0.611, total=   1.9s\n",
            "[CV] n_neighbors=79 ..................................................\n",
            "[CV] ...................... n_neighbors=79, score=0.617, total=   2.0s\n",
            "[CV] n_neighbors=79 ..................................................\n",
            "[CV] ...................... n_neighbors=79, score=0.611, total=   2.0s\n",
            "[CV] n_neighbors=79 ..................................................\n",
            "[CV] ...................... n_neighbors=79, score=0.612, total=   2.0s\n",
            "[CV] n_neighbors=79 ..................................................\n",
            "[CV] ...................... n_neighbors=79, score=0.613, total=   2.0s\n",
            "[CV] n_neighbors=81 ..................................................\n",
            "[CV] ...................... n_neighbors=81, score=0.612, total=   2.0s\n",
            "[CV] n_neighbors=81 ..................................................\n",
            "[CV] ...................... n_neighbors=81, score=0.617, total=   2.0s\n",
            "[CV] n_neighbors=81 ..................................................\n",
            "[CV] ...................... n_neighbors=81, score=0.613, total=   2.0s\n",
            "[CV] n_neighbors=81 ..................................................\n",
            "[CV] ...................... n_neighbors=81, score=0.613, total=   2.0s\n",
            "[CV] n_neighbors=81 ..................................................\n",
            "[CV] ...................... n_neighbors=81, score=0.613, total=   2.0s\n",
            "[CV] n_neighbors=83 ..................................................\n",
            "[CV] ...................... n_neighbors=83, score=0.613, total=   2.0s\n",
            "[CV] n_neighbors=83 ..................................................\n",
            "[CV] ...................... n_neighbors=83, score=0.616, total=   2.0s\n",
            "[CV] n_neighbors=83 ..................................................\n",
            "[CV] ...................... n_neighbors=83, score=0.612, total=   2.0s\n",
            "[CV] n_neighbors=83 ..................................................\n",
            "[CV] ...................... n_neighbors=83, score=0.614, total=   2.0s\n",
            "[CV] n_neighbors=83 ..................................................\n",
            "[CV] ...................... n_neighbors=83, score=0.613, total=   2.0s\n",
            "[CV] n_neighbors=85 ..................................................\n",
            "[CV] ...................... n_neighbors=85, score=0.612, total=   2.0s\n",
            "[CV] n_neighbors=85 ..................................................\n",
            "[CV] ...................... n_neighbors=85, score=0.618, total=   2.0s\n",
            "[CV] n_neighbors=85 ..................................................\n",
            "[CV] ...................... n_neighbors=85, score=0.611, total=   2.0s\n",
            "[CV] n_neighbors=85 ..................................................\n",
            "[CV] ...................... n_neighbors=85, score=0.615, total=   2.1s\n",
            "[CV] n_neighbors=85 ..................................................\n",
            "[CV] ...................... n_neighbors=85, score=0.613, total=   2.0s\n",
            "[CV] n_neighbors=87 ..................................................\n",
            "[CV] ...................... n_neighbors=87, score=0.613, total=   2.1s\n",
            "[CV] n_neighbors=87 ..................................................\n",
            "[CV] ...................... n_neighbors=87, score=0.618, total=   2.1s\n",
            "[CV] n_neighbors=87 ..................................................\n",
            "[CV] ...................... n_neighbors=87, score=0.612, total=   2.0s\n",
            "[CV] n_neighbors=87 ..................................................\n",
            "[CV] ...................... n_neighbors=87, score=0.615, total=   2.1s\n",
            "[CV] n_neighbors=87 ..................................................\n",
            "[CV] ...................... n_neighbors=87, score=0.614, total=   2.0s\n",
            "[CV] n_neighbors=89 ..................................................\n",
            "[CV] ...................... n_neighbors=89, score=0.612, total=   2.1s\n",
            "[CV] n_neighbors=89 ..................................................\n",
            "[CV] ...................... n_neighbors=89, score=0.617, total=   2.0s\n",
            "[CV] n_neighbors=89 ..................................................\n",
            "[CV] ...................... n_neighbors=89, score=0.612, total=   2.0s\n",
            "[CV] n_neighbors=89 ..................................................\n",
            "[CV] ...................... n_neighbors=89, score=0.614, total=   2.0s\n",
            "[CV] n_neighbors=89 ..................................................\n",
            "[CV] ...................... n_neighbors=89, score=0.615, total=   2.1s\n",
            "[CV] n_neighbors=91 ..................................................\n",
            "[CV] ...................... n_neighbors=91, score=0.612, total=   2.1s\n",
            "[CV] n_neighbors=91 ..................................................\n",
            "[CV] ...................... n_neighbors=91, score=0.617, total=   2.1s\n",
            "[CV] n_neighbors=91 ..................................................\n",
            "[CV] ...................... n_neighbors=91, score=0.611, total=   2.1s\n",
            "[CV] n_neighbors=91 ..................................................\n",
            "[CV] ...................... n_neighbors=91, score=0.614, total=   2.1s\n",
            "[CV] n_neighbors=91 ..................................................\n",
            "[CV] ...................... n_neighbors=91, score=0.614, total=   2.1s\n",
            "[CV] n_neighbors=93 ..................................................\n",
            "[CV] ...................... n_neighbors=93, score=0.612, total=   2.1s\n",
            "[CV] n_neighbors=93 ..................................................\n",
            "[CV] ...................... n_neighbors=93, score=0.618, total=   2.2s\n",
            "[CV] n_neighbors=93 ..................................................\n",
            "[CV] ...................... n_neighbors=93, score=0.612, total=   2.1s\n",
            "[CV] n_neighbors=93 ..................................................\n",
            "[CV] ...................... n_neighbors=93, score=0.614, total=   2.1s\n",
            "[CV] n_neighbors=93 ..................................................\n",
            "[CV] ...................... n_neighbors=93, score=0.613, total=   2.1s\n",
            "[CV] n_neighbors=95 ..................................................\n",
            "[CV] ...................... n_neighbors=95, score=0.613, total=   2.2s\n",
            "[CV] n_neighbors=95 ..................................................\n",
            "[CV] ...................... n_neighbors=95, score=0.618, total=   2.1s\n",
            "[CV] n_neighbors=95 ..................................................\n",
            "[CV] ...................... n_neighbors=95, score=0.613, total=   2.1s\n",
            "[CV] n_neighbors=95 ..................................................\n",
            "[CV] ...................... n_neighbors=95, score=0.615, total=   2.1s\n",
            "[CV] n_neighbors=95 ..................................................\n",
            "[CV] ...................... n_neighbors=95, score=0.613, total=   2.1s\n",
            "[CV] n_neighbors=97 ..................................................\n",
            "[CV] ...................... n_neighbors=97, score=0.614, total=   2.1s\n",
            "[CV] n_neighbors=97 ..................................................\n",
            "[CV] ...................... n_neighbors=97, score=0.617, total=   2.2s\n",
            "[CV] n_neighbors=97 ..................................................\n",
            "[CV] ...................... n_neighbors=97, score=0.611, total=   2.1s\n",
            "[CV] n_neighbors=97 ..................................................\n",
            "[CV] ...................... n_neighbors=97, score=0.614, total=   2.2s\n",
            "[CV] n_neighbors=97 ..................................................\n",
            "[CV] ...................... n_neighbors=97, score=0.612, total=   2.2s\n",
            "[CV] n_neighbors=99 ..................................................\n",
            "[CV] ...................... n_neighbors=99, score=0.613, total=   2.2s\n",
            "[CV] n_neighbors=99 ..................................................\n",
            "[CV] ...................... n_neighbors=99, score=0.617, total=   2.2s\n",
            "[CV] n_neighbors=99 ..................................................\n",
            "[CV] ...................... n_neighbors=99, score=0.612, total=   2.2s\n",
            "[CV] n_neighbors=99 ..................................................\n",
            "[CV] ...................... n_neighbors=99, score=0.614, total=   2.1s\n",
            "[CV] n_neighbors=99 ..................................................\n",
            "[CV] ...................... n_neighbors=99, score=0.614, total=   2.2s\n"
          ],
          "name": "stdout"
        },
        {
          "output_type": "stream",
          "text": [
            "[Parallel(n_jobs=1)]: Done 250 out of 250 | elapsed:  6.8min finished\n"
          ],
          "name": "stderr"
        },
        {
          "output_type": "execute_result",
          "data": {
            "text/plain": [
              "GridSearchCV(cv=5, error_score=nan,\n",
              "             estimator=KNeighborsClassifier(algorithm='auto', leaf_size=30,\n",
              "                                            metric='minkowski',\n",
              "                                            metric_params=None, n_jobs=None,\n",
              "                                            n_neighbors=5, p=2,\n",
              "                                            weights='uniform'),\n",
              "             iid='deprecated', n_jobs=None,\n",
              "             param_grid={'n_neighbors': [1, 3, 5, 7, 9, 11, 13, 15, 17, 19, 21,\n",
              "                                         23, 25, 27, 29, 31, 33, 35, 37, 39, 41,\n",
              "                                         43, 45, 47, 49, 51, 53, 55, 57, 59, ...]},\n",
              "             pre_dispatch='2*n_jobs', refit=True, return_train_score=False,\n",
              "             scoring=None, verbose=3)"
            ]
          },
          "metadata": {
            "tags": []
          },
          "execution_count": 49
        }
      ]
    },
    {
      "cell_type": "code",
      "metadata": {
        "colab": {
          "base_uri": "https://localhost:8080/"
        },
        "id": "Fe6BX6uZ5sD4",
        "outputId": "57f5b452-fd1a-46c5-eb5b-86796d56e3cc"
      },
      "source": [
        "#treinando o KNN com os melhores parâmetros\n",
        "KNN = KNeighborsClassifier(n_neighbors=95)\n",
        "KNN.fit(Xn_train, yn_train)"
      ],
      "execution_count": null,
      "outputs": [
        {
          "output_type": "execute_result",
          "data": {
            "text/plain": [
              "KNeighborsClassifier(algorithm='auto', leaf_size=30, metric='minkowski',\n",
              "                     metric_params=None, n_jobs=None, n_neighbors=95, p=2,\n",
              "                     weights='uniform')"
            ]
          },
          "metadata": {
            "tags": []
          },
          "execution_count": 53
        }
      ]
    },
    {
      "cell_type": "code",
      "metadata": {
        "colab": {
          "base_uri": "https://localhost:8080/"
        },
        "id": "xmH8JNtc5sD4",
        "outputId": "5caa295f-3866-4cd6-ec02-19fb5509fb27"
      },
      "source": [
        "#Computar a acurácia do teste\n",
        "test_accuracy_KNN = KNN.score(Xn_test, yn_test)\n",
        "print(\"Acurácia do teste = %0.4f\" % (test_accuracy_KNN))\n",
        "\n",
        "predictions_KNN = KNN.predict(Xn_test)\n",
        "print(confusion_matrix(yn_test, predictions_KNN))\n",
        "print(classification_report(yn_test, predictions_KNN))"
      ],
      "execution_count": null,
      "outputs": [
        {
          "output_type": "stream",
          "text": [
            "Acurácia do teste = 0.6167\n",
            "[[16617 17175]\n",
            " [ 8667 24955]]\n",
            "              precision    recall  f1-score   support\n",
            "\n",
            "           0       0.66      0.49      0.56     33792\n",
            "           1       0.59      0.74      0.66     33622\n",
            "\n",
            "    accuracy                           0.62     67414\n",
            "   macro avg       0.62      0.62      0.61     67414\n",
            "weighted avg       0.62      0.62      0.61     67414\n",
            "\n"
          ],
          "name": "stdout"
        }
      ]
    },
    {
      "cell_type": "code",
      "metadata": {
        "id": "9kB2NTduPAvU"
      },
      "source": [
        "ListaKNN={}\n",
        "res_test = []\n",
        "test_accuracy = 0\n",
        "val_max = 200\n",
        "for i in range(1,val_max,2):\n",
        "  KNN_teste = KNeighborsClassifier(n_neighbors=i)\n",
        "  KNN_teste.fit(Xn_train, yn_train)\n",
        "  #Computar a acurácia do teste\n",
        "  test_accuracy = KNN_teste.score(Xn_test, yn_test)\n",
        "  res_test.append(test_accuracy) \n",
        "  #print('Com k = ',i, ', a Acurácia do teste = ' ,test_accuracy)\n",
        "  ListaKNN['KNN'+str(i)]=round(test_accuracy,3)"
      ],
      "execution_count": null,
      "outputs": []
    },
    {
      "cell_type": "code",
      "metadata": {
        "id": "3IpbOQe2VN0q"
      },
      "source": [
        "neighbors = np.arange(1,val_max,2)"
      ],
      "execution_count": null,
      "outputs": []
    },
    {
      "cell_type": "code",
      "metadata": {
        "id": "oIZXUa_xY-Qb"
      },
      "source": [
        "valoresKNN = []\n",
        "for item in ListaKNN.values():\n",
        "  valoresKNN.append(item)"
      ],
      "execution_count": null,
      "outputs": []
    },
    {
      "cell_type": "code",
      "metadata": {
        "colab": {
          "base_uri": "https://localhost:8080/",
          "height": 295
        },
        "id": "oV7Kv1MGTpCf",
        "outputId": "fa433f10-081d-4221-bbd3-014ba6c9ce6b"
      },
      "source": [
        "#Generate plot\n",
        "plt.title('k-NN - Com dados normalizados')\n",
        "plt.plot(neighbors,valoresKNN, label='Acurácia do Teste')\n",
        "plt.xlabel('Número de vizinhos')\n",
        "plt.ylabel('Acurácia')\n",
        "plt.show()"
      ],
      "execution_count": null,
      "outputs": [
        {
          "output_type": "display_data",
          "data": {
            "image/png": "[encoded data removed]",
            "text/plain": [
              "<Figure size 432x288 with 1 Axes>"
            ]
          },
          "metadata": {
            "tags": [],
            "needs_background": "light"
          }
        }
      ]
    },
    {
      "cell_type": "code",
      "metadata": {
        "colab": {
          "base_uri": "https://localhost:8080/",
          "height": 36
        },
        "id": "lOSA9S4hbUY8",
        "outputId": "d0b3fac1-9552-4264-ca8e-88124c2076fc"
      },
      "source": [
        "max(ListaKNN, key=ListaKNN.get)"
      ],
      "execution_count": null,
      "outputs": [
        {
          "output_type": "execute_result",
          "data": {
            "application/vnd.google.colaboratory.intrinsic+json": {
              "type": "string"
            },
            "text/plain": [
              "'KNN183'"
            ]
          },
          "metadata": {
            "tags": []
          },
          "execution_count": 78
        }
      ]
    },
    {
      "cell_type": "code",
      "metadata": {
        "colab": {
          "base_uri": "https://localhost:8080/"
        },
        "id": "P08WRXc3c0gW",
        "outputId": "80e5de33-975d-468d-b95d-f3f0659d72d1"
      },
      "source": [
        "max(res_test)"
      ],
      "execution_count": null,
      "outputs": [
        {
          "output_type": "execute_result",
          "data": {
            "text/plain": [
              "0.6193372296555612"
            ]
          },
          "metadata": {
            "tags": []
          },
          "execution_count": 79
        }
      ]
    },
    {
      "cell_type": "code",
      "metadata": {
        "colab": {
          "base_uri": "https://localhost:8080/"
        },
        "id": "hi04ZX3GcTmB",
        "outputId": "21f37577-4719-49dd-ffc1-5accbf534255"
      },
      "source": [
        "ListaKNN['KNN183']"
      ],
      "execution_count": null,
      "outputs": [
        {
          "output_type": "execute_result",
          "data": {
            "text/plain": [
              "0.619"
            ]
          },
          "metadata": {
            "tags": []
          },
          "execution_count": 80
        }
      ]
    },
    {
      "cell_type": "code",
      "metadata": {
        "colab": {
          "base_uri": "https://localhost:8080/"
        },
        "id": "pdC_bT_wH0nN",
        "outputId": "6e77edee-89cb-4f26-80ab-54f2eac99443"
      },
      "source": [
        "#treinando o KNN com o k de maior acurárica\n",
        "KNN = KNeighborsClassifier(n_neighbors=183)\n",
        "KNN.fit(Xn_train, yn_train)"
      ],
      "execution_count": null,
      "outputs": [
        {
          "output_type": "execute_result",
          "data": {
            "text/plain": [
              "KNeighborsClassifier(algorithm='auto', leaf_size=30, metric='minkowski',\n",
              "                     metric_params=None, n_jobs=None, n_neighbors=183, p=2,\n",
              "                     weights='uniform')"
            ]
          },
          "metadata": {
            "tags": []
          },
          "execution_count": 62
        }
      ]
    },
    {
      "cell_type": "code",
      "metadata": {
        "colab": {
          "base_uri": "https://localhost:8080/"
        },
        "id": "AaqQpVd4H0nR",
        "outputId": "f074d4c4-21c8-4ab6-cdb1-fac4ba4d9f76"
      },
      "source": [
        "#Computar a acurácia do teste\n",
        "test_accuracy_KNN = KNN.score(Xn_test, yn_test)\n",
        "print(\"Acurácia do teste = %0.4f\" % (test_accuracy_KNN))\n",
        "\n",
        "predictions_KNN = KNN.predict(Xn_test)\n",
        "print(confusion_matrix(yn_test, predictions_KNN))\n",
        "print(classification_report(yn_test, predictions_KNN))"
      ],
      "execution_count": null,
      "outputs": [
        {
          "output_type": "stream",
          "text": [
            "Acurácia do teste = 0.6185\n",
            "[[16002 17790]\n",
            " [ 7926 25696]]\n",
            "              precision    recall  f1-score   support\n",
            "\n",
            "           0       0.67      0.47      0.55     33792\n",
            "           1       0.59      0.76      0.67     33622\n",
            "\n",
            "    accuracy                           0.62     67414\n",
            "   macro avg       0.63      0.62      0.61     67414\n",
            "weighted avg       0.63      0.62      0.61     67414\n",
            "\n"
          ],
          "name": "stdout"
        }
      ]
    },
    {
      "cell_type": "markdown",
      "metadata": {
        "id": "96eVRAEwV4YL"
      },
      "source": [
        "##NB"
      ]
    },
    {
      "cell_type": "code",
      "metadata": {
        "id": "i_BsBIKtAVdX"
      },
      "source": [
        "#Fazendo um dicionário chamado param_grid contendo os hiperparâmetros que serão variados\n",
        "parameters_NB = {\n",
        "    'var_smoothing': [1e-2, 1e-3, 1e-4, 1e-5, 1e-6, 1e-7, 1e-8, 1e-9, 1e-10, 1e-11, 1e-12, 1e-13, 1e-14, 1e-15]\n",
        "}"
      ],
      "execution_count": 36,
      "outputs": []
    },
    {
      "cell_type": "code",
      "metadata": {
        "colab": {
          "base_uri": "https://localhost:8080/"
        },
        "id": "B_ORTSJZAbFS",
        "outputId": "b9c698f1-1b17-4680-a380-32592f8554fe"
      },
      "source": [
        "#Criando o objeto GridSearch e treinando o modelo com os melhores hiperparâmetros\n",
        "grid_NB = GridSearchCV(GaussianNB(), parameters_NB, refit = True, verbose=3, cv=10)\n",
        "grid_NB.fit(X_train, y_train)\n"
      ],
      "execution_count": 37,
      "outputs": [
        {
          "output_type": "stream",
          "text": [
            "Fitting 10 folds for each of 14 candidates, totalling 140 fits\n",
            "[CV] var_smoothing=0.01 ..............................................\n",
            "[CV] .................. var_smoothing=0.01, score=0.577, total=   0.0s\n",
            "[CV] var_smoothing=0.01 ..............................................\n",
            "[CV] .................. var_smoothing=0.01, score=0.584, total=   0.0s\n",
            "[CV] var_smoothing=0.01 ..............................................\n",
            "[CV] .................. var_smoothing=0.01, score=0.582, total=   0.0s\n",
            "[CV] var_smoothing=0.01 ..............................................\n",
            "[CV] .................. var_smoothing=0.01, score=0.584, total=   0.0s\n",
            "[CV] var_smoothing=0.01 ..............................................\n"
          ],
          "name": "stdout"
        },
        {
          "output_type": "stream",
          "text": [
            "[Parallel(n_jobs=1)]: Using backend SequentialBackend with 1 concurrent workers.\n",
            "[Parallel(n_jobs=1)]: Done   1 out of   1 | elapsed:    0.0s remaining:    0.0s\n",
            "[Parallel(n_jobs=1)]: Done   2 out of   2 | elapsed:    0.1s remaining:    0.0s\n"
          ],
          "name": "stderr"
        },
        {
          "output_type": "stream",
          "text": [
            "[CV] .................. var_smoothing=0.01, score=0.580, total=   0.0s\n",
            "[CV] var_smoothing=0.01 ..............................................\n",
            "[CV] .................. var_smoothing=0.01, score=0.583, total=   0.0s\n",
            "[CV] var_smoothing=0.01 ..............................................\n",
            "[CV] .................. var_smoothing=0.01, score=0.580, total=   0.0s\n",
            "[CV] var_smoothing=0.01 ..............................................\n",
            "[CV] .................. var_smoothing=0.01, score=0.585, total=   0.0s\n",
            "[CV] var_smoothing=0.01 ..............................................\n",
            "[CV] .................. var_smoothing=0.01, score=0.581, total=   0.0s\n",
            "[CV] var_smoothing=0.01 ..............................................\n",
            "[CV] .................. var_smoothing=0.01, score=0.585, total=   0.0s\n",
            "[CV] var_smoothing=0.001 .............................................\n",
            "[CV] ................. var_smoothing=0.001, score=0.577, total=   0.0s\n",
            "[CV] var_smoothing=0.001 .............................................\n",
            "[CV] ................. var_smoothing=0.001, score=0.585, total=   0.0s\n",
            "[CV] var_smoothing=0.001 .............................................\n",
            "[CV] ................. var_smoothing=0.001, score=0.582, total=   0.0s\n",
            "[CV] var_smoothing=0.001 .............................................\n",
            "[CV] ................. var_smoothing=0.001, score=0.585, total=   0.0s\n",
            "[CV] var_smoothing=0.001 .............................................\n",
            "[CV] ................. var_smoothing=0.001, score=0.580, total=   0.0s\n",
            "[CV] var_smoothing=0.001 .............................................\n",
            "[CV] ................. var_smoothing=0.001, score=0.583, total=   0.0s\n",
            "[CV] var_smoothing=0.001 .............................................\n",
            "[CV] ................. var_smoothing=0.001, score=0.579, total=   0.0s\n",
            "[CV] var_smoothing=0.001 .............................................\n",
            "[CV] ................. var_smoothing=0.001, score=0.586, total=   0.0s\n",
            "[CV] var_smoothing=0.001 .............................................\n",
            "[CV] ................. var_smoothing=0.001, score=0.580, total=   0.0s\n",
            "[CV] var_smoothing=0.001 .............................................\n",
            "[CV] ................. var_smoothing=0.001, score=0.585, total=   0.0s\n",
            "[CV] var_smoothing=0.0001 ............................................\n",
            "[CV] ................ var_smoothing=0.0001, score=0.577, total=   0.0s\n",
            "[CV] var_smoothing=0.0001 ............................................\n",
            "[CV] ................ var_smoothing=0.0001, score=0.585, total=   0.0s\n",
            "[CV] var_smoothing=0.0001 ............................................\n",
            "[CV] ................ var_smoothing=0.0001, score=0.582, total=   0.0s\n",
            "[CV] var_smoothing=0.0001 ............................................\n",
            "[CV] ................ var_smoothing=0.0001, score=0.585, total=   0.0s\n",
            "[CV] var_smoothing=0.0001 ............................................\n",
            "[CV] ................ var_smoothing=0.0001, score=0.580, total=   0.0s\n",
            "[CV] var_smoothing=0.0001 ............................................\n",
            "[CV] ................ var_smoothing=0.0001, score=0.583, total=   0.0s\n",
            "[CV] var_smoothing=0.0001 ............................................\n",
            "[CV] ................ var_smoothing=0.0001, score=0.579, total=   0.0s\n",
            "[CV] var_smoothing=0.0001 ............................................\n",
            "[CV] ................ var_smoothing=0.0001, score=0.586, total=   0.0s\n",
            "[CV] var_smoothing=0.0001 ............................................\n",
            "[CV] ................ var_smoothing=0.0001, score=0.580, total=   0.0s\n",
            "[CV] var_smoothing=0.0001 ............................................\n",
            "[CV] ................ var_smoothing=0.0001, score=0.585, total=   0.0s\n",
            "[CV] var_smoothing=1e-05 .............................................\n",
            "[CV] ................. var_smoothing=1e-05, score=0.577, total=   0.0s\n",
            "[CV] var_smoothing=1e-05 .............................................\n",
            "[CV] ................. var_smoothing=1e-05, score=0.585, total=   0.0s\n",
            "[CV] var_smoothing=1e-05 .............................................\n",
            "[CV] ................. var_smoothing=1e-05, score=0.582, total=   0.0s\n",
            "[CV] var_smoothing=1e-05 .............................................\n",
            "[CV] ................. var_smoothing=1e-05, score=0.585, total=   0.0s\n",
            "[CV] var_smoothing=1e-05 .............................................\n",
            "[CV] ................. var_smoothing=1e-05, score=0.580, total=   0.0s\n",
            "[CV] var_smoothing=1e-05 .............................................\n",
            "[CV] ................. var_smoothing=1e-05, score=0.583, total=   0.0s\n",
            "[CV] var_smoothing=1e-05 .............................................\n",
            "[CV] ................. var_smoothing=1e-05, score=0.579, total=   0.0s\n",
            "[CV] var_smoothing=1e-05 .............................................\n",
            "[CV] ................. var_smoothing=1e-05, score=0.586, total=   0.0s\n",
            "[CV] var_smoothing=1e-05 .............................................\n",
            "[CV] ................. var_smoothing=1e-05, score=0.580, total=   0.0s\n",
            "[CV] var_smoothing=1e-05 .............................................\n",
            "[CV] ................. var_smoothing=1e-05, score=0.585, total=   0.0s\n",
            "[CV] var_smoothing=1e-06 .............................................\n",
            "[CV] ................. var_smoothing=1e-06, score=0.577, total=   0.0s\n",
            "[CV] var_smoothing=1e-06 .............................................\n",
            "[CV] ................. var_smoothing=1e-06, score=0.585, total=   0.0s\n",
            "[CV] var_smoothing=1e-06 .............................................\n",
            "[CV] ................. var_smoothing=1e-06, score=0.582, total=   0.0s\n",
            "[CV] var_smoothing=1e-06 .............................................\n",
            "[CV] ................. var_smoothing=1e-06, score=0.585, total=   0.0s\n",
            "[CV] var_smoothing=1e-06 .............................................\n",
            "[CV] ................. var_smoothing=1e-06, score=0.580, total=   0.0s\n",
            "[CV] var_smoothing=1e-06 .............................................\n",
            "[CV] ................. var_smoothing=1e-06, score=0.583, total=   0.0s\n",
            "[CV] var_smoothing=1e-06 .............................................\n",
            "[CV] ................. var_smoothing=1e-06, score=0.579, total=   0.0s\n",
            "[CV] var_smoothing=1e-06 .............................................\n",
            "[CV] ................. var_smoothing=1e-06, score=0.586, total=   0.0s\n",
            "[CV] var_smoothing=1e-06 .............................................\n",
            "[CV] ................. var_smoothing=1e-06, score=0.580, total=   0.0s\n",
            "[CV] var_smoothing=1e-06 .............................................\n",
            "[CV] ................. var_smoothing=1e-06, score=0.585, total=   0.0s\n",
            "[CV] var_smoothing=1e-07 .............................................\n",
            "[CV] ................. var_smoothing=1e-07, score=0.577, total=   0.0s\n",
            "[CV] var_smoothing=1e-07 .............................................\n",
            "[CV] ................. var_smoothing=1e-07, score=0.585, total=   0.0s\n",
            "[CV] var_smoothing=1e-07 .............................................\n",
            "[CV] ................. var_smoothing=1e-07, score=0.582, total=   0.0s\n",
            "[CV] var_smoothing=1e-07 .............................................\n",
            "[CV] ................. var_smoothing=1e-07, score=0.585, total=   0.0s\n",
            "[CV] var_smoothing=1e-07 .............................................\n",
            "[CV] ................. var_smoothing=1e-07, score=0.580, total=   0.0s\n",
            "[CV] var_smoothing=1e-07 .............................................\n",
            "[CV] ................. var_smoothing=1e-07, score=0.583, total=   0.0s\n",
            "[CV] var_smoothing=1e-07 .............................................\n",
            "[CV] ................. var_smoothing=1e-07, score=0.579, total=   0.0s\n",
            "[CV] var_smoothing=1e-07 .............................................\n",
            "[CV] ................. var_smoothing=1e-07, score=0.586, total=   0.0s\n",
            "[CV] var_smoothing=1e-07 .............................................\n",
            "[CV] ................. var_smoothing=1e-07, score=0.580, total=   0.0s\n",
            "[CV] var_smoothing=1e-07 .............................................\n",
            "[CV] ................. var_smoothing=1e-07, score=0.585, total=   0.0s\n",
            "[CV] var_smoothing=1e-08 .............................................\n",
            "[CV] ................. var_smoothing=1e-08, score=0.577, total=   0.0s\n",
            "[CV] var_smoothing=1e-08 .............................................\n",
            "[CV] ................. var_smoothing=1e-08, score=0.585, total=   0.0s\n",
            "[CV] var_smoothing=1e-08 .............................................\n",
            "[CV] ................. var_smoothing=1e-08, score=0.582, total=   0.0s\n",
            "[CV] var_smoothing=1e-08 .............................................\n",
            "[CV] ................. var_smoothing=1e-08, score=0.585, total=   0.0s\n",
            "[CV] var_smoothing=1e-08 .............................................\n",
            "[CV] ................. var_smoothing=1e-08, score=0.580, total=   0.0s\n",
            "[CV] var_smoothing=1e-08 .............................................\n",
            "[CV] ................. var_smoothing=1e-08, score=0.583, total=   0.0s\n",
            "[CV] var_smoothing=1e-08 .............................................\n",
            "[CV] ................. var_smoothing=1e-08, score=0.579, total=   0.0s\n",
            "[CV] var_smoothing=1e-08 .............................................\n",
            "[CV] ................. var_smoothing=1e-08, score=0.586, total=   0.0s\n",
            "[CV] var_smoothing=1e-08 .............................................\n",
            "[CV] ................. var_smoothing=1e-08, score=0.580, total=   0.0s\n",
            "[CV] var_smoothing=1e-08 .............................................\n",
            "[CV] ................. var_smoothing=1e-08, score=0.585, total=   0.0s\n",
            "[CV] var_smoothing=1e-09 .............................................\n",
            "[CV] ................. var_smoothing=1e-09, score=0.577, total=   0.0s\n",
            "[CV] var_smoothing=1e-09 .............................................\n",
            "[CV] ................. var_smoothing=1e-09, score=0.585, total=   0.0s\n",
            "[CV] var_smoothing=1e-09 .............................................\n",
            "[CV] ................. var_smoothing=1e-09, score=0.582, total=   0.0s\n",
            "[CV] var_smoothing=1e-09 .............................................\n",
            "[CV] ................. var_smoothing=1e-09, score=0.585, total=   0.0s\n",
            "[CV] var_smoothing=1e-09 .............................................\n",
            "[CV] ................. var_smoothing=1e-09, score=0.580, total=   0.0s\n",
            "[CV] var_smoothing=1e-09 .............................................\n",
            "[CV] ................. var_smoothing=1e-09, score=0.583, total=   0.0s\n",
            "[CV] var_smoothing=1e-09 .............................................\n",
            "[CV] ................. var_smoothing=1e-09, score=0.579, total=   0.0s\n",
            "[CV] var_smoothing=1e-09 .............................................\n",
            "[CV] ................. var_smoothing=1e-09, score=0.586, total=   0.0s\n",
            "[CV] var_smoothing=1e-09 .............................................\n",
            "[CV] ................. var_smoothing=1e-09, score=0.580, total=   0.0s\n",
            "[CV] var_smoothing=1e-09 .............................................\n",
            "[CV] ................. var_smoothing=1e-09, score=0.585, total=   0.0s\n",
            "[CV] var_smoothing=1e-10 .............................................\n",
            "[CV] ................. var_smoothing=1e-10, score=0.577, total=   0.0s\n",
            "[CV] var_smoothing=1e-10 .............................................\n",
            "[CV] ................. var_smoothing=1e-10, score=0.585, total=   0.0s\n",
            "[CV] var_smoothing=1e-10 .............................................\n",
            "[CV] ................. var_smoothing=1e-10, score=0.582, total=   0.0s\n",
            "[CV] var_smoothing=1e-10 .............................................\n",
            "[CV] ................. var_smoothing=1e-10, score=0.585, total=   0.0s\n",
            "[CV] var_smoothing=1e-10 .............................................\n",
            "[CV] ................. var_smoothing=1e-10, score=0.580, total=   0.0s\n",
            "[CV] var_smoothing=1e-10 .............................................\n",
            "[CV] ................. var_smoothing=1e-10, score=0.583, total=   0.0s\n",
            "[CV] var_smoothing=1e-10 .............................................\n",
            "[CV] ................. var_smoothing=1e-10, score=0.579, total=   0.0s\n",
            "[CV] var_smoothing=1e-10 .............................................\n",
            "[CV] ................. var_smoothing=1e-10, score=0.586, total=   0.0s\n",
            "[CV] var_smoothing=1e-10 .............................................\n",
            "[CV] ................. var_smoothing=1e-10, score=0.580, total=   0.0s\n",
            "[CV] var_smoothing=1e-10 .............................................\n",
            "[CV] ................. var_smoothing=1e-10, score=0.585, total=   0.0s\n",
            "[CV] var_smoothing=1e-11 .............................................\n",
            "[CV] ................. var_smoothing=1e-11, score=0.577, total=   0.0s\n",
            "[CV] var_smoothing=1e-11 .............................................\n",
            "[CV] ................. var_smoothing=1e-11, score=0.585, total=   0.0s\n",
            "[CV] var_smoothing=1e-11 .............................................\n",
            "[CV] ................. var_smoothing=1e-11, score=0.582, total=   0.0s\n",
            "[CV] var_smoothing=1e-11 .............................................\n",
            "[CV] ................. var_smoothing=1e-11, score=0.585, total=   0.0s\n",
            "[CV] var_smoothing=1e-11 .............................................\n",
            "[CV] ................. var_smoothing=1e-11, score=0.580, total=   0.0s\n",
            "[CV] var_smoothing=1e-11 .............................................\n",
            "[CV] ................. var_smoothing=1e-11, score=0.583, total=   0.0s\n",
            "[CV] var_smoothing=1e-11 .............................................\n",
            "[CV] ................. var_smoothing=1e-11, score=0.579, total=   0.0s\n",
            "[CV] var_smoothing=1e-11 .............................................\n",
            "[CV] ................. var_smoothing=1e-11, score=0.586, total=   0.0s\n",
            "[CV] var_smoothing=1e-11 .............................................\n",
            "[CV] ................. var_smoothing=1e-11, score=0.580, total=   0.0s\n",
            "[CV] var_smoothing=1e-11 .............................................\n",
            "[CV] ................. var_smoothing=1e-11, score=0.585, total=   0.0s\n",
            "[CV] var_smoothing=1e-12 .............................................\n",
            "[CV] ................. var_smoothing=1e-12, score=0.577, total=   0.0s\n",
            "[CV] var_smoothing=1e-12 .............................................\n",
            "[CV] ................. var_smoothing=1e-12, score=0.585, total=   0.0s\n",
            "[CV] var_smoothing=1e-12 .............................................\n",
            "[CV] ................. var_smoothing=1e-12, score=0.582, total=   0.0s\n",
            "[CV] var_smoothing=1e-12 .............................................\n",
            "[CV] ................. var_smoothing=1e-12, score=0.585, total=   0.0s\n",
            "[CV] var_smoothing=1e-12 .............................................\n",
            "[CV] ................. var_smoothing=1e-12, score=0.580, total=   0.0s\n",
            "[CV] var_smoothing=1e-12 .............................................\n",
            "[CV] ................. var_smoothing=1e-12, score=0.583, total=   0.0s\n",
            "[CV] var_smoothing=1e-12 .............................................\n",
            "[CV] ................. var_smoothing=1e-12, score=0.579, total=   0.0s\n",
            "[CV] var_smoothing=1e-12 .............................................\n",
            "[CV] ................. var_smoothing=1e-12, score=0.586, total=   0.0s\n",
            "[CV] var_smoothing=1e-12 .............................................\n",
            "[CV] ................. var_smoothing=1e-12, score=0.580, total=   0.0s\n",
            "[CV] var_smoothing=1e-12 .............................................\n",
            "[CV] ................. var_smoothing=1e-12, score=0.585, total=   0.0s\n",
            "[CV] var_smoothing=1e-13 .............................................\n",
            "[CV] ................. var_smoothing=1e-13, score=0.577, total=   0.0s\n",
            "[CV] var_smoothing=1e-13 .............................................\n",
            "[CV] ................. var_smoothing=1e-13, score=0.585, total=   0.0s\n",
            "[CV] var_smoothing=1e-13 .............................................\n",
            "[CV] ................. var_smoothing=1e-13, score=0.582, total=   0.0s\n",
            "[CV] var_smoothing=1e-13 .............................................\n",
            "[CV] ................. var_smoothing=1e-13, score=0.585, total=   0.0s\n",
            "[CV] var_smoothing=1e-13 .............................................\n",
            "[CV] ................. var_smoothing=1e-13, score=0.580, total=   0.0s\n",
            "[CV] var_smoothing=1e-13 .............................................\n",
            "[CV] ................. var_smoothing=1e-13, score=0.583, total=   0.0s\n",
            "[CV] var_smoothing=1e-13 .............................................\n",
            "[CV] ................. var_smoothing=1e-13, score=0.579, total=   0.0s\n",
            "[CV] var_smoothing=1e-13 .............................................\n",
            "[CV] ................. var_smoothing=1e-13, score=0.586, total=   0.0s\n",
            "[CV] var_smoothing=1e-13 .............................................\n",
            "[CV] ................. var_smoothing=1e-13, score=0.580, total=   0.0s\n",
            "[CV] var_smoothing=1e-13 .............................................\n",
            "[CV] ................. var_smoothing=1e-13, score=0.585, total=   0.0s\n",
            "[CV] var_smoothing=1e-14 .............................................\n",
            "[CV] ................. var_smoothing=1e-14, score=0.577, total=   0.0s\n",
            "[CV] var_smoothing=1e-14 .............................................\n",
            "[CV] ................. var_smoothing=1e-14, score=0.585, total=   0.0s\n",
            "[CV] var_smoothing=1e-14 .............................................\n",
            "[CV] ................. var_smoothing=1e-14, score=0.582, total=   0.0s\n",
            "[CV] var_smoothing=1e-14 .............................................\n",
            "[CV] ................. var_smoothing=1e-14, score=0.585, total=   0.0s\n",
            "[CV] var_smoothing=1e-14 .............................................\n",
            "[CV] ................. var_smoothing=1e-14, score=0.580, total=   0.0s\n",
            "[CV] var_smoothing=1e-14 .............................................\n",
            "[CV] ................. var_smoothing=1e-14, score=0.583, total=   0.0s\n",
            "[CV] var_smoothing=1e-14 .............................................\n",
            "[CV] ................. var_smoothing=1e-14, score=0.579, total=   0.0s\n",
            "[CV] var_smoothing=1e-14 .............................................\n",
            "[CV] ................. var_smoothing=1e-14, score=0.586, total=   0.0s\n",
            "[CV] var_smoothing=1e-14 .............................................\n",
            "[CV] ................. var_smoothing=1e-14, score=0.580, total=   0.0s\n",
            "[CV] var_smoothing=1e-14 .............................................\n",
            "[CV] ................. var_smoothing=1e-14, score=0.585, total=   0.0s\n",
            "[CV] var_smoothing=1e-15 .............................................\n",
            "[CV] ................. var_smoothing=1e-15, score=0.577, total=   0.0s\n",
            "[CV] var_smoothing=1e-15 .............................................\n",
            "[CV] ................. var_smoothing=1e-15, score=0.585, total=   0.0s\n",
            "[CV] var_smoothing=1e-15 .............................................\n",
            "[CV] ................. var_smoothing=1e-15, score=0.582, total=   0.0s\n",
            "[CV] var_smoothing=1e-15 .............................................\n",
            "[CV] ................. var_smoothing=1e-15, score=0.585, total=   0.0s\n",
            "[CV] var_smoothing=1e-15 .............................................\n",
            "[CV] ................. var_smoothing=1e-15, score=0.580, total=   0.0s\n",
            "[CV] var_smoothing=1e-15 .............................................\n",
            "[CV] ................. var_smoothing=1e-15, score=0.583, total=   0.0s\n",
            "[CV] var_smoothing=1e-15 .............................................\n",
            "[CV] ................. var_smoothing=1e-15, score=0.579, total=   0.0s\n",
            "[CV] var_smoothing=1e-15 .............................................\n",
            "[CV] ................. var_smoothing=1e-15, score=0.586, total=   0.0s\n",
            "[CV] var_smoothing=1e-15 .............................................\n",
            "[CV] ................. var_smoothing=1e-15, score=0.580, total=   0.0s\n",
            "[CV] var_smoothing=1e-15 .............................................\n",
            "[CV] ................. var_smoothing=1e-15, score=0.585, total=   0.0s\n"
          ],
          "name": "stdout"
        },
        {
          "output_type": "stream",
          "text": [
            "[Parallel(n_jobs=1)]: Done 140 out of 140 | elapsed:    4.8s finished\n"
          ],
          "name": "stderr"
        },
        {
          "output_type": "execute_result",
          "data": {
            "text/plain": [
              "GridSearchCV(cv=10, error_score=nan,\n",
              "             estimator=GaussianNB(priors=None, var_smoothing=1e-09),\n",
              "             iid='deprecated', n_jobs=None,\n",
              "             param_grid={'var_smoothing': [0.01, 0.001, 0.0001, 1e-05, 1e-06,\n",
              "                                           1e-07, 1e-08, 1e-09, 1e-10, 1e-11,\n",
              "                                           1e-12, 1e-13, 1e-14, 1e-15]},\n",
              "             pre_dispatch='2*n_jobs', refit=True, return_train_score=False,\n",
              "             scoring=None, verbose=3)"
            ]
          },
          "metadata": {
            "tags": []
          },
          "execution_count": 37
        }
      ]
    },
    {
      "cell_type": "code",
      "metadata": {
        "colab": {
          "base_uri": "https://localhost:8080/"
        },
        "id": "4q53N85RvIU_",
        "outputId": "c5bfe09e-dc64-4844-cd4d-db0751cf3e6a"
      },
      "source": [
        "print(\"-----------------------------------------------------------\")\n",
        "print(\"melhor estimador: \",grid_NB.best_estimator_)\n",
        "print(\"melhores Parâmetros: \",grid_NB.best_params_)\n",
        "print(\"Melhor score: \",grid_NB.score(X_test, y_test))"
      ],
      "execution_count": 38,
      "outputs": [
        {
          "output_type": "stream",
          "text": [
            "-----------------------------------------------------------\n",
            "melhor estimador:  GaussianNB(priors=None, var_smoothing=0.01)\n",
            "melhores Parâmetros:  {'var_smoothing': 0.01}\n",
            "Melhor score:  0.5816744296436942\n"
          ],
          "name": "stdout"
        }
      ]
    },
    {
      "cell_type": "code",
      "metadata": {
        "colab": {
          "base_uri": "https://localhost:8080/"
        },
        "id": "pn7j4A-xDszm",
        "outputId": "70cb389f-509f-4224-e714-9c837a0608a3"
      },
      "source": [
        "# treinando com os melhores parâmetros\n",
        "NB = GaussianNB(var_smoothing = 0.01)\n",
        "NB.fit(X_train, y_train)"
      ],
      "execution_count": null,
      "outputs": [
        {
          "output_type": "execute_result",
          "data": {
            "text/plain": [
              "GaussianNB(priors=None, var_smoothing=0.01)"
            ]
          },
          "metadata": {
            "tags": []
          },
          "execution_count": 99
        }
      ]
    },
    {
      "cell_type": "code",
      "metadata": {
        "colab": {
          "base_uri": "https://localhost:8080/"
        },
        "id": "I3pB-M-zD-7L",
        "outputId": "0004f809-8122-4990-bab3-323e464f1db7"
      },
      "source": [
        "#Computar a acurácia do teste\n",
        "test_accuracy_NB = NB.score(X_test, y_test)\n",
        "print(\"Acurácia do teste = %0.4f\" % (test_accuracy_NB))\n",
        "\n",
        "predictions_NB = NB.predict(X_test)\n",
        "print(confusion_matrix(y_test, predictions_NB))\n",
        "print(classification_report(y_test, predictions_NB))"
      ],
      "execution_count": null,
      "outputs": [
        {
          "output_type": "stream",
          "text": [
            "Acurácia do teste = 0.5817\n",
            "[[13134 20658]\n",
            " [ 7543 26079]]\n",
            "              precision    recall  f1-score   support\n",
            "\n",
            "           0       0.64      0.39      0.48     33792\n",
            "           1       0.56      0.78      0.65     33622\n",
            "\n",
            "    accuracy                           0.58     67414\n",
            "   macro avg       0.60      0.58      0.57     67414\n",
            "weighted avg       0.60      0.58      0.57     67414\n",
            "\n"
          ],
          "name": "stdout"
        }
      ]
    },
    {
      "cell_type": "markdown",
      "metadata": {
        "id": "vA0qlBYbFJ_k"
      },
      "source": [
        "##SVM"
      ]
    },
    {
      "cell_type": "markdown",
      "metadata": {
        "id": "pK5ZwK_7PU4f"
      },
      "source": [
        "SVM levando muito tempo.  Não será levado em consideração?"
      ]
    },
    {
      "cell_type": "code",
      "metadata": {
        "id": "VZchrESkFRaX"
      },
      "source": [
        "#Fazendo um dicionário chamado param_grid contendo os parâmetros que serão variados C e Gamma\n",
        "param_SVM = {'C':[0.1,1,10,100], 'gamma':[1,0.1,0.01,0.001],'kernel':['rbf', 'poly'],'degree':[2, 3, 4, 5]}"
      ],
      "execution_count": null,
      "outputs": []
    },
    {
      "cell_type": "code",
      "metadata": {
        "colab": {
          "base_uri": "https://localhost:8080/",
          "height": 36
        },
        "id": "e44NwZu5FJ_o",
        "outputId": "9cabf239-5cc8-497f-d26d-d8dd320dd9c3"
      },
      "source": [
        "#Criando o objeto GridSearch e treinando o modelo com os melhores hiperparâmetros\n",
        "\n",
        "\"\"\"grid_SVM = GridSearchCV(SVC(), param_SVM, refit = True, verbose=3, cv=5)\n",
        "grid_SVM.fit(Xn_train, yn_train)\"\"\""
      ],
      "execution_count": null,
      "outputs": [
        {
          "output_type": "execute_result",
          "data": {
            "application/vnd.google.colaboratory.intrinsic+json": {
              "type": "string"
            },
            "text/plain": [
              "'grid_SVM = GridSearchCV(SVC(), param_SVM, refit = True, verbose=3, cv=5)\\ngrid_SVM.fit(Xn_train, yn_train)'"
            ]
          },
          "metadata": {
            "tags": []
          },
          "execution_count": 102
        }
      ]
    },
    {
      "cell_type": "code",
      "metadata": {
        "colab": {
          "base_uri": "https://localhost:8080/",
          "height": 36
        },
        "id": "KIWhQZOwFJ_s",
        "outputId": "939effa1-deda-450f-c13c-f27fac3d08bc"
      },
      "source": [
        "\"\"\"print(grid_SVM.best_estimator_)\n",
        "\n",
        "print(grid_SVM.best_params_)\n",
        "\n",
        "print(grid_SVM.score(Xn_test, yn_test))\n",
        "\"\"\""
      ],
      "execution_count": null,
      "outputs": [
        {
          "output_type": "execute_result",
          "data": {
            "application/vnd.google.colaboratory.intrinsic+json": {
              "type": "string"
            },
            "text/plain": [
              "'print(grid_SVM.best_estimator_)\\n\\nprint(grid_SVM.best_params_)\\n\\nprint(grid_SVM.score(Xn_test, yn_test))\\n'"
            ]
          },
          "metadata": {
            "tags": []
          },
          "execution_count": 103
        }
      ]
    },
    {
      "cell_type": "code",
      "metadata": {
        "colab": {
          "base_uri": "https://localhost:8080/",
          "height": 36
        },
        "id": "Str9UcPYFJ_t",
        "outputId": "0dc8af5b-6da9-48d7-ed36-f5199534ad0f"
      },
      "source": [
        "\"\"\"# treinando com os melhores parâmetros\n",
        "SVM = SVC(kernel='poly')\n",
        "SVM.fit(Xn_train, yn_train)\"\"\""
      ],
      "execution_count": null,
      "outputs": [
        {
          "output_type": "execute_result",
          "data": {
            "application/vnd.google.colaboratory.intrinsic+json": {
              "type": "string"
            },
            "text/plain": [
              "\"# treinando com os melhores parâmetros\\nSVM = SVC(kernel='poly')\\nSVM.fit(Xn_train, yn_train)\""
            ]
          },
          "metadata": {
            "tags": []
          },
          "execution_count": 104
        }
      ]
    },
    {
      "cell_type": "code",
      "metadata": {
        "colab": {
          "base_uri": "https://localhost:8080/",
          "height": 72
        },
        "id": "gEciLF8eFJ_u",
        "outputId": "a21df501-c8da-4064-a83d-4396dbc2be52"
      },
      "source": [
        "\"\"\"#Computar a acurácia do teste\n",
        "test_accuracy_SVM = SVM.score(Xn_test, yn_test)\n",
        "print(\"Acurácia do teste = %0.4f\" % (test_accuracy_SVM))\n",
        "\n",
        "predictions_SVM = SVM.predict(X_test)\n",
        "print(confusion_matrix(yn_test, predictions_SVM))\n",
        "print(classification_report(yn_test, predictions_SVM))\"\"\""
      ],
      "execution_count": null,
      "outputs": [
        {
          "output_type": "execute_result",
          "data": {
            "application/vnd.google.colaboratory.intrinsic+json": {
              "type": "string"
            },
            "text/plain": [
              "'#Computar a acurácia do teste\\ntest_accuracy_SVM = SVM.score(Xn_test, yn_test)\\nprint(\"Acurácia do teste = %0.4f\" % (test_accuracy_SVM))\\n\\npredictions_SVM = SVM.predict(X_test)\\nprint(confusion_matrix(yn_test, predictions_SVM))\\nprint(classification_report(yn_test, predictions_SVM))'"
            ]
          },
          "metadata": {
            "tags": []
          },
          "execution_count": 105
        }
      ]
    },
    {
      "cell_type": "code",
      "metadata": {
        "id": "iZ7tsSXebM1q"
      },
      "source": [
        ""
      ],
      "execution_count": null,
      "outputs": []
    },
    {
      "cell_type": "markdown",
      "metadata": {
        "id": "hqiBOGqwbNcX"
      },
      "source": [
        "##MLP"
      ]
    },
    {
      "cell_type": "markdown",
      "metadata": {
        "id": "j0I50SUjPxVX"
      },
      "source": [
        "Grid levando muito tempo.  Hiperparâmetros não serão variados"
      ]
    },
    {
      "cell_type": "code",
      "metadata": {
        "id": "i0PA3Mt8bs0-"
      },
      "source": [
        "# Criando objeto e treinando o modelo\n",
        "MLP = MLPClassifier(max_iter=10000)\n"
      ],
      "execution_count": null,
      "outputs": []
    },
    {
      "cell_type": "code",
      "metadata": {
        "id": "nMB9LDcsbNcb"
      },
      "source": [
        "#Além dos parâmetros de neurônios das camadas intermediárias, busquei variar outros para avaliar os resultados.\n",
        "parameter_space2 = {\n",
        "    'hidden_layer_sizes': [(50,50,50), (50,100,50), (100,)],\n",
        "    'activation': ['tanh', 'relu'],\n",
        "    'solver': ['sgd', 'adam'],\n",
        "    'alpha': [0.0001, 0.05],\n",
        "    'learning_rate': ['constant','adaptive'],\n",
        "}"
      ],
      "execution_count": null,
      "outputs": []
    },
    {
      "cell_type": "code",
      "metadata": {
        "id": "Aihr9KGN8atU"
      },
      "source": [
        "parameter_space = {\n",
        "    'hidden_layer_sizes': [(50,50,50), (50,100,50), (100,)],\n",
        "   \n",
        "}"
      ],
      "execution_count": null,
      "outputs": []
    },
    {
      "cell_type": "code",
      "metadata": {
        "colab": {
          "base_uri": "https://localhost:8080/",
          "height": 53
        },
        "id": "0QuiMfQibNcg",
        "outputId": "5dc4ed05-858b-4f03-982d-f6fb18b1d16e"
      },
      "source": [
        "#Criando o objeto GridSearch e treinando o modelo com os melhores hiperparâmetros\n",
        "\"\"\"\n",
        "grid_MLP = GridSearchCV(MLP, parameter_space, refit = True, verbose=3, cv=5)\n",
        "grid_MLP.fit(Xn_train, yn_train)\n",
        "\"\"\""
      ],
      "execution_count": null,
      "outputs": [
        {
          "output_type": "execute_result",
          "data": {
            "application/vnd.google.colaboratory.intrinsic+json": {
              "type": "string"
            },
            "text/plain": [
              "'\\ngrid_MLP = GridSearchCV(MLP, parameter_space, refit = True, verbose=3, cv=5)\\ngrid_MLP.fit(Xn_train, yn_train)\\n'"
            ]
          },
          "metadata": {
            "tags": []
          },
          "execution_count": 109
        }
      ]
    },
    {
      "cell_type": "code",
      "metadata": {
        "colab": {
          "base_uri": "https://localhost:8080/",
          "height": 36
        },
        "id": "u01AxGYTbNcj",
        "outputId": "0bc08d57-6665-4478-ef8b-2a65cf653578"
      },
      "source": [
        "\"\"\"print(grid_SVM.best_estimator_)\n",
        "\n",
        "print(grid_SVM.best_params_)\n",
        "\n",
        "print(grid_SVM.score(Xn_test, yn_test))\n",
        "\"\"\""
      ],
      "execution_count": null,
      "outputs": [
        {
          "output_type": "execute_result",
          "data": {
            "application/vnd.google.colaboratory.intrinsic+json": {
              "type": "string"
            },
            "text/plain": [
              "'print(grid_SVM.best_estimator_)\\n\\nprint(grid_SVM.best_params_)\\n\\nprint(grid_SVM.score(Xn_test, yn_test))\\n'"
            ]
          },
          "metadata": {
            "tags": []
          },
          "execution_count": 110
        }
      ]
    },
    {
      "cell_type": "code",
      "metadata": {
        "colab": {
          "base_uri": "https://localhost:8080/"
        },
        "id": "szvJeugJ1CaF",
        "outputId": "8d5d4077-b62d-4d33-bbdc-e8096371c547"
      },
      "source": [
        "# Treinando o modelo\n",
        "MLP = MLPClassifier(max_iter=10000)\n",
        "MLP.fit(Xn_train, yn_train)"
      ],
      "execution_count": null,
      "outputs": [
        {
          "output_type": "execute_result",
          "data": {
            "text/plain": [
              "MLPClassifier(activation='relu', alpha=0.0001, batch_size='auto', beta_1=0.9,\n",
              "              beta_2=0.999, early_stopping=False, epsilon=1e-08,\n",
              "              hidden_layer_sizes=(100,), learning_rate='constant',\n",
              "              learning_rate_init=0.001, max_fun=15000, max_iter=10000,\n",
              "              momentum=0.9, n_iter_no_change=10, nesterovs_momentum=True,\n",
              "              power_t=0.5, random_state=None, shuffle=True, solver='adam',\n",
              "              tol=0.0001, validation_fraction=0.1, verbose=False,\n",
              "              warm_start=False)"
            ]
          },
          "metadata": {
            "tags": []
          },
          "execution_count": 111
        }
      ]
    },
    {
      "cell_type": "code",
      "metadata": {
        "colab": {
          "base_uri": "https://localhost:8080/"
        },
        "id": "j1lHXUq8bNcp",
        "outputId": "e5792cbc-1e1c-46d9-d2a1-ed62ab8e268e"
      },
      "source": [
        "#Computar a acurácia do teste\n",
        "test_accuracy_MLP = MLP.score(Xn_test, yn_test)\n",
        "print(\"Acurácia do teste = %0.4f\" % (test_accuracy_MLP))\n",
        "\n",
        "predictions_MLP = MLP.predict(X_test)\n",
        "print(confusion_matrix(yn_test, predictions_MLP))\n",
        "print(classification_report(yn_test, predictions_MLP))"
      ],
      "execution_count": null,
      "outputs": [
        {
          "output_type": "stream",
          "text": [
            "Acurácia do teste = 0.6194\n",
            "[[32687  1105]\n",
            " [31682  1940]]\n",
            "              precision    recall  f1-score   support\n",
            "\n",
            "           0       0.51      0.97      0.67     33792\n",
            "           1       0.64      0.06      0.11     33622\n",
            "\n",
            "    accuracy                           0.51     67414\n",
            "   macro avg       0.57      0.51      0.39     67414\n",
            "weighted avg       0.57      0.51      0.39     67414\n",
            "\n"
          ],
          "name": "stdout"
        }
      ]
    },
    {
      "cell_type": "markdown",
      "metadata": {
        "id": "_7tXhvwmHTxG"
      },
      "source": [
        "\n",
        "\n",
        "---\n",
        "\n",
        "\n",
        "\n",
        "---\n",
        "\n"
      ]
    },
    {
      "cell_type": "markdown",
      "metadata": {
        "id": "RHZeRo5OjFsz"
      },
      "source": [
        "#Teste da acurácia com diversos modelos usando o 10-fold cross validation para comparação"
      ]
    },
    {
      "cell_type": "code",
      "metadata": {
        "id": "kdJlwnBRjCCv",
        "colab": {
          "base_uri": "https://localhost:8080/"
        },
        "outputId": "aa4d71ef-c881-4ff6-f144-6f2a3fc6dce3"
      },
      "source": [
        "seed=42\n",
        "models = []\n",
        "models_results = []\n",
        "scoring='accuracy'\n",
        "models.append(('TREE', DecisionTreeClassifier(criterion = 'entropy', max_depth= 9)))\n",
        "models.append(('CART', DecisionTreeClassifier(criterion = 'gini', max_depth= 9)))\n",
        "models.append(('LR', LogisticRegression(solver='liblinear', multi_class='ovr')))\n",
        "models.append(('LDA', LinearDiscriminantAnalysis()))\n",
        "models.append(('KNN', KNeighborsClassifier(n_neighbors=183)))\n",
        "models.append(('NB', GaussianNB(priors=None, var_smoothing=0.01)))\n",
        "models.append(('Random Forest', RandomForestClassifier(n_estimators=100)))\n",
        "models.append(('Isolation Forest',IsolationForest()))\n",
        "models.append(('MLP',MLPClassifier(max_iter=10000)))\n",
        "\n",
        "#models.append(('SVM', SVC(gamma='auto')))\n",
        "# evaluate each model in turn\n",
        "results = []\n",
        "names = []\n",
        "for name, model in models:\n",
        "    kfold = model_selection.KFold(n_splits=10, random_state=seed, shuffle = True)\n",
        "    cv_results = model_selection.cross_val_score(model, Xn_train, yn_train, cv=kfold, scoring=scoring)\n",
        "    results.append(cv_results)\n",
        "    names.append(name)\n",
        "    lista = [name, cv_results.mean(), cv_results.std()]\n",
        "    models_results.append(lista)\n",
        "    msg = \"%s: %f (%f)\" % (name, cv_results.mean(), cv_results.std())\n",
        "    print(msg)"
      ],
      "execution_count": 40,
      "outputs": [
        {
          "output_type": "stream",
          "text": [
            "TREE: 0.607820 (0.002780)\n",
            "CART: 0.607501 (0.002963)\n",
            "LR: 0.497448 (0.005140)\n",
            "LDA: 0.497434 (0.005123)\n",
            "KNN: 0.617314 (0.003350)\n",
            "NB: 0.582061 (0.003738)\n",
            "Random Forest: 0.593335 (0.003565)\n",
            "Isolation Forest: 0.444180 (0.003397)\n",
            "MLP: 0.620073 (0.003863)\n"
          ],
          "name": "stdout"
        }
      ]
    },
    {
      "cell_type": "code",
      "metadata": {
        "colab": {
          "base_uri": "https://localhost:8080/"
        },
        "id": "XYcLlb00r2T-",
        "outputId": "6a6b0bf5-6534-498c-94ed-ba0a741f9906"
      },
      "source": [
        "models_results"
      ],
      "execution_count": 41,
      "outputs": [
        {
          "output_type": "execute_result",
          "data": {
            "text/plain": [
              "[['TREE', 0.6078204096048997, 0.0027798560761793448],\n",
              " ['CART', 0.6075014751800889, 0.002962952813419414],\n",
              " ['LR', 0.4974484459340432, 0.00514017456986631],\n",
              " ['LDA', 0.4974336129901359, 0.005123290356655144],\n",
              " ['KNN', 0.6173141577030586, 0.0033500256802713145],\n",
              " ['NB', 0.5820614063303196, 0.0037375996996678795],\n",
              " ['Random Forest', 0.5933350625873435, 0.0035654165762744245],\n",
              " ['Isolation Forest', 0.44417988409432124, 0.0033972543009691395],\n",
              " ['MLP', 0.6200732904653938, 0.003862638866288782]]"
            ]
          },
          "metadata": {
            "tags": []
          },
          "execution_count": 41
        }
      ]
    },
    {
      "cell_type": "code",
      "metadata": {
        "colab": {
          "base_uri": "https://localhost:8080/",
          "height": 332
        },
        "id": "47yYsBYtr2UE",
        "outputId": "63fd575f-43f2-4c1b-9ddc-48dceb0abf74"
      },
      "source": [
        "df_results = pd.DataFrame(models_results, \n",
        "                          columns = ['modelo','Acuracia_k-fold=10','Desvio-padrão'])\n",
        "df_results.sort_values(by='Acuracia_k-fold=10', ascending=False, inplace=True)\n",
        "df_results.reset_index(inplace=True,drop=True)\n",
        "df_results"
      ],
      "execution_count": 42,
      "outputs": [
        {
          "output_type": "execute_result",
          "data": {
            "text/html": [
              "<div>\n",
              "<style scoped>\n",
              "    .dataframe tbody tr th:only-of-type {\n",
              "        vertical-align: middle;\n",
              "    }\n",
              "\n",
              "    .dataframe tbody tr th {\n",
              "        vertical-align: top;\n",
              "    }\n",
              "\n",
              "    .dataframe thead th {\n",
              "        text-align: right;\n",
              "    }\n",
              "</style>\n",
              "<table border=\"1\" class=\"dataframe\">\n",
              "  <thead>\n",
              "    <tr style=\"text-align: right;\">\n",
              "      <th></th>\n",
              "      <th>modelo</th>\n",
              "      <th>Acuracia_k-fold=10</th>\n",
              "      <th>Desvio-padrão</th>\n",
              "    </tr>\n",
              "  </thead>\n",
              "  <tbody>\n",
              "    <tr>\n",
              "      <th>0</th>\n",
              "      <td>MLP</td>\n",
              "      <td>0.620073</td>\n",
              "      <td>0.003863</td>\n",
              "    </tr>\n",
              "    <tr>\n",
              "      <th>1</th>\n",
              "      <td>KNN</td>\n",
              "      <td>0.617314</td>\n",
              "      <td>0.003350</td>\n",
              "    </tr>\n",
              "    <tr>\n",
              "      <th>2</th>\n",
              "      <td>TREE</td>\n",
              "      <td>0.607820</td>\n",
              "      <td>0.002780</td>\n",
              "    </tr>\n",
              "    <tr>\n",
              "      <th>3</th>\n",
              "      <td>CART</td>\n",
              "      <td>0.607501</td>\n",
              "      <td>0.002963</td>\n",
              "    </tr>\n",
              "    <tr>\n",
              "      <th>4</th>\n",
              "      <td>Random Forest</td>\n",
              "      <td>0.593335</td>\n",
              "      <td>0.003565</td>\n",
              "    </tr>\n",
              "    <tr>\n",
              "      <th>5</th>\n",
              "      <td>NB</td>\n",
              "      <td>0.582061</td>\n",
              "      <td>0.003738</td>\n",
              "    </tr>\n",
              "    <tr>\n",
              "      <th>6</th>\n",
              "      <td>LR</td>\n",
              "      <td>0.497448</td>\n",
              "      <td>0.005140</td>\n",
              "    </tr>\n",
              "    <tr>\n",
              "      <th>7</th>\n",
              "      <td>LDA</td>\n",
              "      <td>0.497434</td>\n",
              "      <td>0.005123</td>\n",
              "    </tr>\n",
              "    <tr>\n",
              "      <th>8</th>\n",
              "      <td>Isolation Forest</td>\n",
              "      <td>0.444180</td>\n",
              "      <td>0.003397</td>\n",
              "    </tr>\n",
              "  </tbody>\n",
              "</table>\n",
              "</div>"
            ],
            "text/plain": [
              "             modelo  Acuracia_k-fold=10  Desvio-padrão\n",
              "0               MLP            0.620073       0.003863\n",
              "1               KNN            0.617314       0.003350\n",
              "2              TREE            0.607820       0.002780\n",
              "3              CART            0.607501       0.002963\n",
              "4     Random Forest            0.593335       0.003565\n",
              "5                NB            0.582061       0.003738\n",
              "6                LR            0.497448       0.005140\n",
              "7               LDA            0.497434       0.005123\n",
              "8  Isolation Forest            0.444180       0.003397"
            ]
          },
          "metadata": {
            "tags": []
          },
          "execution_count": 42
        }
      ]
    },
    {
      "cell_type": "code",
      "metadata": {
        "colab": {
          "base_uri": "https://localhost:8080/",
          "height": 419
        },
        "id": "h2dp-kDCr2UH",
        "outputId": "5ad14dad-c932-4d83-9ba4-a6df386e25e8"
      },
      "source": [
        "import matplotlib.pyplot as plt\n",
        "import seaborn as sns\n",
        "plt.style.use('ggplot')\n",
        "plt.figure(figsize = (15,5))\n",
        "sns.barplot(x = \"modelo\", y = \"Acuracia_k-fold=10\", data = df_results)\n",
        "plt.title('Validação média', fontsize = 15)\n",
        "#plt.ylim(0.8,1)\n",
        "plt.xlabel('Modelo', fontsize=15)\n",
        "plt.ylabel('Acurácia_k-fold=10',fontsize=15)\n",
        "plt.xticks(rotation=90, fontsize=12)\n",
        "plt.show()"
      ],
      "execution_count": 43,
      "outputs": [
        {
          "output_type": "display_data",
          "data": {
            "image/png": "[encoded data removed]",
            "text/plain": [
              "<Figure size 1080x360 with 1 Axes>"
            ]
          },
          "metadata": {
            "tags": []
          }
        }
      ]
    },
    {
      "cell_type": "code",
      "metadata": {
        "id": "Cb7h4sdUx7qK",
        "colab": {
          "base_uri": "https://localhost:8080/"
        },
        "outputId": "542b0468-b04d-4904-f823-22c7b624d245"
      },
      "source": [
        "models\n"
      ],
      "execution_count": 44,
      "outputs": [
        {
          "output_type": "execute_result",
          "data": {
            "text/plain": [
              "[('TREE',\n",
              "  DecisionTreeClassifier(ccp_alpha=0.0, class_weight=None, criterion='entropy',\n",
              "                         max_depth=9, max_features=None, max_leaf_nodes=None,\n",
              "                         min_impurity_decrease=0.0, min_impurity_split=None,\n",
              "                         min_samples_leaf=1, min_samples_split=2,\n",
              "                         min_weight_fraction_leaf=0.0, presort='deprecated',\n",
              "                         random_state=None, splitter='best')),\n",
              " ('CART',\n",
              "  DecisionTreeClassifier(ccp_alpha=0.0, class_weight=None, criterion='gini',\n",
              "                         max_depth=9, max_features=None, max_leaf_nodes=None,\n",
              "                         min_impurity_decrease=0.0, min_impurity_split=None,\n",
              "                         min_samples_leaf=1, min_samples_split=2,\n",
              "                         min_weight_fraction_leaf=0.0, presort='deprecated',\n",
              "                         random_state=None, splitter='best')),\n",
              " ('LR',\n",
              "  LogisticRegression(C=1.0, class_weight=None, dual=False, fit_intercept=True,\n",
              "                     intercept_scaling=1, l1_ratio=None, max_iter=100,\n",
              "                     multi_class='ovr', n_jobs=None, penalty='l2',\n",
              "                     random_state=None, solver='liblinear', tol=0.0001, verbose=0,\n",
              "                     warm_start=False)),\n",
              " ('LDA',\n",
              "  LinearDiscriminantAnalysis(n_components=None, priors=None, shrinkage=None,\n",
              "                             solver='svd', store_covariance=False, tol=0.0001)),\n",
              " ('KNN',\n",
              "  KNeighborsClassifier(algorithm='auto', leaf_size=30, metric='minkowski',\n",
              "                       metric_params=None, n_jobs=None, n_neighbors=183, p=2,\n",
              "                       weights='uniform')),\n",
              " ('NB', GaussianNB(priors=None, var_smoothing=0.01)),\n",
              " ('Random Forest',\n",
              "  RandomForestClassifier(bootstrap=True, ccp_alpha=0.0, class_weight=None,\n",
              "                         criterion='gini', max_depth=None, max_features='auto',\n",
              "                         max_leaf_nodes=None, max_samples=None,\n",
              "                         min_impurity_decrease=0.0, min_impurity_split=None,\n",
              "                         min_samples_leaf=1, min_samples_split=2,\n",
              "                         min_weight_fraction_leaf=0.0, n_estimators=100,\n",
              "                         n_jobs=None, oob_score=False, random_state=None,\n",
              "                         verbose=0, warm_start=False)),\n",
              " ('Isolation Forest',\n",
              "  IsolationForest(behaviour='deprecated', bootstrap=False, contamination='auto',\n",
              "                  max_features=1.0, max_samples='auto', n_estimators=100,\n",
              "                  n_jobs=None, random_state=None, verbose=0, warm_start=False)),\n",
              " ('MLP',\n",
              "  MLPClassifier(activation='relu', alpha=0.0001, batch_size='auto', beta_1=0.9,\n",
              "                beta_2=0.999, early_stopping=False, epsilon=1e-08,\n",
              "                hidden_layer_sizes=(100,), learning_rate='constant',\n",
              "                learning_rate_init=0.001, max_fun=15000, max_iter=10000,\n",
              "                momentum=0.9, n_iter_no_change=10, nesterovs_momentum=True,\n",
              "                power_t=0.5, random_state=None, shuffle=True, solver='adam',\n",
              "                tol=0.0001, validation_fraction=0.1, verbose=False,\n",
              "                warm_start=False))]"
            ]
          },
          "metadata": {
            "tags": []
          },
          "execution_count": 44
        }
      ]
    },
    {
      "cell_type": "markdown",
      "metadata": {
        "id": "VOFmF7c3jmvE"
      },
      "source": [
        "# PCA"
      ]
    },
    {
      "cell_type": "code",
      "metadata": {
        "id": "0BWt8BYdjqrV",
        "scrolled": true,
        "colab": {
          "base_uri": "https://localhost:8080/",
          "height": 0
        },
        "outputId": "c497f067-5859-4e0b-9691-81b1d7f47734"
      },
      "source": [
        "from sklearn.preprocessing import StandardScaler\n",
        "from sklearn.decomposition import PCA\n",
        "pca = PCA()\n",
        "X_train_pca = pca.fit_transform(Xn_train)\n",
        "# Determine explained variance using explained_variance_ration_ attribute\n",
        "exp_var_pca = pca.explained_variance_ratio_\n",
        "# Cumulative sum of eigenvalues; This will be used to create step plot\n",
        "# for visualizing the variance explained by each principal component.\n",
        "cum_sum_eigenvalues = np.cumsum(exp_var_pca)\n",
        "# Create the visualization plot\n",
        "\n",
        "plt.bar(range(1,len(exp_var_pca)+1), exp_var_pca, alpha=0.5, align='center', label='Individual explained variance')\n",
        "plt.step(range(1,len(cum_sum_eigenvalues)+1), cum_sum_eigenvalues, where='mid',label='Cumulative explained variance')\n",
        "plt.ylabel('Explained variance ratio')\n",
        "plt.xlabel('Principal component index')\n",
        "plt.legend(loc='best')\n",
        "plt.tight_layout()\n",
        "plt.show()"
      ],
      "execution_count": 45,
      "outputs": [
        {
          "output_type": "display_data",
          "data": {
            "image/png": "[encoded data removed]",
            "text/plain": [
              "<Figure size 432x288 with 1 Axes>"
            ]
          },
          "metadata": {
            "tags": []
          }
        }
      ]
    },
    {
      "cell_type": "code",
      "metadata": {
        "id": "rUUQcCbykz-n",
        "scrolled": true,
        "colab": {
          "base_uri": "https://localhost:8080/",
          "height": 0
        },
        "outputId": "087200ad-1710-40c6-e41c-82faa3d05411"
      },
      "source": [
        "N=3\n",
        "columns_vector = ['element '+str(i) for i in range(1,N+1)]\n",
        "pca = PCA(n_components=3)\n",
        "df_PCA = pca.fit_transform(data_Norm)\n",
        "df_PCA = pd.DataFrame(data = df_PCA\n",
        "             , columns = columns_vector)\n",
        "df_PCA"
      ],
      "execution_count": 46,
      "outputs": [
        {
          "output_type": "execute_result",
          "data": {
            "text/html": [
              "<div>\n",
              "<style scoped>\n",
              "    .dataframe tbody tr th:only-of-type {\n",
              "        vertical-align: middle;\n",
              "    }\n",
              "\n",
              "    .dataframe tbody tr th {\n",
              "        vertical-align: top;\n",
              "    }\n",
              "\n",
              "    .dataframe thead th {\n",
              "        text-align: right;\n",
              "    }\n",
              "</style>\n",
              "<table border=\"1\" class=\"dataframe\">\n",
              "  <thead>\n",
              "    <tr style=\"text-align: right;\">\n",
              "      <th></th>\n",
              "      <th>element 1</th>\n",
              "      <th>element 2</th>\n",
              "      <th>element 3</th>\n",
              "    </tr>\n",
              "  </thead>\n",
              "  <tbody>\n",
              "    <tr>\n",
              "      <th>0</th>\n",
              "      <td>0.023605</td>\n",
              "      <td>0.007409</td>\n",
              "      <td>0.065614</td>\n",
              "    </tr>\n",
              "    <tr>\n",
              "      <th>1</th>\n",
              "      <td>0.132036</td>\n",
              "      <td>-0.012191</td>\n",
              "      <td>0.041704</td>\n",
              "    </tr>\n",
              "    <tr>\n",
              "      <th>2</th>\n",
              "      <td>0.177277</td>\n",
              "      <td>-0.116896</td>\n",
              "      <td>0.034925</td>\n",
              "    </tr>\n",
              "    <tr>\n",
              "      <th>3</th>\n",
              "      <td>0.113974</td>\n",
              "      <td>-0.040714</td>\n",
              "      <td>0.051459</td>\n",
              "    </tr>\n",
              "    <tr>\n",
              "      <th>4</th>\n",
              "      <td>0.013966</td>\n",
              "      <td>0.065892</td>\n",
              "      <td>0.020094</td>\n",
              "    </tr>\n",
              "    <tr>\n",
              "      <th>...</th>\n",
              "      <td>...</td>\n",
              "      <td>...</td>\n",
              "      <td>...</td>\n",
              "    </tr>\n",
              "    <tr>\n",
              "      <th>202235</th>\n",
              "      <td>-0.242576</td>\n",
              "      <td>-0.381744</td>\n",
              "      <td>0.190337</td>\n",
              "    </tr>\n",
              "    <tr>\n",
              "      <th>202236</th>\n",
              "      <td>0.024019</td>\n",
              "      <td>-0.068176</td>\n",
              "      <td>0.273221</td>\n",
              "    </tr>\n",
              "    <tr>\n",
              "      <th>202237</th>\n",
              "      <td>-0.378235</td>\n",
              "      <td>-0.100128</td>\n",
              "      <td>0.104438</td>\n",
              "    </tr>\n",
              "    <tr>\n",
              "      <th>202238</th>\n",
              "      <td>-0.011426</td>\n",
              "      <td>0.269169</td>\n",
              "      <td>-0.114103</td>\n",
              "    </tr>\n",
              "    <tr>\n",
              "      <th>202239</th>\n",
              "      <td>-0.059672</td>\n",
              "      <td>0.378359</td>\n",
              "      <td>0.202340</td>\n",
              "    </tr>\n",
              "  </tbody>\n",
              "</table>\n",
              "<p>202240 rows × 3 columns</p>\n",
              "</div>"
            ],
            "text/plain": [
              "        element 1  element 2  element 3\n",
              "0        0.023605   0.007409   0.065614\n",
              "1        0.132036  -0.012191   0.041704\n",
              "2        0.177277  -0.116896   0.034925\n",
              "3        0.113974  -0.040714   0.051459\n",
              "4        0.013966   0.065892   0.020094\n",
              "...           ...        ...        ...\n",
              "202235  -0.242576  -0.381744   0.190337\n",
              "202236   0.024019  -0.068176   0.273221\n",
              "202237  -0.378235  -0.100128   0.104438\n",
              "202238  -0.011426   0.269169  -0.114103\n",
              "202239  -0.059672   0.378359   0.202340\n",
              "\n",
              "[202240 rows x 3 columns]"
            ]
          },
          "metadata": {
            "tags": []
          },
          "execution_count": 46
        }
      ]
    },
    {
      "cell_type": "markdown",
      "metadata": {
        "id": "KbRS4Btlnc90"
      },
      "source": [
        "###Treino e Teste com os dados após o PCA"
      ]
    },
    {
      "cell_type": "code",
      "metadata": {
        "id": "xWSO627wmiR8"
      },
      "source": [
        "X_train_pca, X_test_pca, y_train_pca, y_test_pca = train_test_split(df_PCA, y, test_size=1/3,stratify = y, random_state=42)"
      ],
      "execution_count": 47,
      "outputs": []
    },
    {
      "cell_type": "code",
      "metadata": {
        "id": "zDanC7qwm_LN",
        "colab": {
          "base_uri": "https://localhost:8080/"
        },
        "outputId": "52c46782-8536-4d59-f232-a973c6d29e8a"
      },
      "source": [
        "seed=42\n",
        "models = []\n",
        "models_results_pca = []\n",
        "scoring='accuracy'\n",
        "models.append(('TREE', DecisionTreeClassifier(criterion = 'entropy', max_depth= 9)))\n",
        "models.append(('CART', DecisionTreeClassifier(criterion = 'gini', max_depth= 9)))\n",
        "models.append(('LR', LogisticRegression(solver='liblinear', multi_class='ovr')))\n",
        "models.append(('LDA', LinearDiscriminantAnalysis()))\n",
        "models.append(('KNN', KNeighborsClassifier(n_neighbors=183)))\n",
        "models.append(('NB', GaussianNB(priors=None, var_smoothing=0.01)))\n",
        "models.append(('Random Forest', RandomForestClassifier(n_estimators=100)))\n",
        "models.append(('Isolation Forest',IsolationForest()))\n",
        "models.append(('MLP',MLPClassifier(max_iter=10000)))\n",
        "models.append(('SVM', SVC(gamma='auto')))\n",
        "# evaluate each model in turn\n",
        "results_pca = []\n",
        "names_pca = []\n",
        "for name, model in models:\n",
        "    kfold = model_selection.KFold(n_splits=10, random_state=seed, shuffle = True)\n",
        "    cv_results = model_selection.cross_val_score(model, X_train_pca, y_train_pca, cv=kfold, scoring=scoring)\n",
        "    results_pca.append(cv_results)\n",
        "    names_pca.append(name)\n",
        "    listapca = [name, cv_results.mean(), cv_results.std()]\n",
        "    models_results_pca.append(listapca)\n",
        "    msg = \"%s: %f (%f)\" % (name, cv_results.mean(), cv_results.std())\n",
        "    print(msg)"
      ],
      "execution_count": null,
      "outputs": [
        {
          "output_type": "stream",
          "text": [
            "TREE: 0.556198 (0.004835)\n",
            "CART: 0.556191 (0.004508)\n",
            "LR: 0.494882 (0.006724)\n",
            "LDA: 0.494882 (0.006704)\n",
            "KNN: 0.556413 (0.002717)\n",
            "NB: 0.528370 (0.003153)\n",
            "Random Forest: 0.530365 (0.003116)\n",
            "Isolation Forest: 0.426209 (0.006045)\n",
            "MLP: 0.562303 (0.003522)\n"
          ],
          "name": "stdout"
        }
      ]
    },
    {
      "cell_type": "code",
      "metadata": {
        "id": "ja-yw9qppplT"
      },
      "source": [
        "models_results_pca"
      ],
      "execution_count": null,
      "outputs": []
    },
    {
      "cell_type": "code",
      "metadata": {
        "id": "G4X-FTrZoWKp"
      },
      "source": [
        "df_results_pca = pd.DataFrame(models_results_pca, \n",
        "                          columns = ['modelo','Acuracia_k-fold=10 com PCA','Desvio-padrão'])\n",
        "df_results_pca.sort_values(by='Acuracia_k-fold=10 com PCA', ascending=False, inplace=True)\n",
        "df_results_pca.reset_index(inplace=True,drop=True)\n",
        "df_results_pca"
      ],
      "execution_count": null,
      "outputs": []
    },
    {
      "cell_type": "code",
      "metadata": {
        "id": "ba3HuoirqfOF"
      },
      "source": [
        "import matplotlib.pyplot as plt\n",
        "import seaborn as sns\n",
        "plt.style.use('ggplot')\n",
        "plt.figure(figsize = (15,5))\n",
        "sns.barplot(x = \"modelo\", y = \"Acuracia_k-fold=10 com PCA\", data = df_results_pca)\n",
        "plt.title('Validação média com PCA', fontsize = 15)\n",
        "#plt.ylim(0.8,1)\n",
        "plt.xlabel('Modelo', fontsize=15)\n",
        "plt.ylabel('Acurácia_k-fold=10',fontsize=15)\n",
        "plt.xticks(rotation=90, fontsize=12)\n",
        "plt.show()"
      ],
      "execution_count": null,
      "outputs": []
    }
  ]
}